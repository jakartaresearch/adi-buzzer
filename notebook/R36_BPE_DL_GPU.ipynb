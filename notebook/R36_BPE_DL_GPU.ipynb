{
  "nbformat": 4,
  "nbformat_minor": 0,
  "metadata": {
    "kernelspec": {
      "display_name": "base",
      "language": "python",
      "name": "base"
    },
    "language_info": {
      "codemirror_mode": {
        "name": "ipython",
        "version": 3
      },
      "file_extension": ".py",
      "mimetype": "text/x-python",
      "name": "python",
      "nbconvert_exporter": "python",
      "pygments_lexer": "ipython3",
      "version": "3.8.3"
    },
    "colab": {
      "name": "R36_BPE_DL_GPU.ipynb",
      "provenance": [],
      "collapsed_sections": [],
      "include_colab_link": true
    },
    "accelerator": "GPU"
  },
  "cells": [
    {
      "cell_type": "markdown",
      "metadata": {
        "id": "view-in-github",
        "colab_type": "text"
      },
      "source": [
        "<a href=\"https://colab.research.google.com/github/jakartaresearch/adi-buzzer/blob/dev/notebook/R36_BPE_DL_GPU.ipynb\" target=\"_parent\"><img src=\"https://colab.research.google.com/assets/colab-badge.svg\" alt=\"Open In Colab\"/></a>"
      ]
    },
    {
      "cell_type": "code",
      "metadata": {
        "colab": {
          "base_uri": "https://localhost:8080/"
        },
        "id": "W13iqZyFl-Fh",
        "outputId": "45625ed5-5d71-4387-b487-c9ba655b4ae1"
      },
      "source": [
        "# memory footprint support libraries/code\r\n",
        "!ln -sf /opt/bin/nvidia-smi /usr/bin/nvidia-smi\r\n",
        "!pip install gputil --q\r\n",
        "!pip install psutil --q\r\n",
        "!pip install humanize --q\r\n",
        "\r\n",
        "import psutil\r\n",
        "import humanize\r\n",
        "import os\r\n",
        "import GPUtil as GPU\r\n",
        "GPUs = GPU.getGPUs()\r\n",
        "# XXX: only one GPU on Colab and isn’t guaranteed\r\n",
        "gpu = GPUs[0]\r\n",
        "\r\n",
        "def printm():\r\n",
        "  process = psutil.Process(os.getpid())\r\n",
        "  print(\"Gen RAM Free: \" + humanize.naturalsize( psutil.virtual_memory().available ), \" | Proc size: \" + humanize.naturalsize( process.memory_info().rss))\r\n",
        "  print(\"GPU RAM Free: {0:.0f}MB | Used: {1:.0f}MB | Util {2:3.0f}% | Total {3:.0f}MB\".format(gpu.memoryFree, gpu.memoryUsed, gpu.memoryUtil*100, gpu.memoryTotal))\r\n",
        "printm()"
      ],
      "execution_count": 1,
      "outputs": [
        {
          "output_type": "stream",
          "text": [
            "Gen RAM Free: 12.7 GB  | Proc size: 112.3 MB\n",
            "GPU RAM Free: 16280MB | Used: 0MB | Util   0% | Total 16280MB\n"
          ],
          "name": "stdout"
        }
      ]
    },
    {
      "cell_type": "code",
      "metadata": {
        "colab": {
          "base_uri": "https://localhost:8080/"
        },
        "id": "NdbXR3aVmTkR",
        "outputId": "e5f8b06b-44d3-4dbe-cdef-10a47890c015"
      },
      "source": [
        "# Mount Google Drive\r\n",
        "from google.colab import drive # import drive from google colab\r\n",
        "\r\n",
        "ROOT = \"/content/drive/\"     # default location for the drive\r\n",
        "drive.mount(ROOT)           # we mount the google drive at /content/drive"
      ],
      "execution_count": 2,
      "outputs": [
        {
          "output_type": "stream",
          "text": [
            "Drive already mounted at /content/drive/; to attempt to forcibly remount, call drive.mount(\"/content/drive/\", force_remount=True).\n"
          ],
          "name": "stdout"
        }
      ]
    },
    {
      "cell_type": "code",
      "metadata": {
        "colab": {
          "base_uri": "https://localhost:8080/"
        },
        "id": "B99s5BaonA5Z",
        "outputId": "9f2d21d1-9581-4ed4-81bf-a55edf37ffff"
      },
      "source": [
        "!pip install bpemb"
      ],
      "execution_count": 3,
      "outputs": [
        {
          "output_type": "stream",
          "text": [
            "Requirement already satisfied: bpemb in /usr/local/lib/python3.6/dist-packages (0.3.2)\n",
            "Requirement already satisfied: tqdm in /usr/local/lib/python3.6/dist-packages (from bpemb) (4.41.1)\n",
            "Requirement already satisfied: numpy in /usr/local/lib/python3.6/dist-packages (from bpemb) (1.19.5)\n",
            "Requirement already satisfied: requests in /usr/local/lib/python3.6/dist-packages (from bpemb) (2.23.0)\n",
            "Requirement already satisfied: gensim in /usr/local/lib/python3.6/dist-packages (from bpemb) (3.6.0)\n",
            "Requirement already satisfied: sentencepiece in /usr/local/lib/python3.6/dist-packages (from bpemb) (0.1.95)\n",
            "Requirement already satisfied: chardet<4,>=3.0.2 in /usr/local/lib/python3.6/dist-packages (from requests->bpemb) (3.0.4)\n",
            "Requirement already satisfied: idna<3,>=2.5 in /usr/local/lib/python3.6/dist-packages (from requests->bpemb) (2.10)\n",
            "Requirement already satisfied: certifi>=2017.4.17 in /usr/local/lib/python3.6/dist-packages (from requests->bpemb) (2020.12.5)\n",
            "Requirement already satisfied: urllib3!=1.25.0,!=1.25.1,<1.26,>=1.21.1 in /usr/local/lib/python3.6/dist-packages (from requests->bpemb) (1.24.3)\n",
            "Requirement already satisfied: six>=1.5.0 in /usr/local/lib/python3.6/dist-packages (from gensim->bpemb) (1.15.0)\n",
            "Requirement already satisfied: smart-open>=1.2.1 in /usr/local/lib/python3.6/dist-packages (from gensim->bpemb) (4.1.2)\n",
            "Requirement already satisfied: scipy>=0.18.1 in /usr/local/lib/python3.6/dist-packages (from gensim->bpemb) (1.4.1)\n"
          ],
          "name": "stdout"
        }
      ]
    },
    {
      "cell_type": "code",
      "metadata": {
        "id": "eIMlbwcnmfqi"
      },
      "source": [
        "workdir_path = 'drive/My Drive/jakarta research/adi-buzzer/'"
      ],
      "execution_count": 4,
      "outputs": []
    },
    {
      "cell_type": "code",
      "metadata": {
        "id": "BUzhIlqOl29X"
      },
      "source": [
        "import time\n",
        "import datetime\n",
        "import numpy as np\n",
        "import pandas as pd\n",
        "import matplotlib.pyplot as plt\n",
        "import seaborn as sns\n",
        "import warnings\n",
        "import torch\n",
        "import torch.nn as nn\n",
        "import torch.optim as optim\n",
        "\n",
        "from tqdm import tqdm\n",
        "from sklearn.model_selection import train_test_split, RepeatedStratifiedKFold\n",
        "from sklearn.metrics import accuracy_score, precision_score, recall_score, f1_score\n",
        "from bpemb import BPEmb\n",
        "from torch import tensor\n",
        "from torch.utils.data import Dataset, DataLoader, RandomSampler\n",
        "from torch.nn.utils.rnn import pad_sequence\n",
        "\n",
        "% matplotlib inline\n",
        "pd.set_option('precision', 2)\n",
        "\n",
        "from sklearn.exceptions import UndefinedMetricWarning\n",
        "warnings.filterwarnings('ignore', category=UndefinedMetricWarning)"
      ],
      "execution_count": 5,
      "outputs": []
    },
    {
      "cell_type": "markdown",
      "metadata": {
        "id": "C6LjDcB8l29h"
      },
      "source": [
        "## Prepare dataset and model"
      ]
    },
    {
      "cell_type": "code",
      "metadata": {
        "colab": {
          "base_uri": "https://localhost:8080/"
        },
        "id": "MfS49ng0l29i",
        "outputId": "719e19f8-3214-42b1-a38c-370c4c593b0b"
      },
      "source": [
        "device = \"cuda\" if torch.cuda.is_available() else \"cpu\"\n",
        "print(device)"
      ],
      "execution_count": 6,
      "outputs": [
        {
          "output_type": "stream",
          "text": [
            "cuda\n"
          ],
          "name": "stdout"
        }
      ]
    },
    {
      "cell_type": "code",
      "metadata": {
        "id": "KvLrCJ7el29j"
      },
      "source": [
        "def load_data(path):\n",
        "    data = pd.read_csv(path, keep_default_na=False)\n",
        "    return data\n",
        "\n",
        "def prepare_dataset(dataset_pth):\n",
        "    dataset = load_data(dataset_pth)\n",
        "\n",
        "    X, X_test, y, y_test = train_test_split(dataset.drop(['buzzer'], axis=1), dataset.buzzer, test_size=0.2, \n",
        "                                            random_state=123, stratify=dataset.buzzer)\n",
        "    X_test.reset_index(drop=True, inplace=True)\n",
        "    y_test.reset_index(drop=True, inplace=True)\n",
        "    test = (X_test, y_test)\n",
        "\n",
        "    X.reset_index(drop=True, inplace=True)\n",
        "    y.reset_index(drop=True, inplace=True)\n",
        "    data = (X, y)\n",
        "    return data, test"
      ],
      "execution_count": 7,
      "outputs": []
    },
    {
      "cell_type": "code",
      "metadata": {
        "id": "GIglI_xfl29k"
      },
      "source": [
        "class DatasetBuzzer(Dataset):\n",
        "    def __init__(self, data, bpe):\n",
        "        feat, label = data\n",
        "        feat.reset_index(drop=True, inplace=True)\n",
        "        label.reset_index(drop=True, inplace=True)\n",
        "\n",
        "        self.feat = feat\n",
        "        self.label = label\n",
        "        self.bpe = bpe\n",
        "        \n",
        "    def __getitem__(self, idx):\n",
        "        x_raw = self.feat.loc[idx, 'text_used']\n",
        "        y  = self.label[idx]\n",
        "        \n",
        "        x = self.bpe.encode_ids(x_raw)\n",
        "        x = tensor(x)\n",
        "        y = torch.LongTensor([y])\n",
        "        \n",
        "        return (x, y)\n",
        "    \n",
        "    def __len__(self):\n",
        "        return len(self.feat)"
      ],
      "execution_count": 8,
      "outputs": []
    },
    {
      "cell_type": "code",
      "metadata": {
        "id": "w9q26jGMl29l"
      },
      "source": [
        "def padding(data):\n",
        "    x_list = []\n",
        "    y_list = []\n",
        "    for x, y in data:\n",
        "        x_list.append(x)\n",
        "        y_list.append(y)\n",
        "        \n",
        "    x_pad = pad_sequence(x_list, batch_first=True)\n",
        "    y_pad = pad_sequence(y_list, batch_first=True)\n",
        "    \n",
        "    return x_pad, y_pad"
      ],
      "execution_count": 9,
      "outputs": []
    },
    {
      "cell_type": "code",
      "metadata": {
        "id": "LI7MzYQll29m"
      },
      "source": [
        "class LSTM(nn.Module):\n",
        "    def __init__(self, hidden_size, num_class, weights):\n",
        "        super(LSTM, self).__init__()\n",
        "        self.word_embeddings = nn.Embedding.from_pretrained(weights)\n",
        "        self.lstm = nn.LSTM(weights.shape[1], hidden_size, num_layers=1, dropout=0.7, batch_first=True, bidirectional=True)\n",
        "        self.fc = nn.Linear(hidden_size, num_class)\n",
        "        \n",
        "    def forward(self, input_):\n",
        "        input_ = self.word_embeddings(input_)\n",
        "        out, (hidden_state, cell_state) = self.lstm(input_)\n",
        "        out = self.fc(hidden_state[-1])\n",
        "\n",
        "        return out"
      ],
      "execution_count": 10,
      "outputs": []
    },
    {
      "cell_type": "markdown",
      "metadata": {
        "id": "7V66JLT4l29m"
      },
      "source": [
        "## Preparation data, Load BPE embeddings"
      ]
    },
    {
      "cell_type": "code",
      "metadata": {
        "id": "khQVfyzHQLFg"
      },
      "source": [
        "bpe = BPEmb(lang=\"id\", vs=100000, dim=300)"
      ],
      "execution_count": 11,
      "outputs": []
    },
    {
      "cell_type": "code",
      "metadata": {
        "id": "0aaUHwcll29m"
      },
      "source": [
        "dataset_pth = workdir_path+'dataset/dataset.csv'\n",
        "data, test = prepare_dataset(dataset_pth)"
      ],
      "execution_count": 12,
      "outputs": []
    },
    {
      "cell_type": "code",
      "metadata": {
        "id": "ggzQcPThG1ZL"
      },
      "source": [
        "test_dataset = DatasetBuzzer(test, bpe)\r\n",
        "test_dataloader = DataLoader(test_dataset, batch_size=32, collate_fn=padding)"
      ],
      "execution_count": 13,
      "outputs": []
    },
    {
      "cell_type": "markdown",
      "metadata": {
        "id": "z-Oby-fRl29o"
      },
      "source": [
        "## Hyperparameter and BPE Embeddings"
      ]
    },
    {
      "cell_type": "code",
      "metadata": {
        "id": "T-YYXRbWl29p"
      },
      "source": [
        "weights = tensor(bpe.vectors)\n",
        "hidden_size = 128\n",
        "num_class = 2\n",
        "b_size = 32\n",
        "epochs = 15"
      ],
      "execution_count": 14,
      "outputs": []
    },
    {
      "cell_type": "markdown",
      "metadata": {
        "id": "hTB0-C8Ql29p"
      },
      "source": [
        "## Setup Model"
      ]
    },
    {
      "cell_type": "code",
      "metadata": {
        "colab": {
          "base_uri": "https://localhost:8080/"
        },
        "id": "o9UPJS1cl29p",
        "outputId": "05049092-30c4-4b4f-a8a3-844c79788102"
      },
      "source": [
        "model = LSTM(hidden_size, num_class, weights)\n",
        "model.to(device)"
      ],
      "execution_count": 15,
      "outputs": [
        {
          "output_type": "stream",
          "text": [
            "/usr/local/lib/python3.6/dist-packages/torch/nn/modules/rnn.py:61: UserWarning: dropout option adds dropout after all but last recurrent layer, so non-zero dropout expects num_layers greater than 1, but got dropout=0.7 and num_layers=1\n",
            "  \"num_layers={}\".format(dropout, num_layers))\n"
          ],
          "name": "stderr"
        },
        {
          "output_type": "execute_result",
          "data": {
            "text/plain": [
              "LSTM(\n",
              "  (word_embeddings): Embedding(100000, 300)\n",
              "  (lstm): LSTM(300, 128, batch_first=True, dropout=0.7, bidirectional=True)\n",
              "  (fc): Linear(in_features=128, out_features=2, bias=True)\n",
              ")"
            ]
          },
          "metadata": {
            "tags": []
          },
          "execution_count": 15
        }
      ]
    },
    {
      "cell_type": "code",
      "metadata": {
        "colab": {
          "base_uri": "https://localhost:8080/"
        },
        "id": "--Y_GYynl29q",
        "outputId": "c89cc7d1-2907-4647-a251-b3949ff2501f"
      },
      "source": [
        "parameters = sum(p.numel() for p in model.parameters())\n",
        "print(f'model has {parameters:,} trainable parameters')"
      ],
      "execution_count": 16,
      "outputs": [
        {
          "output_type": "stream",
          "text": [
            "model has 30,440,578 trainable parameters\n"
          ],
          "name": "stdout"
        }
      ]
    },
    {
      "cell_type": "markdown",
      "metadata": {
        "id": "ckEG5mbCl29q"
      },
      "source": [
        "## Setup Optimizer and Loss function"
      ]
    },
    {
      "cell_type": "code",
      "metadata": {
        "id": "hEvVYLhZl29q"
      },
      "source": [
        "optimizer = optim.AdamW(model.parameters())\n",
        "criterion = nn.CrossEntropyLoss()"
      ],
      "execution_count": 17,
      "outputs": []
    },
    {
      "cell_type": "markdown",
      "metadata": {
        "id": "Xyk0Irlzl29q"
      },
      "source": [
        "## Training and Validation model"
      ]
    },
    {
      "cell_type": "code",
      "metadata": {
        "id": "jFa5SaIPl29r"
      },
      "source": [
        "def scoring(y_test, y_pred):\n",
        "    acc = accuracy_score(y_test, y_pred)\n",
        "    pre = precision_score(y_test, y_pred)\n",
        "    rec = recall_score(y_test, y_pred)\n",
        "    f1 = f1_score(y_test, y_pred)\n",
        "    return acc, pre, rec, f1"
      ],
      "execution_count": 18,
      "outputs": []
    },
    {
      "cell_type": "code",
      "metadata": {
        "id": "IhHT8QBdv-cz"
      },
      "source": [
        "def format_time(elapsed):\r\n",
        "    '''\r\n",
        "    Takes a time in seconds and returns a string hh:mm:ss\r\n",
        "    '''\r\n",
        "    # Round to the nearest second.\r\n",
        "    elapsed_rounded = int(round((elapsed)))\r\n",
        "    \r\n",
        "    # Format as hh:mm:ss\r\n",
        "    return str(datetime.timedelta(seconds=elapsed_rounded))"
      ],
      "execution_count": 19,
      "outputs": []
    },
    {
      "cell_type": "code",
      "metadata": {
        "id": "QyOfbmNWl29r"
      },
      "source": [
        "def train_model(model, dataloader):\n",
        "    running_train_loss = 0\n",
        "    running_train_acc = 0\n",
        "    running_train_pre = 0\n",
        "    running_train_rec = 0\n",
        "    running_train_f1 = 0\n",
        "    \n",
        "    ## Training mode\n",
        "    n_batch = len(dataloader)\n",
        "    t0 = time.time()\n",
        "    model.train()\n",
        "    for idx, (x, y) in tqdm(enumerate(dataloader, 1)):\n",
        "        optimizer.zero_grad()\n",
        "        x = x.to(device)\n",
        "        y = y.squeeze().to(device)\n",
        "        \n",
        "        y_pred = model(x)\n",
        "        loss = criterion(y_pred, y)\n",
        "        \n",
        "        y = y.cpu().numpy()\n",
        "        y_pred = torch.max(y_pred, 1)[1].cpu().detach().numpy()\n",
        "        acc, pre, rec, f1 = scoring(y, y_pred)\n",
        "\n",
        "        running_train_loss += loss.item() * x.size(0)\n",
        "        running_train_acc += acc\n",
        "        running_train_pre += pre\n",
        "        running_train_rec += rec\n",
        "        running_train_f1 += f1\n",
        "\n",
        "        loss.backward()\n",
        "        optimizer.step()\n",
        "\n",
        "    epoch_train_loss = running_train_loss / len(dataloader.dataset)\n",
        "    epoch_train_acc = running_train_acc / n_batch\n",
        "    epoch_train_pre = running_train_pre / n_batch\n",
        "    epoch_train_rec = running_train_rec / n_batch\n",
        "    epoch_train_f1 = running_train_f1 / n_batch\n",
        "    \n",
        "    train_time = time.time() - t0\n",
        "    return epoch_train_loss, epoch_train_acc, epoch_train_pre, epoch_train_rec, epoch_train_f1, train_time"
      ],
      "execution_count": 20,
      "outputs": []
    },
    {
      "cell_type": "code",
      "metadata": {
        "id": "rRFF4b3El29r"
      },
      "source": [
        "def eval_model(model, dataloader):\n",
        "    running_val_loss = 0\n",
        "    running_val_acc = 0\n",
        "    running_val_pre = 0\n",
        "    running_val_rec = 0\n",
        "    running_val_f1 = 0\n",
        "    \n",
        "    ## Validation mode\n",
        "    n_batch = len(dataloader)\n",
        "    t0 = time.time()\n",
        "    model.eval()\n",
        "    with torch.no_grad():\n",
        "        for idx, (x, y) in tqdm(enumerate(dataloader, 1)):\n",
        "            x = x.to(device)\n",
        "            y = y.squeeze().to(device)\n",
        "\n",
        "            y_pred = model(x)\n",
        "            loss = criterion(y_pred, y)\n",
        "            \n",
        "            y = y.cpu().numpy()\n",
        "            y_pred = torch.max(y_pred, 1)[1].cpu().detach().numpy()\n",
        "            acc, pre, rec, f1 = scoring(y, y_pred)\n",
        "\n",
        "            running_val_loss += loss.item() * x.size(0)\n",
        "            running_val_acc += acc\n",
        "            running_val_pre += pre\n",
        "            running_val_rec += rec\n",
        "            running_val_f1 += f1\n",
        "            \n",
        "    epoch_val_loss = running_val_loss / len(dataloader.dataset)\n",
        "    epoch_val_acc = running_val_acc / n_batch\n",
        "    epoch_val_pre = running_val_pre / n_batch\n",
        "    epoch_val_rec = running_val_rec / n_batch\n",
        "    epoch_val_f1 = running_val_f1 / n_batch\n",
        "    \n",
        "    val_time = time.time() - t0\n",
        "    return epoch_val_loss, epoch_val_acc, epoch_val_pre, epoch_val_rec, epoch_val_f1, val_time"
      ],
      "execution_count": 21,
      "outputs": []
    },
    {
      "cell_type": "markdown",
      "metadata": {
        "id": "0RHJ_ahbQdZG"
      },
      "source": [
        "## Learning routine"
      ]
    },
    {
      "cell_type": "markdown",
      "metadata": {
        "id": "nnAP818aRWxE"
      },
      "source": [
        "### Preparation KFold data"
      ]
    },
    {
      "cell_type": "code",
      "metadata": {
        "id": "ak3eY4ftGwQ5"
      },
      "source": [
        "rskf = RepeatedStratifiedKFold(n_splits=5, n_repeats=1, random_state=123)\r\n",
        "data_gen = rskf.split(data[0], data[1])"
      ],
      "execution_count": 22,
      "outputs": []
    },
    {
      "cell_type": "markdown",
      "metadata": {
        "id": "EHGtFmbaRduZ"
      },
      "source": [
        "### RUN !!!"
      ]
    },
    {
      "cell_type": "code",
      "metadata": {
        "colab": {
          "base_uri": "https://localhost:8080/"
        },
        "id": "IZO0kIMnl29u",
        "outputId": "af93c3a3-f3e3-472e-e4fb-5a462b20135f"
      },
      "source": [
        "kfold_stats = []\n",
        "total_t0 = time.time()\n",
        "\n",
        "for idx, (train_idx, val_idx) in enumerate(data_gen, 1):\n",
        "    print(f'\\n==== KFold {idx} / 5 ====')\n",
        "\n",
        "    train = (data[0].iloc[train_idx, :], data[1][train_idx])\n",
        "    val = (data[0].iloc[val_idx, :], data[1][val_idx])\n",
        "\n",
        "    train_dataset = DatasetBuzzer(train, bpe)\n",
        "    val_dataset = DatasetBuzzer(val, bpe)\n",
        "    train_dataloader = DataLoader(train_dataset, shuffle=True, batch_size=b_size, collate_fn=padding)\n",
        "    val_dataloader = DataLoader(val_dataset, shuffle=True, batch_size=b_size, collate_fn=padding)\n",
        "\n",
        "    model = LSTM(hidden_size, num_class, weights)\n",
        "    model.to(device)\n",
        "    optimizer = optim.AdamW(model.parameters())\n",
        "    criterion = nn.CrossEntropyLoss()\n",
        "\n",
        "    training_stats = []\n",
        "    for epoch_i in range(0, epochs):\n",
        "        print(f'\\n==== Epoch {epoch_i+1} / {epochs} ====')\n",
        "        epoch_train_loss, epoch_train_acc, epoch_train_pre, epoch_train_rec, epoch_train_f1, train_time = train_model(model, train_dataloader)\n",
        "        epoch_val_loss, epoch_val_acc, epoch_val_pre, epoch_val_rec, epoch_val_f1, val_time = eval_model(model, val_dataloader)\n",
        "\n",
        "        training_stats.append({'Epoch': epoch_i + 1,\n",
        "                              'Training Loss': epoch_train_loss,\n",
        "                              'Validation Loss': epoch_val_loss,\n",
        "                              'Training Accuracy': epoch_train_acc,\n",
        "                              'Validation Accuracy': epoch_val_acc,\n",
        "                              'Training Precision': epoch_train_pre,\n",
        "                              'Validation Precision': epoch_val_pre,\n",
        "                              'Training Recall': epoch_train_rec,\n",
        "                              'Validation Recall': epoch_val_rec,\n",
        "                              'Training F1': epoch_train_f1,\n",
        "                              'Validation F1': epoch_val_f1\n",
        "                              })\n",
        "\n",
        "        print(\"\\nTRAINING\")\n",
        "        print(f\"Loss: {epoch_train_loss:.2f}  |  Accuracy: {epoch_train_acc:.2f}\")\n",
        "        print(f\"Precision: {epoch_train_pre:.2f}  |  Recall: {epoch_train_rec:.2f}  |  F1: {epoch_train_f1:.2f}\")\n",
        "        print(f\"Exec Time: {round(train_time)}s\")\n",
        "        print(\"\\nEVALUATING\")\n",
        "        print(f\"Loss: {epoch_val_loss:.2f}  |  Accuracy: {epoch_val_acc:.2f}\")\n",
        "        print(f\"Precision: {epoch_val_pre:.2f}  |  Recall: {epoch_val_rec:.2f}  |  F1: {epoch_val_f1:.2f}\")\n",
        "        print(f\"Exec Time: {round(val_time)}s\")\n",
        "    \n",
        "    kfold_stats.append(training_stats)\n",
        "\n",
        "print(\"Training complete!\")\n",
        "print(\"Total training took {:} (h:mm:ss)\".format(format_time(time.time()-total_t0)))"
      ],
      "execution_count": 23,
      "outputs": [
        {
          "output_type": "stream",
          "text": [
            "/usr/local/lib/python3.6/dist-packages/torch/nn/modules/rnn.py:61: UserWarning: dropout option adds dropout after all but last recurrent layer, so non-zero dropout expects num_layers greater than 1, but got dropout=0.7 and num_layers=1\n",
            "  \"num_layers={}\".format(dropout, num_layers))\n",
            "\r0it [00:00, ?it/s]"
          ],
          "name": "stderr"
        },
        {
          "output_type": "stream",
          "text": [
            "\n",
            "==== KFold 1 / 5 ====\n",
            "\n",
            "==== Epoch 1 / 15 ====\n"
          ],
          "name": "stdout"
        },
        {
          "output_type": "stream",
          "text": [
            "60it [00:17,  3.53it/s]\n",
            "15it [00:02,  5.94it/s]\n",
            "0it [00:00, ?it/s]"
          ],
          "name": "stderr"
        },
        {
          "output_type": "stream",
          "text": [
            "\n",
            "TRAINING\n",
            "Loss: 0.52  |  Accuracy: 0.77\n",
            "Precision: 0.22  |  Recall: 0.08  |  F1: 0.09\n",
            "Exec Time: 17s\n",
            "\n",
            "EVALUATING\n",
            "Loss: 0.45  |  Accuracy: 0.79\n",
            "Precision: 0.38  |  Recall: 0.12  |  F1: 0.17\n",
            "Exec Time: 3s\n",
            "\n",
            "==== Epoch 2 / 15 ====\n"
          ],
          "name": "stdout"
        },
        {
          "output_type": "stream",
          "text": [
            "60it [00:17,  3.39it/s]\n",
            "15it [00:02,  5.82it/s]\n",
            "0it [00:00, ?it/s]"
          ],
          "name": "stderr"
        },
        {
          "output_type": "stream",
          "text": [
            "\n",
            "TRAINING\n",
            "Loss: 0.45  |  Accuracy: 0.82\n",
            "Precision: 0.62  |  Recall: 0.28  |  F1: 0.36\n",
            "Exec Time: 18s\n",
            "\n",
            "EVALUATING\n",
            "Loss: 0.48  |  Accuracy: 0.80\n",
            "Precision: 0.61  |  Recall: 0.30  |  F1: 0.38\n",
            "Exec Time: 3s\n",
            "\n",
            "==== Epoch 3 / 15 ====\n"
          ],
          "name": "stdout"
        },
        {
          "output_type": "stream",
          "text": [
            "60it [00:17,  3.39it/s]\n",
            "15it [00:02,  6.00it/s]\n",
            "0it [00:00, ?it/s]"
          ],
          "name": "stderr"
        },
        {
          "output_type": "stream",
          "text": [
            "\n",
            "TRAINING\n",
            "Loss: 0.38  |  Accuracy: 0.84\n",
            "Precision: 0.73  |  Recall: 0.48  |  F1: 0.54\n",
            "Exec Time: 18s\n",
            "\n",
            "EVALUATING\n",
            "Loss: 0.43  |  Accuracy: 0.81\n",
            "Precision: 0.58  |  Recall: 0.42  |  F1: 0.46\n",
            "Exec Time: 2s\n",
            "\n",
            "==== Epoch 4 / 15 ====\n"
          ],
          "name": "stdout"
        },
        {
          "output_type": "stream",
          "text": [
            "60it [00:17,  3.48it/s]\n",
            "15it [00:02,  5.96it/s]\n",
            "0it [00:00, ?it/s]"
          ],
          "name": "stderr"
        },
        {
          "output_type": "stream",
          "text": [
            "\n",
            "TRAINING\n",
            "Loss: 0.36  |  Accuracy: 0.85\n",
            "Precision: 0.68  |  Recall: 0.60  |  F1: 0.61\n",
            "Exec Time: 17s\n",
            "\n",
            "EVALUATING\n",
            "Loss: 0.44  |  Accuracy: 0.81\n",
            "Precision: 0.58  |  Recall: 0.46  |  F1: 0.50\n",
            "Exec Time: 3s\n",
            "\n",
            "==== Epoch 5 / 15 ====\n"
          ],
          "name": "stdout"
        },
        {
          "output_type": "stream",
          "text": [
            "60it [00:17,  3.51it/s]\n",
            "15it [00:02,  6.00it/s]\n",
            "0it [00:00, ?it/s]"
          ],
          "name": "stderr"
        },
        {
          "output_type": "stream",
          "text": [
            "\n",
            "TRAINING\n",
            "Loss: 0.32  |  Accuracy: 0.87\n",
            "Precision: 0.75  |  Recall: 0.61  |  F1: 0.63\n",
            "Exec Time: 17s\n",
            "\n",
            "EVALUATING\n",
            "Loss: 0.51  |  Accuracy: 0.81\n",
            "Precision: 0.60  |  Recall: 0.38  |  F1: 0.44\n",
            "Exec Time: 3s\n",
            "\n",
            "==== Epoch 6 / 15 ====\n"
          ],
          "name": "stdout"
        },
        {
          "output_type": "stream",
          "text": [
            "60it [00:17,  3.49it/s]\n",
            "15it [00:02,  6.12it/s]\n",
            "0it [00:00, ?it/s]"
          ],
          "name": "stderr"
        },
        {
          "output_type": "stream",
          "text": [
            "\n",
            "TRAINING\n",
            "Loss: 0.27  |  Accuracy: 0.89\n",
            "Precision: 0.80  |  Recall: 0.66  |  F1: 0.70\n",
            "Exec Time: 17s\n",
            "\n",
            "EVALUATING\n",
            "Loss: 0.49  |  Accuracy: 0.79\n",
            "Precision: 0.56  |  Recall: 0.31  |  F1: 0.37\n",
            "Exec Time: 2s\n",
            "\n",
            "==== Epoch 7 / 15 ====\n"
          ],
          "name": "stdout"
        },
        {
          "output_type": "stream",
          "text": [
            "60it [00:17,  3.48it/s]\n",
            "15it [00:02,  6.11it/s]\n",
            "1it [00:00,  6.27it/s]"
          ],
          "name": "stderr"
        },
        {
          "output_type": "stream",
          "text": [
            "\n",
            "TRAINING\n",
            "Loss: 0.25  |  Accuracy: 0.91\n",
            "Precision: 0.88  |  Recall: 0.69  |  F1: 0.75\n",
            "Exec Time: 17s\n",
            "\n",
            "EVALUATING\n",
            "Loss: 0.48  |  Accuracy: 0.81\n",
            "Precision: 0.60  |  Recall: 0.45  |  F1: 0.48\n",
            "Exec Time: 2s\n",
            "\n",
            "==== Epoch 8 / 15 ====\n"
          ],
          "name": "stdout"
        },
        {
          "output_type": "stream",
          "text": [
            "60it [00:17,  3.46it/s]\n",
            "15it [00:02,  6.11it/s]\n",
            "0it [00:00, ?it/s]"
          ],
          "name": "stderr"
        },
        {
          "output_type": "stream",
          "text": [
            "\n",
            "TRAINING\n",
            "Loss: 0.21  |  Accuracy: 0.93\n",
            "Precision: 0.86  |  Recall: 0.82  |  F1: 0.83\n",
            "Exec Time: 17s\n",
            "\n",
            "EVALUATING\n",
            "Loss: 0.52  |  Accuracy: 0.78\n",
            "Precision: 0.50  |  Recall: 0.34  |  F1: 0.39\n",
            "Exec Time: 2s\n",
            "\n",
            "==== Epoch 9 / 15 ====\n"
          ],
          "name": "stdout"
        },
        {
          "output_type": "stream",
          "text": [
            "60it [00:17,  3.51it/s]\n",
            "15it [00:02,  6.19it/s]\n",
            "0it [00:00, ?it/s]"
          ],
          "name": "stderr"
        },
        {
          "output_type": "stream",
          "text": [
            "\n",
            "TRAINING\n",
            "Loss: 0.14  |  Accuracy: 0.95\n",
            "Precision: 0.91  |  Recall: 0.84  |  F1: 0.87\n",
            "Exec Time: 17s\n",
            "\n",
            "EVALUATING\n",
            "Loss: 0.68  |  Accuracy: 0.80\n",
            "Precision: 0.59  |  Recall: 0.29  |  F1: 0.36\n",
            "Exec Time: 2s\n",
            "\n",
            "==== Epoch 10 / 15 ====\n"
          ],
          "name": "stdout"
        },
        {
          "output_type": "stream",
          "text": [
            "60it [00:17,  3.46it/s]\n",
            "15it [00:02,  6.13it/s]\n",
            "0it [00:00, ?it/s]"
          ],
          "name": "stderr"
        },
        {
          "output_type": "stream",
          "text": [
            "\n",
            "TRAINING\n",
            "Loss: 0.11  |  Accuracy: 0.97\n",
            "Precision: 0.94  |  Recall: 0.87  |  F1: 0.90\n",
            "Exec Time: 17s\n",
            "\n",
            "EVALUATING\n",
            "Loss: 0.75  |  Accuracy: 0.79\n",
            "Precision: 0.55  |  Recall: 0.36  |  F1: 0.41\n",
            "Exec Time: 2s\n",
            "\n",
            "==== Epoch 11 / 15 ====\n"
          ],
          "name": "stdout"
        },
        {
          "output_type": "stream",
          "text": [
            "60it [00:17,  3.48it/s]\n",
            "15it [00:02,  5.88it/s]\n",
            "0it [00:00, ?it/s]"
          ],
          "name": "stderr"
        },
        {
          "output_type": "stream",
          "text": [
            "\n",
            "TRAINING\n",
            "Loss: 0.07  |  Accuracy: 0.98\n",
            "Precision: 0.98  |  Recall: 0.91  |  F1: 0.94\n",
            "Exec Time: 17s\n",
            "\n",
            "EVALUATING\n",
            "Loss: 0.72  |  Accuracy: 0.76\n",
            "Precision: 0.46  |  Recall: 0.44  |  F1: 0.43\n",
            "Exec Time: 3s\n",
            "\n",
            "==== Epoch 12 / 15 ====\n"
          ],
          "name": "stdout"
        },
        {
          "output_type": "stream",
          "text": [
            "60it [00:17,  3.45it/s]\n",
            "15it [00:02,  6.09it/s]\n",
            "0it [00:00, ?it/s]"
          ],
          "name": "stderr"
        },
        {
          "output_type": "stream",
          "text": [
            "\n",
            "TRAINING\n",
            "Loss: 0.07  |  Accuracy: 0.98\n",
            "Precision: 0.94  |  Recall: 0.92  |  F1: 0.92\n",
            "Exec Time: 17s\n",
            "\n",
            "EVALUATING\n",
            "Loss: 0.79  |  Accuracy: 0.79\n",
            "Precision: 0.55  |  Recall: 0.40  |  F1: 0.44\n",
            "Exec Time: 2s\n",
            "\n",
            "==== Epoch 13 / 15 ====\n"
          ],
          "name": "stdout"
        },
        {
          "output_type": "stream",
          "text": [
            "60it [00:16,  3.56it/s]\n",
            "15it [00:02,  5.67it/s]\n",
            "0it [00:00, ?it/s]"
          ],
          "name": "stderr"
        },
        {
          "output_type": "stream",
          "text": [
            "\n",
            "TRAINING\n",
            "Loss: 0.02  |  Accuracy: 0.99\n",
            "Precision: 1.00  |  Recall: 0.98  |  F1: 0.99\n",
            "Exec Time: 17s\n",
            "\n",
            "EVALUATING\n",
            "Loss: 0.91  |  Accuracy: 0.79\n",
            "Precision: 0.55  |  Recall: 0.52  |  F1: 0.51\n",
            "Exec Time: 3s\n",
            "\n",
            "==== Epoch 14 / 15 ====\n"
          ],
          "name": "stdout"
        },
        {
          "output_type": "stream",
          "text": [
            "60it [00:17,  3.50it/s]\n",
            "15it [00:02,  6.14it/s]\n",
            "0it [00:00, ?it/s]"
          ],
          "name": "stderr"
        },
        {
          "output_type": "stream",
          "text": [
            "\n",
            "TRAINING\n",
            "Loss: 0.01  |  Accuracy: 1.00\n",
            "Precision: 1.00  |  Recall: 1.00  |  F1: 1.00\n",
            "Exec Time: 17s\n",
            "\n",
            "EVALUATING\n",
            "Loss: 0.99  |  Accuracy: 0.80\n",
            "Precision: 0.54  |  Recall: 0.37  |  F1: 0.43\n",
            "Exec Time: 2s\n",
            "\n",
            "==== Epoch 15 / 15 ====\n"
          ],
          "name": "stdout"
        },
        {
          "output_type": "stream",
          "text": [
            "60it [00:17,  3.44it/s]\n",
            "15it [00:02,  5.71it/s]\n",
            "0it [00:00, ?it/s]"
          ],
          "name": "stderr"
        },
        {
          "output_type": "stream",
          "text": [
            "\n",
            "TRAINING\n",
            "Loss: 0.01  |  Accuracy: 1.00\n",
            "Precision: 1.00  |  Recall: 0.99  |  F1: 0.99\n",
            "Exec Time: 17s\n",
            "\n",
            "EVALUATING\n",
            "Loss: 1.02  |  Accuracy: 0.80\n",
            "Precision: 0.53  |  Recall: 0.42  |  F1: 0.44\n",
            "Exec Time: 3s\n",
            "\n",
            "==== KFold 2 / 5 ====\n",
            "\n",
            "==== Epoch 1 / 15 ====\n"
          ],
          "name": "stdout"
        },
        {
          "output_type": "stream",
          "text": [
            "60it [00:17,  3.45it/s]\n",
            "15it [00:02,  5.83it/s]\n",
            "0it [00:00, ?it/s]"
          ],
          "name": "stderr"
        },
        {
          "output_type": "stream",
          "text": [
            "\n",
            "TRAINING\n",
            "Loss: 0.52  |  Accuracy: 0.76\n",
            "Precision: 0.20  |  Recall: 0.06  |  F1: 0.07\n",
            "Exec Time: 17s\n",
            "\n",
            "EVALUATING\n",
            "Loss: 0.46  |  Accuracy: 0.78\n",
            "Precision: 0.44  |  Recall: 0.18  |  F1: 0.24\n",
            "Exec Time: 3s\n",
            "\n",
            "==== Epoch 2 / 15 ====\n"
          ],
          "name": "stdout"
        },
        {
          "output_type": "stream",
          "text": [
            "60it [00:17,  3.41it/s]\n",
            "15it [00:02,  5.80it/s]\n",
            "0it [00:00, ?it/s]"
          ],
          "name": "stderr"
        },
        {
          "output_type": "stream",
          "text": [
            "\n",
            "TRAINING\n",
            "Loss: 0.41  |  Accuracy: 0.83\n",
            "Precision: 0.66  |  Recall: 0.35  |  F1: 0.43\n",
            "Exec Time: 18s\n",
            "\n",
            "EVALUATING\n",
            "Loss: 0.42  |  Accuracy: 0.79\n",
            "Precision: 0.55  |  Recall: 0.45  |  F1: 0.48\n",
            "Exec Time: 3s\n",
            "\n",
            "==== Epoch 3 / 15 ====\n"
          ],
          "name": "stdout"
        },
        {
          "output_type": "stream",
          "text": [
            "60it [00:17,  3.51it/s]\n",
            "15it [00:02,  5.46it/s]\n",
            "0it [00:00, ?it/s]"
          ],
          "name": "stderr"
        },
        {
          "output_type": "stream",
          "text": [
            "\n",
            "TRAINING\n",
            "Loss: 0.36  |  Accuracy: 0.85\n",
            "Precision: 0.67  |  Recall: 0.55  |  F1: 0.59\n",
            "Exec Time: 17s\n",
            "\n",
            "EVALUATING\n",
            "Loss: 0.47  |  Accuracy: 0.81\n",
            "Precision: 0.66  |  Recall: 0.31  |  F1: 0.41\n",
            "Exec Time: 3s\n",
            "\n",
            "==== Epoch 4 / 15 ====\n"
          ],
          "name": "stdout"
        },
        {
          "output_type": "stream",
          "text": [
            "60it [00:16,  3.58it/s]\n",
            "15it [00:02,  5.75it/s]\n",
            "0it [00:00, ?it/s]"
          ],
          "name": "stderr"
        },
        {
          "output_type": "stream",
          "text": [
            "\n",
            "TRAINING\n",
            "Loss: 0.33  |  Accuracy: 0.86\n",
            "Precision: 0.76  |  Recall: 0.57  |  F1: 0.62\n",
            "Exec Time: 17s\n",
            "\n",
            "EVALUATING\n",
            "Loss: 0.42  |  Accuracy: 0.82\n",
            "Precision: 0.60  |  Recall: 0.49  |  F1: 0.53\n",
            "Exec Time: 3s\n",
            "\n",
            "==== Epoch 5 / 15 ====\n"
          ],
          "name": "stdout"
        },
        {
          "output_type": "stream",
          "text": [
            "60it [00:17,  3.50it/s]\n",
            "15it [00:02,  5.88it/s]\n",
            "1it [00:00,  5.53it/s]"
          ],
          "name": "stderr"
        },
        {
          "output_type": "stream",
          "text": [
            "\n",
            "TRAINING\n",
            "Loss: 0.29  |  Accuracy: 0.90\n",
            "Precision: 0.82  |  Recall: 0.69  |  F1: 0.72\n",
            "Exec Time: 17s\n",
            "\n",
            "EVALUATING\n",
            "Loss: 0.45  |  Accuracy: 0.81\n",
            "Precision: 0.60  |  Recall: 0.47  |  F1: 0.50\n",
            "Exec Time: 3s\n",
            "\n",
            "==== Epoch 6 / 15 ====\n"
          ],
          "name": "stdout"
        },
        {
          "output_type": "stream",
          "text": [
            "60it [00:16,  3.57it/s]\n",
            "15it [00:02,  5.86it/s]\n",
            "0it [00:00, ?it/s]"
          ],
          "name": "stderr"
        },
        {
          "output_type": "stream",
          "text": [
            "\n",
            "TRAINING\n",
            "Loss: 0.23  |  Accuracy: 0.92\n",
            "Precision: 0.87  |  Recall: 0.75  |  F1: 0.79\n",
            "Exec Time: 17s\n",
            "\n",
            "EVALUATING\n",
            "Loss: 0.56  |  Accuracy: 0.79\n",
            "Precision: 0.57  |  Recall: 0.35  |  F1: 0.40\n",
            "Exec Time: 3s\n",
            "\n",
            "==== Epoch 7 / 15 ====\n"
          ],
          "name": "stdout"
        },
        {
          "output_type": "stream",
          "text": [
            "60it [00:17,  3.46it/s]\n",
            "15it [00:02,  5.68it/s]\n",
            "0it [00:00, ?it/s]"
          ],
          "name": "stderr"
        },
        {
          "output_type": "stream",
          "text": [
            "\n",
            "TRAINING\n",
            "Loss: 0.16  |  Accuracy: 0.94\n",
            "Precision: 0.93  |  Recall: 0.83  |  F1: 0.86\n",
            "Exec Time: 17s\n",
            "\n",
            "EVALUATING\n",
            "Loss: 0.56  |  Accuracy: 0.81\n",
            "Precision: 0.57  |  Recall: 0.41  |  F1: 0.47\n",
            "Exec Time: 3s\n",
            "\n",
            "==== Epoch 8 / 15 ====\n"
          ],
          "name": "stdout"
        },
        {
          "output_type": "stream",
          "text": [
            "60it [00:17,  3.53it/s]\n",
            "15it [00:02,  5.61it/s]\n",
            "0it [00:00, ?it/s]"
          ],
          "name": "stderr"
        },
        {
          "output_type": "stream",
          "text": [
            "\n",
            "TRAINING\n",
            "Loss: 0.11  |  Accuracy: 0.96\n",
            "Precision: 0.96  |  Recall: 0.88  |  F1: 0.91\n",
            "Exec Time: 17s\n",
            "\n",
            "EVALUATING\n",
            "Loss: 0.63  |  Accuracy: 0.82\n",
            "Precision: 0.58  |  Recall: 0.63  |  F1: 0.60\n",
            "Exec Time: 3s\n",
            "\n",
            "==== Epoch 9 / 15 ====\n"
          ],
          "name": "stdout"
        },
        {
          "output_type": "stream",
          "text": [
            "60it [00:17,  3.49it/s]\n",
            "15it [00:02,  5.93it/s]\n",
            "0it [00:00, ?it/s]"
          ],
          "name": "stderr"
        },
        {
          "output_type": "stream",
          "text": [
            "\n",
            "TRAINING\n",
            "Loss: 0.08  |  Accuracy: 0.98\n",
            "Precision: 0.97  |  Recall: 0.93  |  F1: 0.94\n",
            "Exec Time: 17s\n",
            "\n",
            "EVALUATING\n",
            "Loss: 0.68  |  Accuracy: 0.81\n",
            "Precision: 0.56  |  Recall: 0.51  |  F1: 0.51\n",
            "Exec Time: 3s\n",
            "\n",
            "==== Epoch 10 / 15 ====\n"
          ],
          "name": "stdout"
        },
        {
          "output_type": "stream",
          "text": [
            "60it [00:16,  3.54it/s]\n",
            "15it [00:02,  5.83it/s]\n",
            "0it [00:00, ?it/s]"
          ],
          "name": "stderr"
        },
        {
          "output_type": "stream",
          "text": [
            "\n",
            "TRAINING\n",
            "Loss: 0.04  |  Accuracy: 0.99\n",
            "Precision: 0.98  |  Recall: 0.96  |  F1: 0.97\n",
            "Exec Time: 17s\n",
            "\n",
            "EVALUATING\n",
            "Loss: 0.78  |  Accuracy: 0.78\n",
            "Precision: 0.50  |  Recall: 0.50  |  F1: 0.48\n",
            "Exec Time: 3s\n",
            "\n",
            "==== Epoch 11 / 15 ====\n"
          ],
          "name": "stdout"
        },
        {
          "output_type": "stream",
          "text": [
            "60it [00:16,  3.55it/s]\n",
            "15it [00:02,  5.75it/s]\n",
            "0it [00:00, ?it/s]"
          ],
          "name": "stderr"
        },
        {
          "output_type": "stream",
          "text": [
            "\n",
            "TRAINING\n",
            "Loss: 0.03  |  Accuracy: 0.99\n",
            "Precision: 0.99  |  Recall: 0.99  |  F1: 0.99\n",
            "Exec Time: 17s\n",
            "\n",
            "EVALUATING\n",
            "Loss: 0.76  |  Accuracy: 0.81\n",
            "Precision: 0.57  |  Recall: 0.47  |  F1: 0.49\n",
            "Exec Time: 3s\n",
            "\n",
            "==== Epoch 12 / 15 ====\n"
          ],
          "name": "stdout"
        },
        {
          "output_type": "stream",
          "text": [
            "60it [00:17,  3.50it/s]\n",
            "15it [00:02,  5.78it/s]\n",
            "0it [00:00, ?it/s]"
          ],
          "name": "stderr"
        },
        {
          "output_type": "stream",
          "text": [
            "\n",
            "TRAINING\n",
            "Loss: 0.02  |  Accuracy: 0.99\n",
            "Precision: 0.99  |  Recall: 0.99  |  F1: 0.99\n",
            "Exec Time: 17s\n",
            "\n",
            "EVALUATING\n",
            "Loss: 0.90  |  Accuracy: 0.81\n",
            "Precision: 0.62  |  Recall: 0.43  |  F1: 0.47\n",
            "Exec Time: 3s\n",
            "\n",
            "==== Epoch 13 / 15 ====\n"
          ],
          "name": "stdout"
        },
        {
          "output_type": "stream",
          "text": [
            "60it [00:17,  3.47it/s]\n",
            "15it [00:02,  5.59it/s]\n",
            "0it [00:00, ?it/s]"
          ],
          "name": "stderr"
        },
        {
          "output_type": "stream",
          "text": [
            "\n",
            "TRAINING\n",
            "Loss: 0.01  |  Accuracy: 1.00\n",
            "Precision: 1.00  |  Recall: 1.00  |  F1: 1.00\n",
            "Exec Time: 17s\n",
            "\n",
            "EVALUATING\n",
            "Loss: 0.96  |  Accuracy: 0.78\n",
            "Precision: 0.51  |  Recall: 0.43  |  F1: 0.45\n",
            "Exec Time: 3s\n",
            "\n",
            "==== Epoch 14 / 15 ====\n"
          ],
          "name": "stdout"
        },
        {
          "output_type": "stream",
          "text": [
            "60it [00:17,  3.50it/s]\n",
            "15it [00:02,  5.79it/s]\n",
            "0it [00:00, ?it/s]"
          ],
          "name": "stderr"
        },
        {
          "output_type": "stream",
          "text": [
            "\n",
            "TRAINING\n",
            "Loss: 0.02  |  Accuracy: 0.99\n",
            "Precision: 0.98  |  Recall: 0.98  |  F1: 0.98\n",
            "Exec Time: 17s\n",
            "\n",
            "EVALUATING\n",
            "Loss: 0.90  |  Accuracy: 0.79\n",
            "Precision: 0.58  |  Recall: 0.41  |  F1: 0.47\n",
            "Exec Time: 3s\n",
            "\n",
            "==== Epoch 15 / 15 ====\n"
          ],
          "name": "stdout"
        },
        {
          "output_type": "stream",
          "text": [
            "60it [00:17,  3.49it/s]\n",
            "15it [00:02,  5.91it/s]\n",
            "0it [00:00, ?it/s]"
          ],
          "name": "stderr"
        },
        {
          "output_type": "stream",
          "text": [
            "\n",
            "TRAINING\n",
            "Loss: 0.02  |  Accuracy: 1.00\n",
            "Precision: 0.99  |  Recall: 0.99  |  F1: 0.99\n",
            "Exec Time: 17s\n",
            "\n",
            "EVALUATING\n",
            "Loss: 1.01  |  Accuracy: 0.79\n",
            "Precision: 0.50  |  Recall: 0.59  |  F1: 0.52\n",
            "Exec Time: 3s\n",
            "\n",
            "==== KFold 3 / 5 ====\n",
            "\n",
            "==== Epoch 1 / 15 ====\n"
          ],
          "name": "stdout"
        },
        {
          "output_type": "stream",
          "text": [
            "60it [00:16,  3.71it/s]\n",
            "15it [00:03,  4.79it/s]\n",
            "0it [00:00, ?it/s]"
          ],
          "name": "stderr"
        },
        {
          "output_type": "stream",
          "text": [
            "\n",
            "TRAINING\n",
            "Loss: 0.51  |  Accuracy: 0.78\n",
            "Precision: 0.25  |  Recall: 0.09  |  F1: 0.11\n",
            "Exec Time: 16s\n",
            "\n",
            "EVALUATING\n",
            "Loss: 0.46  |  Accuracy: 0.80\n",
            "Precision: 0.62  |  Recall: 0.16  |  F1: 0.24\n",
            "Exec Time: 3s\n",
            "\n",
            "==== Epoch 2 / 15 ====\n"
          ],
          "name": "stdout"
        },
        {
          "output_type": "stream",
          "text": [
            "60it [00:16,  3.70it/s]\n",
            "15it [00:03,  4.89it/s]\n",
            "0it [00:00, ?it/s]"
          ],
          "name": "stderr"
        },
        {
          "output_type": "stream",
          "text": [
            "\n",
            "TRAINING\n",
            "Loss: 0.41  |  Accuracy: 0.83\n",
            "Precision: 0.67  |  Recall: 0.36  |  F1: 0.44\n",
            "Exec Time: 16s\n",
            "\n",
            "EVALUATING\n",
            "Loss: 0.44  |  Accuracy: 0.82\n",
            "Precision: 0.60  |  Recall: 0.41  |  F1: 0.45\n",
            "Exec Time: 3s\n",
            "\n",
            "==== Epoch 3 / 15 ====\n"
          ],
          "name": "stdout"
        },
        {
          "output_type": "stream",
          "text": [
            "60it [00:16,  3.71it/s]\n",
            "15it [00:03,  4.87it/s]\n",
            "0it [00:00, ?it/s]"
          ],
          "name": "stderr"
        },
        {
          "output_type": "stream",
          "text": [
            "\n",
            "TRAINING\n",
            "Loss: 0.37  |  Accuracy: 0.84\n",
            "Precision: 0.70  |  Recall: 0.41  |  F1: 0.47\n",
            "Exec Time: 16s\n",
            "\n",
            "EVALUATING\n",
            "Loss: 0.45  |  Accuracy: 0.82\n",
            "Precision: 0.65  |  Recall: 0.41  |  F1: 0.49\n",
            "Exec Time: 3s\n",
            "\n",
            "==== Epoch 4 / 15 ====\n"
          ],
          "name": "stdout"
        },
        {
          "output_type": "stream",
          "text": [
            "60it [00:16,  3.74it/s]\n",
            "15it [00:03,  4.99it/s]\n",
            "0it [00:00, ?it/s]"
          ],
          "name": "stderr"
        },
        {
          "output_type": "stream",
          "text": [
            "\n",
            "TRAINING\n",
            "Loss: 0.34  |  Accuracy: 0.86\n",
            "Precision: 0.73  |  Recall: 0.60  |  F1: 0.64\n",
            "Exec Time: 16s\n",
            "\n",
            "EVALUATING\n",
            "Loss: 0.43  |  Accuracy: 0.82\n",
            "Precision: 0.61  |  Recall: 0.47  |  F1: 0.52\n",
            "Exec Time: 3s\n",
            "\n",
            "==== Epoch 5 / 15 ====\n"
          ],
          "name": "stdout"
        },
        {
          "output_type": "stream",
          "text": [
            "60it [00:15,  3.76it/s]\n",
            "15it [00:03,  4.99it/s]\n",
            "0it [00:00, ?it/s]"
          ],
          "name": "stderr"
        },
        {
          "output_type": "stream",
          "text": [
            "\n",
            "TRAINING\n",
            "Loss: 0.30  |  Accuracy: 0.88\n",
            "Precision: 0.76  |  Recall: 0.65  |  F1: 0.68\n",
            "Exec Time: 16s\n",
            "\n",
            "EVALUATING\n",
            "Loss: 0.49  |  Accuracy: 0.79\n",
            "Precision: 0.54  |  Recall: 0.52  |  F1: 0.50\n",
            "Exec Time: 3s\n",
            "\n",
            "==== Epoch 6 / 15 ====\n"
          ],
          "name": "stdout"
        },
        {
          "output_type": "stream",
          "text": [
            "60it [00:16,  3.66it/s]\n",
            "15it [00:03,  4.89it/s]\n",
            "0it [00:00, ?it/s]"
          ],
          "name": "stderr"
        },
        {
          "output_type": "stream",
          "text": [
            "\n",
            "TRAINING\n",
            "Loss: 0.26  |  Accuracy: 0.91\n",
            "Precision: 0.84  |  Recall: 0.72  |  F1: 0.75\n",
            "Exec Time: 16s\n",
            "\n",
            "EVALUATING\n",
            "Loss: 0.50  |  Accuracy: 0.82\n",
            "Precision: 0.59  |  Recall: 0.43  |  F1: 0.48\n",
            "Exec Time: 3s\n",
            "\n",
            "==== Epoch 7 / 15 ====\n"
          ],
          "name": "stdout"
        },
        {
          "output_type": "stream",
          "text": [
            "60it [00:16,  3.64it/s]\n",
            "15it [00:03,  4.96it/s]\n",
            "0it [00:00, ?it/s]"
          ],
          "name": "stderr"
        },
        {
          "output_type": "stream",
          "text": [
            "\n",
            "TRAINING\n",
            "Loss: 0.21  |  Accuracy: 0.92\n",
            "Precision: 0.87  |  Recall: 0.72  |  F1: 0.77\n",
            "Exec Time: 16s\n",
            "\n",
            "EVALUATING\n",
            "Loss: 0.52  |  Accuracy: 0.79\n",
            "Precision: 0.54  |  Recall: 0.50  |  F1: 0.49\n",
            "Exec Time: 3s\n",
            "\n",
            "==== Epoch 8 / 15 ====\n"
          ],
          "name": "stdout"
        },
        {
          "output_type": "stream",
          "text": [
            "60it [00:15,  3.75it/s]\n",
            "15it [00:03,  4.92it/s]\n",
            "1it [00:00,  5.27it/s]"
          ],
          "name": "stderr"
        },
        {
          "output_type": "stream",
          "text": [
            "\n",
            "TRAINING\n",
            "Loss: 0.14  |  Accuracy: 0.95\n",
            "Precision: 0.94  |  Recall: 0.85  |  F1: 0.88\n",
            "Exec Time: 16s\n",
            "\n",
            "EVALUATING\n",
            "Loss: 0.56  |  Accuracy: 0.79\n",
            "Precision: 0.53  |  Recall: 0.50  |  F1: 0.50\n",
            "Exec Time: 3s\n",
            "\n",
            "==== Epoch 9 / 15 ====\n"
          ],
          "name": "stdout"
        },
        {
          "output_type": "stream",
          "text": [
            "60it [00:16,  3.73it/s]\n",
            "15it [00:03,  4.87it/s]\n",
            "0it [00:00, ?it/s]"
          ],
          "name": "stderr"
        },
        {
          "output_type": "stream",
          "text": [
            "\n",
            "TRAINING\n",
            "Loss: 0.10  |  Accuracy: 0.97\n",
            "Precision: 0.97  |  Recall: 0.89  |  F1: 0.92\n",
            "Exec Time: 16s\n",
            "\n",
            "EVALUATING\n",
            "Loss: 0.66  |  Accuracy: 0.79\n",
            "Precision: 0.51  |  Recall: 0.45  |  F1: 0.47\n",
            "Exec Time: 3s\n",
            "\n",
            "==== Epoch 10 / 15 ====\n"
          ],
          "name": "stdout"
        },
        {
          "output_type": "stream",
          "text": [
            "60it [00:16,  3.70it/s]\n",
            "15it [00:03,  4.96it/s]\n",
            "0it [00:00, ?it/s]"
          ],
          "name": "stderr"
        },
        {
          "output_type": "stream",
          "text": [
            "\n",
            "TRAINING\n",
            "Loss: 0.08  |  Accuracy: 0.98\n",
            "Precision: 0.97  |  Recall: 0.94  |  F1: 0.95\n",
            "Exec Time: 16s\n",
            "\n",
            "EVALUATING\n",
            "Loss: 0.74  |  Accuracy: 0.81\n",
            "Precision: 0.59  |  Recall: 0.39  |  F1: 0.46\n",
            "Exec Time: 3s\n",
            "\n",
            "==== Epoch 11 / 15 ====\n"
          ],
          "name": "stdout"
        },
        {
          "output_type": "stream",
          "text": [
            "60it [00:16,  3.68it/s]\n",
            "15it [00:03,  4.96it/s]\n",
            "0it [00:00, ?it/s]"
          ],
          "name": "stderr"
        },
        {
          "output_type": "stream",
          "text": [
            "\n",
            "TRAINING\n",
            "Loss: 0.05  |  Accuracy: 0.98\n",
            "Precision: 0.98  |  Recall: 0.96  |  F1: 0.96\n",
            "Exec Time: 16s\n",
            "\n",
            "EVALUATING\n",
            "Loss: 0.71  |  Accuracy: 0.80\n",
            "Precision: 0.61  |  Recall: 0.44  |  F1: 0.49\n",
            "Exec Time: 3s\n",
            "\n",
            "==== Epoch 12 / 15 ====\n"
          ],
          "name": "stdout"
        },
        {
          "output_type": "stream",
          "text": [
            "60it [00:16,  3.67it/s]\n",
            "15it [00:02,  5.10it/s]\n",
            "0it [00:00, ?it/s]"
          ],
          "name": "stderr"
        },
        {
          "output_type": "stream",
          "text": [
            "\n",
            "TRAINING\n",
            "Loss: 0.04  |  Accuracy: 0.99\n",
            "Precision: 0.96  |  Recall: 0.95  |  F1: 0.95\n",
            "Exec Time: 16s\n",
            "\n",
            "EVALUATING\n",
            "Loss: 0.82  |  Accuracy: 0.80\n",
            "Precision: 0.58  |  Recall: 0.50  |  F1: 0.52\n",
            "Exec Time: 3s\n",
            "\n",
            "==== Epoch 13 / 15 ====\n"
          ],
          "name": "stdout"
        },
        {
          "output_type": "stream",
          "text": [
            "60it [00:16,  3.67it/s]\n",
            "15it [00:02,  5.07it/s]\n",
            "0it [00:00, ?it/s]"
          ],
          "name": "stderr"
        },
        {
          "output_type": "stream",
          "text": [
            "\n",
            "TRAINING\n",
            "Loss: 0.02  |  Accuracy: 1.00\n",
            "Precision: 1.00  |  Recall: 0.99  |  F1: 0.99\n",
            "Exec Time: 16s\n",
            "\n",
            "EVALUATING\n",
            "Loss: 0.92  |  Accuracy: 0.81\n",
            "Precision: 0.58  |  Recall: 0.45  |  F1: 0.49\n",
            "Exec Time: 3s\n",
            "\n",
            "==== Epoch 14 / 15 ====\n"
          ],
          "name": "stdout"
        },
        {
          "output_type": "stream",
          "text": [
            "60it [00:16,  3.74it/s]\n",
            "15it [00:02,  5.03it/s]\n",
            "1it [00:00,  5.04it/s]"
          ],
          "name": "stderr"
        },
        {
          "output_type": "stream",
          "text": [
            "\n",
            "TRAINING\n",
            "Loss: 0.01  |  Accuracy: 1.00\n",
            "Precision: 0.98  |  Recall: 0.98  |  F1: 0.98\n",
            "Exec Time: 16s\n",
            "\n",
            "EVALUATING\n",
            "Loss: 1.01  |  Accuracy: 0.80\n",
            "Precision: 0.57  |  Recall: 0.52  |  F1: 0.53\n",
            "Exec Time: 3s\n",
            "\n",
            "==== Epoch 15 / 15 ====\n"
          ],
          "name": "stdout"
        },
        {
          "output_type": "stream",
          "text": [
            "60it [00:16,  3.64it/s]\n",
            "15it [00:03,  4.95it/s]\n",
            "0it [00:00, ?it/s]"
          ],
          "name": "stderr"
        },
        {
          "output_type": "stream",
          "text": [
            "\n",
            "TRAINING\n",
            "Loss: 0.01  |  Accuracy: 1.00\n",
            "Precision: 1.00  |  Recall: 1.00  |  F1: 1.00\n",
            "Exec Time: 17s\n",
            "\n",
            "EVALUATING\n",
            "Loss: 1.08  |  Accuracy: 0.81\n",
            "Precision: 0.57  |  Recall: 0.48  |  F1: 0.49\n",
            "Exec Time: 3s\n",
            "\n",
            "==== KFold 4 / 5 ====\n",
            "\n",
            "==== Epoch 1 / 15 ====\n"
          ],
          "name": "stdout"
        },
        {
          "output_type": "stream",
          "text": [
            "60it [00:17,  3.52it/s]\n",
            "15it [00:02,  5.79it/s]\n",
            "0it [00:00, ?it/s]"
          ],
          "name": "stderr"
        },
        {
          "output_type": "stream",
          "text": [
            "\n",
            "TRAINING\n",
            "Loss: 0.51  |  Accuracy: 0.78\n",
            "Precision: 0.22  |  Recall: 0.06  |  F1: 0.08\n",
            "Exec Time: 17s\n",
            "\n",
            "EVALUATING\n",
            "Loss: 0.51  |  Accuracy: 0.80\n",
            "Precision: 0.51  |  Recall: 0.28  |  F1: 0.35\n",
            "Exec Time: 3s\n",
            "\n",
            "==== Epoch 2 / 15 ====\n"
          ],
          "name": "stdout"
        },
        {
          "output_type": "stream",
          "text": [
            "60it [00:17,  3.50it/s]\n",
            "15it [00:02,  5.71it/s]\n",
            "0it [00:00, ?it/s]"
          ],
          "name": "stderr"
        },
        {
          "output_type": "stream",
          "text": [
            "\n",
            "TRAINING\n",
            "Loss: 0.42  |  Accuracy: 0.82\n",
            "Precision: 0.68  |  Recall: 0.42  |  F1: 0.47\n",
            "Exec Time: 17s\n",
            "\n",
            "EVALUATING\n",
            "Loss: 0.40  |  Accuracy: 0.82\n",
            "Precision: 0.59  |  Recall: 0.59  |  F1: 0.58\n",
            "Exec Time: 3s\n",
            "\n",
            "==== Epoch 3 / 15 ====\n"
          ],
          "name": "stdout"
        },
        {
          "output_type": "stream",
          "text": [
            "60it [00:17,  3.48it/s]\n",
            "15it [00:02,  6.03it/s]\n",
            "0it [00:00, ?it/s]"
          ],
          "name": "stderr"
        },
        {
          "output_type": "stream",
          "text": [
            "\n",
            "TRAINING\n",
            "Loss: 0.45  |  Accuracy: 0.81\n",
            "Precision: 0.40  |  Recall: 0.35  |  F1: 0.35\n",
            "Exec Time: 17s\n",
            "\n",
            "EVALUATING\n",
            "Loss: 0.50  |  Accuracy: 0.78\n",
            "Precision: 0.20  |  Recall: 0.03  |  F1: 0.04\n",
            "Exec Time: 2s\n",
            "\n",
            "==== Epoch 4 / 15 ====\n"
          ],
          "name": "stdout"
        },
        {
          "output_type": "stream",
          "text": [
            "60it [00:17,  3.47it/s]\n",
            "15it [00:02,  6.01it/s]\n",
            "1it [00:00,  6.27it/s]"
          ],
          "name": "stderr"
        },
        {
          "output_type": "stream",
          "text": [
            "\n",
            "TRAINING\n",
            "Loss: 0.39  |  Accuracy: 0.83\n",
            "Precision: 0.63  |  Recall: 0.45  |  F1: 0.49\n",
            "Exec Time: 17s\n",
            "\n",
            "EVALUATING\n",
            "Loss: 0.41  |  Accuracy: 0.83\n",
            "Precision: 0.72  |  Recall: 0.45  |  F1: 0.52\n",
            "Exec Time: 3s\n",
            "\n",
            "==== Epoch 5 / 15 ====\n"
          ],
          "name": "stdout"
        },
        {
          "output_type": "stream",
          "text": [
            "60it [00:17,  3.53it/s]\n",
            "15it [00:02,  5.89it/s]\n",
            "0it [00:00, ?it/s]"
          ],
          "name": "stderr"
        },
        {
          "output_type": "stream",
          "text": [
            "\n",
            "TRAINING\n",
            "Loss: 0.32  |  Accuracy: 0.86\n",
            "Precision: 0.73  |  Recall: 0.62  |  F1: 0.64\n",
            "Exec Time: 17s\n",
            "\n",
            "EVALUATING\n",
            "Loss: 0.41  |  Accuracy: 0.82\n",
            "Precision: 0.55  |  Recall: 0.50  |  F1: 0.50\n",
            "Exec Time: 3s\n",
            "\n",
            "==== Epoch 6 / 15 ====\n"
          ],
          "name": "stdout"
        },
        {
          "output_type": "stream",
          "text": [
            "60it [00:16,  3.56it/s]\n",
            "15it [00:02,  6.05it/s]\n",
            "0it [00:00, ?it/s]"
          ],
          "name": "stderr"
        },
        {
          "output_type": "stream",
          "text": [
            "\n",
            "TRAINING\n",
            "Loss: 0.29  |  Accuracy: 0.89\n",
            "Precision: 0.81  |  Recall: 0.69  |  F1: 0.72\n",
            "Exec Time: 17s\n",
            "\n",
            "EVALUATING\n",
            "Loss: 0.44  |  Accuracy: 0.84\n",
            "Precision: 0.76  |  Recall: 0.39  |  F1: 0.46\n",
            "Exec Time: 2s\n",
            "\n",
            "==== Epoch 7 / 15 ====\n"
          ],
          "name": "stdout"
        },
        {
          "output_type": "stream",
          "text": [
            "60it [00:16,  3.54it/s]\n",
            "15it [00:02,  5.88it/s]\n",
            "0it [00:00, ?it/s]"
          ],
          "name": "stderr"
        },
        {
          "output_type": "stream",
          "text": [
            "\n",
            "TRAINING\n",
            "Loss: 0.27  |  Accuracy: 0.90\n",
            "Precision: 0.84  |  Recall: 0.65  |  F1: 0.72\n",
            "Exec Time: 17s\n",
            "\n",
            "EVALUATING\n",
            "Loss: 0.44  |  Accuracy: 0.81\n",
            "Precision: 0.59  |  Recall: 0.59  |  F1: 0.57\n",
            "Exec Time: 3s\n",
            "\n",
            "==== Epoch 8 / 15 ====\n"
          ],
          "name": "stdout"
        },
        {
          "output_type": "stream",
          "text": [
            "60it [00:17,  3.43it/s]\n",
            "15it [00:02,  6.08it/s]\n",
            "0it [00:00, ?it/s]"
          ],
          "name": "stderr"
        },
        {
          "output_type": "stream",
          "text": [
            "\n",
            "TRAINING\n",
            "Loss: 0.22  |  Accuracy: 0.92\n",
            "Precision: 0.87  |  Recall: 0.73  |  F1: 0.78\n",
            "Exec Time: 17s\n",
            "\n",
            "EVALUATING\n",
            "Loss: 0.46  |  Accuracy: 0.80\n",
            "Precision: 0.55  |  Recall: 0.41  |  F1: 0.43\n",
            "Exec Time: 2s\n",
            "\n",
            "==== Epoch 9 / 15 ====\n"
          ],
          "name": "stdout"
        },
        {
          "output_type": "stream",
          "text": [
            "60it [00:16,  3.53it/s]\n",
            "15it [00:02,  5.95it/s]\n",
            "0it [00:00, ?it/s]"
          ],
          "name": "stderr"
        },
        {
          "output_type": "stream",
          "text": [
            "\n",
            "TRAINING\n",
            "Loss: 0.18  |  Accuracy: 0.93\n",
            "Precision: 0.91  |  Recall: 0.79  |  F1: 0.83\n",
            "Exec Time: 17s\n",
            "\n",
            "EVALUATING\n",
            "Loss: 0.52  |  Accuracy: 0.77\n",
            "Precision: 0.51  |  Recall: 0.47  |  F1: 0.46\n",
            "Exec Time: 3s\n",
            "\n",
            "==== Epoch 10 / 15 ====\n"
          ],
          "name": "stdout"
        },
        {
          "output_type": "stream",
          "text": [
            "60it [00:17,  3.50it/s]\n",
            "15it [00:02,  6.02it/s]\n",
            "0it [00:00, ?it/s]"
          ],
          "name": "stderr"
        },
        {
          "output_type": "stream",
          "text": [
            "\n",
            "TRAINING\n",
            "Loss: 0.12  |  Accuracy: 0.96\n",
            "Precision: 0.95  |  Recall: 0.87  |  F1: 0.90\n",
            "Exec Time: 17s\n",
            "\n",
            "EVALUATING\n",
            "Loss: 0.53  |  Accuracy: 0.79\n",
            "Precision: 0.52  |  Recall: 0.39  |  F1: 0.43\n",
            "Exec Time: 2s\n",
            "\n",
            "==== Epoch 11 / 15 ====\n"
          ],
          "name": "stdout"
        },
        {
          "output_type": "stream",
          "text": [
            "60it [00:17,  3.49it/s]\n",
            "15it [00:02,  5.95it/s]\n",
            "0it [00:00, ?it/s]"
          ],
          "name": "stderr"
        },
        {
          "output_type": "stream",
          "text": [
            "\n",
            "TRAINING\n",
            "Loss: 0.07  |  Accuracy: 0.98\n",
            "Precision: 0.98  |  Recall: 0.94  |  F1: 0.96\n",
            "Exec Time: 17s\n",
            "\n",
            "EVALUATING\n",
            "Loss: 0.60  |  Accuracy: 0.79\n",
            "Precision: 0.53  |  Recall: 0.44  |  F1: 0.48\n",
            "Exec Time: 3s\n",
            "\n",
            "==== Epoch 12 / 15 ====\n"
          ],
          "name": "stdout"
        },
        {
          "output_type": "stream",
          "text": [
            "60it [00:17,  3.53it/s]\n",
            "15it [00:02,  6.03it/s]\n",
            "0it [00:00, ?it/s]"
          ],
          "name": "stderr"
        },
        {
          "output_type": "stream",
          "text": [
            "\n",
            "TRAINING\n",
            "Loss: 0.06  |  Accuracy: 0.98\n",
            "Precision: 0.95  |  Recall: 0.94  |  F1: 0.94\n",
            "Exec Time: 17s\n",
            "\n",
            "EVALUATING\n",
            "Loss: 0.68  |  Accuracy: 0.81\n",
            "Precision: 0.63  |  Recall: 0.41  |  F1: 0.47\n",
            "Exec Time: 2s\n",
            "\n",
            "==== Epoch 13 / 15 ====\n"
          ],
          "name": "stdout"
        },
        {
          "output_type": "stream",
          "text": [
            "60it [00:17,  3.46it/s]\n",
            "15it [00:02,  6.02it/s]\n",
            "0it [00:00, ?it/s]"
          ],
          "name": "stderr"
        },
        {
          "output_type": "stream",
          "text": [
            "\n",
            "TRAINING\n",
            "Loss: 0.03  |  Accuracy: 0.99\n",
            "Precision: 0.98  |  Recall: 0.96  |  F1: 0.97\n",
            "Exec Time: 17s\n",
            "\n",
            "EVALUATING\n",
            "Loss: 0.77  |  Accuracy: 0.80\n",
            "Precision: 0.58  |  Recall: 0.47  |  F1: 0.50\n",
            "Exec Time: 2s\n",
            "\n",
            "==== Epoch 14 / 15 ====\n"
          ],
          "name": "stdout"
        },
        {
          "output_type": "stream",
          "text": [
            "60it [00:17,  3.50it/s]\n",
            "15it [00:02,  5.96it/s]\n",
            "0it [00:00, ?it/s]"
          ],
          "name": "stderr"
        },
        {
          "output_type": "stream",
          "text": [
            "\n",
            "TRAINING\n",
            "Loss: 0.02  |  Accuracy: 1.00\n",
            "Precision: 0.99  |  Recall: 0.99  |  F1: 0.99\n",
            "Exec Time: 17s\n",
            "\n",
            "EVALUATING\n",
            "Loss: 0.91  |  Accuracy: 0.78\n",
            "Precision: 0.42  |  Recall: 0.24  |  F1: 0.30\n",
            "Exec Time: 3s\n",
            "\n",
            "==== Epoch 15 / 15 ====\n"
          ],
          "name": "stdout"
        },
        {
          "output_type": "stream",
          "text": [
            "60it [00:16,  3.55it/s]\n",
            "15it [00:02,  5.95it/s]\n",
            "0it [00:00, ?it/s]"
          ],
          "name": "stderr"
        },
        {
          "output_type": "stream",
          "text": [
            "\n",
            "TRAINING\n",
            "Loss: 0.07  |  Accuracy: 0.98\n",
            "Precision: 0.95  |  Recall: 0.93  |  F1: 0.94\n",
            "Exec Time: 17s\n",
            "\n",
            "EVALUATING\n",
            "Loss: 0.76  |  Accuracy: 0.82\n",
            "Precision: 0.61  |  Recall: 0.44  |  F1: 0.49\n",
            "Exec Time: 3s\n",
            "\n",
            "==== KFold 5 / 5 ====\n",
            "\n",
            "==== Epoch 1 / 15 ====\n"
          ],
          "name": "stdout"
        },
        {
          "output_type": "stream",
          "text": [
            "60it [00:17,  3.49it/s]\n",
            "15it [00:02,  5.42it/s]\n",
            "0it [00:00, ?it/s]"
          ],
          "name": "stderr"
        },
        {
          "output_type": "stream",
          "text": [
            "\n",
            "TRAINING\n",
            "Loss: 0.53  |  Accuracy: 0.78\n",
            "Precision: 0.24  |  Recall: 0.05  |  F1: 0.06\n",
            "Exec Time: 17s\n",
            "\n",
            "EVALUATING\n",
            "Loss: 0.45  |  Accuracy: 0.78\n",
            "Precision: 0.47  |  Recall: 0.08  |  F1: 0.13\n",
            "Exec Time: 3s\n",
            "\n",
            "==== Epoch 2 / 15 ====\n"
          ],
          "name": "stdout"
        },
        {
          "output_type": "stream",
          "text": [
            "60it [00:16,  3.61it/s]\n",
            "15it [00:02,  5.61it/s]\n",
            "0it [00:00, ?it/s]"
          ],
          "name": "stderr"
        },
        {
          "output_type": "stream",
          "text": [
            "\n",
            "TRAINING\n",
            "Loss: 0.42  |  Accuracy: 0.82\n",
            "Precision: 0.65  |  Recall: 0.31  |  F1: 0.39\n",
            "Exec Time: 17s\n",
            "\n",
            "EVALUATING\n",
            "Loss: 0.45  |  Accuracy: 0.82\n",
            "Precision: 0.69  |  Recall: 0.31  |  F1: 0.37\n",
            "Exec Time: 3s\n",
            "\n",
            "==== Epoch 3 / 15 ====\n"
          ],
          "name": "stdout"
        },
        {
          "output_type": "stream",
          "text": [
            "60it [00:16,  3.54it/s]\n",
            "15it [00:02,  5.51it/s]\n",
            "0it [00:00, ?it/s]"
          ],
          "name": "stderr"
        },
        {
          "output_type": "stream",
          "text": [
            "\n",
            "TRAINING\n",
            "Loss: 0.37  |  Accuracy: 0.84\n",
            "Precision: 0.70  |  Recall: 0.52  |  F1: 0.57\n",
            "Exec Time: 17s\n",
            "\n",
            "EVALUATING\n",
            "Loss: 0.38  |  Accuracy: 0.84\n",
            "Precision: 0.61  |  Recall: 0.66  |  F1: 0.61\n",
            "Exec Time: 3s\n",
            "\n",
            "==== Epoch 4 / 15 ====\n"
          ],
          "name": "stdout"
        },
        {
          "output_type": "stream",
          "text": [
            "60it [00:16,  3.55it/s]\n",
            "15it [00:02,  5.49it/s]\n",
            "0it [00:00, ?it/s]"
          ],
          "name": "stderr"
        },
        {
          "output_type": "stream",
          "text": [
            "\n",
            "TRAINING\n",
            "Loss: 0.33  |  Accuracy: 0.86\n",
            "Precision: 0.75  |  Recall: 0.58  |  F1: 0.62\n",
            "Exec Time: 17s\n",
            "\n",
            "EVALUATING\n",
            "Loss: 0.39  |  Accuracy: 0.83\n",
            "Precision: 0.61  |  Recall: 0.66  |  F1: 0.62\n",
            "Exec Time: 3s\n",
            "\n",
            "==== Epoch 5 / 15 ====\n"
          ],
          "name": "stdout"
        },
        {
          "output_type": "stream",
          "text": [
            "60it [00:17,  3.52it/s]\n",
            "15it [00:02,  5.41it/s]\n",
            "0it [00:00, ?it/s]"
          ],
          "name": "stderr"
        },
        {
          "output_type": "stream",
          "text": [
            "\n",
            "TRAINING\n",
            "Loss: 0.29  |  Accuracy: 0.89\n",
            "Precision: 0.78  |  Recall: 0.69  |  F1: 0.71\n",
            "Exec Time: 17s\n",
            "\n",
            "EVALUATING\n",
            "Loss: 0.42  |  Accuracy: 0.83\n",
            "Precision: 0.60  |  Recall: 0.40  |  F1: 0.46\n",
            "Exec Time: 3s\n",
            "\n",
            "==== Epoch 6 / 15 ====\n"
          ],
          "name": "stdout"
        },
        {
          "output_type": "stream",
          "text": [
            "60it [00:16,  3.54it/s]\n",
            "15it [00:02,  5.57it/s]\n",
            "0it [00:00, ?it/s]"
          ],
          "name": "stderr"
        },
        {
          "output_type": "stream",
          "text": [
            "\n",
            "TRAINING\n",
            "Loss: 0.33  |  Accuracy: 0.86\n",
            "Precision: 0.76  |  Recall: 0.62  |  F1: 0.63\n",
            "Exec Time: 17s\n",
            "\n",
            "EVALUATING\n",
            "Loss: 0.49  |  Accuracy: 0.81\n",
            "Precision: 0.60  |  Recall: 0.27  |  F1: 0.36\n",
            "Exec Time: 3s\n",
            "\n",
            "==== Epoch 7 / 15 ====\n"
          ],
          "name": "stdout"
        },
        {
          "output_type": "stream",
          "text": [
            "60it [00:16,  3.55it/s]\n",
            "15it [00:02,  5.47it/s]\n",
            "0it [00:00, ?it/s]"
          ],
          "name": "stderr"
        },
        {
          "output_type": "stream",
          "text": [
            "\n",
            "TRAINING\n",
            "Loss: 0.28  |  Accuracy: 0.89\n",
            "Precision: 0.84  |  Recall: 0.62  |  F1: 0.69\n",
            "Exec Time: 17s\n",
            "\n",
            "EVALUATING\n",
            "Loss: 0.43  |  Accuracy: 0.82\n",
            "Precision: 0.61  |  Recall: 0.62  |  F1: 0.60\n",
            "Exec Time: 3s\n",
            "\n",
            "==== Epoch 8 / 15 ====\n"
          ],
          "name": "stdout"
        },
        {
          "output_type": "stream",
          "text": [
            "60it [00:16,  3.59it/s]\n",
            "15it [00:02,  5.48it/s]\n",
            "0it [00:00, ?it/s]"
          ],
          "name": "stderr"
        },
        {
          "output_type": "stream",
          "text": [
            "\n",
            "TRAINING\n",
            "Loss: 0.20  |  Accuracy: 0.93\n",
            "Precision: 0.87  |  Recall: 0.77  |  F1: 0.80\n",
            "Exec Time: 17s\n",
            "\n",
            "EVALUATING\n",
            "Loss: 0.47  |  Accuracy: 0.82\n",
            "Precision: 0.63  |  Recall: 0.47  |  F1: 0.50\n",
            "Exec Time: 3s\n",
            "\n",
            "==== Epoch 9 / 15 ====\n"
          ],
          "name": "stdout"
        },
        {
          "output_type": "stream",
          "text": [
            "60it [00:16,  3.57it/s]\n",
            "15it [00:02,  5.41it/s]\n",
            "0it [00:00, ?it/s]"
          ],
          "name": "stderr"
        },
        {
          "output_type": "stream",
          "text": [
            "\n",
            "TRAINING\n",
            "Loss: 0.16  |  Accuracy: 0.95\n",
            "Precision: 0.92  |  Recall: 0.84  |  F1: 0.86\n",
            "Exec Time: 17s\n",
            "\n",
            "EVALUATING\n",
            "Loss: 0.55  |  Accuracy: 0.79\n",
            "Precision: 0.52  |  Recall: 0.65  |  F1: 0.57\n",
            "Exec Time: 3s\n",
            "\n",
            "==== Epoch 10 / 15 ====\n"
          ],
          "name": "stdout"
        },
        {
          "output_type": "stream",
          "text": [
            "60it [00:16,  3.56it/s]\n",
            "15it [00:02,  5.54it/s]\n",
            "0it [00:00, ?it/s]"
          ],
          "name": "stderr"
        },
        {
          "output_type": "stream",
          "text": [
            "\n",
            "TRAINING\n",
            "Loss: 0.10  |  Accuracy: 0.97\n",
            "Precision: 0.96  |  Recall: 0.92  |  F1: 0.93\n",
            "Exec Time: 17s\n",
            "\n",
            "EVALUATING\n",
            "Loss: 0.58  |  Accuracy: 0.81\n",
            "Precision: 0.54  |  Recall: 0.47  |  F1: 0.48\n",
            "Exec Time: 3s\n",
            "\n",
            "==== Epoch 11 / 15 ====\n"
          ],
          "name": "stdout"
        },
        {
          "output_type": "stream",
          "text": [
            "60it [00:16,  3.62it/s]\n",
            "15it [00:02,  5.55it/s]\n",
            "0it [00:00, ?it/s]"
          ],
          "name": "stderr"
        },
        {
          "output_type": "stream",
          "text": [
            "\n",
            "TRAINING\n",
            "Loss: 0.06  |  Accuracy: 0.98\n",
            "Precision: 0.98  |  Recall: 0.95  |  F1: 0.96\n",
            "Exec Time: 17s\n",
            "\n",
            "EVALUATING\n",
            "Loss: 0.67  |  Accuracy: 0.81\n",
            "Precision: 0.57  |  Recall: 0.50  |  F1: 0.52\n",
            "Exec Time: 3s\n",
            "\n",
            "==== Epoch 12 / 15 ====\n"
          ],
          "name": "stdout"
        },
        {
          "output_type": "stream",
          "text": [
            "60it [00:16,  3.57it/s]\n",
            "15it [00:02,  5.56it/s]\n",
            "0it [00:00, ?it/s]"
          ],
          "name": "stderr"
        },
        {
          "output_type": "stream",
          "text": [
            "\n",
            "TRAINING\n",
            "Loss: 0.03  |  Accuracy: 1.00\n",
            "Precision: 1.00  |  Recall: 0.98  |  F1: 0.99\n",
            "Exec Time: 17s\n",
            "\n",
            "EVALUATING\n",
            "Loss: 0.75  |  Accuracy: 0.81\n",
            "Precision: 0.55  |  Recall: 0.50  |  F1: 0.51\n",
            "Exec Time: 3s\n",
            "\n",
            "==== Epoch 13 / 15 ====\n"
          ],
          "name": "stdout"
        },
        {
          "output_type": "stream",
          "text": [
            "60it [00:16,  3.56it/s]\n",
            "15it [00:02,  5.50it/s]\n",
            "0it [00:00, ?it/s]"
          ],
          "name": "stderr"
        },
        {
          "output_type": "stream",
          "text": [
            "\n",
            "TRAINING\n",
            "Loss: 0.02  |  Accuracy: 1.00\n",
            "Precision: 1.00  |  Recall: 0.99  |  F1: 0.99\n",
            "Exec Time: 17s\n",
            "\n",
            "EVALUATING\n",
            "Loss: 0.81  |  Accuracy: 0.78\n",
            "Precision: 0.50  |  Recall: 0.52  |  F1: 0.50\n",
            "Exec Time: 3s\n",
            "\n",
            "==== Epoch 14 / 15 ====\n"
          ],
          "name": "stdout"
        },
        {
          "output_type": "stream",
          "text": [
            "60it [00:16,  3.56it/s]\n",
            "15it [00:02,  5.55it/s]\n",
            "0it [00:00, ?it/s]"
          ],
          "name": "stderr"
        },
        {
          "output_type": "stream",
          "text": [
            "\n",
            "TRAINING\n",
            "Loss: 0.01  |  Accuracy: 1.00\n",
            "Precision: 1.00  |  Recall: 1.00  |  F1: 1.00\n",
            "Exec Time: 17s\n",
            "\n",
            "EVALUATING\n",
            "Loss: 0.87  |  Accuracy: 0.80\n",
            "Precision: 0.49  |  Recall: 0.48  |  F1: 0.48\n",
            "Exec Time: 3s\n",
            "\n",
            "==== Epoch 15 / 15 ====\n"
          ],
          "name": "stdout"
        },
        {
          "output_type": "stream",
          "text": [
            "60it [00:16,  3.55it/s]\n",
            "15it [00:02,  5.48it/s]"
          ],
          "name": "stderr"
        },
        {
          "output_type": "stream",
          "text": [
            "\n",
            "TRAINING\n",
            "Loss: 0.01  |  Accuracy: 1.00\n",
            "Precision: 1.00  |  Recall: 1.00  |  F1: 1.00\n",
            "Exec Time: 17s\n",
            "\n",
            "EVALUATING\n",
            "Loss: 0.93  |  Accuracy: 0.79\n",
            "Precision: 0.55  |  Recall: 0.53  |  F1: 0.51\n",
            "Exec Time: 3s\n",
            "Training complete!\n",
            "Total training took 0:24:31 (h:mm:ss)\n"
          ],
          "name": "stdout"
        },
        {
          "output_type": "stream",
          "text": [
            "\n"
          ],
          "name": "stderr"
        }
      ]
    },
    {
      "cell_type": "code",
      "metadata": {
        "id": "78N0hKk9Se8F"
      },
      "source": [
        "def df_stats(training_stats):\r\n",
        "    # Create a DataFrame from our training statistics.\r\n",
        "    df = pd.DataFrame(data=training_stats)\r\n",
        "    # Use the 'epoch' as the row index.\r\n",
        "    df = df.set_index('Epoch')\r\n",
        "    return df"
      ],
      "execution_count": 24,
      "outputs": []
    },
    {
      "cell_type": "code",
      "metadata": {
        "id": "1UsU98KfwfQo"
      },
      "source": [
        "def plot_learning_curve(stats, train_metric, val_metric):\r\n",
        "    sns.set(style='darkgrid')\r\n",
        "    a = 2  # number of rows\r\n",
        "    b = 3  # number of columns\r\n",
        "    c = 1  # initialize plot counter\r\n",
        "\r\n",
        "    fig = plt.figure(figsize=(16,10))\r\n",
        "\r\n",
        "    for i in stats:\r\n",
        "        plt.subplot(a, b, c)\r\n",
        "        # Plot the learning curve.\r\n",
        "        plt.plot(i[train_metric], 'b-o', label=\"Training\")\r\n",
        "        plt.plot(i[val_metric], 'g-o', label=\"Validation\")\r\n",
        "        plt.title(f\"{train_metric} VS {val_metric}\")\r\n",
        "        plt.xlabel('Epoch')\r\n",
        "        plt.legend()\r\n",
        "        plt.xticks(np.arange(1, epochs))\r\n",
        "        c = c + 1\r\n",
        "\r\n",
        "    plt.show()"
      ],
      "execution_count": 25,
      "outputs": []
    },
    {
      "cell_type": "markdown",
      "metadata": {
        "id": "8dY8ZwKDbAGz"
      },
      "source": [
        "## Show"
      ]
    },
    {
      "cell_type": "code",
      "metadata": {
        "id": "ZrKM27wwbBlD"
      },
      "source": [
        "stats = []\r\n",
        "for log_metric in kfold_stats:\r\n",
        "    stats.append(df_stats(log_metric))"
      ],
      "execution_count": 26,
      "outputs": []
    },
    {
      "cell_type": "code",
      "metadata": {
        "colab": {
          "base_uri": "https://localhost:8080/",
          "height": 627
        },
        "id": "A0wQsw8Tbx2O",
        "outputId": "bed99b90-bb61-4e57-941d-8adb1a9e3293"
      },
      "source": [
        "plot_learning_curve(stats, 'Training Loss', 'Validation Loss')"
      ],
      "execution_count": 27,
      "outputs": [
        {
          "output_type": "display_data",
          "data": {
            "image/png": "[encoded data removed]",
            "text/plain": [
              "<Figure size 1152x720 with 5 Axes>"
            ]
          },
          "metadata": {
            "tags": []
          }
        }
      ]
    },
    {
      "cell_type": "code",
      "metadata": {
        "colab": {
          "base_uri": "https://localhost:8080/",
          "height": 627
        },
        "id": "-mi-2XBuw9f4",
        "outputId": "003f8415-ca62-4a0f-8d6c-d01b1fefc879"
      },
      "source": [
        "plot_learning_curve(stats, 'Training Precision', 'Validation Precision')"
      ],
      "execution_count": 28,
      "outputs": [
        {
          "output_type": "display_data",
          "data": {
            "image/png": "[encoded data removed]",
            "text/plain": [
              "<Figure size 1152x720 with 5 Axes>"
            ]
          },
          "metadata": {
            "tags": []
          }
        }
      ]
    },
    {
      "cell_type": "code",
      "metadata": {
        "colab": {
          "base_uri": "https://localhost:8080/",
          "height": 627
        },
        "id": "UPV_flKuxeWE",
        "outputId": "8bfb94e0-5a09-479d-f77d-b3f99b39c3fa"
      },
      "source": [
        "plot_learning_curve(stats, 'Training F1', 'Validation F1')"
      ],
      "execution_count": 29,
      "outputs": [
        {
          "output_type": "display_data",
          "data": {
            "image/png": "[encoded data removed]",
            "text/plain": [
              "<Figure size 1152x720 with 5 Axes>"
            ]
          },
          "metadata": {
            "tags": []
          }
        }
      ]
    },
    {
      "cell_type": "markdown",
      "metadata": {
        "id": "2TzQCuAibP7Y"
      },
      "source": [
        "## Save model"
      ]
    },
    {
      "cell_type": "code",
      "metadata": {
        "colab": {
          "base_uri": "https://localhost:8080/"
        },
        "id": "mAU6tCD8w2vH",
        "outputId": "9b081d70-9aa2-4fba-957f-7e25c2e19f62"
      },
      "source": [
        "print(\"Saving model to %s\" % workdir_path)\r\n",
        "torch.save(model.state_dict(), workdir_path+\"buzzer_clf.pt\")"
      ],
      "execution_count": 30,
      "outputs": [
        {
          "output_type": "stream",
          "text": [
            "Saving model to drive/My Drive/jakarta research/adi-buzzer/\n"
          ],
          "name": "stdout"
        }
      ]
    },
    {
      "cell_type": "markdown",
      "metadata": {
        "id": "YqASoPun_uFQ"
      },
      "source": [
        "## Testing data"
      ]
    },
    {
      "cell_type": "code",
      "metadata": {
        "id": "oT38QOVl2JnT",
        "colab": {
          "base_uri": "https://localhost:8080/"
        },
        "outputId": "abf27cf6-45bb-486f-96a1-dffe6bb16078"
      },
      "source": [
        "epoch_test_loss, epoch_test_acc, epoch_test_pre, epoch_test_rec, epoch_test_f1, test_time = eval_model(model, test_dataloader)\r\n",
        "\r\n",
        "print(\"\\nTESTING\")\r\n",
        "print(f\"Loss: {epoch_test_loss:.2f}  |  Accuracy: {epoch_test_acc:.2f}\")\r\n",
        "print(f\"Precision: {epoch_test_pre:.2f}  |  Recall: {epoch_test_rec:.2f}  |  F1: {epoch_test_f1:.2f}\")\r\n",
        "print(f\"Exec Time: {round(test_time)}s\")"
      ],
      "execution_count": 31,
      "outputs": [
        {
          "output_type": "stream",
          "text": [
            "19it [00:03,  6.06it/s]"
          ],
          "name": "stderr"
        },
        {
          "output_type": "stream",
          "text": [
            "\n",
            "TESTING\n",
            "Loss: 0.95  |  Accuracy: 0.80\n",
            "Precision: 0.54  |  Recall: 0.47  |  F1: 0.49\n",
            "Exec Time: 3s\n"
          ],
          "name": "stdout"
        },
        {
          "output_type": "stream",
          "text": [
            "\n"
          ],
          "name": "stderr"
        }
      ]
    },
    {
      "cell_type": "code",
      "metadata": {
        "colab": {
          "base_uri": "https://localhost:8080/"
        },
        "id": "diXUliXZcITD",
        "outputId": "ec07fab4-81c3-4c9a-972c-bdc40ba4c2e8"
      },
      "source": [
        "test_dataloader.dataset.label.value_counts()"
      ],
      "execution_count": 32,
      "outputs": [
        {
          "output_type": "execute_result",
          "data": {
            "text/plain": [
              "0    463\n",
              "1    130\n",
              "Name: buzzer, dtype: int64"
            ]
          },
          "metadata": {
            "tags": []
          },
          "execution_count": 32
        }
      ]
    },
    {
      "cell_type": "code",
      "metadata": {
        "id": "c59D3jpycziE"
      },
      "source": [
        ""
      ],
      "execution_count": 32,
      "outputs": []
    }
  ]
}