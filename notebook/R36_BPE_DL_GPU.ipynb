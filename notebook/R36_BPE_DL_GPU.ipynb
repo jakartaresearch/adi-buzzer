{
  "nbformat": 4,
  "nbformat_minor": 0,
  "metadata": {
    "kernelspec": {
      "display_name": "base",
      "language": "python",
      "name": "base"
    },
    "language_info": {
      "codemirror_mode": {
        "name": "ipython",
        "version": 3
      },
      "file_extension": ".py",
      "mimetype": "text/x-python",
      "name": "python",
      "nbconvert_exporter": "python",
      "pygments_lexer": "ipython3",
      "version": "3.8.3"
    },
    "colab": {
      "name": "R36_BPE_DL_GPU.ipynb",
      "provenance": [],
      "collapsed_sections": [],
      "include_colab_link": true
    },
    "accelerator": "GPU"
  },
  "cells": [
    {
      "cell_type": "markdown",
      "metadata": {
        "id": "view-in-github",
        "colab_type": "text"
      },
      "source": [
        "<a href=\"https://colab.research.google.com/github/jakartaresearch/adi-buzzer/blob/dev/notebook/R36_BPE_DL_GPU.ipynb\" target=\"_parent\"><img src=\"https://colab.research.google.com/assets/colab-badge.svg\" alt=\"Open In Colab\"/></a>"
      ]
    },
    {
      "cell_type": "code",
      "metadata": {
        "colab": {
          "base_uri": "https://localhost:8080/"
        },
        "id": "W13iqZyFl-Fh",
        "outputId": "7edb329a-315b-4326-e4cd-755b2092892d"
      },
      "source": [
        "# memory footprint support libraries/code\r\n",
        "!ln -sf /opt/bin/nvidia-smi /usr/bin/nvidia-smi\r\n",
        "!pip install gputil --q\r\n",
        "!pip install psutil --q\r\n",
        "!pip install humanize --q\r\n",
        "\r\n",
        "import psutil\r\n",
        "import humanize\r\n",
        "import os\r\n",
        "import GPUtil as GPU\r\n",
        "GPUs = GPU.getGPUs()\r\n",
        "# XXX: only one GPU on Colab and isn’t guaranteed\r\n",
        "gpu = GPUs[0]\r\n",
        "\r\n",
        "def printm():\r\n",
        "  process = psutil.Process(os.getpid())\r\n",
        "  print(\"Gen RAM Free: \" + humanize.naturalsize( psutil.virtual_memory().available ), \" | Proc size: \" + humanize.naturalsize( process.memory_info().rss))\r\n",
        "  print(\"GPU RAM Free: {0:.0f}MB | Used: {1:.0f}MB | Util {2:3.0f}% | Total {3:.0f}MB\".format(gpu.memoryFree, gpu.memoryUsed, gpu.memoryUtil*100, gpu.memoryTotal))\r\n",
        "printm()"
      ],
      "execution_count": 1,
      "outputs": [
        {
          "output_type": "stream",
          "text": [
            "Gen RAM Free: 12.7 GB  | Proc size: 112.6 MB\n",
            "GPU RAM Free: 15079MB | Used: 0MB | Util   0% | Total 15079MB\n"
          ],
          "name": "stdout"
        }
      ]
    },
    {
      "cell_type": "code",
      "metadata": {
        "colab": {
          "base_uri": "https://localhost:8080/"
        },
        "id": "NdbXR3aVmTkR",
        "outputId": "cc48d225-e075-4a51-b29e-31ffb920efd4"
      },
      "source": [
        "# Mount Google Drive\r\n",
        "from google.colab import drive # import drive from google colab\r\n",
        "\r\n",
        "ROOT = \"/content/drive/\"     # default location for the drive\r\n",
        "drive.mount(ROOT)           # we mount the google drive at /content/drive"
      ],
      "execution_count": 2,
      "outputs": [
        {
          "output_type": "stream",
          "text": [
            "Drive already mounted at /content/drive/; to attempt to forcibly remount, call drive.mount(\"/content/drive/\", force_remount=True).\n"
          ],
          "name": "stdout"
        }
      ]
    },
    {
      "cell_type": "code",
      "metadata": {
        "colab": {
          "base_uri": "https://localhost:8080/"
        },
        "id": "B99s5BaonA5Z",
        "outputId": "3b80a9d7-60a7-4e08-a558-a548623c31fa"
      },
      "source": [
        "!pip install bpemb"
      ],
      "execution_count": 3,
      "outputs": [
        {
          "output_type": "stream",
          "text": [
            "Requirement already satisfied: bpemb in /usr/local/lib/python3.6/dist-packages (0.3.2)\n",
            "Requirement already satisfied: tqdm in /usr/local/lib/python3.6/dist-packages (from bpemb) (4.41.1)\n",
            "Requirement already satisfied: sentencepiece in /usr/local/lib/python3.6/dist-packages (from bpemb) (0.1.95)\n",
            "Requirement already satisfied: gensim in /usr/local/lib/python3.6/dist-packages (from bpemb) (3.6.0)\n",
            "Requirement already satisfied: numpy in /usr/local/lib/python3.6/dist-packages (from bpemb) (1.19.5)\n",
            "Requirement already satisfied: requests in /usr/local/lib/python3.6/dist-packages (from bpemb) (2.23.0)\n",
            "Requirement already satisfied: scipy>=0.18.1 in /usr/local/lib/python3.6/dist-packages (from gensim->bpemb) (1.4.1)\n",
            "Requirement already satisfied: smart-open>=1.2.1 in /usr/local/lib/python3.6/dist-packages (from gensim->bpemb) (4.1.2)\n",
            "Requirement already satisfied: six>=1.5.0 in /usr/local/lib/python3.6/dist-packages (from gensim->bpemb) (1.15.0)\n",
            "Requirement already satisfied: chardet<4,>=3.0.2 in /usr/local/lib/python3.6/dist-packages (from requests->bpemb) (3.0.4)\n",
            "Requirement already satisfied: idna<3,>=2.5 in /usr/local/lib/python3.6/dist-packages (from requests->bpemb) (2.10)\n",
            "Requirement already satisfied: certifi>=2017.4.17 in /usr/local/lib/python3.6/dist-packages (from requests->bpemb) (2020.12.5)\n",
            "Requirement already satisfied: urllib3!=1.25.0,!=1.25.1,<1.26,>=1.21.1 in /usr/local/lib/python3.6/dist-packages (from requests->bpemb) (1.24.3)\n"
          ],
          "name": "stdout"
        }
      ]
    },
    {
      "cell_type": "code",
      "metadata": {
        "id": "eIMlbwcnmfqi"
      },
      "source": [
        "workdir_path = 'drive/My Drive/jakarta research/adi-buzzer/'"
      ],
      "execution_count": 4,
      "outputs": []
    },
    {
      "cell_type": "code",
      "metadata": {
        "id": "BUzhIlqOl29X"
      },
      "source": [
        "import time\n",
        "import datetime\n",
        "import numpy as np\n",
        "import pandas as pd\n",
        "import matplotlib.pyplot as plt\n",
        "import seaborn as sns\n",
        "import warnings\n",
        "import torch\n",
        "import torch.nn as nn\n",
        "import torch.optim as optim\n",
        "\n",
        "from tqdm import tqdm\n",
        "from sklearn.model_selection import train_test_split\n",
        "from sklearn.metrics import accuracy_score, precision_score, recall_score, f1_score\n",
        "from bpemb import BPEmb\n",
        "from torch import tensor\n",
        "from torch.utils.data import Dataset, DataLoader, RandomSampler\n",
        "from torch.nn.utils.rnn import pad_sequence\n",
        "\n",
        "% matplotlib inline\n",
        "pd.set_option('precision', 2)\n",
        "\n",
        "from sklearn.exceptions import UndefinedMetricWarning\n",
        "warnings.filterwarnings('ignore', category=UndefinedMetricWarning)"
      ],
      "execution_count": 5,
      "outputs": []
    },
    {
      "cell_type": "markdown",
      "metadata": {
        "id": "C6LjDcB8l29h"
      },
      "source": [
        "## Prepare dataset and model"
      ]
    },
    {
      "cell_type": "code",
      "metadata": {
        "colab": {
          "base_uri": "https://localhost:8080/"
        },
        "id": "MfS49ng0l29i",
        "outputId": "f3bf3f74-9674-4e3d-b43d-d47cb1ccd124"
      },
      "source": [
        "device = \"cuda\" if torch.cuda.is_available() else \"cpu\"\n",
        "print(device)"
      ],
      "execution_count": 6,
      "outputs": [
        {
          "output_type": "stream",
          "text": [
            "cuda\n"
          ],
          "name": "stdout"
        }
      ]
    },
    {
      "cell_type": "code",
      "metadata": {
        "id": "KvLrCJ7el29j"
      },
      "source": [
        "def load_data(path):\n",
        "    data = pd.read_csv(path, keep_default_na=False)\n",
        "    return data\n",
        "\n",
        "def prepare_dataset(X_train_pth, y_train_pth, X_test_pth, y_test_pth):\n",
        "    X_test = load_data(X_test_pth)\n",
        "    y_test = load_data(y_test_pth)\n",
        "    X_test.reset_index(drop=True, inplace=True)\n",
        "    y_test.reset_index(drop=True, inplace=True)\n",
        "    test = (X_test, y_test)\n",
        "\n",
        "    X_tmp = load_data(X_train_pth)\n",
        "    y_tmp = load_data(y_train_pth)\n",
        "    X_train, X_val, y_train, y_val = train_test_split(X_tmp, y_tmp, test_size=0.2, random_state=42)\n",
        "    X_train.reset_index(drop=True, inplace=True)\n",
        "    y_train.reset_index(drop=True, inplace=True)\n",
        "    X_val.reset_index(drop=True, inplace=True)\n",
        "    y_val.reset_index(drop=True, inplace=True)\n",
        "\n",
        "    train = (X_train, y_train)\n",
        "    val = (X_val, y_val)\n",
        "    return train, val, test"
      ],
      "execution_count": 7,
      "outputs": []
    },
    {
      "cell_type": "code",
      "metadata": {
        "id": "GIglI_xfl29k"
      },
      "source": [
        "class DatasetBuzzer(Dataset):\n",
        "    def __init__(self, data):\n",
        "        self.data = data\n",
        "        self.bpe = BPEmb(lang=\"id\", vs=100000, dim=300)\n",
        "        \n",
        "    def __getitem__(self, idx):\n",
        "        x_raw = self.data[0].loc[idx, 'text_used']\n",
        "        y  = self.data[1].loc[idx, 'buzzer']\n",
        "        \n",
        "        x = self.bpe.encode_ids(x_raw)\n",
        "        x = tensor(x)\n",
        "        y = torch.LongTensor([y])\n",
        "        \n",
        "        return (x, y)\n",
        "    \n",
        "    def __len__(self):\n",
        "        return len(self.data[0])"
      ],
      "execution_count": 8,
      "outputs": []
    },
    {
      "cell_type": "code",
      "metadata": {
        "id": "w9q26jGMl29l"
      },
      "source": [
        "def padding(data):\n",
        "    x_list = []\n",
        "    y_list = []\n",
        "    for x, y in data:\n",
        "        x_list.append(x)\n",
        "        y_list.append(y)\n",
        "        \n",
        "    x_pad = pad_sequence(x_list, batch_first=True)\n",
        "    y_pad = pad_sequence(y_list, batch_first=True)\n",
        "    \n",
        "    return x_pad, y_pad"
      ],
      "execution_count": 9,
      "outputs": []
    },
    {
      "cell_type": "code",
      "metadata": {
        "id": "LI7MzYQll29m"
      },
      "source": [
        "class LSTM(nn.Module):\n",
        "    def __init__(self, hidden_size, num_class, weights):\n",
        "        super(LSTM, self).__init__()\n",
        "        self.word_embeddings = nn.Embedding.from_pretrained(weights)\n",
        "        self.lstm = nn.LSTM(weights.shape[1], hidden_size, num_layers=1, dropout=0.7, batch_first=True, bidirectional=True)\n",
        "        self.fc = nn.Linear(hidden_size, num_class)\n",
        "        \n",
        "    def forward(self, input_):\n",
        "        input_ = self.word_embeddings(input_)\n",
        "        out, (hidden_state, cell_state) = self.lstm(input_)\n",
        "        out = self.fc(hidden_state[-1])\n",
        "\n",
        "        return out"
      ],
      "execution_count": 10,
      "outputs": []
    },
    {
      "cell_type": "markdown",
      "metadata": {
        "id": "7V66JLT4l29m"
      },
      "source": [
        "## Setup DataLoader"
      ]
    },
    {
      "cell_type": "code",
      "metadata": {
        "id": "0aaUHwcll29m"
      },
      "source": [
        "X_train_pth = workdir_path+'dataset/RAW_X_train.csv'\n",
        "y_train_pth = workdir_path+'dataset/RAW_y_train.csv'\n",
        "X_test_pth = workdir_path+'dataset/RAW_X_test.csv'\n",
        "y_test_pth = workdir_path+'dataset/RAW_y_test.csv'"
      ],
      "execution_count": 11,
      "outputs": []
    },
    {
      "cell_type": "code",
      "metadata": {
        "id": "EU_s4mr7l29n"
      },
      "source": [
        "raw_train, raw_val, raw_test = prepare_dataset(X_train_pth, y_train_pth, X_test_pth, y_test_pth)"
      ],
      "execution_count": 12,
      "outputs": []
    },
    {
      "cell_type": "code",
      "metadata": {
        "id": "ko8LcIYRl29n"
      },
      "source": [
        "train_dataset = DatasetBuzzer(raw_train)\n",
        "val_dataset = DatasetBuzzer(raw_val)\n",
        "test_dataset = DatasetBuzzer(raw_test)"
      ],
      "execution_count": 13,
      "outputs": []
    },
    {
      "cell_type": "code",
      "metadata": {
        "colab": {
          "base_uri": "https://localhost:8080/"
        },
        "id": "Zqkz7VwOECAf",
        "outputId": "0529b7b2-cb6d-4d47-c0b7-b016a9c384a8"
      },
      "source": [
        "train_dataset.data[1]['buzzer'].value_counts()"
      ],
      "execution_count": 14,
      "outputs": [
        {
          "output_type": "execute_result",
          "data": {
            "text/plain": [
              "0    1480\n",
              "1     415\n",
              "Name: buzzer, dtype: int64"
            ]
          },
          "metadata": {
            "tags": []
          },
          "execution_count": 14
        }
      ]
    },
    {
      "cell_type": "code",
      "metadata": {
        "colab": {
          "base_uri": "https://localhost:8080/"
        },
        "id": "UHYnHcTuEcST",
        "outputId": "34435d94-c1e6-412e-8771-6d28ff0df091"
      },
      "source": [
        "val_dataset.data[1]['buzzer'].value_counts()"
      ],
      "execution_count": 15,
      "outputs": [
        {
          "output_type": "execute_result",
          "data": {
            "text/plain": [
              "0    360\n",
              "1    114\n",
              "Name: buzzer, dtype: int64"
            ]
          },
          "metadata": {
            "tags": []
          },
          "execution_count": 15
        }
      ]
    },
    {
      "cell_type": "code",
      "metadata": {
        "colab": {
          "base_uri": "https://localhost:8080/"
        },
        "id": "q1HUxQphEiOc",
        "outputId": "bde1322f-77ed-444e-fef4-524a49e52fd7"
      },
      "source": [
        "test_dataset.data[1]['buzzer'].value_counts()"
      ],
      "execution_count": 16,
      "outputs": [
        {
          "output_type": "execute_result",
          "data": {
            "text/plain": [
              "0    473\n",
              "1    120\n",
              "Name: buzzer, dtype: int64"
            ]
          },
          "metadata": {
            "tags": []
          },
          "execution_count": 16
        }
      ]
    },
    {
      "cell_type": "code",
      "metadata": {
        "id": "5U80zsAgl29n"
      },
      "source": [
        "b_size = 32\n",
        "\n",
        "train_dataloader = DataLoader(train_dataset, shuffle=True, batch_size = b_size, collate_fn=padding)\n",
        "val_dataloader = DataLoader(val_dataset, shuffle=True, batch_size = b_size, collate_fn=padding)\n",
        "test_dataloader = DataLoader(test_dataset, batch_size = b_size, collate_fn=padding)"
      ],
      "execution_count": 17,
      "outputs": []
    },
    {
      "cell_type": "code",
      "metadata": {
        "colab": {
          "base_uri": "https://localhost:8080/"
        },
        "id": "EWJXygIOl29o",
        "outputId": "400d517d-9002-45d8-e279-94bc59578ea5"
      },
      "source": [
        "print(f'total train batch: {len(train_dataloader)}')\n",
        "print(f'total val batch: {len(val_dataloader)}')\n",
        "print(f'total test batch: {len(test_dataloader)}')"
      ],
      "execution_count": 18,
      "outputs": [
        {
          "output_type": "stream",
          "text": [
            "total train batch: 60\n",
            "total val batch: 15\n",
            "total test batch: 19\n"
          ],
          "name": "stdout"
        }
      ]
    },
    {
      "cell_type": "markdown",
      "metadata": {
        "id": "z-Oby-fRl29o"
      },
      "source": [
        "## Hyperparameter and BPE Embeddings"
      ]
    },
    {
      "cell_type": "code",
      "metadata": {
        "id": "T-YYXRbWl29p"
      },
      "source": [
        "weights = tensor(train_dataset.bpe.vectors)\n",
        "hidden_size = 128\n",
        "num_class = 2\n",
        "epochs = 20"
      ],
      "execution_count": 19,
      "outputs": []
    },
    {
      "cell_type": "markdown",
      "metadata": {
        "id": "hTB0-C8Ql29p"
      },
      "source": [
        "## Setup Model"
      ]
    },
    {
      "cell_type": "code",
      "metadata": {
        "colab": {
          "base_uri": "https://localhost:8080/"
        },
        "id": "o9UPJS1cl29p",
        "outputId": "65de56e6-1406-4514-dcd7-e87b86264040"
      },
      "source": [
        "model = LSTM(hidden_size, num_class, weights)\n",
        "model.to(device)"
      ],
      "execution_count": 20,
      "outputs": [
        {
          "output_type": "stream",
          "text": [
            "/usr/local/lib/python3.6/dist-packages/torch/nn/modules/rnn.py:61: UserWarning: dropout option adds dropout after all but last recurrent layer, so non-zero dropout expects num_layers greater than 1, but got dropout=0.7 and num_layers=1\n",
            "  \"num_layers={}\".format(dropout, num_layers))\n"
          ],
          "name": "stderr"
        },
        {
          "output_type": "execute_result",
          "data": {
            "text/plain": [
              "LSTM(\n",
              "  (word_embeddings): Embedding(100000, 300)\n",
              "  (lstm): LSTM(300, 128, batch_first=True, dropout=0.7, bidirectional=True)\n",
              "  (fc): Linear(in_features=128, out_features=2, bias=True)\n",
              ")"
            ]
          },
          "metadata": {
            "tags": []
          },
          "execution_count": 20
        }
      ]
    },
    {
      "cell_type": "code",
      "metadata": {
        "colab": {
          "base_uri": "https://localhost:8080/"
        },
        "id": "--Y_GYynl29q",
        "outputId": "540bf454-5efc-44fd-b7c7-e08a42f2fab9"
      },
      "source": [
        "parameters = sum(p.numel() for p in model.parameters())\n",
        "print(f'model has {parameters:,} trainable parameters')"
      ],
      "execution_count": 21,
      "outputs": [
        {
          "output_type": "stream",
          "text": [
            "model has 30,440,578 trainable parameters\n"
          ],
          "name": "stdout"
        }
      ]
    },
    {
      "cell_type": "markdown",
      "metadata": {
        "id": "ckEG5mbCl29q"
      },
      "source": [
        "## Setup Optimizer and Loss function"
      ]
    },
    {
      "cell_type": "code",
      "metadata": {
        "id": "hEvVYLhZl29q"
      },
      "source": [
        "optimizer = optim.AdamW(model.parameters())\n",
        "criterion = nn.CrossEntropyLoss()"
      ],
      "execution_count": 22,
      "outputs": []
    },
    {
      "cell_type": "markdown",
      "metadata": {
        "id": "Xyk0Irlzl29q"
      },
      "source": [
        "## Training and Validation model"
      ]
    },
    {
      "cell_type": "code",
      "metadata": {
        "id": "jFa5SaIPl29r"
      },
      "source": [
        "def scoring(y_test, y_pred):\n",
        "    acc = accuracy_score(y_test, y_pred)\n",
        "    pre = precision_score(y_test, y_pred)\n",
        "    rec = recall_score(y_test, y_pred)\n",
        "    f1 = f1_score(y_test, y_pred)\n",
        "    return acc, pre, rec, f1"
      ],
      "execution_count": 23,
      "outputs": []
    },
    {
      "cell_type": "code",
      "metadata": {
        "id": "IhHT8QBdv-cz"
      },
      "source": [
        "def format_time(elapsed):\r\n",
        "    '''\r\n",
        "    Takes a time in seconds and returns a string hh:mm:ss\r\n",
        "    '''\r\n",
        "    # Round to the nearest second.\r\n",
        "    elapsed_rounded = int(round((elapsed)))\r\n",
        "    \r\n",
        "    # Format as hh:mm:ss\r\n",
        "    return str(datetime.timedelta(seconds=elapsed_rounded))"
      ],
      "execution_count": 24,
      "outputs": []
    },
    {
      "cell_type": "code",
      "metadata": {
        "id": "QyOfbmNWl29r"
      },
      "source": [
        "def train_model(model, dataloader):\n",
        "    running_train_loss = 0\n",
        "    running_train_acc = 0\n",
        "    running_train_pre = 0\n",
        "    running_train_rec = 0\n",
        "    running_train_f1 = 0\n",
        "    \n",
        "    ## Training mode\n",
        "    n_batch = len(dataloader)\n",
        "    t0 = time.time()\n",
        "    model.train()\n",
        "    for idx, (x, y) in tqdm(enumerate(dataloader, 1)):\n",
        "        optimizer.zero_grad()\n",
        "        x = x.to(device)\n",
        "        y = y.squeeze().to(device)\n",
        "        \n",
        "        y_pred = model(x)\n",
        "        loss = criterion(y_pred, y)\n",
        "        \n",
        "        y = y.cpu().numpy()\n",
        "        y_pred = torch.max(y_pred, 1)[1].cpu().detach().numpy()\n",
        "        acc, pre, rec, f1 = scoring(y, y_pred)\n",
        "\n",
        "        running_train_loss += loss.item() * x.size(0)\n",
        "        running_train_acc += acc\n",
        "        running_train_pre += pre\n",
        "        running_train_rec += rec\n",
        "        running_train_f1 += f1\n",
        "\n",
        "        loss.backward()\n",
        "        optimizer.step()\n",
        "\n",
        "    epoch_train_loss = running_train_loss / len(dataloader.dataset)\n",
        "    epoch_train_acc = running_train_acc / n_batch\n",
        "    epoch_train_pre = running_train_pre / n_batch\n",
        "    epoch_train_rec = running_train_rec / n_batch\n",
        "    epoch_train_f1 = running_train_f1 / n_batch\n",
        "    \n",
        "    train_time = time.time() - t0\n",
        "    return epoch_train_loss, epoch_train_acc, epoch_train_pre, epoch_train_rec, epoch_train_f1, train_time"
      ],
      "execution_count": 25,
      "outputs": []
    },
    {
      "cell_type": "code",
      "metadata": {
        "id": "rRFF4b3El29r"
      },
      "source": [
        "def eval_model(model, dataloader):\n",
        "    running_val_loss = 0\n",
        "    running_val_acc = 0\n",
        "    running_val_pre = 0\n",
        "    running_val_rec = 0\n",
        "    running_val_f1 = 0\n",
        "    \n",
        "    ## Validation mode\n",
        "    n_batch = len(dataloader)\n",
        "    t0 = time.time()\n",
        "    model.eval()\n",
        "    with torch.no_grad():\n",
        "        for idx, (x, y) in tqdm(enumerate(dataloader, 1)):\n",
        "            x = x.to(device)\n",
        "            y = y.squeeze().to(device)\n",
        "\n",
        "            y_pred = model(x)\n",
        "            loss = criterion(y_pred, y)\n",
        "            \n",
        "            y = y.cpu().numpy()\n",
        "            y_pred = torch.max(y_pred, 1)[1].cpu().detach().numpy()\n",
        "            acc, pre, rec, f1 = scoring(y, y_pred)\n",
        "\n",
        "            running_val_loss += loss.item() * x.size(0)\n",
        "            running_val_acc += acc\n",
        "            running_val_pre += pre\n",
        "            running_val_rec += rec\n",
        "            running_val_f1 += f1\n",
        "            \n",
        "    epoch_val_loss = running_val_loss / len(dataloader.dataset)\n",
        "    epoch_val_acc = running_val_acc / n_batch\n",
        "    epoch_val_pre = running_val_pre / n_batch\n",
        "    epoch_val_rec = running_val_rec / n_batch\n",
        "    epoch_val_f1 = running_val_f1 / n_batch\n",
        "    \n",
        "    val_time = time.time() - t0\n",
        "    return epoch_val_loss, epoch_val_acc, epoch_val_pre, epoch_val_rec, epoch_val_f1, val_time"
      ],
      "execution_count": 26,
      "outputs": []
    },
    {
      "cell_type": "code",
      "metadata": {
        "colab": {
          "base_uri": "https://localhost:8080/"
        },
        "id": "IZO0kIMnl29u",
        "outputId": "4f9ba87b-c9a1-486b-d59c-bd3e91769cdf"
      },
      "source": [
        "training_stats = []\n",
        "total_t0 = time.time()\n",
        "for epoch_i in range(0, epochs):\n",
        "    print(f'\\n==== Epoch {epoch_i+1} / {epochs} ====')\n",
        "    epoch_train_loss, epoch_train_acc, epoch_train_pre, epoch_train_rec, epoch_train_f1, train_time = train_model(model, train_dataloader)\n",
        "    epoch_val_loss, epoch_val_acc, epoch_val_pre, epoch_val_rec, epoch_val_f1, val_time = eval_model(model, val_dataloader)\n",
        "\n",
        "    training_stats.append({'Epoch': epoch_i + 1,\n",
        "                           'Training Loss': epoch_train_loss,\n",
        "                           'Validation Loss': epoch_val_loss,\n",
        "                           'Training Accuracy': epoch_train_acc,\n",
        "                           'Validation Accuracy': epoch_val_acc,\n",
        "                           'Training Precision': epoch_train_pre,\n",
        "                           'Validation Precision': epoch_val_pre,\n",
        "                           'Training Recall': epoch_train_rec,\n",
        "                           'Validation Recall': epoch_val_rec,\n",
        "                           'Training F1': epoch_train_f1,\n",
        "                           'Validation F1': epoch_val_f1\n",
        "                           })\n",
        "\n",
        "    print(\"\\nTRAINING\")\n",
        "    print(f\"Loss: {epoch_train_loss:.2f}  |  Accuracy: {epoch_train_acc:.2f}\")\n",
        "    print(f\"Precision: {epoch_train_pre:.2f}  |  Recall: {epoch_train_rec:.2f}  |  F1: {epoch_train_f1:.2f}\")\n",
        "    print(f\"Exec Time: {round(train_time)}s\")\n",
        "    print(\"\\nEVALUATING\")\n",
        "    print(f\"Loss: {epoch_val_loss:.2f}  |  Accuracy: {epoch_val_acc:.2f}\")\n",
        "    print(f\"Precision: {epoch_val_pre:.2f}  |  Recall: {epoch_val_rec:.2f}  |  F1: {epoch_val_f1:.2f}\")\n",
        "    print(f\"Exec Time: {round(val_time)}s\")\n",
        "\n",
        "print(\"Training complete!\")\n",
        "print(\"Total training took {:} (h:mm:ss)\".format(format_time(time.time()-total_t0)))"
      ],
      "execution_count": 27,
      "outputs": [
        {
          "output_type": "stream",
          "text": [
            "\r0it [00:00, ?it/s]"
          ],
          "name": "stderr"
        },
        {
          "output_type": "stream",
          "text": [
            "\n",
            "==== Epoch 1 / 20 ====\n"
          ],
          "name": "stdout"
        },
        {
          "output_type": "stream",
          "text": [
            "60it [00:18,  3.27it/s]\n",
            "15it [00:02,  5.39it/s]\n",
            "0it [00:00, ?it/s]"
          ],
          "name": "stderr"
        },
        {
          "output_type": "stream",
          "text": [
            "\n",
            "TRAINING\n",
            "Loss: 0.51  |  Accuracy: 0.79\n",
            "Precision: 0.12  |  Recall: 0.02  |  F1: 0.03\n",
            "Exec Time: 18s\n",
            "\n",
            "EVALUATING\n",
            "Loss: 0.44  |  Accuracy: 0.78\n",
            "Precision: 0.51  |  Recall: 0.13  |  F1: 0.20\n",
            "Exec Time: 3s\n",
            "\n",
            "==== Epoch 2 / 20 ====\n"
          ],
          "name": "stdout"
        },
        {
          "output_type": "stream",
          "text": [
            "60it [00:18,  3.28it/s]\n",
            "15it [00:02,  5.51it/s]\n",
            "0it [00:00, ?it/s]"
          ],
          "name": "stderr"
        },
        {
          "output_type": "stream",
          "text": [
            "\n",
            "TRAINING\n",
            "Loss: 0.43  |  Accuracy: 0.82\n",
            "Precision: 0.71  |  Recall: 0.26  |  F1: 0.36\n",
            "Exec Time: 18s\n",
            "\n",
            "EVALUATING\n",
            "Loss: 0.43  |  Accuracy: 0.83\n",
            "Precision: 0.77  |  Recall: 0.46  |  F1: 0.56\n",
            "Exec Time: 3s\n",
            "\n",
            "==== Epoch 3 / 20 ====\n"
          ],
          "name": "stdout"
        },
        {
          "output_type": "stream",
          "text": [
            "60it [00:18,  3.23it/s]\n",
            "15it [00:02,  5.52it/s]\n",
            "0it [00:00, ?it/s]"
          ],
          "name": "stderr"
        },
        {
          "output_type": "stream",
          "text": [
            "\n",
            "TRAINING\n",
            "Loss: 0.37  |  Accuracy: 0.84\n",
            "Precision: 0.67  |  Recall: 0.50  |  F1: 0.54\n",
            "Exec Time: 19s\n",
            "\n",
            "EVALUATING\n",
            "Loss: 0.46  |  Accuracy: 0.82\n",
            "Precision: 0.77  |  Recall: 0.34  |  F1: 0.45\n",
            "Exec Time: 3s\n",
            "\n",
            "==== Epoch 4 / 20 ====\n"
          ],
          "name": "stdout"
        },
        {
          "output_type": "stream",
          "text": [
            "60it [00:18,  3.21it/s]\n",
            "15it [00:02,  5.44it/s]\n",
            "0it [00:00, ?it/s]"
          ],
          "name": "stderr"
        },
        {
          "output_type": "stream",
          "text": [
            "\n",
            "TRAINING\n",
            "Loss: 0.35  |  Accuracy: 0.85\n",
            "Precision: 0.71  |  Recall: 0.56  |  F1: 0.59\n",
            "Exec Time: 19s\n",
            "\n",
            "EVALUATING\n",
            "Loss: 0.43  |  Accuracy: 0.82\n",
            "Precision: 0.79  |  Recall: 0.42  |  F1: 0.53\n",
            "Exec Time: 3s\n",
            "\n",
            "==== Epoch 5 / 20 ====\n"
          ],
          "name": "stdout"
        },
        {
          "output_type": "stream",
          "text": [
            "60it [00:18,  3.26it/s]\n",
            "15it [00:02,  5.38it/s]\n",
            "0it [00:00, ?it/s]"
          ],
          "name": "stderr"
        },
        {
          "output_type": "stream",
          "text": [
            "\n",
            "TRAINING\n",
            "Loss: 0.34  |  Accuracy: 0.86\n",
            "Precision: 0.72  |  Recall: 0.51  |  F1: 0.57\n",
            "Exec Time: 18s\n",
            "\n",
            "EVALUATING\n",
            "Loss: 0.43  |  Accuracy: 0.83\n",
            "Precision: 0.78  |  Recall: 0.48  |  F1: 0.58\n",
            "Exec Time: 3s\n",
            "\n",
            "==== Epoch 6 / 20 ====\n"
          ],
          "name": "stdout"
        },
        {
          "output_type": "stream",
          "text": [
            "60it [00:18,  3.20it/s]\n",
            "15it [00:02,  5.44it/s]\n",
            "0it [00:00, ?it/s]"
          ],
          "name": "stderr"
        },
        {
          "output_type": "stream",
          "text": [
            "\n",
            "TRAINING\n",
            "Loss: 0.33  |  Accuracy: 0.85\n",
            "Precision: 0.73  |  Recall: 0.58  |  F1: 0.60\n",
            "Exec Time: 19s\n",
            "\n",
            "EVALUATING\n",
            "Loss: 0.46  |  Accuracy: 0.79\n",
            "Precision: 0.68  |  Recall: 0.16  |  F1: 0.26\n",
            "Exec Time: 3s\n",
            "\n",
            "==== Epoch 7 / 20 ====\n"
          ],
          "name": "stdout"
        },
        {
          "output_type": "stream",
          "text": [
            "60it [00:18,  3.19it/s]\n",
            "15it [00:02,  5.32it/s]\n",
            "0it [00:00, ?it/s]"
          ],
          "name": "stderr"
        },
        {
          "output_type": "stream",
          "text": [
            "\n",
            "TRAINING\n",
            "Loss: 0.28  |  Accuracy: 0.88\n",
            "Precision: 0.79  |  Recall: 0.64  |  F1: 0.68\n",
            "Exec Time: 19s\n",
            "\n",
            "EVALUATING\n",
            "Loss: 0.43  |  Accuracy: 0.81\n",
            "Precision: 0.57  |  Recall: 0.64  |  F1: 0.59\n",
            "Exec Time: 3s\n",
            "\n",
            "==== Epoch 8 / 20 ====\n"
          ],
          "name": "stdout"
        },
        {
          "output_type": "stream",
          "text": [
            "60it [00:18,  3.20it/s]\n",
            "15it [00:02,  5.37it/s]\n",
            "0it [00:00, ?it/s]"
          ],
          "name": "stderr"
        },
        {
          "output_type": "stream",
          "text": [
            "\n",
            "TRAINING\n",
            "Loss: 0.22  |  Accuracy: 0.91\n",
            "Precision: 0.85  |  Recall: 0.70  |  F1: 0.75\n",
            "Exec Time: 19s\n",
            "\n",
            "EVALUATING\n",
            "Loss: 0.47  |  Accuracy: 0.82\n",
            "Precision: 0.67  |  Recall: 0.52  |  F1: 0.57\n",
            "Exec Time: 3s\n",
            "\n",
            "==== Epoch 9 / 20 ====\n"
          ],
          "name": "stdout"
        },
        {
          "output_type": "stream",
          "text": [
            "60it [00:18,  3.18it/s]\n",
            "15it [00:02,  5.51it/s]\n",
            "0it [00:00, ?it/s]"
          ],
          "name": "stderr"
        },
        {
          "output_type": "stream",
          "text": [
            "\n",
            "TRAINING\n",
            "Loss: 0.21  |  Accuracy: 0.92\n",
            "Precision: 0.87  |  Recall: 0.73  |  F1: 0.77\n",
            "Exec Time: 19s\n",
            "\n",
            "EVALUATING\n",
            "Loss: 0.54  |  Accuracy: 0.81\n",
            "Precision: 0.66  |  Recall: 0.49  |  F1: 0.54\n",
            "Exec Time: 3s\n",
            "\n",
            "==== Epoch 10 / 20 ====\n"
          ],
          "name": "stdout"
        },
        {
          "output_type": "stream",
          "text": [
            "60it [00:18,  3.20it/s]\n",
            "15it [00:02,  5.40it/s]\n",
            "0it [00:00, ?it/s]"
          ],
          "name": "stderr"
        },
        {
          "output_type": "stream",
          "text": [
            "\n",
            "TRAINING\n",
            "Loss: 0.12  |  Accuracy: 0.96\n",
            "Precision: 0.94  |  Recall: 0.88  |  F1: 0.90\n",
            "Exec Time: 19s\n",
            "\n",
            "EVALUATING\n",
            "Loss: 0.60  |  Accuracy: 0.80\n",
            "Precision: 0.59  |  Recall: 0.47  |  F1: 0.51\n",
            "Exec Time: 3s\n",
            "\n",
            "==== Epoch 11 / 20 ====\n"
          ],
          "name": "stdout"
        },
        {
          "output_type": "stream",
          "text": [
            "60it [00:18,  3.18it/s]\n",
            "15it [00:02,  5.08it/s]\n",
            "0it [00:00, ?it/s]"
          ],
          "name": "stderr"
        },
        {
          "output_type": "stream",
          "text": [
            "\n",
            "TRAINING\n",
            "Loss: 0.08  |  Accuracy: 0.98\n",
            "Precision: 0.97  |  Recall: 0.96  |  F1: 0.96\n",
            "Exec Time: 19s\n",
            "\n",
            "EVALUATING\n",
            "Loss: 0.70  |  Accuracy: 0.81\n",
            "Precision: 0.65  |  Recall: 0.47  |  F1: 0.53\n",
            "Exec Time: 3s\n",
            "\n",
            "==== Epoch 12 / 20 ====\n"
          ],
          "name": "stdout"
        },
        {
          "output_type": "stream",
          "text": [
            "60it [00:18,  3.23it/s]\n",
            "15it [00:02,  5.56it/s]\n",
            "0it [00:00, ?it/s]"
          ],
          "name": "stderr"
        },
        {
          "output_type": "stream",
          "text": [
            "\n",
            "TRAINING\n",
            "Loss: 0.04  |  Accuracy: 0.99\n",
            "Precision: 0.99  |  Recall: 0.98  |  F1: 0.98\n",
            "Exec Time: 19s\n",
            "\n",
            "EVALUATING\n",
            "Loss: 0.77  |  Accuracy: 0.80\n",
            "Precision: 0.64  |  Recall: 0.34  |  F1: 0.43\n",
            "Exec Time: 3s\n",
            "\n",
            "==== Epoch 13 / 20 ====\n"
          ],
          "name": "stdout"
        },
        {
          "output_type": "stream",
          "text": [
            "60it [00:18,  3.21it/s]\n",
            "15it [00:02,  5.30it/s]\n",
            "0it [00:00, ?it/s]"
          ],
          "name": "stderr"
        },
        {
          "output_type": "stream",
          "text": [
            "\n",
            "TRAINING\n",
            "Loss: 0.09  |  Accuracy: 0.97\n",
            "Precision: 0.94  |  Recall: 0.94  |  F1: 0.93\n",
            "Exec Time: 19s\n",
            "\n",
            "EVALUATING\n",
            "Loss: 0.76  |  Accuracy: 0.81\n",
            "Precision: 0.58  |  Recall: 0.39  |  F1: 0.45\n",
            "Exec Time: 3s\n",
            "\n",
            "==== Epoch 14 / 20 ====\n"
          ],
          "name": "stdout"
        },
        {
          "output_type": "stream",
          "text": [
            "60it [00:18,  3.21it/s]\n",
            "15it [00:02,  5.05it/s]\n",
            "0it [00:00, ?it/s]"
          ],
          "name": "stderr"
        },
        {
          "output_type": "stream",
          "text": [
            "\n",
            "TRAINING\n",
            "Loss: 0.04  |  Accuracy: 0.99\n",
            "Precision: 0.97  |  Recall: 0.97  |  F1: 0.96\n",
            "Exec Time: 19s\n",
            "\n",
            "EVALUATING\n",
            "Loss: 0.81  |  Accuracy: 0.80\n",
            "Precision: 0.63  |  Recall: 0.43  |  F1: 0.49\n",
            "Exec Time: 3s\n",
            "\n",
            "==== Epoch 15 / 20 ====\n"
          ],
          "name": "stdout"
        },
        {
          "output_type": "stream",
          "text": [
            "60it [00:18,  3.27it/s]\n",
            "15it [00:02,  5.42it/s]\n",
            "0it [00:00, ?it/s]"
          ],
          "name": "stderr"
        },
        {
          "output_type": "stream",
          "text": [
            "\n",
            "TRAINING\n",
            "Loss: 0.07  |  Accuracy: 0.98\n",
            "Precision: 0.97  |  Recall: 0.95  |  F1: 0.95\n",
            "Exec Time: 18s\n",
            "\n",
            "EVALUATING\n",
            "Loss: 0.74  |  Accuracy: 0.80\n",
            "Precision: 0.60  |  Recall: 0.44  |  F1: 0.50\n",
            "Exec Time: 3s\n",
            "\n",
            "==== Epoch 16 / 20 ====\n"
          ],
          "name": "stdout"
        },
        {
          "output_type": "stream",
          "text": [
            "60it [00:18,  3.33it/s]\n",
            "15it [00:02,  5.61it/s]\n",
            "0it [00:00, ?it/s]"
          ],
          "name": "stderr"
        },
        {
          "output_type": "stream",
          "text": [
            "\n",
            "TRAINING\n",
            "Loss: 0.06  |  Accuracy: 0.98\n",
            "Precision: 0.96  |  Recall: 0.99  |  F1: 0.97\n",
            "Exec Time: 18s\n",
            "\n",
            "EVALUATING\n",
            "Loss: 0.75  |  Accuracy: 0.73\n",
            "Precision: 0.43  |  Recall: 0.36  |  F1: 0.38\n",
            "Exec Time: 3s\n",
            "\n",
            "==== Epoch 17 / 20 ====\n"
          ],
          "name": "stdout"
        },
        {
          "output_type": "stream",
          "text": [
            "60it [00:18,  3.25it/s]\n",
            "15it [00:02,  5.41it/s]\n",
            "0it [00:00, ?it/s]"
          ],
          "name": "stderr"
        },
        {
          "output_type": "stream",
          "text": [
            "\n",
            "TRAINING\n",
            "Loss: 0.10  |  Accuracy: 0.96\n",
            "Precision: 0.93  |  Recall: 0.86  |  F1: 0.88\n",
            "Exec Time: 18s\n",
            "\n",
            "EVALUATING\n",
            "Loss: 0.75  |  Accuracy: 0.81\n",
            "Precision: 0.67  |  Recall: 0.41  |  F1: 0.50\n",
            "Exec Time: 3s\n",
            "\n",
            "==== Epoch 18 / 20 ====\n"
          ],
          "name": "stdout"
        },
        {
          "output_type": "stream",
          "text": [
            "60it [00:18,  3.21it/s]\n",
            "15it [00:02,  5.42it/s]\n",
            "0it [00:00, ?it/s]"
          ],
          "name": "stderr"
        },
        {
          "output_type": "stream",
          "text": [
            "\n",
            "TRAINING\n",
            "Loss: 0.03  |  Accuracy: 0.99\n",
            "Precision: 0.97  |  Recall: 0.96  |  F1: 0.96\n",
            "Exec Time: 19s\n",
            "\n",
            "EVALUATING\n",
            "Loss: 0.78  |  Accuracy: 0.81\n",
            "Precision: 0.63  |  Recall: 0.43  |  F1: 0.49\n",
            "Exec Time: 3s\n",
            "\n",
            "==== Epoch 19 / 20 ====\n"
          ],
          "name": "stdout"
        },
        {
          "output_type": "stream",
          "text": [
            "60it [00:19,  3.12it/s]\n",
            "15it [00:02,  5.19it/s]\n",
            "0it [00:00, ?it/s]"
          ],
          "name": "stderr"
        },
        {
          "output_type": "stream",
          "text": [
            "\n",
            "TRAINING\n",
            "Loss: 0.01  |  Accuracy: 1.00\n",
            "Precision: 0.99  |  Recall: 1.00  |  F1: 1.00\n",
            "Exec Time: 19s\n",
            "\n",
            "EVALUATING\n",
            "Loss: 0.94  |  Accuracy: 0.81\n",
            "Precision: 0.66  |  Recall: 0.43  |  F1: 0.50\n",
            "Exec Time: 3s\n",
            "\n",
            "==== Epoch 20 / 20 ====\n"
          ],
          "name": "stdout"
        },
        {
          "output_type": "stream",
          "text": [
            "60it [00:18,  3.17it/s]\n",
            "15it [00:02,  5.37it/s]"
          ],
          "name": "stderr"
        },
        {
          "output_type": "stream",
          "text": [
            "\n",
            "TRAINING\n",
            "Loss: 0.01  |  Accuracy: 1.00\n",
            "Precision: 0.98  |  Recall: 0.98  |  F1: 0.98\n",
            "Exec Time: 19s\n",
            "\n",
            "EVALUATING\n",
            "Loss: 0.96  |  Accuracy: 0.81\n",
            "Precision: 0.67  |  Recall: 0.43  |  F1: 0.50\n",
            "Exec Time: 3s\n",
            "Training complete!\n",
            "Total training took 0:07:09 (h:mm:ss)\n"
          ],
          "name": "stdout"
        },
        {
          "output_type": "stream",
          "text": [
            "\n"
          ],
          "name": "stderr"
        }
      ]
    },
    {
      "cell_type": "code",
      "metadata": {
        "colab": {
          "base_uri": "https://localhost:8080/",
          "height": 710
        },
        "id": "bohXP9q4l29v",
        "outputId": "9f16a26f-563d-41b7-d267-32e529df90cd"
      },
      "source": [
        "# Create a DataFrame from our training statistics.\r\n",
        "df_stats = pd.DataFrame(data=training_stats)\r\n",
        "\r\n",
        "# Use the 'epoch' as the row index.\r\n",
        "df_stats = df_stats.set_index('Epoch')\r\n",
        "\r\n",
        "# Display the table.\r\n",
        "df_stats"
      ],
      "execution_count": 28,
      "outputs": [
        {
          "output_type": "execute_result",
          "data": {
            "text/html": [
              "<div>\n",
              "<style scoped>\n",
              "    .dataframe tbody tr th:only-of-type {\n",
              "        vertical-align: middle;\n",
              "    }\n",
              "\n",
              "    .dataframe tbody tr th {\n",
              "        vertical-align: top;\n",
              "    }\n",
              "\n",
              "    .dataframe thead th {\n",
              "        text-align: right;\n",
              "    }\n",
              "</style>\n",
              "<table border=\"1\" class=\"dataframe\">\n",
              "  <thead>\n",
              "    <tr style=\"text-align: right;\">\n",
              "      <th></th>\n",
              "      <th>Training Loss</th>\n",
              "      <th>Validation Loss</th>\n",
              "      <th>Training Accuracy</th>\n",
              "      <th>Validation Accuracy</th>\n",
              "      <th>Training Precision</th>\n",
              "      <th>Validation Precision</th>\n",
              "      <th>Training Recall</th>\n",
              "      <th>Validation Recall</th>\n",
              "      <th>Training F1</th>\n",
              "      <th>Validation F1</th>\n",
              "    </tr>\n",
              "    <tr>\n",
              "      <th>Epoch</th>\n",
              "      <th></th>\n",
              "      <th></th>\n",
              "      <th></th>\n",
              "      <th></th>\n",
              "      <th></th>\n",
              "      <th></th>\n",
              "      <th></th>\n",
              "      <th></th>\n",
              "      <th></th>\n",
              "      <th></th>\n",
              "    </tr>\n",
              "  </thead>\n",
              "  <tbody>\n",
              "    <tr>\n",
              "      <th>1</th>\n",
              "      <td>0.51</td>\n",
              "      <td>0.44</td>\n",
              "      <td>0.79</td>\n",
              "      <td>0.78</td>\n",
              "      <td>0.12</td>\n",
              "      <td>0.51</td>\n",
              "      <td>0.02</td>\n",
              "      <td>0.13</td>\n",
              "      <td>0.03</td>\n",
              "      <td>0.20</td>\n",
              "    </tr>\n",
              "    <tr>\n",
              "      <th>2</th>\n",
              "      <td>0.43</td>\n",
              "      <td>0.43</td>\n",
              "      <td>0.82</td>\n",
              "      <td>0.83</td>\n",
              "      <td>0.71</td>\n",
              "      <td>0.77</td>\n",
              "      <td>0.26</td>\n",
              "      <td>0.46</td>\n",
              "      <td>0.36</td>\n",
              "      <td>0.56</td>\n",
              "    </tr>\n",
              "    <tr>\n",
              "      <th>3</th>\n",
              "      <td>0.37</td>\n",
              "      <td>0.46</td>\n",
              "      <td>0.84</td>\n",
              "      <td>0.82</td>\n",
              "      <td>0.67</td>\n",
              "      <td>0.77</td>\n",
              "      <td>0.50</td>\n",
              "      <td>0.34</td>\n",
              "      <td>0.54</td>\n",
              "      <td>0.45</td>\n",
              "    </tr>\n",
              "    <tr>\n",
              "      <th>4</th>\n",
              "      <td>0.35</td>\n",
              "      <td>0.43</td>\n",
              "      <td>0.85</td>\n",
              "      <td>0.82</td>\n",
              "      <td>0.71</td>\n",
              "      <td>0.79</td>\n",
              "      <td>0.56</td>\n",
              "      <td>0.42</td>\n",
              "      <td>0.59</td>\n",
              "      <td>0.53</td>\n",
              "    </tr>\n",
              "    <tr>\n",
              "      <th>5</th>\n",
              "      <td>0.34</td>\n",
              "      <td>0.43</td>\n",
              "      <td>0.86</td>\n",
              "      <td>0.83</td>\n",
              "      <td>0.72</td>\n",
              "      <td>0.78</td>\n",
              "      <td>0.51</td>\n",
              "      <td>0.48</td>\n",
              "      <td>0.57</td>\n",
              "      <td>0.58</td>\n",
              "    </tr>\n",
              "    <tr>\n",
              "      <th>6</th>\n",
              "      <td>0.33</td>\n",
              "      <td>0.46</td>\n",
              "      <td>0.85</td>\n",
              "      <td>0.79</td>\n",
              "      <td>0.73</td>\n",
              "      <td>0.68</td>\n",
              "      <td>0.58</td>\n",
              "      <td>0.16</td>\n",
              "      <td>0.60</td>\n",
              "      <td>0.26</td>\n",
              "    </tr>\n",
              "    <tr>\n",
              "      <th>7</th>\n",
              "      <td>0.28</td>\n",
              "      <td>0.43</td>\n",
              "      <td>0.88</td>\n",
              "      <td>0.81</td>\n",
              "      <td>0.79</td>\n",
              "      <td>0.57</td>\n",
              "      <td>0.64</td>\n",
              "      <td>0.64</td>\n",
              "      <td>0.68</td>\n",
              "      <td>0.59</td>\n",
              "    </tr>\n",
              "    <tr>\n",
              "      <th>8</th>\n",
              "      <td>0.22</td>\n",
              "      <td>0.47</td>\n",
              "      <td>0.91</td>\n",
              "      <td>0.82</td>\n",
              "      <td>0.85</td>\n",
              "      <td>0.67</td>\n",
              "      <td>0.70</td>\n",
              "      <td>0.52</td>\n",
              "      <td>0.75</td>\n",
              "      <td>0.57</td>\n",
              "    </tr>\n",
              "    <tr>\n",
              "      <th>9</th>\n",
              "      <td>0.21</td>\n",
              "      <td>0.54</td>\n",
              "      <td>0.92</td>\n",
              "      <td>0.81</td>\n",
              "      <td>0.87</td>\n",
              "      <td>0.66</td>\n",
              "      <td>0.73</td>\n",
              "      <td>0.49</td>\n",
              "      <td>0.77</td>\n",
              "      <td>0.54</td>\n",
              "    </tr>\n",
              "    <tr>\n",
              "      <th>10</th>\n",
              "      <td>0.12</td>\n",
              "      <td>0.60</td>\n",
              "      <td>0.96</td>\n",
              "      <td>0.80</td>\n",
              "      <td>0.94</td>\n",
              "      <td>0.59</td>\n",
              "      <td>0.88</td>\n",
              "      <td>0.47</td>\n",
              "      <td>0.90</td>\n",
              "      <td>0.51</td>\n",
              "    </tr>\n",
              "    <tr>\n",
              "      <th>11</th>\n",
              "      <td>0.08</td>\n",
              "      <td>0.70</td>\n",
              "      <td>0.98</td>\n",
              "      <td>0.81</td>\n",
              "      <td>0.97</td>\n",
              "      <td>0.65</td>\n",
              "      <td>0.96</td>\n",
              "      <td>0.47</td>\n",
              "      <td>0.96</td>\n",
              "      <td>0.53</td>\n",
              "    </tr>\n",
              "    <tr>\n",
              "      <th>12</th>\n",
              "      <td>0.04</td>\n",
              "      <td>0.77</td>\n",
              "      <td>0.99</td>\n",
              "      <td>0.80</td>\n",
              "      <td>0.99</td>\n",
              "      <td>0.64</td>\n",
              "      <td>0.98</td>\n",
              "      <td>0.34</td>\n",
              "      <td>0.98</td>\n",
              "      <td>0.43</td>\n",
              "    </tr>\n",
              "    <tr>\n",
              "      <th>13</th>\n",
              "      <td>0.09</td>\n",
              "      <td>0.76</td>\n",
              "      <td>0.97</td>\n",
              "      <td>0.81</td>\n",
              "      <td>0.94</td>\n",
              "      <td>0.58</td>\n",
              "      <td>0.94</td>\n",
              "      <td>0.39</td>\n",
              "      <td>0.93</td>\n",
              "      <td>0.45</td>\n",
              "    </tr>\n",
              "    <tr>\n",
              "      <th>14</th>\n",
              "      <td>0.04</td>\n",
              "      <td>0.81</td>\n",
              "      <td>0.99</td>\n",
              "      <td>0.80</td>\n",
              "      <td>0.97</td>\n",
              "      <td>0.63</td>\n",
              "      <td>0.97</td>\n",
              "      <td>0.43</td>\n",
              "      <td>0.96</td>\n",
              "      <td>0.49</td>\n",
              "    </tr>\n",
              "    <tr>\n",
              "      <th>15</th>\n",
              "      <td>0.07</td>\n",
              "      <td>0.74</td>\n",
              "      <td>0.98</td>\n",
              "      <td>0.80</td>\n",
              "      <td>0.97</td>\n",
              "      <td>0.60</td>\n",
              "      <td>0.95</td>\n",
              "      <td>0.44</td>\n",
              "      <td>0.95</td>\n",
              "      <td>0.50</td>\n",
              "    </tr>\n",
              "    <tr>\n",
              "      <th>16</th>\n",
              "      <td>0.06</td>\n",
              "      <td>0.75</td>\n",
              "      <td>0.98</td>\n",
              "      <td>0.73</td>\n",
              "      <td>0.96</td>\n",
              "      <td>0.43</td>\n",
              "      <td>0.99</td>\n",
              "      <td>0.36</td>\n",
              "      <td>0.97</td>\n",
              "      <td>0.38</td>\n",
              "    </tr>\n",
              "    <tr>\n",
              "      <th>17</th>\n",
              "      <td>0.10</td>\n",
              "      <td>0.75</td>\n",
              "      <td>0.96</td>\n",
              "      <td>0.81</td>\n",
              "      <td>0.93</td>\n",
              "      <td>0.67</td>\n",
              "      <td>0.86</td>\n",
              "      <td>0.41</td>\n",
              "      <td>0.88</td>\n",
              "      <td>0.50</td>\n",
              "    </tr>\n",
              "    <tr>\n",
              "      <th>18</th>\n",
              "      <td>0.03</td>\n",
              "      <td>0.78</td>\n",
              "      <td>0.99</td>\n",
              "      <td>0.81</td>\n",
              "      <td>0.97</td>\n",
              "      <td>0.63</td>\n",
              "      <td>0.96</td>\n",
              "      <td>0.43</td>\n",
              "      <td>0.96</td>\n",
              "      <td>0.49</td>\n",
              "    </tr>\n",
              "    <tr>\n",
              "      <th>19</th>\n",
              "      <td>0.01</td>\n",
              "      <td>0.94</td>\n",
              "      <td>1.00</td>\n",
              "      <td>0.81</td>\n",
              "      <td>0.99</td>\n",
              "      <td>0.66</td>\n",
              "      <td>1.00</td>\n",
              "      <td>0.43</td>\n",
              "      <td>1.00</td>\n",
              "      <td>0.50</td>\n",
              "    </tr>\n",
              "    <tr>\n",
              "      <th>20</th>\n",
              "      <td>0.01</td>\n",
              "      <td>0.96</td>\n",
              "      <td>1.00</td>\n",
              "      <td>0.81</td>\n",
              "      <td>0.98</td>\n",
              "      <td>0.67</td>\n",
              "      <td>0.98</td>\n",
              "      <td>0.43</td>\n",
              "      <td>0.98</td>\n",
              "      <td>0.50</td>\n",
              "    </tr>\n",
              "  </tbody>\n",
              "</table>\n",
              "</div>"
            ],
            "text/plain": [
              "       Training Loss  Validation Loss  ...  Training F1  Validation F1\n",
              "Epoch                                  ...                            \n",
              "1               0.51             0.44  ...         0.03           0.20\n",
              "2               0.43             0.43  ...         0.36           0.56\n",
              "3               0.37             0.46  ...         0.54           0.45\n",
              "4               0.35             0.43  ...         0.59           0.53\n",
              "5               0.34             0.43  ...         0.57           0.58\n",
              "6               0.33             0.46  ...         0.60           0.26\n",
              "7               0.28             0.43  ...         0.68           0.59\n",
              "8               0.22             0.47  ...         0.75           0.57\n",
              "9               0.21             0.54  ...         0.77           0.54\n",
              "10              0.12             0.60  ...         0.90           0.51\n",
              "11              0.08             0.70  ...         0.96           0.53\n",
              "12              0.04             0.77  ...         0.98           0.43\n",
              "13              0.09             0.76  ...         0.93           0.45\n",
              "14              0.04             0.81  ...         0.96           0.49\n",
              "15              0.07             0.74  ...         0.95           0.50\n",
              "16              0.06             0.75  ...         0.97           0.38\n",
              "17              0.10             0.75  ...         0.88           0.50\n",
              "18              0.03             0.78  ...         0.96           0.49\n",
              "19              0.01             0.94  ...         1.00           0.50\n",
              "20              0.01             0.96  ...         0.98           0.50\n",
              "\n",
              "[20 rows x 10 columns]"
            ]
          },
          "metadata": {
            "tags": []
          },
          "execution_count": 28
        }
      ]
    },
    {
      "cell_type": "code",
      "metadata": {
        "colab": {
          "base_uri": "https://localhost:8080/",
          "height": 427
        },
        "id": "1UsU98KfwfQo",
        "outputId": "92856b17-a69c-49f6-c0cc-5a1111ef1c87"
      },
      "source": [
        "# Use plot styling from seaborn.\r\n",
        "sns.set(style='darkgrid')\r\n",
        "\r\n",
        "# Increase the plot size and font size.\r\n",
        "sns.set(font_scale=1.5)\r\n",
        "plt.rcParams[\"figure.figsize\"] = (12,6)\r\n",
        "\r\n",
        "# Plot the learning curve.\r\n",
        "plt.plot(df_stats['Training F1'], 'b-o', label=\"Training\")\r\n",
        "plt.plot(df_stats['Validation F1'], 'g-o', label=\"Validation\")\r\n",
        "\r\n",
        "# Label the plot.\r\n",
        "plt.title(\"Training & Validation F1\")\r\n",
        "plt.xlabel(\"Epoch\")\r\n",
        "plt.ylabel(\"F1 Score\")\r\n",
        "plt.legend()\r\n",
        "plt.xticks(np.arange(1, epochs))\r\n",
        "plt.show()"
      ],
      "execution_count": 29,
      "outputs": [
        {
          "output_type": "display_data",
          "data": {
            "image/png": "[encoded data removed]",
            "text/plain": [
              "<Figure size 864x432 with 1 Axes>"
            ]
          },
          "metadata": {
            "tags": []
          }
        }
      ]
    },
    {
      "cell_type": "code",
      "metadata": {
        "colab": {
          "base_uri": "https://localhost:8080/"
        },
        "id": "mAU6tCD8w2vH",
        "outputId": "0b654bd6-1f8b-4e3a-9ecb-3e267760c356"
      },
      "source": [
        "print(\"Saving model to %s\" % workdir_path)\r\n",
        "torch.save(model.state_dict(), workdir_path+\"buzzer_clf.pt\")"
      ],
      "execution_count": 30,
      "outputs": [
        {
          "output_type": "stream",
          "text": [
            "Saving model to drive/My Drive/jakarta research/adi-buzzer/\n"
          ],
          "name": "stdout"
        }
      ]
    },
    {
      "cell_type": "markdown",
      "metadata": {
        "id": "YqASoPun_uFQ"
      },
      "source": [
        "## Testing data"
      ]
    },
    {
      "cell_type": "code",
      "metadata": {
        "id": "oT38QOVl2JnT",
        "colab": {
          "base_uri": "https://localhost:8080/"
        },
        "outputId": "e97c8472-56fd-40d6-dee0-3e66667e69af"
      },
      "source": [
        "epoch_test_loss, epoch_test_acc, epoch_test_pre, epoch_test_rec, epoch_test_f1, test_time = eval_model(model, test_dataloader)\r\n",
        "\r\n",
        "print(\"\\nTESTING\")\r\n",
        "print(f\"Loss: {epoch_test_loss:.2f}  |  Accuracy: {epoch_test_acc:.2f}\")\r\n",
        "print(f\"Precision: {epoch_test_pre:.2f}  |  Recall: {epoch_test_rec:.2f}  |  F1: {epoch_test_f1:.2f}\")\r\n",
        "print(f\"Exec Time: {round(test_time)}s\")"
      ],
      "execution_count": 31,
      "outputs": [
        {
          "output_type": "stream",
          "text": [
            "19it [00:03,  5.32it/s]"
          ],
          "name": "stderr"
        },
        {
          "output_type": "stream",
          "text": [
            "\n",
            "TESTING\n",
            "Loss: 0.91  |  Accuracy: 0.83\n",
            "Precision: 0.58  |  Recall: 0.43  |  F1: 0.48\n",
            "Exec Time: 4s\n"
          ],
          "name": "stdout"
        },
        {
          "output_type": "stream",
          "text": [
            "\n"
          ],
          "name": "stderr"
        }
      ]
    },
    {
      "cell_type": "code",
      "metadata": {
        "id": "M97wJUQSBC6q"
      },
      "source": [
        ""
      ],
      "execution_count": 31,
      "outputs": []
    }
  ]
}