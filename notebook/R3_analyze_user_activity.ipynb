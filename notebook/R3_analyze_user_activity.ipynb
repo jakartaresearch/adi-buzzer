{
 "cells": [
  {
   "cell_type": "markdown",
   "metadata": {
    "colab_type": "text",
    "id": "view-in-github"
   },
   "source": [
    "<a href=\"https://colab.research.google.com/github/jakartaresearch/adi-buzzer/blob/dev/notebook/R3_analyze_user_activity.ipynb\" target=\"_parent\"><img src=\"https://colab.research.google.com/assets/colab-badge.svg\" alt=\"Open In Colab\"/></a>"
   ]
  },
  {
   "cell_type": "code",
   "execution_count": null,
   "metadata": {
    "colab": {
     "base_uri": "https://localhost:8080/",
     "height": 88
    },
    "colab_type": "code",
    "id": "ZuckFQUHvY2S",
    "outputId": "320f1cc8-bca6-441f-e49c-d55040411052"
   },
   "outputs": [],
   "source": [
    "import pandas as pd\n",
    "import pickle\n",
    "import json\n",
    "import glob\n",
    "from tqdm import tqdm\n",
    "from datetime import datetime, timedelta\n",
    "import matplotlib.pyplot as plt\n",
    "import seaborn as sns\n",
    "\n",
    "# Mount Google Drive\n",
    "from google.colab import drive # import drive from google colab\n",
    "\n",
    "ROOT = \"/content/drive/\"     # default location for the drive\n",
    "drive.mount(ROOT)           # we mount the google drive at /content/drive"
   ]
  },
  {
   "cell_type": "code",
   "execution_count": null,
   "metadata": {
    "colab": {},
    "colab_type": "code",
    "id": "LwH0BnaXvh4j"
   },
   "outputs": [],
   "source": [
    "path = 'drive/My Drive/Colab Notebooks/adi-buzzer/data/activity.pkl'"
   ]
  },
  {
   "cell_type": "code",
   "execution_count": null,
   "metadata": {
    "colab": {},
    "colab_type": "code",
    "id": "iA82CX4qvtRs"
   },
   "outputs": [],
   "source": [
    "def get_last_active_time(path):\n",
    "    acquire_data_time = datetime(2020, 6, 12) # Data ditarik pada 12 Juni 2020\n",
    "\n",
    "    with open(path,'rb') as file:\n",
    "        data = pickle.load(file)\n",
    "\n",
    "    for idx in tqdm(range(len(data))):\n",
    "        tmp = data[idx]['end_activity']\n",
    "        if tmp == 0:\n",
    "            data[idx].update({'last_active': None})\n",
    "        else :\n",
    "            last_active = abs(acquire_data_time - tmp).days\n",
    "            data[idx].update({'last_active':last_active})\n",
    "\n",
    "    return data"
   ]
  },
  {
   "cell_type": "code",
   "execution_count": null,
   "metadata": {
    "colab": {
     "base_uri": "https://localhost:8080/",
     "height": 34
    },
    "colab_type": "code",
    "id": "Ov8jJnlC1uOf",
    "outputId": "f2eaa433-bb12-4d40-84d1-e42fa8bee171"
   },
   "outputs": [],
   "source": [
    "data = get_last_active_time(path)"
   ]
  },
  {
   "cell_type": "code",
   "execution_count": null,
   "metadata": {
    "colab": {},
    "colab_type": "code",
    "id": "puAYRlB24zwu"
   },
   "outputs": [],
   "source": [
    "username = []\n",
    "last_active = []\n",
    "\n",
    "for i in data:\n",
    "    username.append(i['username'])\n",
    "    last_active.append(i['last_active'])"
   ]
  },
  {
   "cell_type": "code",
   "execution_count": null,
   "metadata": {
    "colab": {},
    "colab_type": "code",
    "id": "dl5_5bxZ6Tlj"
   },
   "outputs": [],
   "source": [
    "df = pd.DataFrame(list(zip(username,last_active)), columns =['username', 'last_active'])\n",
    "df.dropna(inplace=True)"
   ]
  },
  {
   "cell_type": "code",
   "execution_count": null,
   "metadata": {
    "colab": {
     "base_uri": "https://localhost:8080/",
     "height": 49
    },
    "colab_type": "code",
    "id": "v9L5IUbq6Ujk",
    "outputId": "de772348-00c9-4ea0-8914-e1a432e5def8"
   },
   "outputs": [],
   "source": [
    "df[df.last_active > 30] # Last active lebih dari 30 hari / 1 bulan yang lalu"
   ]
  },
  {
   "cell_type": "code",
   "execution_count": null,
   "metadata": {
    "colab": {
     "base_uri": "https://localhost:8080/",
     "height": 297
    },
    "colab_type": "code",
    "id": "eJdl1eZv8FJA",
    "outputId": "749f694a-84d2-4839-f001-6fb3b431832f"
   },
   "outputs": [],
   "source": [
    "df.describe()"
   ]
  },
  {
   "cell_type": "code",
   "execution_count": null,
   "metadata": {
    "colab": {
     "base_uri": "https://localhost:8080/",
     "height": 297
    },
    "colab_type": "code",
    "id": "0kDgqFmt67LZ",
    "outputId": "24a5f393-d252-4252-eac1-202deca8f1de"
   },
   "outputs": [],
   "source": [
    "plt.figure()\n",
    "sns.distplot(df.last_active)"
   ]
  },
  {
   "cell_type": "code",
   "execution_count": null,
   "metadata": {
    "colab": {
     "base_uri": "https://localhost:8080/",
     "height": 297
    },
    "colab_type": "code",
    "id": "ikLflWdF73KH",
    "outputId": "2f83ef22-2dfe-4da7-ddb0-bf5094dfc3fa"
   },
   "outputs": [],
   "source": [
    "sns.boxplot(df.last_active)"
   ]
  }
 ],
 "metadata": {
  "colab": {
   "authorship_tag": "ABX9TyNr05PD6JZGrRqwkotRregj",
   "collapsed_sections": [],
   "include_colab_link": true,
   "name": "R3_analyze_user_activity.ipynb",
   "provenance": []
  },
  "kernelspec": {
   "display_name": "Python 3",
   "language": "python",
   "name": "python3"
  },
  "language_info": {
   "codemirror_mode": {
    "name": "ipython",
    "version": 3
   },
   "file_extension": ".py",
   "mimetype": "text/x-python",
   "name": "python",
   "nbconvert_exporter": "python",
   "pygments_lexer": "ipython3",
   "version": "3.7.3"
  }
 },
 "nbformat": 4,
 "nbformat_minor": 4
}
