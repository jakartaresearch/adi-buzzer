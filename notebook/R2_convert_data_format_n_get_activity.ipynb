{
 "cells": [
  {
   "cell_type": "markdown",
   "metadata": {
    "colab_type": "text",
    "id": "view-in-github"
   },
   "source": [
    "<a href=\"https://colab.research.google.com/github/jakartaresearch/adi-buzzer/blob/dev/notebook/R2_convert_data_format_n_get_activity.ipynb\" target=\"_parent\"><img src=\"https://colab.research.google.com/assets/colab-badge.svg\" alt=\"Open In Colab\"/></a>"
   ]
  },
  {
   "cell_type": "code",
   "execution_count": null,
   "metadata": {
    "colab": {
     "base_uri": "https://localhost:8080/",
     "height": 122
    },
    "colab_type": "code",
    "id": "CzAFGU0usyQI",
    "outputId": "9f2f4b41-8ab7-479d-995b-d4fc123f78e6"
   },
   "outputs": [],
   "source": [
    "import pandas as pd\n",
    "import pickle\n",
    "import json\n",
    "import glob\n",
    "from tqdm import tqdm\n",
    "\n",
    "# Mount Google Drive\n",
    "from google.colab import drive # import drive from google colab\n",
    "\n",
    "ROOT = \"/content/drive/\"     # default location for the drive\n",
    "drive.mount(ROOT)           # we mount the google drive at /content/drive"
   ]
  },
  {
   "cell_type": "code",
   "execution_count": null,
   "metadata": {
    "colab": {},
    "colab_type": "code",
    "id": "DGvY5PdhtUes"
   },
   "outputs": [],
   "source": [
    "in_path = 'drive/My Drive/Colab Notebooks/adi-buzzer/data/*.pkl'\n",
    "out_path = 'drive/My Drive/Colab Notebooks/adi-buzzer/data/json/'\n",
    "path = 'drive/My Drive/Colab Notebooks/adi-buzzer/data/json/*.json'"
   ]
  },
  {
   "cell_type": "code",
   "execution_count": null,
   "metadata": {
    "colab": {},
    "colab_type": "code",
    "id": "iSyL7vw8vcqR"
   },
   "outputs": [],
   "source": [
    "def convert(in_path, out_path):\n",
    "    with open(in_path,'rb') as file:\n",
    "        data = pickle.load(file)\n",
    "\n",
    "    for idx in range(len(data['retweets'])):\n",
    "        data['retweets'][idx] = data['retweets'][idx]._json\n",
    "    for idx in range(len(data['replies'])):\n",
    "        data['replies'][idx] = data['replies'][idx]._json\n",
    "    for idx in range(len(data['tweets'])):\n",
    "        data['tweets'][idx] = data['tweets'][idx]._json\n",
    "\n",
    "    username = in_path.split('/')[-1][:-4]\n",
    "    print(username+'\\n')\n",
    "\n",
    "    with open(out_path+username+'.json', 'w', encoding='utf-8') as f:\n",
    "        json.dump(data, f, ensure_ascii=False, indent=4)"
   ]
  },
  {
   "cell_type": "code",
   "execution_count": null,
   "metadata": {
    "colab": {},
    "colab_type": "code",
    "id": "PuNjVjxzitGm"
   },
   "outputs": [],
   "source": [
    "from datetime import datetime, timedelta\n",
    "from email.utils import parsedate_tz\n",
    "\n",
    "def to_datetime(datestring):\n",
    "    time_tuple = parsedate_tz(datestring.strip())\n",
    "    dt = datetime(*time_tuple[:6])\n",
    "    return dt - timedelta(seconds=time_tuple[-1])"
   ]
  },
  {
   "cell_type": "code",
   "execution_count": null,
   "metadata": {
    "colab": {},
    "colab_type": "code",
    "id": "6fsDgOw_fV1J"
   },
   "outputs": [],
   "source": [
    "def get_activity_time(path):\n",
    "    with open(path, 'r') as f:\n",
    "        data = json.load(f)\n",
    "\n",
    "    username = path.split('/')[-1][:-5]\n",
    "    if (len(data['tweets'])>0) & (len(data['retweets'])>0) & (len(data['replies'])>0):\n",
    "        end_tweet = to_datetime(data['tweets'][0]['created_at']) \n",
    "        start_tweet = to_datetime(data['tweets'][-1]['created_at'])\n",
    "        \n",
    "        end_retweet = to_datetime(data['retweets'][0]['created_at'])\n",
    "        start_retweet = to_datetime(data['retweets'][-1]['created_at'])\n",
    "        \n",
    "        end_replies = to_datetime(data['replies'][0]['created_at'])\n",
    "        start_replies = to_datetime(data['replies'][-1]['created_at'])\n",
    "\n",
    "        status_datetime = [end_tweet,start_tweet,end_retweet,start_retweet,end_replies,start_replies]\n",
    "    else :\n",
    "        status_datetime = [0,0,0,0]\n",
    "        \n",
    "    return {'username':username,'start_activity':min(status_datetime), 'end_activity':max(status_datetime)}"
   ]
  },
  {
   "cell_type": "markdown",
   "metadata": {
    "colab_type": "text",
    "id": "gQizKb1oty6Y"
   },
   "source": [
    "## Get all username activity"
   ]
  },
  {
   "cell_type": "code",
   "execution_count": null,
   "metadata": {
    "colab": {
     "base_uri": "https://localhost:8080/",
     "height": 34
    },
    "colab_type": "code",
    "id": "ILDz3ToPeA9X",
    "outputId": "03096d80-eb83-410f-f7e9-1a434b93894d"
   },
   "outputs": [],
   "source": [
    "all_username_activity = []\n",
    "\n",
    "for user_path in tqdm(glob.glob(path)):\n",
    "    all_username_activity.append(get_activity_time(user_path))"
   ]
  },
  {
   "cell_type": "code",
   "execution_count": null,
   "metadata": {
    "colab": {},
    "colab_type": "code",
    "id": "swZmrCIwnI-E"
   },
   "outputs": [],
   "source": [
    "with open(out_path+'activity.pkl', 'wb') as f:\n",
    "    pickle.dump(all_username_activity, f)"
   ]
  },
  {
   "cell_type": "markdown",
   "metadata": {
    "colab_type": "text",
    "id": "f7-XJtNbke_z"
   },
   "source": [
    "## Convert all data from pickle to json format"
   ]
  },
  {
   "cell_type": "code",
   "execution_count": null,
   "metadata": {
    "colab": {
     "base_uri": "https://localhost:8080/",
     "height": 1000
    },
    "colab_type": "code",
    "id": "elZU5Y0Vzvpc",
    "outputId": "6a44abcf-845a-48d1-ccc4-4d957e149ac3"
   },
   "outputs": [],
   "source": [
    "for user_path in tqdm(glob.glob(in_path)):\n",
    "    convert(user_path, out_path)"
   ]
  }
 ],
 "metadata": {
  "colab": {
   "authorship_tag": "ABX9TyNEgjYH7YZSMoTgjum9hhLu",
   "collapsed_sections": [],
   "include_colab_link": true,
   "name": "R2_convert_data_format_n_get_activity.ipynb",
   "provenance": []
  },
  "kernelspec": {
   "display_name": "Python 3",
   "language": "python",
   "name": "python3"
  },
  "language_info": {
   "codemirror_mode": {
    "name": "ipython",
    "version": 3
   },
   "file_extension": ".py",
   "mimetype": "text/x-python",
   "name": "python",
   "nbconvert_exporter": "python",
   "pygments_lexer": "ipython3",
   "version": "3.7.3"
  }
 },
 "nbformat": 4,
 "nbformat_minor": 4
}
