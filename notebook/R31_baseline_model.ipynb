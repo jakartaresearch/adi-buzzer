{
 "cells": [
  {
   "cell_type": "code",
   "execution_count": 1,
   "metadata": {},
   "outputs": [],
   "source": [
    "import pandas as pd\n",
    "import numpy as np\n",
    "\n",
    "\n",
    "from sklearn.compose import ColumnTransformer\n",
    "from sklearn.feature_extraction.text import TfidfVectorizer\n",
    "from sklearn.ensemble import RandomForestClassifier, GradientBoostingClassifier\n",
    "from sklearn.pipeline import Pipeline\n",
    "from sklearn.preprocessing import OneHotEncoder, MinMaxScaler, StandardScaler\n",
    "from sklearn.model_selection import train_test_split\n",
    "from sklearn.metrics import accuracy_score, precision_score, recall_score, f1_score\n",
    "from sklearn.metrics import plot_confusion_matrix\n",
    "from sklearn.impute import SimpleImputer"
   ]
  },
  {
   "cell_type": "markdown",
   "metadata": {},
   "source": [
    "## Load RAW Dataset"
   ]
  },
  {
   "cell_type": "code",
   "execution_count": 2,
   "metadata": {},
   "outputs": [],
   "source": [
    "path = '../data/dataset/'\n",
    "\n",
    "RAW_X_train = pd.read_csv(path+'RAW_X_train.csv', index_col='username', keep_default_na=False)\n",
    "RAW_X_test = pd.read_csv(path+'RAW_X_test.csv', index_col='username', keep_default_na=False)\n",
    "RAW_y_train = pd.read_csv(path+'RAW_y_train.csv', keep_default_na=False)\n",
    "RAW_y_test = pd.read_csv(path+'RAW_y_test.csv', keep_default_na=False)"
   ]
  },
  {
   "cell_type": "code",
   "execution_count": 3,
   "metadata": {},
   "outputs": [
    {
     "data": {
      "text/plain": [
       "Index(['is_name_social_political', 'desc', 'tweets', 'n_tweet',\n",
       "       'quoted_tweets', 'n_tweet_use_hashtag', 'ratio_tweets_use_hashtag',\n",
       "       'n_photo', 'n_video', 'buzzer', 'text_used'],\n",
       "      dtype='object')"
      ]
     },
     "execution_count": 3,
     "metadata": {},
     "output_type": "execute_result"
    }
   ],
   "source": [
    "RAW_X_train.columns"
   ]
  },
  {
   "cell_type": "markdown",
   "metadata": {},
   "source": [
    "## Modeling and Evaluation (Multiple features)"
   ]
  },
  {
   "cell_type": "code",
   "execution_count": 4,
   "metadata": {},
   "outputs": [],
   "source": [
    "def scoring(y_test, y_pred):\n",
    "    \n",
    "    acc = accuracy_score(y_test, y_pred)\n",
    "    pre = precision_score(y_test, y_pred)\n",
    "    rec = recall_score(y_test, y_pred)\n",
    "    f1 = f1_score(y_test, y_pred)\n",
    "    \n",
    "    print(f\"accuracy: {acc:.2f} | precision: {pre:.2f} | recall: {rec:.2f} | f score: {f1:.2f}\")"
   ]
  },
  {
   "cell_type": "code",
   "execution_count": 5,
   "metadata": {},
   "outputs": [],
   "source": [
    "preprocessor = ColumnTransformer(\n",
    "    transformers=[\n",
    "        ('combine_tweet', TfidfVectorizer(), 'text_used'),\n",
    "        ('user_desc', TfidfVectorizer(), 'desc'),\n",
    "        ('is_name', SimpleImputer(strategy='most_frequent'), ['is_name_social_political']),\n",
    "        ('ratio', SimpleImputer(strategy='median'), ['ratio_tweets_use_hashtag']),\n",
    "        ('numeric', StandardScaler(), ['n_tweet', 'n_photo', 'n_video'])\n",
    "    ])"
   ]
  },
  {
   "cell_type": "code",
   "execution_count": 6,
   "metadata": {},
   "outputs": [],
   "source": [
    "pipe = Pipeline(\n",
    "    steps=[\n",
    "        ('preprocessor', preprocessor),\n",
    "        ('classifier', RandomForestClassifier(n_estimators=400, n_jobs=-1))\n",
    "    ]\n",
    ")"
   ]
  },
  {
   "cell_type": "code",
   "execution_count": 7,
   "metadata": {},
   "outputs": [
    {
     "name": "stderr",
     "output_type": "stream",
     "text": [
      "/home/ryx/miniconda3/lib/python3.8/site-packages/sklearn/pipeline.py:335: DataConversionWarning: A column-vector y was passed when a 1d array was expected. Please change the shape of y to (n_samples,), for example using ravel().\n",
      "  self._final_estimator.fit(Xt, y, **fit_params_last_step)\n"
     ]
    },
    {
     "data": {
      "text/plain": [
       "Pipeline(steps=[('preprocessor',\n",
       "                 ColumnTransformer(transformers=[('combine_tweet',\n",
       "                                                  TfidfVectorizer(),\n",
       "                                                  'text_used'),\n",
       "                                                 ('user_desc',\n",
       "                                                  TfidfVectorizer(), 'desc'),\n",
       "                                                 ('is_name',\n",
       "                                                  SimpleImputer(strategy='most_frequent'),\n",
       "                                                  ['is_name_social_political']),\n",
       "                                                 ('ratio',\n",
       "                                                  SimpleImputer(strategy='median'),\n",
       "                                                  ['ratio_tweets_use_hashtag']),\n",
       "                                                 ('numeric', StandardScaler(),\n",
       "                                                  ['n_tweet', 'n_photo',\n",
       "                                                   'n_video'])])),\n",
       "                ('classifier',\n",
       "                 RandomForestClassifier(n_estimators=400, n_jobs=-1))])"
      ]
     },
     "execution_count": 7,
     "metadata": {},
     "output_type": "execute_result"
    }
   ],
   "source": [
    "pipe.fit(RAW_X_train, RAW_y_train)"
   ]
  },
  {
   "cell_type": "code",
   "execution_count": 8,
   "metadata": {},
   "outputs": [],
   "source": [
    "RAW_y_pred = pipe.predict(RAW_X_test)"
   ]
  },
  {
   "cell_type": "code",
   "execution_count": 9,
   "metadata": {},
   "outputs": [
    {
     "name": "stdout",
     "output_type": "stream",
     "text": [
      "accuracy: 0.82 | precision: 0.71 | recall: 0.28 | f score: 0.40\n"
     ]
    }
   ],
   "source": [
    "# Evaluate\n",
    "scoring(RAW_y_test, RAW_y_pred)"
   ]
  },
  {
   "cell_type": "code",
   "execution_count": 10,
   "metadata": {},
   "outputs": [
    {
     "data": {
      "text/plain": [
       "<sklearn.metrics._plot.confusion_matrix.ConfusionMatrixDisplay at 0x7f23097afcd0>"
      ]
     },
     "execution_count": 10,
     "metadata": {},
     "output_type": "execute_result"
    },
    {
     "data": {
      "image/png": "[encoded data removed]",
      "text/plain": [
       "<Figure size 432x288 with 2 Axes>"
      ]
     },
     "metadata": {
      "needs_background": "light"
     },
     "output_type": "display_data"
    }
   ],
   "source": [
    "plot_confusion_matrix(pipe, RAW_X_test, RAW_y_test)"
   ]
  },
  {
   "cell_type": "markdown",
   "metadata": {},
   "source": [
    "## ONLY Tweets text features"
   ]
  },
  {
   "cell_type": "code",
   "execution_count": 11,
   "metadata": {},
   "outputs": [],
   "source": [
    "tfidf = TfidfVectorizer()\n",
    "tfidf.fit(RAW_X_train.text_used)\n",
    "\n",
    "X_train_txt = tfidf.transform(RAW_X_train.text_used)\n",
    "X_test_txt = tfidf.transform(RAW_X_test.text_used)"
   ]
  },
  {
   "cell_type": "code",
   "execution_count": 12,
   "metadata": {},
   "outputs": [
    {
     "name": "stderr",
     "output_type": "stream",
     "text": [
      "<ipython-input-12-8aa5eccff55a>:2: DataConversionWarning: A column-vector y was passed when a 1d array was expected. Please change the shape of y to (n_samples,), for example using ravel().\n",
      "  model.fit(X_train_txt, RAW_y_train)\n"
     ]
    },
    {
     "data": {
      "text/plain": [
       "RandomForestClassifier(n_estimators=400, n_jobs=-1)"
      ]
     },
     "execution_count": 12,
     "metadata": {},
     "output_type": "execute_result"
    }
   ],
   "source": [
    "model = RandomForestClassifier(n_estimators=400, n_jobs=-1)\n",
    "model.fit(X_train_txt, RAW_y_train)"
   ]
  },
  {
   "cell_type": "code",
   "execution_count": 13,
   "metadata": {},
   "outputs": [
    {
     "name": "stdout",
     "output_type": "stream",
     "text": [
      "accuracy: 0.82 | precision: 0.72 | recall: 0.26 | f score: 0.38\n"
     ]
    }
   ],
   "source": [
    "y_pred_txt = model.predict(X_test_txt)\n",
    "scoring(RAW_y_test, y_pred_txt)"
   ]
  },
  {
   "cell_type": "markdown",
   "metadata": {},
   "source": [
    "## Prepare TF-IDF dataset"
   ]
  },
  {
   "cell_type": "code",
   "execution_count": 14,
   "metadata": {},
   "outputs": [
    {
     "data": {
      "text/plain": [
       "TfidfVectorizer(max_features=3000)"
      ]
     },
     "execution_count": 14,
     "metadata": {},
     "output_type": "execute_result"
    }
   ],
   "source": [
    "tweet_vectorizer = TfidfVectorizer(max_features=50000)\n",
    "desc_vectorizer = TfidfVectorizer(max_features=3000)\n",
    "\n",
    "tweet_vectorizer.fit(RAW_X_train.text_used)\n",
    "desc_vectorizer.fit(RAW_X_train.desc)"
   ]
  },
  {
   "cell_type": "code",
   "execution_count": 15,
   "metadata": {},
   "outputs": [],
   "source": [
    "def feat_stack(X, y, tweet_vec, desc_vec):\n",
    "    tweet_tfidf = tweet_vec.transform(X.text_used)\n",
    "    desc_tfidf = desc_vec.transform(X.desc)\n",
    "    \n",
    "    numeric_feat = ['is_name_social_political', 'n_tweet', 'ratio_tweets_use_hashtag',\n",
    "                'n_photo', 'n_video']\n",
    "    numeric_arr = X[numeric_feat].to_numpy()\n",
    "    \n",
    "    label = X.buzzer.to_numpy().reshape(-1, 1)\n",
    "    \n",
    "    ready_data = np.hstack((numeric_arr, desc_tfidf.toarray(), \n",
    "                            tweet_tfidf.toarray()))\n",
    "    return ready_data, label"
   ]
  },
  {
   "cell_type": "code",
   "execution_count": 16,
   "metadata": {},
   "outputs": [],
   "source": [
    "X_train_tfidf, y_train_tfidf = feat_stack(RAW_X_train, RAW_y_train, tweet_vectorizer, desc_vectorizer)\n",
    "X_test_tfidf, y_test_tfidf = feat_stack(RAW_X_test, RAW_y_test, tweet_vectorizer, desc_vectorizer)"
   ]
  },
  {
   "cell_type": "code",
   "execution_count": 17,
   "metadata": {},
   "outputs": [],
   "source": [
    "data = {'X_train_tfidf.npy':X_train_tfidf, 'X_test_tfidf.npy':X_test_tfidf, \n",
    "        'y_train_tfidf.npy':y_train_tfidf, 'y_test_tfidf.npy':y_test_tfidf}\n",
    "\n",
    "for key, value in data.items(): \n",
    "    with open('../data/dataset/'+key, 'wb') as f:\n",
    "        np.save(f, value)"
   ]
  },
  {
   "cell_type": "code",
   "execution_count": null,
   "metadata": {},
   "outputs": [],
   "source": []
  }
 ],
 "metadata": {
  "kernelspec": {
   "display_name": "Python 3",
   "language": "python",
   "name": "python3"
  },
  "language_info": {
   "codemirror_mode": {
    "name": "ipython",
    "version": 3
   },
   "file_extension": ".py",
   "mimetype": "text/x-python",
   "name": "python",
   "nbconvert_exporter": "python",
   "pygments_lexer": "ipython3",
   "version": "3.8.3"
  }
 },
 "nbformat": 4,
 "nbformat_minor": 4
}
