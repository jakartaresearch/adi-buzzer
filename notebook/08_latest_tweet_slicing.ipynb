{
 "cells": [
  {
   "cell_type": "markdown",
   "metadata": {},
   "source": [
    "# Filter Latest Tweets \n",
    "tweets that are only written in ID in their latest tweet"
   ]
  },
  {
   "cell_type": "code",
   "execution_count": null,
   "metadata": {},
   "outputs": [],
   "source": [
    "import os\n",
    "import re\n",
    "import glob\n",
    "import json\n",
    "import pickle\n",
    "\n",
    "from tqdm import tqdm\n",
    "import datetime as dt\n",
    "from datetime import datetime\n",
    "\n",
    "import pandas as pd\n",
    "import numpy as np\n",
    "import matplotlib.pyplot as plt\n",
    "import seaborn as sns\n",
    "\n",
    "import langdetect"
   ]
  },
  {
   "cell_type": "code",
   "execution_count": null,
   "metadata": {},
   "outputs": [],
   "source": [
    "pd.set_option(\"max_columns\", 55)\n",
    "pd.set_option(\"max_rows\", 20)"
   ]
  },
  {
   "cell_type": "code",
   "execution_count": null,
   "metadata": {},
   "outputs": [],
   "source": [
    "# path input\n",
    "CHECK_LATEST_TWEET_PATH = \"../data/supports/check_latest_tweet.pkl\"\n",
    "PROFILE_W_LANGUAGE_PATH = \"../data/supports/profile_w_lang.json\"\n",
    "\n",
    "# path output\n",
    "PROFILE_DESCRIPTION_PATH = \"../data/supports/profile_description.json\"\n",
    "PROFILE_ID_PATH = \"profile_id.json\"\n",
    "SCREEN_NAME_ID_PATH = \"../data/supports/screen_name_id.json\""
   ]
  },
  {
   "cell_type": "code",
   "execution_count": null,
   "metadata": {},
   "outputs": [],
   "source": [
    "d_profile = pickle.load(open(CHECK_LATEST_TWEET_PATH, 'rb'))"
   ]
  },
  {
   "cell_type": "code",
   "execution_count": null,
   "metadata": {},
   "outputs": [],
   "source": [
    "d_profile.shape"
   ]
  },
  {
   "cell_type": "code",
   "execution_count": null,
   "metadata": {},
   "outputs": [],
   "source": [
    "d_profile.columns"
   ]
  },
  {
   "cell_type": "markdown",
   "metadata": {},
   "source": [
    "## Filtering"
   ]
  },
  {
   "cell_type": "code",
   "execution_count": null,
   "metadata": {},
   "outputs": [],
   "source": [
    "## duration latest tweet of an account to the date when the data gathered\n",
    "d_profile = d_profile[d_profile[\"duration_latest_tweet\"] < 7]"
   ]
  },
  {
   "cell_type": "code",
   "execution_count": null,
   "metadata": {},
   "outputs": [],
   "source": [
    "d_profile[d_profile.description.str.len() > 1].shape"
   ]
  },
  {
   "cell_type": "code",
   "execution_count": null,
   "metadata": {},
   "outputs": [],
   "source": [
    "d_profile_desc = d_profile[d_profile.description.str.len() > 1]"
   ]
  },
  {
   "cell_type": "code",
   "execution_count": null,
   "metadata": {},
   "outputs": [],
   "source": [
    "d_profile_desc[[\"screen_name\", \"name\", \"description\"]].to_json(\n",
    "    PROFILE_DESCRIPTION_PATH, orient='records')"
   ]
  },
  {
   "cell_type": "markdown",
   "metadata": {},
   "source": [
    "#### filter akun dengan bahasa id"
   ]
  },
  {
   "cell_type": "code",
   "execution_count": null,
   "metadata": {},
   "outputs": [],
   "source": [
    "d_profile_w_lang = pd.read_json(PROFILE_W_LANGUAGE_PATH)"
   ]
  },
  {
   "cell_type": "code",
   "execution_count": null,
   "metadata": {},
   "outputs": [],
   "source": [
    "d_profile_w_lang.head()"
   ]
  },
  {
   "cell_type": "code",
   "execution_count": null,
   "metadata": {},
   "outputs": [],
   "source": [
    "d_profile_w_lang = d_profile_w_lang[[\"screen_name\", \"lang_desc\"]]"
   ]
  },
  {
   "cell_type": "code",
   "execution_count": null,
   "metadata": {},
   "outputs": [],
   "source": [
    "## merge label language dengan profile description\n",
    "d_profile_desc = pd.merge(d_profile_desc, d_profile_w_lang, on=\"screen_name\")\n",
    "\n",
    "## filter lang_desc == id\n",
    "d_profile_id = d_profile_desc[d_profile_desc[\"lang_desc\"]==\"id\"]\n",
    "\n",
    "## save ke file\n",
    "d_profile_id.to_json(PROFILE_ID_PATH, orient=\"records\")"
   ]
  },
  {
   "cell_type": "markdown",
   "metadata": {},
   "source": [
    "## crunching"
   ]
  },
  {
   "cell_type": "code",
   "execution_count": null,
   "metadata": {},
   "outputs": [],
   "source": [
    "with open(PROFILE_ID_PATH, 'r', encoding='utf-8') as f:\n",
    "    data_dict = json.load(f)"
   ]
  },
  {
   "cell_type": "code",
   "execution_count": null,
   "metadata": {},
   "outputs": [],
   "source": [
    "d_profile = pd.DataFrame(data_dict)"
   ]
  },
  {
   "cell_type": "code",
   "execution_count": null,
   "metadata": {},
   "outputs": [],
   "source": [
    "d_profile.columns"
   ]
  },
  {
   "cell_type": "code",
   "execution_count": null,
   "metadata": {},
   "outputs": [],
   "source": [
    "cols = ['screen_name', 'name', 'description', 'friends_count', 'followers_count', 'days_duration', \n",
    "        'activity_count', 'activity_perday', 'blocked_by', 'blocking',\n",
    "        'contributors_enabled', 'created_at', 'created_at_format',\n",
    "       'default_profile', 'default_profile_image',\n",
    "       'duration_latest_tweet', 'entities', 'favourites_count',\n",
    "       'follow_request_sent', 'following',\n",
    "       'geo_enabled', 'has_extended_profile', 'id', 'id_str',\n",
    "       'is_translation_enabled', 'is_translator', 'lang', 'lang_desc',\n",
    "       'latest_tweet', 'listed_count', 'live_following', 'location', 'muting',\n",
    "       'notifications', 'profile_background_color',\n",
    "       'profile_background_image_url', 'profile_background_image_url_https',\n",
    "       'profile_background_tile', 'profile_banner_url', 'profile_image_url',\n",
    "       'profile_image_url_https', 'profile_link_color', 'profile_location',\n",
    "       'profile_sidebar_border_color', 'profile_sidebar_fill_color',\n",
    "       'profile_text_color', 'profile_use_background_image', 'protected',\n",
    "       'status', 'statuses_count', 'time_zone',\n",
    "       'translator_type', 'url', 'utc_offset', 'verified',\n",
    "       'withheld_in_countries']"
   ]
  },
  {
   "cell_type": "code",
   "execution_count": null,
   "metadata": {},
   "outputs": [],
   "source": [
    "d_profile = d_profile[cols]"
   ]
  },
  {
   "cell_type": "code",
   "execution_count": null,
   "metadata": {},
   "outputs": [],
   "source": [
    "d_profile.head()"
   ]
  },
  {
   "cell_type": "markdown",
   "metadata": {},
   "source": [
    "dump to file"
   ]
  },
  {
   "cell_type": "code",
   "execution_count": null,
   "metadata": {},
   "outputs": [],
   "source": [
    "d_profile.screen_name.to_json(SCREEN_NAME_ID_PATH, orient='records')"
   ]
  },
  {
   "cell_type": "markdown",
   "metadata": {},
   "source": [
    "### fetch to file"
   ]
  },
  {
   "cell_type": "code",
   "execution_count": null,
   "metadata": {},
   "outputs": [],
   "source": [
    "class NpEncoder(json.JSONEncoder):\n",
    "    def default(self, obj):\n",
    "        if isinstance(obj, np.integer):\n",
    "            return int(obj)\n",
    "        elif isinstance(obj, np.floating):\n",
    "            return float(obj)\n",
    "        elif isinstance(obj, np.ndarray):\n",
    "            return obj.tolist()\n",
    "        elif isinstance(obj, np.bool_):\n",
    "            return str(obj)\n",
    "        else:\n",
    "            return super(NpEncoder, self).default(obj)"
   ]
  },
  {
   "cell_type": "code",
   "execution_count": null,
   "metadata": {},
   "outputs": [],
   "source": [
    "def write_json(filename, data):\n",
    "    path = os.path.join('../data/profile', filename+'json')\n",
    "    if not os.path.exists(path):\n",
    "        with open(path, 'w') as f:\n",
    "            f.write(json.dumps(data, cls=NpEncoder))"
   ]
  },
  {
   "cell_type": "code",
   "execution_count": null,
   "metadata": {},
   "outputs": [],
   "source": [
    "for index in tqdm(d_profile.index):\n",
    "    profile_dict = d_profile.loc[index].to_dict()\n",
    "    write_json(profile_dict[\"screen_name\"], profile_dict)"
   ]
  }
 ],
 "metadata": {
  "kernelspec": {
   "display_name": "Python 3",
   "language": "python",
   "name": "python3"
  },
  "language_info": {
   "codemirror_mode": {
    "name": "ipython",
    "version": 3
   },
   "file_extension": ".py",
   "mimetype": "text/x-python",
   "name": "python",
   "nbconvert_exporter": "python",
   "pygments_lexer": "ipython3",
   "version": "3.8.3"
  }
 },
 "nbformat": 4,
 "nbformat_minor": 4
}
