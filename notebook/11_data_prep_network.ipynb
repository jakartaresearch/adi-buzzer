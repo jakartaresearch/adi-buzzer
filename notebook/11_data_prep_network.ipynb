{
 "cells": [
  {
   "cell_type": "markdown",
   "metadata": {},
   "source": [
    "## Data Preprocessing for Network Analysis"
   ]
  },
  {
   "cell_type": "code",
   "execution_count": 1,
   "metadata": {},
   "outputs": [],
   "source": [
    "import re\n",
    "import json\n",
    "import pickle\n",
    "\n",
    "import pandas as pd\n",
    "import numpy as np\n",
    "import matplotlib.pyplot as plt\n",
    "import seaborn as sns\n",
    "\n",
    "from tqdm import tqdm\n",
    "\n",
    "from itertools import chain\n",
    "from collections import Counter"
   ]
  },
  {
   "cell_type": "code",
   "execution_count": 2,
   "metadata": {},
   "outputs": [],
   "source": [
    "tqdm.pandas()"
   ]
  },
  {
   "cell_type": "code",
   "execution_count": 3,
   "metadata": {},
   "outputs": [],
   "source": [
    "pd.options.display.max_rows = 10"
   ]
  },
  {
   "cell_type": "code",
   "execution_count": 4,
   "metadata": {},
   "outputs": [],
   "source": [
    "def read_pickle(path):\n",
    "    with open(path, 'rb') as f:\n",
    "        return pickle.load(f)"
   ]
  },
  {
   "cell_type": "code",
   "execution_count": 6,
   "metadata": {},
   "outputs": [],
   "source": [
    "d_199 = read_pickle(\"../data/supports/parsed_199.pkl\")\n",
    "d_6725 = read_pickle(\"../data/supports/parsed_7003.pkl\")"
   ]
  },
  {
   "cell_type": "code",
   "execution_count": null,
   "metadata": {},
   "outputs": [],
   "source": [
    "## ada 43 screen_names yang overlap\n",
    "d_6725[d_6725.screen_name.isin(d_199.screen_name.unique())].screen_name.unique()"
   ]
  },
  {
   "cell_type": "code",
   "execution_count": null,
   "metadata": {},
   "outputs": [],
   "source": [
    "d_tweets = pd.concat([d_199, d_6725], axis = 0, sort=False)"
   ]
  },
  {
   "cell_type": "code",
   "execution_count": null,
   "metadata": {},
   "outputs": [],
   "source": [
    "## remove duplicates\n",
    "d_tweets.drop_duplicates(subset=[\"id_tweet\"], keep='first', inplace=True)"
   ]
  },
  {
   "cell_type": "code",
   "execution_count": null,
   "metadata": {},
   "outputs": [],
   "source": [
    "d_tweets.reset_index(drop=True, inplace=True)"
   ]
  },
  {
   "cell_type": "code",
   "execution_count": null,
   "metadata": {},
   "outputs": [],
   "source": [
    "d_tweets.columns"
   ]
  },
  {
   "cell_type": "code",
   "execution_count": null,
   "metadata": {},
   "outputs": [],
   "source": [
    "column_ordered = ['screen_name', 'id_tweet', 'full_text', 'hashtags', 'user_mentions', 'created_at',\n",
    "                 'quote_is_quote_status', 'quote_screen_name', 'quote_id_tweet', 'quote_full_text',\n",
    "                  'quote_hashtags', 'quote_user_mentions', 'quote_created_at', \n",
    "                  \"in_reply_to_status_id_str\", \"in_reply_to_user_id_str\", \"in_reply_to_screen_name\"]"
   ]
  },
  {
   "cell_type": "code",
   "execution_count": null,
   "metadata": {},
   "outputs": [],
   "source": [
    "d_tweets = d_tweets[column_ordered]"
   ]
  },
  {
   "cell_type": "code",
   "execution_count": null,
   "metadata": {},
   "outputs": [],
   "source": [
    "d_tweets"
   ]
  },
  {
   "cell_type": "code",
   "execution_count": null,
   "metadata": {},
   "outputs": [],
   "source": [
    "## should change 1 to 0\n",
    "d_user_mention_quote = d_tweets[(d_tweets.user_mentions.apply(len) > 0) | (d_tweets.quote_screen_name)]"
   ]
  },
  {
   "cell_type": "code",
   "execution_count": null,
   "metadata": {},
   "outputs": [],
   "source": [
    "def interaction(row):\n",
    "    screen_name = row.screen_name\n",
    "    user_mentions = row.user_mentions\n",
    "    quote_screen_name = row.quote_screen_name\n",
    "    user_interaction = []\n",
    "    for username in user_mentions:\n",
    "        mentioned_screen_name = username[\"screen_name\"]\n",
    "        user_interaction.append(screen_name + \" - \" + mentioned_screen_name)\n",
    "        \n",
    "    if isinstance(quote_screen_name, str):\n",
    "        user_interaction.append(screen_name + \" - \" + quote_screen_name)\n",
    "        \n",
    "    return user_interaction"
   ]
  },
  {
   "cell_type": "code",
   "execution_count": null,
   "metadata": {
    "scrolled": true
   },
   "outputs": [],
   "source": [
    "d_user_mention_quote.shape"
   ]
  },
  {
   "cell_type": "code",
   "execution_count": null,
   "metadata": {
    "scrolled": true
   },
   "outputs": [],
   "source": [
    "d_user_mention_quote"
   ]
  },
  {
   "cell_type": "code",
   "execution_count": null,
   "metadata": {},
   "outputs": [],
   "source": [
    "d_user_mention_quote.loc[:, \"interaction_list\"] = d_user_mention_quote.progress_apply(interaction, axis = 1)"
   ]
  },
  {
   "cell_type": "code",
   "execution_count": null,
   "metadata": {},
   "outputs": [],
   "source": [
    "list_of_interactions = d_user_mention_quote.loc[:, \"interaction_list\"].to_list()"
   ]
  },
  {
   "cell_type": "code",
   "execution_count": null,
   "metadata": {},
   "outputs": [],
   "source": [
    "interactions_count = Counter(list(chain(*list_of_interactions)))"
   ]
  },
  {
   "cell_type": "code",
   "execution_count": null,
   "metadata": {
    "scrolled": true
   },
   "outputs": [],
   "source": [
    "d_connection = pd.DataFrame(data = {\"connection\": list(interactions_count.keys()), \n",
    "                                    \"frequency\": list(interactions_count.values())})"
   ]
  },
  {
   "cell_type": "code",
   "execution_count": null,
   "metadata": {},
   "outputs": [],
   "source": [
    "d_connection.shape"
   ]
  },
  {
   "cell_type": "code",
   "execution_count": null,
   "metadata": {},
   "outputs": [],
   "source": [
    "d_connection.head()"
   ]
  },
  {
   "cell_type": "code",
   "execution_count": null,
   "metadata": {},
   "outputs": [],
   "source": [
    "d_connection.to_csv(\"../data/supports/connection.csv\", index=False)"
   ]
  },
  {
   "cell_type": "markdown",
   "metadata": {},
   "source": [
    "## Preparing data for tweet network"
   ]
  },
  {
   "cell_type": "code",
   "execution_count": null,
   "metadata": {},
   "outputs": [],
   "source": [
    "d_tweet_connection = d_tweets[(~d_tweets.in_reply_to_status_id_str.isna()) | (~d_tweets.quote_id_tweet.isna())]"
   ]
  },
  {
   "cell_type": "code",
   "execution_count": null,
   "metadata": {},
   "outputs": [],
   "source": [
    "def tweet_interaction(df):\n",
    "    id_tweet = df.id_tweet\n",
    "    in_reply_to_status_id_str = df.in_reply_to_status_id_str\n",
    "    quote_id_tweet = df.quote_id_tweet\n",
    "    \n",
    "    connection = []\n",
    "    \n",
    "    if isinstance(in_reply_to_status_id_str, str):\n",
    "        connection.append({\"id_tweets\": (id_tweet, in_reply_to_status_id_str), \n",
    "                           \"screen_name\": (df.screen_name, df.in_reply_to_screen_name),\n",
    "                           \"type\": \"in_reply\"})\n",
    "    \n",
    "    if isinstance(quote_id_tweet, str):\n",
    "        connection.append({\"id_tweets\": (id_tweet, quote_id_tweet),\n",
    "                           \"screen_name\": (df.screen_name, df.quote_screen_name),\n",
    "                           \"type\": \"in_quote\"})\n",
    "        \n",
    "    return connection"
   ]
  },
  {
   "cell_type": "code",
   "execution_count": null,
   "metadata": {
    "scrolled": true
   },
   "outputs": [],
   "source": [
    "d_tweet_connection.loc[:, \"interaction_list\"] = d_tweet_connection.progress_apply(tweet_interaction, axis = 1)"
   ]
  },
  {
   "cell_type": "code",
   "execution_count": null,
   "metadata": {
    "scrolled": true
   },
   "outputs": [],
   "source": [
    "id_tweet_interaction = list(chain(*d_tweet_connection.interaction_list.values.tolist()))"
   ]
  },
  {
   "cell_type": "code",
   "execution_count": null,
   "metadata": {
    "scrolled": true
   },
   "outputs": [],
   "source": [
    "with open(\"../data/supports/id_tweet_connection.json\", 'w') as f:\n",
    "    json.dump(id_tweet_interaction, f)"
   ]
  },
  {
   "cell_type": "code",
   "execution_count": null,
   "metadata": {},
   "outputs": [],
   "source": []
  }
 ],
 "metadata": {
  "kernelspec": {
   "display_name": "Python 3",
   "language": "python",
   "name": "python3"
  },
  "language_info": {
   "codemirror_mode": {
    "name": "ipython",
    "version": 3
   },
   "file_extension": ".py",
   "mimetype": "text/x-python",
   "name": "python",
   "nbconvert_exporter": "python",
   "pygments_lexer": "ipython3",
   "version": "3.7.3"
  }
 },
 "nbformat": 4,
 "nbformat_minor": 4
}
