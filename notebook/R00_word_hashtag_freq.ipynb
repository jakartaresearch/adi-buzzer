{
 "cells": [
  {
   "cell_type": "code",
   "execution_count": 1,
   "metadata": {},
   "outputs": [],
   "source": [
    "import json\n",
    "import pandas as pd\n",
    "import glob\n",
    "import random\n",
    "from maleo.wizard import Wizard\n",
    "from nltk.tokenize import word_tokenize\n",
    "from nltk import ngrams, FreqDist\n",
    "from tqdm import tqdm"
   ]
  },
  {
   "cell_type": "code",
   "execution_count": 2,
   "metadata": {},
   "outputs": [],
   "source": [
    "def read_json(path):\n",
    "    with open(path, 'r') as file:\n",
    "        return json.load(file)"
   ]
  },
  {
   "cell_type": "code",
   "execution_count": 3,
   "metadata": {},
   "outputs": [],
   "source": [
    "def get_data(list_path):\n",
    "    list_tweets = []\n",
    "    for user_path in tqdm(list_path):\n",
    "        data = read_json(user_path)\n",
    "\n",
    "        for twt in data['tweets']:\n",
    "            list_tweets.append(twt['full_text'])\n",
    "\n",
    "    df_tweets = pd.Series(list_tweets)\n",
    "    return data, df_tweets"
   ]
  },
  {
   "cell_type": "code",
   "execution_count": 4,
   "metadata": {},
   "outputs": [],
   "source": [
    "def get_all_hashtag(list_tweets):\n",
    "    all_hashtag = []\n",
    "    \n",
    "    wiz = Wizard()\n",
    "    twt_hashtag = wiz.get_hashtag(list_tweets)['Hashtag']\n",
    "    n_twt_use_hashtag = len(twt_hashtag)\n",
    "    \n",
    "    for i in twt_hashtag:\n",
    "        all_hashtag += i\n",
    "    return n_twt_use_hashtag, all_hashtag"
   ]
  },
  {
   "cell_type": "code",
   "execution_count": 5,
   "metadata": {},
   "outputs": [],
   "source": [
    "def data_preprocessing(data):\n",
    "    wiz = Wizard()\n",
    "    out = wiz.rm_link(data)\n",
    "    out = wiz.rm_non_ascii(out)\n",
    "    out = wiz.rm_char(out)\n",
    "    out = wiz.rm_punc(out)\n",
    "    out = wiz.rm_multiple_space(out)\n",
    "    out = wiz.rm_stopword(out)\n",
    "    out = out.apply(str.lower)\n",
    "    return out"
   ]
  },
  {
   "cell_type": "code",
   "execution_count": 6,
   "metadata": {},
   "outputs": [],
   "source": [
    "data_path = '../data/200_buzzer/'\n",
    "all_buzzer = glob.glob(data_path+'*.json')"
   ]
  },
  {
   "cell_type": "code",
   "execution_count": 7,
   "metadata": {},
   "outputs": [
    {
     "name": "stderr",
     "output_type": "stream",
     "text": [
      "100%|██████████| 199/199 [00:42<00:00,  4.66it/s]\n"
     ]
    }
   ],
   "source": [
    "raw_data, df_data = get_data(all_buzzer)"
   ]
  },
  {
   "cell_type": "code",
   "execution_count": 8,
   "metadata": {},
   "outputs": [
    {
     "name": "stdout",
     "output_type": "stream",
     "text": [
      "Jumlah tweets= 41533\n"
     ]
    }
   ],
   "source": [
    "print('Jumlah tweets=', len(df_data))"
   ]
  },
  {
   "cell_type": "code",
   "execution_count": 9,
   "metadata": {},
   "outputs": [],
   "source": [
    "n_twt_use_hashtag, all_hashtag = get_all_hashtag(df_data)"
   ]
  },
  {
   "cell_type": "code",
   "execution_count": 13,
   "metadata": {},
   "outputs": [],
   "source": [
    "clean_data = data_preprocessing(df_data)"
   ]
  },
  {
   "cell_type": "code",
   "execution_count": 41,
   "metadata": {},
   "outputs": [
    {
     "name": "stderr",
     "output_type": "stream",
     "text": [
      "100%|██████████| 41533/41533 [02:29<00:00, 277.57it/s]\n"
     ]
    }
   ],
   "source": [
    "all_words = []\n",
    "\n",
    "for dt in tqdm(clean_data):\n",
    "    all_words = all_words + word_tokenize(dt)\n",
    "\n",
    "all_counts = FreqDist(all_words)"
   ]
  },
  {
   "cell_type": "code",
   "execution_count": 43,
   "metadata": {},
   "outputs": [
    {
     "data": {
      "text/plain": [
       "57446"
      ]
     },
     "execution_count": 43,
     "metadata": {},
     "output_type": "execute_result"
    }
   ],
   "source": [
    "len(all_counts)"
   ]
  },
  {
   "cell_type": "code",
   "execution_count": 42,
   "metadata": {},
   "outputs": [
    {
     "data": {
      "text/plain": [
       "[('yg', 8758),\n",
       " ('amp', 3363),\n",
       " ('indonesia', 2819),\n",
       " ('gak', 2501),\n",
       " ('the', 2149),\n",
       " ('jokowi', 2062),\n",
       " ('covid', 2008),\n",
       " ('19', 1929),\n",
       " ('rakyat', 1860),\n",
       " ('aja', 1764)]"
      ]
     },
     "execution_count": 42,
     "metadata": {},
     "output_type": "execute_result"
    }
   ],
   "source": [
    "all_counts.most_common(10)"
   ]
  },
  {
   "cell_type": "code",
   "execution_count": 44,
   "metadata": {},
   "outputs": [
    {
     "data": {
      "text/plain": [
       "[('ReformasiDikorupsi', 254),\n",
       " ('ShopeeID', 171),\n",
       " ('RakyatDukungNewPresident', 156),\n",
       " ('COVID19', 152),\n",
       " ('BersatuLawanCovid19', 137),\n",
       " ('TolakOmnibusLaw', 136),\n",
       " ('SolidaritasLawanCorona', 128),\n",
       " ('TangkisKomunis', 120),\n",
       " ('PerempuanBerdaulat', 119),\n",
       " ('BonekaSial', 117)]"
      ]
     },
     "execution_count": 44,
     "metadata": {},
     "output_type": "execute_result"
    }
   ],
   "source": [
    "hashtag_freq = FreqDist(all_hashtag)\n",
    "hashtag_freq.most_common(10)"
   ]
  },
  {
   "cell_type": "code",
   "execution_count": 45,
   "metadata": {},
   "outputs": [],
   "source": [
    "pd.DataFrame(all_counts.most_common(1000), columns=['word', 'count']).to_csv('../result/word_freq.csv', index=False)"
   ]
  },
  {
   "cell_type": "code",
   "execution_count": 46,
   "metadata": {},
   "outputs": [],
   "source": [
    "pd.DataFrame(hashtag_freq.most_common(1000), columns=['hashtag', 'count']).to_csv('../result/hashtag_freq.csv', index=False)"
   ]
  },
  {
   "cell_type": "code",
   "execution_count": null,
   "metadata": {},
   "outputs": [],
   "source": []
  }
 ],
 "metadata": {
  "kernelspec": {
   "display_name": "Python 3",
   "language": "python",
   "name": "python3"
  },
  "language_info": {
   "codemirror_mode": {
    "name": "ipython",
    "version": 3
   },
   "file_extension": ".py",
   "mimetype": "text/x-python",
   "name": "python",
   "nbconvert_exporter": "python",
   "pygments_lexer": "ipython3",
   "version": "3.8.3"
  }
 },
 "nbformat": 4,
 "nbformat_minor": 4
}
