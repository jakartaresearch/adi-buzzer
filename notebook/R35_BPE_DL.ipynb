{
 "cells": [
  {
   "cell_type": "code",
   "execution_count": 1,
   "metadata": {},
   "outputs": [],
   "source": [
    "import time\n",
    "import numpy as np\n",
    "import pandas as pd\n",
    "import warnings\n",
    "import torch\n",
    "import torch.nn as nn\n",
    "import torch.optim as optim\n",
    "\n",
    "from sklearn.exceptions import UndefinedMetricWarning\n",
    "warnings.filterwarnings('ignore', category=UndefinedMetricWarning) \n",
    "\n",
    "from tqdm import tqdm\n",
    "from sklearn.model_selection import train_test_split\n",
    "from sklearn.metrics import accuracy_score, precision_score, recall_score, f1_score\n",
    "from bpemb import BPEmb\n",
    "from torch import tensor\n",
    "from torch.utils.data import Dataset, DataLoader, RandomSampler\n",
    "from torch.nn.utils.rnn import pad_sequence"
   ]
  },
  {
   "cell_type": "markdown",
   "metadata": {},
   "source": [
    "## Prepare dataset and model"
   ]
  },
  {
   "cell_type": "code",
   "execution_count": 2,
   "metadata": {},
   "outputs": [
    {
     "name": "stdout",
     "output_type": "stream",
     "text": [
      "cpu\n"
     ]
    }
   ],
   "source": [
    "device = \"cuda\" if torch.cuda.is_available() else \"cpu\"\n",
    "print(device)"
   ]
  },
  {
   "cell_type": "code",
   "execution_count": 3,
   "metadata": {},
   "outputs": [],
   "source": [
    "def load_data(path):\n",
    "    data = pd.read_csv(path, keep_default_na=False)\n",
    "    return data\n",
    "\n",
    "def prepare_dataset(X_train_pth, y_train_pth, X_test_pth, y_test_pth):\n",
    "    X_test = load_data(X_test_pth)\n",
    "    y_test = load_data(y_test_pth)\n",
    "    X_test.reset_index(drop=True, inplace=True)\n",
    "    y_test.reset_index(drop=True, inplace=True)\n",
    "    test = (X_test, y_test)\n",
    "\n",
    "    X_tmp = load_data(X_train_pth)\n",
    "    y_tmp = load_data(y_train_pth)\n",
    "    X_train, X_val, y_train, y_val = train_test_split(X_tmp, y_tmp, test_size=0.2, random_state=42)\n",
    "    X_train.reset_index(drop=True, inplace=True)\n",
    "    y_train.reset_index(drop=True, inplace=True)\n",
    "    X_val.reset_index(drop=True, inplace=True)\n",
    "    y_val.reset_index(drop=True, inplace=True)\n",
    "\n",
    "    train = (X_train, y_train)\n",
    "    val = (X_val, y_val)\n",
    "    return train, val, test"
   ]
  },
  {
   "cell_type": "code",
   "execution_count": 4,
   "metadata": {},
   "outputs": [],
   "source": [
    "class DatasetBuzzer(Dataset):\n",
    "    def __init__(self, data):\n",
    "        self.data = data\n",
    "        self.bpe = BPEmb(lang=\"id\", vs=100000, dim=300)\n",
    "        \n",
    "    def __getitem__(self, idx):\n",
    "        x_raw = self.data[0].loc[idx, 'text_used']\n",
    "        y  = self.data[1].loc[idx, 'buzzer']\n",
    "        \n",
    "        x = self.bpe.encode_ids(x_raw)\n",
    "        x = tensor(x)\n",
    "        y = torch.LongTensor([y])\n",
    "        \n",
    "        return (x, y)\n",
    "    \n",
    "    def __len__(self):\n",
    "        return len(self.data[0])"
   ]
  },
  {
   "cell_type": "code",
   "execution_count": 5,
   "metadata": {},
   "outputs": [],
   "source": [
    "def padding(data):\n",
    "    x_list = []\n",
    "    y_list = []\n",
    "    for x, y in data:\n",
    "        x_list.append(x)\n",
    "        y_list.append(y)\n",
    "        \n",
    "    x_pad = pad_sequence(x_list, batch_first=True)\n",
    "    y_pad = pad_sequence(y_list, batch_first=True)\n",
    "    \n",
    "    return x_pad, y_pad"
   ]
  },
  {
   "cell_type": "code",
   "execution_count": 6,
   "metadata": {},
   "outputs": [],
   "source": [
    "class LSTM(nn.Module):\n",
    "    def __init__(self, hidden_size, num_class, weights):\n",
    "        super(LSTM, self).__init__()\n",
    "        self.word_embeddings = nn.Embedding.from_pretrained(weights)\n",
    "        self.lstm = nn.LSTM(weights.shape[1], hidden_size, num_layers=2, dropout=0.5, batch_first=True, bidirectional=True)\n",
    "        self.fc = nn.Linear(hidden_size, num_class)\n",
    "        \n",
    "    def forward(self, input_):\n",
    "        input_ = self.word_embeddings(input_)\n",
    "        out, (hidden_state, cell_state) = self.lstm(input_)\n",
    "        out = self.fc(hidden_state[-1])\n",
    "        \n",
    "        return out"
   ]
  },
  {
   "cell_type": "markdown",
   "metadata": {},
   "source": [
    "## Setup DataLoader"
   ]
  },
  {
   "cell_type": "code",
   "execution_count": 7,
   "metadata": {},
   "outputs": [],
   "source": [
    "X_train_pth = '../data/dataset/RAW_X_train.csv'\n",
    "y_train_pth = '../data/dataset/RAW_y_train.csv'\n",
    "X_test_pth = '../data/dataset/RAW_X_test.csv'\n",
    "y_test_pth = '../data/dataset/RAW_y_test.csv'"
   ]
  },
  {
   "cell_type": "code",
   "execution_count": 8,
   "metadata": {},
   "outputs": [],
   "source": [
    "raw_train, raw_val, raw_test = prepare_dataset(X_train_pth, y_train_pth, X_test_pth, y_test_pth)"
   ]
  },
  {
   "cell_type": "code",
   "execution_count": 9,
   "metadata": {},
   "outputs": [],
   "source": [
    "train_dataset = DatasetBuzzer(raw_train)\n",
    "val_dataset = DatasetBuzzer(raw_val)\n",
    "test_dataset = DatasetBuzzer(raw_test)"
   ]
  },
  {
   "cell_type": "code",
   "execution_count": 10,
   "metadata": {},
   "outputs": [],
   "source": [
    "b_size = 32\n",
    "\n",
    "train_dataloader = DataLoader(train_dataset, shuffle=True, batch_size = b_size, collate_fn=padding)\n",
    "val_dataloader = DataLoader(val_dataset, shuffle=True, batch_size = b_size, collate_fn=padding)\n",
    "test_dataloader = DataLoader(test_dataset, batch_size = b_size, collate_fn=padding)"
   ]
  },
  {
   "cell_type": "code",
   "execution_count": 11,
   "metadata": {},
   "outputs": [
    {
     "name": "stdout",
     "output_type": "stream",
     "text": [
      "total train batch: 60\n",
      "total val batch: 15\n",
      "total test batch: 19\n"
     ]
    }
   ],
   "source": [
    "print(f'total train batch: {len(train_dataloader)}')\n",
    "print(f'total val batch: {len(val_dataloader)}')\n",
    "print(f'total test batch: {len(test_dataloader)}')"
   ]
  },
  {
   "cell_type": "markdown",
   "metadata": {},
   "source": [
    "## Hyperparameter and BPE Embeddings"
   ]
  },
  {
   "cell_type": "code",
   "execution_count": 12,
   "metadata": {},
   "outputs": [],
   "source": [
    "weights = tensor(train_dataset.bpe.vectors)\n",
    "hidden_size = 128\n",
    "num_class = 2\n",
    "epochs = 5"
   ]
  },
  {
   "cell_type": "markdown",
   "metadata": {},
   "source": [
    "## Setup Model"
   ]
  },
  {
   "cell_type": "code",
   "execution_count": 13,
   "metadata": {},
   "outputs": [
    {
     "data": {
      "text/plain": [
       "LSTM(\n",
       "  (word_embeddings): Embedding(100000, 300)\n",
       "  (lstm): LSTM(300, 128, num_layers=2, batch_first=True, dropout=0.5, bidirectional=True)\n",
       "  (fc): Linear(in_features=128, out_features=2, bias=True)\n",
       ")"
      ]
     },
     "execution_count": 13,
     "metadata": {},
     "output_type": "execute_result"
    }
   ],
   "source": [
    "model = LSTM(hidden_size, num_class, weights)\n",
    "model.to(device)"
   ]
  },
  {
   "cell_type": "code",
   "execution_count": 14,
   "metadata": {},
   "outputs": [
    {
     "name": "stdout",
     "output_type": "stream",
     "text": [
      "model has 30,835,842 trainable parameters\n"
     ]
    }
   ],
   "source": [
    "parameters = sum(p.numel() for p in model.parameters())\n",
    "print(f'model has {parameters:,} trainable parameters')"
   ]
  },
  {
   "cell_type": "markdown",
   "metadata": {},
   "source": [
    "## Setup Optimizer and Loss function"
   ]
  },
  {
   "cell_type": "code",
   "execution_count": 15,
   "metadata": {},
   "outputs": [],
   "source": [
    "optimizer = optim.Adam(model.parameters(), lr=1e-3)\n",
    "criterion = nn.CrossEntropyLoss()"
   ]
  },
  {
   "cell_type": "markdown",
   "metadata": {},
   "source": [
    "## Training and Validation model"
   ]
  },
  {
   "cell_type": "code",
   "execution_count": 16,
   "metadata": {},
   "outputs": [],
   "source": [
    "def scoring(y_test, y_pred):\n",
    "    acc = accuracy_score(y_test, y_pred)\n",
    "    pre = precision_score(y_test, y_pred)\n",
    "    rec = recall_score(y_test, y_pred)\n",
    "    f1 = f1_score(y_test, y_pred)\n",
    "    return acc, pre, rec, f1"
   ]
  },
  {
   "cell_type": "code",
   "execution_count": 17,
   "metadata": {},
   "outputs": [],
   "source": [
    "def train_model(model, dataloader):\n",
    "    running_train_loss = 0\n",
    "    running_train_acc = 0\n",
    "    running_train_pre = 0\n",
    "    running_train_rec = 0\n",
    "    running_train_f1 = 0\n",
    "    \n",
    "    ## Training mode\n",
    "    n_batch = len(dataloader)\n",
    "    t0 = time.time()\n",
    "    model.train()\n",
    "    for idx, (x, y) in tqdm(enumerate(dataloader, 1)):\n",
    "        optimizer.zero_grad()\n",
    "        x = x.to(device)\n",
    "        y = y.squeeze().to(device)\n",
    "        \n",
    "        y_pred = model(x)\n",
    "        loss = criterion(y_pred, y)\n",
    "        \n",
    "        y = y.numpy()\n",
    "        y_pred = torch.max(y_pred, 1)[1].detach().numpy()\n",
    "        acc, pre, rec, f1 = scoring(y, y_pred)\n",
    "\n",
    "        running_train_loss += loss.item() * x.size(0)\n",
    "        running_train_acc += acc\n",
    "        running_train_pre += pre\n",
    "        running_train_rec += rec\n",
    "        running_train_f1 += f1\n",
    "\n",
    "        loss.backward()\n",
    "        optimizer.step()\n",
    "\n",
    "    epoch_train_loss = running_train_loss / len(dataloader.dataset)\n",
    "    epoch_train_acc = running_train_acc / n_batch\n",
    "    epoch_train_pre = running_train_pre / n_batch\n",
    "    epoch_train_rec = running_train_rec / n_batch\n",
    "    epoch_train_f1 = running_train_f1 / n_batch\n",
    "    \n",
    "    train_time = time.time() - t0\n",
    "    return epoch_train_loss, epoch_train_acc, epoch_train_pre, epoch_train_rec, epoch_train_f1, train_time"
   ]
  },
  {
   "cell_type": "code",
   "execution_count": 18,
   "metadata": {},
   "outputs": [],
   "source": [
    "def eval_model(model, dataloader):\n",
    "    running_val_loss = 0\n",
    "    running_val_acc = 0\n",
    "    running_val_pre = 0\n",
    "    running_val_rec = 0\n",
    "    running_val_f1 = 0\n",
    "    \n",
    "    ## Validation mode\n",
    "    n_batch = len(dataloader)\n",
    "    t0 = time.time()\n",
    "    model.eval()\n",
    "    with torch.no_grad():\n",
    "        for idx, (x, y) in tqdm(enumerate(dataloader, 1)):\n",
    "            x = x.to(device)\n",
    "            y = y.squeeze().to(device)\n",
    "\n",
    "            y_pred = model(x)\n",
    "            loss = criterion(y_pred, y)\n",
    "            \n",
    "            y = y.numpy()\n",
    "            y_pred = torch.max(y_pred, 1)[1].detach().numpy()\n",
    "            acc, pre, rec, f1 = scoring(y, y_pred)\n",
    "\n",
    "            running_val_loss += loss.item() * x.size(0)\n",
    "            running_val_acc += acc\n",
    "            running_val_pre += pre\n",
    "            running_val_rec += rec\n",
    "            running_val_f1 += f1\n",
    "            \n",
    "    epoch_val_loss = running_val_loss / len(dataloader.dataset)\n",
    "    epoch_val_acc = running_val_acc / n_batch\n",
    "    epoch_val_pre = running_val_pre / n_batch\n",
    "    epoch_val_rec = running_val_rec / n_batch\n",
    "    epoch_val_f1 = running_val_f1 / n_batch\n",
    "    \n",
    "    val_time = time.time() - t0\n",
    "    return epoch_val_loss, epoch_val_acc, epoch_val_pre, epoch_val_rec, epoch_val_f1, val_time"
   ]
  },
  {
   "cell_type": "code",
   "execution_count": 19,
   "metadata": {},
   "outputs": [
    {
     "name": "stderr",
     "output_type": "stream",
     "text": [
      "0it [00:00, ?it/s]"
     ]
    },
    {
     "name": "stdout",
     "output_type": "stream",
     "text": [
      "==== Epoch 1 / 5 ====\n"
     ]
    },
    {
     "name": "stderr",
     "output_type": "stream",
     "text": [
      "60it [15:02, 15.04s/it]\n",
      "15it [01:18,  5.20s/it]\n",
      "0it [00:00, ?it/s]"
     ]
    },
    {
     "name": "stdout",
     "output_type": "stream",
     "text": [
      "\t TRAINING\n",
      "\tLoss: 0.51  |  Accuracy: 0.78%\n",
      "\tPrecision: 0.30  |  Recall: 0.09  |  F1: 0.12\n",
      "\tExec Time: 902s\n",
      "\n",
      "\n",
      "\t EVALUATING\n",
      "\tLoss: 0.48  |  Accuracy: 0.81%\n",
      "\tPrecision: 0.70  |  Recall: 0.27  |  F1: 0.37\n",
      "\tExec Time: 78s\n",
      "\n",
      "\n",
      "==== Epoch 2 / 5 ====\n"
     ]
    },
    {
     "name": "stderr",
     "output_type": "stream",
     "text": [
      "60it [14:46, 14.78s/it]\n",
      "15it [01:22,  5.48s/it]\n",
      "0it [00:00, ?it/s]"
     ]
    },
    {
     "name": "stdout",
     "output_type": "stream",
     "text": [
      "\t TRAINING\n",
      "\tLoss: 0.43  |  Accuracy: 0.82%\n",
      "\tPrecision: 0.58  |  Recall: 0.34  |  F1: 0.41\n",
      "\tExec Time: 887s\n",
      "\n",
      "\n",
      "\t EVALUATING\n",
      "\tLoss: 0.44  |  Accuracy: 0.81%\n",
      "\tPrecision: 0.75  |  Recall: 0.32  |  F1: 0.44\n",
      "\tExec Time: 82s\n",
      "\n",
      "\n",
      "==== Epoch 3 / 5 ====\n"
     ]
    },
    {
     "name": "stderr",
     "output_type": "stream",
     "text": [
      "60it [15:04, 15.07s/it]\n",
      "15it [01:14,  5.00s/it]\n",
      "0it [00:00, ?it/s]"
     ]
    },
    {
     "name": "stdout",
     "output_type": "stream",
     "text": [
      "\t TRAINING\n",
      "\tLoss: 0.38  |  Accuracy: 0.85%\n",
      "\tPrecision: 0.69  |  Recall: 0.52  |  F1: 0.57\n",
      "\tExec Time: 904s\n",
      "\n",
      "\n",
      "\t EVALUATING\n",
      "\tLoss: 0.42  |  Accuracy: 0.81%\n",
      "\tPrecision: 0.64  |  Recall: 0.44  |  F1: 0.51\n",
      "\tExec Time: 75s\n",
      "\n",
      "\n",
      "==== Epoch 4 / 5 ====\n"
     ]
    },
    {
     "name": "stderr",
     "output_type": "stream",
     "text": [
      "60it [13:49, 13.83s/it]\n",
      "15it [01:05,  4.39s/it]\n",
      "0it [00:00, ?it/s]"
     ]
    },
    {
     "name": "stdout",
     "output_type": "stream",
     "text": [
      "\t TRAINING\n",
      "\tLoss: 0.32  |  Accuracy: 0.87%\n",
      "\tPrecision: 0.75  |  Recall: 0.61  |  F1: 0.65\n",
      "\tExec Time: 830s\n",
      "\n",
      "\n",
      "\t EVALUATING\n",
      "\tLoss: 0.45  |  Accuracy: 0.82%\n",
      "\tPrecision: 0.65  |  Recall: 0.39  |  F1: 0.47\n",
      "\tExec Time: 66s\n",
      "\n",
      "\n",
      "==== Epoch 5 / 5 ====\n"
     ]
    },
    {
     "name": "stderr",
     "output_type": "stream",
     "text": [
      "60it [15:31, 15.52s/it]\n",
      "15it [01:18,  5.21s/it]"
     ]
    },
    {
     "name": "stdout",
     "output_type": "stream",
     "text": [
      "\t TRAINING\n",
      "\tLoss: 0.28  |  Accuracy: 0.89%\n",
      "\tPrecision: 0.82  |  Recall: 0.68  |  F1: 0.72\n",
      "\tExec Time: 931s\n",
      "\n",
      "\n",
      "\t EVALUATING\n",
      "\tLoss: 0.48  |  Accuracy: 0.80%\n",
      "\tPrecision: 0.56  |  Recall: 0.49  |  F1: 0.52\n",
      "\tExec Time: 78s\n",
      "\n",
      "\n"
     ]
    },
    {
     "name": "stderr",
     "output_type": "stream",
     "text": [
      "\n"
     ]
    }
   ],
   "source": [
    "for epoch_i in range(0, epochs):\n",
    "    print(f'==== Epoch {epoch_i+1} / {epochs} ====')\n",
    "    epoch_train_loss, epoch_train_acc, epoch_train_pre, epoch_train_rec, epoch_train_f1, train_time = train_model(model, train_dataloader)\n",
    "    epoch_val_loss, epoch_val_acc, epoch_val_pre, epoch_val_rec, epoch_val_f1, val_time = eval_model(model, val_dataloader)\n",
    "    \n",
    "    print(\"\\t TRAINING\")\n",
    "    print(f\"\\tLoss: {epoch_train_loss:.2f}  |  Accuracy: {epoch_train_acc:.2f}%\")\n",
    "    print(f\"\\tPrecision: {epoch_train_pre:.2f}  |  Recall: {epoch_train_rec:.2f}  |  F1: {epoch_train_f1:.2f}\")\n",
    "    print(f\"\\tExec Time: {round(train_time)}s\")\n",
    "    print(\"\\n\")\n",
    "    print(\"\\t EVALUATING\")\n",
    "    print(f\"\\tLoss: {epoch_val_loss:.2f}  |  Accuracy: {epoch_val_acc:.2f}%\")\n",
    "    print(f\"\\tPrecision: {epoch_val_pre:.2f}  |  Recall: {epoch_val_rec:.2f}  |  F1: {epoch_val_f1:.2f}\")\n",
    "    print(f\"\\tExec Time: {round(val_time)}s\")\n",
    "    print(\"\\n\")"
   ]
  },
  {
   "cell_type": "code",
   "execution_count": null,
   "metadata": {},
   "outputs": [],
   "source": []
  }
 ],
 "metadata": {
  "kernelspec": {
   "display_name": "base",
   "language": "python",
   "name": "base"
  },
  "language_info": {
   "codemirror_mode": {
    "name": "ipython",
    "version": 3
   },
   "file_extension": ".py",
   "mimetype": "text/x-python",
   "name": "python",
   "nbconvert_exporter": "python",
   "pygments_lexer": "ipython3",
   "version": "3.8.3"
  }
 },
 "nbformat": 4,
 "nbformat_minor": 4
}
