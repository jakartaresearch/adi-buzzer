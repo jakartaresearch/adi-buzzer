{
 "cells": [
  {
   "cell_type": "code",
   "execution_count": 1,
   "metadata": {},
   "outputs": [],
   "source": [
    "import time\n",
    "import numpy as np\n",
    "import pandas as pd\n",
    "import torch\n",
    "import torch.nn as nn\n",
    "import torch.optim as optim\n",
    "\n",
    "from torch import tensor\n",
    "from sklearn.model_selection import train_test_split\n",
    "from bpemb import BPEmb\n",
    "from tqdm import tqdm\n",
    "from torch.utils.data import Dataset, DataLoader, RandomSampler\n",
    "from torch.nn.utils.rnn import pad_sequence"
   ]
  },
  {
   "cell_type": "markdown",
   "metadata": {},
   "source": [
    "## Prepare dataset and model"
   ]
  },
  {
   "cell_type": "code",
   "execution_count": 2,
   "metadata": {},
   "outputs": [],
   "source": [
    "device = \"cuda\" if torch.cuda.is_available() else \"cpu\""
   ]
  },
  {
   "cell_type": "code",
   "execution_count": 3,
   "metadata": {},
   "outputs": [],
   "source": [
    "def load_data(path):\n",
    "    data = pd.read_csv(path, keep_default_na=False)\n",
    "    return data\n",
    "\n",
    "def prepare_dataset(X_train_pth, y_train_pth, X_test_pth, y_test_pth):\n",
    "    X_test = load_data(X_test_pth)\n",
    "    y_test = load_data(y_test_pth)\n",
    "    X_test.reset_index(drop=True, inplace=True)\n",
    "    y_test.reset_index(drop=True, inplace=True)\n",
    "    test = (X_test, y_test)\n",
    "\n",
    "    X_tmp = load_data(X_train_pth)\n",
    "    y_tmp = load_data(y_train_pth)\n",
    "    X_train, X_val, y_train, y_val = train_test_split(X_tmp, y_tmp, test_size=0.2, random_state=42)\n",
    "    X_train.reset_index(drop=True, inplace=True)\n",
    "    y_train.reset_index(drop=True, inplace=True)\n",
    "    X_val.reset_index(drop=True, inplace=True)\n",
    "    y_val.reset_index(drop=True, inplace=True)\n",
    "\n",
    "    train = (X_train, y_train)\n",
    "    val = (X_val, y_val)\n",
    "    return train, val, test"
   ]
  },
  {
   "cell_type": "code",
   "execution_count": 4,
   "metadata": {},
   "outputs": [],
   "source": [
    "class DatasetBuzzer(Dataset):\n",
    "    def __init__(self, data):\n",
    "        self.data = data\n",
    "        self.bpe = BPEmb(lang=\"id\", vs=100000, dim=300)\n",
    "        \n",
    "    def __getitem__(self, idx):\n",
    "        x_raw = self.data[0].loc[idx, 'text_used']\n",
    "        y  = self.data[1].loc[idx, 'buzzer']\n",
    "        \n",
    "        x = self.bpe.encode_ids(x_raw)\n",
    "        x = tensor(x)\n",
    "        y = torch.LongTensor([y])\n",
    "        \n",
    "        return (x, y)\n",
    "    \n",
    "    def __len__(self):\n",
    "        return len(self.data[0])"
   ]
  },
  {
   "cell_type": "code",
   "execution_count": 5,
   "metadata": {},
   "outputs": [],
   "source": [
    "def padding(data):\n",
    "    x_list = []\n",
    "    y_list = []\n",
    "    for x, y in data:\n",
    "        x_list.append(x)\n",
    "        y_list.append(y)\n",
    "        \n",
    "    x_pad = pad_sequence(x_list, batch_first=True)\n",
    "    y_pad = pad_sequence(y_list, batch_first=True)\n",
    "    \n",
    "    return x_pad, y_pad"
   ]
  },
  {
   "cell_type": "code",
   "execution_count": 6,
   "metadata": {},
   "outputs": [],
   "source": [
    "class LSTM(nn.Module):\n",
    "    def __init__(self, hidden_size, num_class, weights):\n",
    "        super(LSTM, self).__init__()\n",
    "        self.word_embeddings = nn.Embedding.from_pretrained(weights)\n",
    "        self.lstm = nn.LSTM(weights.shape[1], hidden_size, num_layers=2, dropout=0.5, batch_first=True)\n",
    "        self.fc = nn.Linear(hidden_size, num_class)\n",
    "        \n",
    "    def forward(self, input_):\n",
    "        input_ = self.word_embeddings(input_)\n",
    "        out, (hidden_state, cell_state) = self.lstm(input_)\n",
    "        out = self.fc(hidden_state[-1])\n",
    "        \n",
    "        return out"
   ]
  },
  {
   "cell_type": "markdown",
   "metadata": {},
   "source": [
    "## Setup DataLoader"
   ]
  },
  {
   "cell_type": "code",
   "execution_count": 7,
   "metadata": {},
   "outputs": [],
   "source": [
    "X_train_pth = '../data/dataset/RAW_X_train.csv'\n",
    "y_train_pth = '../data/dataset/RAW_y_train.csv'\n",
    "X_test_pth = '../data/dataset/RAW_X_test.csv'\n",
    "y_test_pth = '../data/dataset/RAW_y_test.csv'"
   ]
  },
  {
   "cell_type": "code",
   "execution_count": 8,
   "metadata": {},
   "outputs": [],
   "source": [
    "raw_train, raw_val, raw_test = prepare_dataset(X_train_pth, y_train_pth, X_test_pth, y_test_pth)"
   ]
  },
  {
   "cell_type": "code",
   "execution_count": 9,
   "metadata": {},
   "outputs": [],
   "source": [
    "train_dataset = DatasetBuzzer(raw_train)\n",
    "val_dataset = DatasetBuzzer(raw_val)\n",
    "test_dataset = DatasetBuzzer(raw_test)"
   ]
  },
  {
   "cell_type": "code",
   "execution_count": 10,
   "metadata": {},
   "outputs": [],
   "source": [
    "b_size = 64\n",
    "\n",
    "train_dataloader = DataLoader(train_dataset, shuffle=True, batch_size = b_size, collate_fn=padding)\n",
    "val_dataloader = DataLoader(val_dataset, shuffle=True, batch_size = b_size, collate_fn=padding)\n",
    "test_dataloader = DataLoader(test_dataset, batch_size = b_size, collate_fn=padding)"
   ]
  },
  {
   "cell_type": "code",
   "execution_count": 13,
   "metadata": {},
   "outputs": [
    {
     "name": "stdout",
     "output_type": "stream",
     "text": [
      "total train batch: 30\n",
      "total val batch: 8\n",
      "total test batch: 10\n"
     ]
    }
   ],
   "source": [
    "print(f'total train batch: {len(train_dataloader)}')\n",
    "print(f'total val batch: {len(val_dataloader)}')\n",
    "print(f'total test batch: {len(test_dataloader)}')"
   ]
  },
  {
   "cell_type": "markdown",
   "metadata": {},
   "source": [
    "## Hyperparameter and BPE Embeddings"
   ]
  },
  {
   "cell_type": "code",
   "execution_count": 15,
   "metadata": {},
   "outputs": [],
   "source": [
    "weights = tensor(train_dataset.bpe.vectors)\n",
    "hidden_size = 128\n",
    "num_class = 2\n",
    "epochs = 3"
   ]
  },
  {
   "cell_type": "markdown",
   "metadata": {},
   "source": [
    "## Setup Model"
   ]
  },
  {
   "cell_type": "code",
   "execution_count": 16,
   "metadata": {},
   "outputs": [
    {
     "data": {
      "text/plain": [
       "LSTM(\n",
       "  (word_embeddings): Embedding(100000, 300)\n",
       "  (lstm): LSTM(300, 128, num_layers=2, batch_first=True, dropout=0.5)\n",
       "  (fc): Linear(in_features=128, out_features=2, bias=True)\n",
       ")"
      ]
     },
     "execution_count": 16,
     "metadata": {},
     "output_type": "execute_result"
    }
   ],
   "source": [
    "model = LSTM(hidden_size, num_class, weights)\n",
    "model.to(device)"
   ]
  },
  {
   "cell_type": "code",
   "execution_count": 17,
   "metadata": {},
   "outputs": [
    {
     "name": "stdout",
     "output_type": "stream",
     "text": [
      "model has 30,352,514 trainable parameters\n"
     ]
    }
   ],
   "source": [
    "parameters = sum(p.numel() for p in model.parameters())\n",
    "print(f'model has {parameters:,} trainable parameters')"
   ]
  },
  {
   "cell_type": "markdown",
   "metadata": {},
   "source": [
    "## Setup Optimizer and Loss function"
   ]
  },
  {
   "cell_type": "code",
   "execution_count": 18,
   "metadata": {},
   "outputs": [],
   "source": [
    "optimizer = optim.Adam(model.parameters(), lr=1e-3)\n",
    "criterion = nn.CrossEntropyLoss()"
   ]
  },
  {
   "cell_type": "code",
   "execution_count": null,
   "metadata": {},
   "outputs": [],
   "source": [
    "total_time = time.time()\n",
    "\n",
    "for epoch_i in range(0, epochs):\n",
    "    total_train_loss = 0\n",
    "    total_train_acc = 0\n",
    "    total_val_loss = 0\n",
    "    total_val_acc = 0\n",
    "    \n",
    "    print(f'==== Epoch {epoch_i+1} / {epochs} ====')\n",
    "    ## Training mode\n",
    "    t0 = time.time()\n",
    "    model.train()\n",
    "    for idx, (x, y) in tqdm(enumerate(train_dataloader, 1)):\n",
    "        optimizer.zero_grad()\n",
    "        x = x.to(device)\n",
    "        y = y.squeeze().to(device)\n",
    "\n",
    "        model.zero_grad()\n",
    "        y_pred = model(x)\n",
    "\n",
    "        loss = criterion(y_pred, y)\n",
    "        num_corrects = (torch.max(y_pred, 1)[1] == y).float().sum()\n",
    "        acc = 100.0 * num_corrects/len(x)\n",
    "\n",
    "\n",
    "        total_train_loss += loss.item()\n",
    "        total_train_acc += acc\n",
    "\n",
    "        loss.backward()\n",
    "        optimizer.step()\n",
    "\n",
    "    avg_train_loss = total_train_loss / len(train_dataloader)\n",
    "    avg_train_acc = total_train_acc / len(train_dataloader)\n",
    "    train_time = time.time() - t0\n",
    "\n",
    "    ## Validation mode\n",
    "    t0 = time.time()\n",
    "    model.eval()\n",
    "    for idx, (x, y) in tqdm(enumerate(val_dataloader, 1)):\n",
    "        x = x.to(device)\n",
    "        y = y.squeeze().to(device)\n",
    "\n",
    "        y_pred = model(x)\n",
    "\n",
    "        loss = criterion(y_pred, y)\n",
    "        num_corrects = (torch.max(y_pred, 1)[1] == y).float().sum()\n",
    "        acc = 100.0 * num_corrects/len(x)\n",
    "\n",
    "        total_train_loss += loss.item()\n",
    "        total_train_acc += acc\n",
    "\n",
    "    avg_val_loss = total_val_loss / len(val_dataloader)\n",
    "    avg_val_acc = total_val_acc / len(val_dataloader)\n",
    "    val_time = time.time() - t0\n",
    "\n",
    "    print(f\"\\tTrain loss: {avg_train_loss:.2f}  |  Train accuracy: {avg_train_acc:.2f}\")\n",
    "    print(f\"\\tTrain time: {train_time}\")\n",
    "    print(f\"\\tVal loss: {avg_val_loss:.2f}  |  Val accuracy: {avg_val_acc:.2f}\")\n",
    "    print(f\"\\tVal time: {val_time}\")"
   ]
  },
  {
   "cell_type": "code",
   "execution_count": null,
   "metadata": {},
   "outputs": [],
   "source": []
  }
 ],
 "metadata": {
  "kernelspec": {
   "display_name": "base",
   "language": "python",
   "name": "base"
  },
  "language_info": {
   "codemirror_mode": {
    "name": "ipython",
    "version": 3
   },
   "file_extension": ".py",
   "mimetype": "text/x-python",
   "name": "python",
   "nbconvert_exporter": "python",
   "pygments_lexer": "ipython3",
   "version": "3.8.3"
  }
 },
 "nbformat": 4,
 "nbformat_minor": 4
}
