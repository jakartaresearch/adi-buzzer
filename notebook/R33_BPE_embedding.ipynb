{
 "cells": [
  {
   "cell_type": "code",
   "execution_count": 1,
   "metadata": {},
   "outputs": [],
   "source": [
    "import pandas as pd\n",
    "import numpy as np\n",
    "\n",
    "from bpemb import BPEmb\n",
    "from tqdm import tqdm"
   ]
  },
  {
   "cell_type": "code",
   "execution_count": 2,
   "metadata": {},
   "outputs": [],
   "source": [
    "path = '../data/dataset/'\n",
    "\n",
    "RAW_X_train = pd.read_csv(path+'RAW_X_train.csv', index_col='username', keep_default_na=False)\n",
    "RAW_X_test = pd.read_csv(path+'RAW_X_test.csv', index_col='username', keep_default_na=False)\n",
    "RAW_y_train = pd.read_csv(path+'RAW_y_train.csv', keep_default_na=False)\n",
    "RAW_y_test = pd.read_csv(path+'RAW_y_test.csv', keep_default_na=False)"
   ]
  },
  {
   "cell_type": "code",
   "execution_count": 3,
   "metadata": {},
   "outputs": [
    {
     "data": {
      "text/plain": [
       "Index(['is_name_social_political', 'desc', 'tweets', 'n_tweet',\n",
       "       'quoted_tweets', 'n_tweet_use_hashtag', 'ratio_tweets_use_hashtag',\n",
       "       'n_photo', 'n_video', 'buzzer', 'text_used'],\n",
       "      dtype='object')"
      ]
     },
     "execution_count": 3,
     "metadata": {},
     "output_type": "execute_result"
    }
   ],
   "source": [
    "RAW_X_train.columns"
   ]
  },
  {
   "cell_type": "markdown",
   "metadata": {},
   "source": [
    "## BPE Embedding"
   ]
  },
  {
   "cell_type": "code",
   "execution_count": 4,
   "metadata": {},
   "outputs": [],
   "source": [
    "bpe = BPEmb(lang=\"id\", vs=100000, dim=300)"
   ]
  },
  {
   "cell_type": "code",
   "execution_count": 5,
   "metadata": {},
   "outputs": [],
   "source": [
    "def avg_vec(bpe_embed):\n",
    "    n_subword = bpe_embed.shape[0]\n",
    "    vec_sum = np.sum(bpe_embed, axis=0)\n",
    "    sent_embed = np.divide(vec_sum, n_subword)\n",
    "    return sent_embed"
   ]
  },
  {
   "cell_type": "code",
   "execution_count": 6,
   "metadata": {
    "scrolled": true
   },
   "outputs": [],
   "source": [
    "def create_feat_vec(bpe, data):\n",
    "    feat_vec = []\n",
    "    for txt in tqdm(data):\n",
    "        if txt:\n",
    "            bpe_embed = bpe.embed(txt)\n",
    "        else:\n",
    "            bpe_embed = np.zeros((1, 300))\n",
    "        feat_vec.append(avg_vec(bpe_embed))\n",
    "\n",
    "    np_feat_vec = np.array(feat_vec)\n",
    "    return np_feat_vec"
   ]
  },
  {
   "cell_type": "markdown",
   "metadata": {},
   "source": [
    "## Feature stacking"
   ]
  },
  {
   "cell_type": "code",
   "execution_count": 7,
   "metadata": {},
   "outputs": [],
   "source": [
    "def feat_stack(X, y, bpe):\n",
    "    ## Create feat vec for 'desc'\n",
    "    desc_vec = create_feat_vec(bpe, X['desc'].tolist())\n",
    "    ## Create feat vec for 'text_used'\n",
    "    tweet_vec = create_feat_vec(bpe, X['text_used'].tolist())\n",
    "    \n",
    "    numeric_feat = ['is_name_social_political', 'n_tweet', 'ratio_tweets_use_hashtag',\n",
    "                'n_photo', 'n_video']\n",
    "    numeric_arr = X[numeric_feat].to_numpy()\n",
    "    \n",
    "    label = y['buzzer'].to_numpy().reshape(-1, 1)\n",
    "    \n",
    "    ready_data = np.hstack((numeric_arr, desc_vec, tweet_vec))\n",
    "    return ready_data, label"
   ]
  },
  {
   "cell_type": "code",
   "execution_count": 8,
   "metadata": {},
   "outputs": [
    {
     "name": "stderr",
     "output_type": "stream",
     "text": [
      "100%|██████████| 2369/2369 [00:00<00:00, 9565.94it/s]\n",
      "100%|██████████| 2369/2369 [00:16<00:00, 139.58it/s]\n",
      "100%|██████████| 593/593 [00:00<00:00, 7446.57it/s]\n",
      "100%|██████████| 593/593 [00:03<00:00, 151.94it/s]\n"
     ]
    }
   ],
   "source": [
    "X_train_bpe, y_train_bpe = feat_stack(RAW_X_train, RAW_y_train, bpe)\n",
    "X_test_bpe, y_test_bpe = feat_stack(RAW_X_test, RAW_y_test, bpe)"
   ]
  },
  {
   "cell_type": "markdown",
   "metadata": {},
   "source": [
    "## Save dataset"
   ]
  },
  {
   "cell_type": "code",
   "execution_count": 9,
   "metadata": {},
   "outputs": [],
   "source": [
    "data = {'X_train_bpe.npy':X_train_bpe, 'X_test_bpe.npy':X_test_bpe, \n",
    "        'y_train_bpe.npy':y_train_bpe, 'y_test_bpe.npy':y_test_bpe}\n",
    "\n",
    "for key, value in data.items(): \n",
    "    with open('../data/dataset/'+key, 'wb') as f:\n",
    "        np.save(f, value)"
   ]
  },
  {
   "cell_type": "code",
   "execution_count": null,
   "metadata": {},
   "outputs": [],
   "source": []
  }
 ],
 "metadata": {
  "kernelspec": {
   "display_name": "Python 3",
   "language": "python",
   "name": "python3"
  },
  "language_info": {
   "codemirror_mode": {
    "name": "ipython",
    "version": 3
   },
   "file_extension": ".py",
   "mimetype": "text/x-python",
   "name": "python",
   "nbconvert_exporter": "python",
   "pygments_lexer": "ipython3",
   "version": "3.8.3"
  }
 },
 "nbformat": 4,
 "nbformat_minor": 4
}
