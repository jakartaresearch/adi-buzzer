{
 "cells": [
  {
   "cell_type": "code",
   "execution_count": 1,
   "metadata": {},
   "outputs": [],
   "source": [
    "import json\n",
    "import pandas as pd\n",
    "import numpy as np\n",
    "import seaborn as sns\n",
    "import re"
   ]
  },
  {
   "cell_type": "code",
   "execution_count": 2,
   "metadata": {},
   "outputs": [],
   "source": [
    "dataset_pth = '../data/dataset/dataset.json'"
   ]
  },
  {
   "cell_type": "code",
   "execution_count": 3,
   "metadata": {},
   "outputs": [],
   "source": [
    "def read_json(path):\n",
    "    with open(path, 'r') as file:\n",
    "        return json.load(file)"
   ]
  },
  {
   "cell_type": "code",
   "execution_count": 4,
   "metadata": {},
   "outputs": [],
   "source": [
    "dataset = pd.read_json(dataset_pth)"
   ]
  },
  {
   "cell_type": "code",
   "execution_count": 5,
   "metadata": {},
   "outputs": [],
   "source": [
    "choosen_feat = ['username', 'is_name_social_political', 'desc',\n",
    "               'tweets', 'n_tweet', 'quoted_tweets', 'n_tweet_use_hashtag',\n",
    "               'ratio_tweets_use_hashtag', 'n_photo', 'n_video', 'buzzer']\n",
    "dataset = dataset[choosen_feat]"
   ]
  },
  {
   "cell_type": "code",
   "execution_count": 6,
   "metadata": {},
   "outputs": [
    {
     "data": {
      "text/html": [
       "<div>\n",
       "<style scoped>\n",
       "    .dataframe tbody tr th:only-of-type {\n",
       "        vertical-align: middle;\n",
       "    }\n",
       "\n",
       "    .dataframe tbody tr th {\n",
       "        vertical-align: top;\n",
       "    }\n",
       "\n",
       "    .dataframe thead th {\n",
       "        text-align: right;\n",
       "    }\n",
       "</style>\n",
       "<table border=\"1\" class=\"dataframe\">\n",
       "  <thead>\n",
       "    <tr style=\"text-align: right;\">\n",
       "      <th></th>\n",
       "      <th>username</th>\n",
       "      <th>is_name_social_political</th>\n",
       "      <th>desc</th>\n",
       "      <th>tweets</th>\n",
       "      <th>n_tweet</th>\n",
       "      <th>quoted_tweets</th>\n",
       "      <th>n_tweet_use_hashtag</th>\n",
       "      <th>ratio_tweets_use_hashtag</th>\n",
       "      <th>n_photo</th>\n",
       "      <th>n_video</th>\n",
       "      <th>buzzer</th>\n",
       "    </tr>\n",
       "  </thead>\n",
       "  <tbody>\n",
       "    <tr>\n",
       "      <th>0</th>\n",
       "      <td>BasmallahP</td>\n",
       "      <td>0</td>\n",
       "      <td>akun baru lagi kesekian</td>\n",
       "      <td>[gasengaja negarawan nebarkebencian nuduhsemba...</td>\n",
       "      <td>134</td>\n",
       "      <td>[perbawadani tanyoana hasanba15701205 tangkapm...</td>\n",
       "      <td>112</td>\n",
       "      <td>0.835821</td>\n",
       "      <td>67.0</td>\n",
       "      <td>1.0</td>\n",
       "      <td>1</td>\n",
       "    </tr>\n",
       "    <tr>\n",
       "      <th>1</th>\n",
       "      <td>mohsach</td>\n",
       "      <td>0</td>\n",
       "      <td>ve far not saying far enough sedang berjuang t...</td>\n",
       "      <td>[akhirnya liverpoolchampions ynwa, amin mujiba...</td>\n",
       "      <td>19</td>\n",
       "      <td>[liverpool premier league champions, doa kabul...</td>\n",
       "      <td>3</td>\n",
       "      <td>0.157895</td>\n",
       "      <td>1.0</td>\n",
       "      <td>0.0</td>\n",
       "      <td>0</td>\n",
       "    </tr>\n",
       "  </tbody>\n",
       "</table>\n",
       "</div>"
      ],
      "text/plain": [
       "     username  is_name_social_political  \\\n",
       "0  BasmallahP                         0   \n",
       "1     mohsach                         0   \n",
       "\n",
       "                                                desc  \\\n",
       "0                            akun baru lagi kesekian   \n",
       "1  ve far not saying far enough sedang berjuang t...   \n",
       "\n",
       "                                              tweets  n_tweet  \\\n",
       "0  [gasengaja negarawan nebarkebencian nuduhsemba...      134   \n",
       "1  [akhirnya liverpoolchampions ynwa, amin mujiba...       19   \n",
       "\n",
       "                                       quoted_tweets  n_tweet_use_hashtag  \\\n",
       "0  [perbawadani tanyoana hasanba15701205 tangkapm...                  112   \n",
       "1  [liverpool premier league champions, doa kabul...                    3   \n",
       "\n",
       "   ratio_tweets_use_hashtag  n_photo  n_video  buzzer  \n",
       "0                  0.835821     67.0      1.0       1  \n",
       "1                  0.157895      1.0      0.0       0  "
      ]
     },
     "execution_count": 6,
     "metadata": {},
     "output_type": "execute_result"
    }
   ],
   "source": [
    "dataset.head(2)"
   ]
  },
  {
   "cell_type": "code",
   "execution_count": 7,
   "metadata": {},
   "outputs": [],
   "source": [
    "def text_cleaning(list_text):\n",
    "    out = [re.sub(r'\\b\\d+\\b', ' ', text) for text in list_text]\n",
    "    return out"
   ]
  },
  {
   "cell_type": "code",
   "execution_count": 8,
   "metadata": {},
   "outputs": [],
   "source": [
    "dataset['combine_tweet'] = dataset.tweets + dataset.quoted_tweets\n",
    "dataset['clean_text'] = dataset.combine_tweet.apply(text_cleaning)"
   ]
  },
  {
   "cell_type": "code",
   "execution_count": 9,
   "metadata": {},
   "outputs": [],
   "source": [
    "dataset['text_used'] = dataset.clean_text.apply(lambda x: \" \".join(x))"
   ]
  },
  {
   "cell_type": "code",
   "execution_count": 10,
   "metadata": {},
   "outputs": [],
   "source": [
    "dataset = dataset[dataset.tweets.str.len() != 0]"
   ]
  },
  {
   "cell_type": "code",
   "execution_count": 11,
   "metadata": {},
   "outputs": [],
   "source": [
    "dataset.set_index(['username'], inplace=True)"
   ]
  },
  {
   "cell_type": "markdown",
   "metadata": {},
   "source": [
    "## Modeling"
   ]
  },
  {
   "cell_type": "code",
   "execution_count": 12,
   "metadata": {},
   "outputs": [],
   "source": [
    "from sklearn.compose import ColumnTransformer\n",
    "from sklearn.feature_extraction.text import TfidfVectorizer\n",
    "from sklearn.ensemble import RandomForestClassifier, GradientBoostingClassifier\n",
    "from sklearn.pipeline import Pipeline\n",
    "from sklearn.preprocessing import OneHotEncoder, MinMaxScaler, StandardScaler\n",
    "from sklearn.model_selection import train_test_split\n",
    "from sklearn.metrics import accuracy_score, precision_score, recall_score, f1_score\n",
    "from sklearn.metrics import plot_confusion_matrix\n",
    "from sklearn.impute import SimpleImputer"
   ]
  },
  {
   "cell_type": "code",
   "execution_count": 13,
   "metadata": {},
   "outputs": [],
   "source": [
    "X = dataset\n",
    "y = dataset['buzzer']\n",
    "\n",
    "X_train, X_test, y_train, y_test = train_test_split(X, y, test_size=0.2, random_state=42, stratify=y)"
   ]
  },
  {
   "cell_type": "code",
   "execution_count": 14,
   "metadata": {},
   "outputs": [],
   "source": [
    "preprocessor = ColumnTransformer(\n",
    "    transformers=[\n",
    "        ('combine_tweet', TfidfVectorizer(max_df=0.5), 'text_used'),\n",
    "        ('user_desc', TfidfVectorizer(max_df=0.5), 'desc'),\n",
    "        ('is_name', SimpleImputer(strategy='most_frequent'), ['is_name_social_political']),\n",
    "        ('ratio', SimpleImputer(strategy='median'), ['ratio_tweets_use_hashtag']),\n",
    "        ('numeric', StandardScaler(), ['n_tweet', 'n_photo', 'n_video'])\n",
    "    ])"
   ]
  },
  {
   "cell_type": "code",
   "execution_count": 15,
   "metadata": {},
   "outputs": [],
   "source": [
    "pipe = Pipeline(\n",
    "    steps=[\n",
    "        ('preprocessor', preprocessor),\n",
    "        ('classifier', RandomForestClassifier(n_estimators=400))\n",
    "    ]\n",
    ")"
   ]
  },
  {
   "cell_type": "code",
   "execution_count": 16,
   "metadata": {},
   "outputs": [],
   "source": [
    "def scoring(y_test, y_pred):\n",
    "    \n",
    "    acc = accuracy_score(y_test, y_pred)\n",
    "    pre = precision_score(y_test, y_pred)\n",
    "    rec = recall_score(y_test, y_pred)\n",
    "    f1 = f1_score(y_test, y_pred)\n",
    "    \n",
    "    print(f\"accuracy: {acc:.2f} | precision: {pre:.2f} | recall: {rec:.2f} | f score: {f1:.2f}\")"
   ]
  },
  {
   "cell_type": "code",
   "execution_count": 17,
   "metadata": {},
   "outputs": [
    {
     "data": {
      "text/plain": [
       "Pipeline(steps=[('preprocessor',\n",
       "                 ColumnTransformer(transformers=[('combine_tweet',\n",
       "                                                  TfidfVectorizer(max_df=0.5),\n",
       "                                                  'text_used'),\n",
       "                                                 ('user_desc',\n",
       "                                                  TfidfVectorizer(max_df=0.5),\n",
       "                                                  'desc'),\n",
       "                                                 ('is_name',\n",
       "                                                  SimpleImputer(strategy='most_frequent'),\n",
       "                                                  ['is_name_social_political']),\n",
       "                                                 ('ratio',\n",
       "                                                  SimpleImputer(strategy='median'),\n",
       "                                                  ['ratio_tweets_use_hashtag']),\n",
       "                                                 ('numeric', StandardScaler(),\n",
       "                                                  ['n_tweet', 'n_photo',\n",
       "                                                   'n_video'])])),\n",
       "                ('classifier', RandomForestClassifier(n_estimators=400))])"
      ]
     },
     "execution_count": 17,
     "metadata": {},
     "output_type": "execute_result"
    }
   ],
   "source": [
    "pipe.fit(X_train, y_train)"
   ]
  },
  {
   "cell_type": "code",
   "execution_count": 18,
   "metadata": {},
   "outputs": [],
   "source": [
    "y_pred = pipe.predict(X_test)"
   ]
  },
  {
   "cell_type": "code",
   "execution_count": 19,
   "metadata": {},
   "outputs": [
    {
     "name": "stdout",
     "output_type": "stream",
     "text": [
      "accuracy: 0.82 | precision: 0.75 | recall: 0.29 | f score: 0.42\n"
     ]
    }
   ],
   "source": [
    "# Evaluate\n",
    "scoring(y_test, y_pred)"
   ]
  },
  {
   "cell_type": "code",
   "execution_count": 20,
   "metadata": {},
   "outputs": [
    {
     "data": {
      "text/plain": [
       "<AxesSubplot:ylabel='buzzer'>"
      ]
     },
     "execution_count": 20,
     "metadata": {},
     "output_type": "execute_result"
    },
    {
     "data": {
      "image/png": "[encoded data removed]",
      "text/plain": [
       "<Figure size 432x288 with 1 Axes>"
      ]
     },
     "metadata": {},
     "output_type": "display_data"
    }
   ],
   "source": [
    "# Check imbalance dataset\n",
    "y.value_counts().plot.pie(autopct='%.2f')"
   ]
  },
  {
   "cell_type": "code",
   "execution_count": 21,
   "metadata": {},
   "outputs": [
    {
     "data": {
      "text/plain": [
       "<sklearn.metrics._plot.confusion_matrix.ConfusionMatrixDisplay at 0x7f1b39c1f1f0>"
      ]
     },
     "execution_count": 21,
     "metadata": {},
     "output_type": "execute_result"
    },
    {
     "data": {
      "image/png": "[encoded data removed]",
      "text/plain": [
       "<Figure size 432x288 with 2 Axes>"
      ]
     },
     "metadata": {
      "needs_background": "light"
     },
     "output_type": "display_data"
    }
   ],
   "source": [
    "plot_confusion_matrix(pipe, X_test, y_test)"
   ]
  },
  {
   "cell_type": "markdown",
   "metadata": {},
   "source": [
    "## ONLY Tweets text features"
   ]
  },
  {
   "cell_type": "code",
   "execution_count": 22,
   "metadata": {},
   "outputs": [],
   "source": [
    "tfidf = TfidfVectorizer(max_df=0.5)\n",
    "data_tfidf = tfidf.fit_transform(dataset.text_used)\n",
    "\n",
    "X_train_txt, X_test_txt, y_train_txt, y_test_txt = train_test_split(data_tfidf, dataset.buzzer, test_size=0.2, random_state=42, stratify=y)"
   ]
  },
  {
   "cell_type": "code",
   "execution_count": 23,
   "metadata": {},
   "outputs": [
    {
     "data": {
      "text/plain": [
       "RandomForestClassifier(n_estimators=400)"
      ]
     },
     "execution_count": 23,
     "metadata": {},
     "output_type": "execute_result"
    }
   ],
   "source": [
    "model = RandomForestClassifier(n_estimators=400)\n",
    "model.fit(X_train_txt, y_train_txt)"
   ]
  },
  {
   "cell_type": "code",
   "execution_count": 24,
   "metadata": {},
   "outputs": [
    {
     "name": "stdout",
     "output_type": "stream",
     "text": [
      "accuracy: 0.82 | precision: 0.71 | recall: 0.27 | f score: 0.39\n"
     ]
    }
   ],
   "source": [
    "y_pred_txt = model.predict(X_test_txt)\n",
    "scoring(y_test_txt, y_pred_txt)"
   ]
  },
  {
   "cell_type": "markdown",
   "metadata": {},
   "source": [
    "## Prepare ready dataset"
   ]
  },
  {
   "cell_type": "code",
   "execution_count": 25,
   "metadata": {},
   "outputs": [],
   "source": [
    "tweet_vectorizer = TfidfVectorizer(max_df=0.5, max_features=50000)\n",
    "desc_vectorizer = TfidfVectorizer(max_df=0.5, max_features=3000)\n",
    "\n",
    "tweet_tfidf = tweet_vectorizer.fit_transform(dataset.text_used)\n",
    "desc_tfidf = desc_vectorizer.fit_transform(dataset.desc)\n",
    "\n",
    "numeric_feat = ['is_name_social_political', 'n_tweet', 'ratio_tweets_use_hashtag',\n",
    "                'n_photo', 'n_video']\n",
    "numeric_arr = dataset[numeric_feat].to_numpy()\n",
    "\n",
    "label = dataset.buzzer.to_numpy().reshape(-1, 1)"
   ]
  },
  {
   "cell_type": "code",
   "execution_count": 27,
   "metadata": {},
   "outputs": [],
   "source": [
    "ready_dataset = np.hstack((numeric_arr, desc_tfidf.toarray(), tweet_tfidf.toarray(), label))"
   ]
  },
  {
   "cell_type": "code",
   "execution_count": 29,
   "metadata": {},
   "outputs": [],
   "source": [
    "X_train, X_test, y_train, y_test = train_test_split(ready_dataset[:, :-1], ready_dataset[:, -1], test_size=0.2, random_state=42, stratify=y)"
   ]
  },
  {
   "cell_type": "code",
   "execution_count": 30,
   "metadata": {},
   "outputs": [],
   "source": [
    "data = {'X_train.npy':X_train, 'X_test.npy':X_test, 'y_train.npy':y_train, 'y_test.npy':y_test}\n",
    "\n",
    "for key, value in data.items(): \n",
    "    with open('../data/dataset/'+key, 'wb') as f:\n",
    "        np.save(f, value)"
   ]
  },
  {
   "cell_type": "code",
   "execution_count": null,
   "metadata": {},
   "outputs": [],
   "source": []
  }
 ],
 "metadata": {
  "kernelspec": {
   "display_name": "Python 3",
   "language": "python",
   "name": "python3"
  },
  "language_info": {
   "codemirror_mode": {
    "name": "ipython",
    "version": 3
   },
   "file_extension": ".py",
   "mimetype": "text/x-python",
   "name": "python",
   "nbconvert_exporter": "python",
   "pygments_lexer": "ipython3",
   "version": "3.8.3"
  }
 },
 "nbformat": 4,
 "nbformat_minor": 4
}
