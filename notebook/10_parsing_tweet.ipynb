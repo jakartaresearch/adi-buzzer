{
 "cells": [
  {
   "cell_type": "markdown",
   "metadata": {},
   "source": [
    "## Parsing Tweet Data into One Line Table"
   ]
  },
  {
   "cell_type": "markdown",
   "metadata": {},
   "source": [
    "analyzing tweet connection from tweet, retweet, and replies\n",
    "this notebook is intended to create social network analysis and how many users are interaction to each other"
   ]
  },
  {
   "cell_type": "code",
   "execution_count": 1,
   "metadata": {},
   "outputs": [],
   "source": [
    "import os\n",
    "import re\n",
    "import glob\n",
    "import json\n",
    "import pickle\n",
    "from tqdm import tqdm\n",
    "\n",
    "import pandas as pd\n",
    "import numpy as np\n",
    "import matplotlib.pyplot as plt\n",
    "import seaborn as sns"
   ]
  },
  {
   "cell_type": "code",
   "execution_count": 2,
   "metadata": {},
   "outputs": [],
   "source": [
    "pd.options.display.max_rows = 10"
   ]
  },
  {
   "cell_type": "code",
   "execution_count": 3,
   "metadata": {},
   "outputs": [],
   "source": [
    "# tweet_file_paths = glob.glob(\"../data/7K_INDO/*.json\")\n",
    "tweet_file_paths = glob.glob(\"../data/user_timeline_46K/*.json\")"
   ]
  },
  {
   "cell_type": "code",
   "execution_count": 4,
   "metadata": {},
   "outputs": [
    {
     "data": {
      "text/plain": [
       "46099"
      ]
     },
     "execution_count": 4,
     "metadata": {},
     "output_type": "execute_result"
    }
   ],
   "source": [
    "len(tweet_file_paths)"
   ]
  },
  {
   "cell_type": "code",
   "execution_count": 5,
   "metadata": {},
   "outputs": [],
   "source": [
    "def read_json(path):\n",
    "    with open(path, 'r', encoding='utf-8') as f:\n",
    "        try:\n",
    "            return json.load(f)\n",
    "        except:\n",
    "            return []"
   ]
  },
  {
   "cell_type": "code",
   "execution_count": 6,
   "metadata": {},
   "outputs": [],
   "source": [
    "def parsing_tweet(tweet):\n",
    "    \"\"\"Parsing tweet\n",
    "    \"\"\"\n",
    "    screen_name = tweet[\"user\"][\"screen_name\"]\n",
    "    id_tweet = tweet[\"id_str\"]\n",
    "#     full_text = tweet[\"full_text\"]\n",
    "    full_text = tweet[\"text\"]\n",
    "    hashtags = tweet[\"entities\"][\"hashtags\"]\n",
    "    user_mentions = tweet[\"entities\"][\"user_mentions\"]\n",
    "    created_at = tweet[\"created_at\"]\n",
    "    \n",
    "    parsed = {\"screen_name\": screen_name, \"id_tweet\": id_tweet, \"full_text\": full_text, \"hashtags\": hashtags,\n",
    "           \"user_mentions\": user_mentions, \"created_at\": created_at}\n",
    "    \n",
    "    if tweet[\"in_reply_to_status_id_str\"]:\n",
    "        parsed[\"in_reply_to_status_id_str\"] = tweet[\"in_reply_to_status_id_str\"]\n",
    "        parsed[\"in_reply_to_user_id_str\"] = tweet[\"in_reply_to_user_id_str\"]\n",
    "        parsed[\"in_reply_to_screen_name\"] = tweet[\"in_reply_to_screen_name\"]\n",
    "        \n",
    "    \n",
    "    if tweet[\"is_quote_status\"]:\n",
    "        parsed[\"quote_is_quote_status\"] = tweet[\"is_quote_status\"]\n",
    "        try:\n",
    "            parsed[\"quote_screen_name\"] = tweet[\"quoted_status\"][\"user\"][\"screen_name\"]\n",
    "        except:\n",
    "            pass\n",
    "        try:\n",
    "            parsed[\"quote_id_tweet\"] = tweet[\"quoted_status\"][\"id_str\"]\n",
    "        except:\n",
    "            pass\n",
    "        try:\n",
    "            parsed[\"quote_full_text\"] = tweet[\"quoted_status\"][\"full_text\"]\n",
    "        except:\n",
    "            pass\n",
    "        try:\n",
    "            parsed[\"quote_hashtags\"] = tweet[\"quoted_status\"][\"entities\"][\"hashtags\"]\n",
    "        except:\n",
    "            pass\n",
    "        try:\n",
    "            parsed[\"quote_user_mentions\"] = tweet[\"quoted_status\"][\"entities\"][\"user_mentions\"]\n",
    "        except:\n",
    "            pass\n",
    "        try:\n",
    "            parsed[\"quote_created_at\"] = tweet[\"quoted_status\"][\"created_at\"]\n",
    "        except:\n",
    "            pass\n",
    "    return parsed "
   ]
  },
  {
   "cell_type": "code",
   "execution_count": null,
   "metadata": {},
   "outputs": [],
   "source": [
    "list_of_parsed_data = []\n",
    "for path in tqdm(tweet_file_paths):\n",
    "    data = read_json(path)\n",
    "    break\n",
    "    list_of_parsed_data.extend(list(map(parsing_tweet, data[\"tweets\"])))\n",
    "    list_of_parsed_data.extend(list(map(parsing_tweet, data[\"retweets\"])))\n",
    "    list_of_parsed_data.extend(list(map(parsing_tweet, data[\"replies\"])))"
   ]
  },
  {
   "cell_type": "code",
   "execution_count": 10,
   "metadata": {},
   "outputs": [
    {
     "name": "stderr",
     "output_type": "stream",
     "text": [
      "98it [00:03, 32.04it/s]\n"
     ]
    }
   ],
   "source": [
    "list_of_parsed_data = []\n",
    "for idx, path in tqdm(enumerate(tweet_file_paths[46001:], 46001)):\n",
    "    data = read_json(path)\n",
    "    list_of_parsed_data.extend(list(map(parsing_tweet, data)))\n",
    "    \n",
    "json.dump(list_of_parsed_data, open(f\"../data/user_timeline_46K_parsed/{idx}.json\", 'w'))"
   ]
  },
  {
   "cell_type": "code",
   "execution_count": null,
   "metadata": {},
   "outputs": [],
   "source": [
    "pd.DataFrame(list_of_parsed_data)"
   ]
  },
  {
   "cell_type": "markdown",
   "metadata": {},
   "source": [
    "## parsed tweet to dataframe"
   ]
  },
  {
   "cell_type": "code",
   "execution_count": null,
   "metadata": {},
   "outputs": [],
   "source": [
    "column_ordered = ['screen_name', 'id_tweet', 'full_text', 'hashtags', 'user_mentions', 'created_at',\n",
    "                 'quote_is_quote_status', 'quote_screen_name', 'quote_id_tweet', 'quote_full_text',\n",
    "                  'quote_hashtags', 'quote_user_mentions', 'quote_created_at', \n",
    "                  \"in_reply_to_status_id_str\", \"in_reply_to_user_id_str\", \"in_reply_to_screen_name\"]"
   ]
  },
  {
   "cell_type": "code",
   "execution_count": null,
   "metadata": {},
   "outputs": [],
   "source": [
    "d_tweets = pd.DataFrame(list_of_parsed_data)"
   ]
  },
  {
   "cell_type": "code",
   "execution_count": null,
   "metadata": {},
   "outputs": [],
   "source": [
    "d_tweets = d_tweets[column_ordered]"
   ]
  },
  {
   "cell_type": "code",
   "execution_count": null,
   "metadata": {},
   "outputs": [],
   "source": [
    "d_tweets.shape"
   ]
  },
  {
   "cell_type": "code",
   "execution_count": null,
   "metadata": {},
   "outputs": [],
   "source": [
    "d_tweets.head()"
   ]
  },
  {
   "cell_type": "markdown",
   "metadata": {},
   "source": [
    "Save file"
   ]
  },
  {
   "cell_type": "code",
   "execution_count": null,
   "metadata": {},
   "outputs": [],
   "source": [
    "with open(\"../data/supports/parsed_7003.pkl\", \"wb\") as file:\n",
    "    pickle.dump(d_tweets, file)"
   ]
  }
 ],
 "metadata": {
  "kernelspec": {
   "display_name": "Python 3",
   "language": "python",
   "name": "python3"
  },
  "language_info": {
   "codemirror_mode": {
    "name": "ipython",
    "version": 3
   },
   "file_extension": ".py",
   "mimetype": "text/x-python",
   "name": "python",
   "nbconvert_exporter": "python",
   "pygments_lexer": "ipython3",
   "version": "3.8.5"
  }
 },
 "nbformat": 4,
 "nbformat_minor": 4
}
