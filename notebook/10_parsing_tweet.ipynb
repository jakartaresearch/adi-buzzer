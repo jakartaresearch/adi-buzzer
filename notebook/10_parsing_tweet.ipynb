{
 "cells": [
  {
   "cell_type": "markdown",
   "metadata": {},
   "source": [
    "## Parsing Tweet Data into One Line Table"
   ]
  },
  {
   "cell_type": "markdown",
   "metadata": {},
   "source": [
    "analyzing tweet connection from tweet, retweet, and replies\n",
    "this notebook is intended to create social network analysis and how many users are interaction to each other"
   ]
  },
  {
   "cell_type": "code",
   "execution_count": 1,
   "metadata": {},
   "outputs": [],
   "source": [
    "import os\n",
    "import re\n",
    "import glob\n",
    "import json\n",
    "import pickle\n",
    "from tqdm import tqdm\n",
    "\n",
    "import pandas as pd\n",
    "import numpy as np\n",
    "import matplotlib.pyplot as plt\n",
    "import seaborn as sns"
   ]
  },
  {
   "cell_type": "code",
   "execution_count": 2,
   "metadata": {},
   "outputs": [],
   "source": [
    "pd.options.display.max_rows = 10"
   ]
  },
  {
   "cell_type": "code",
   "execution_count": 14,
   "metadata": {},
   "outputs": [],
   "source": [
    "tweet_file_paths = glob.glob(\"../data/7K_INDO/*.json\")"
   ]
  },
  {
   "cell_type": "code",
   "execution_count": 15,
   "metadata": {},
   "outputs": [
    {
     "data": {
      "text/plain": [
       "7003"
      ]
     },
     "execution_count": 15,
     "metadata": {},
     "output_type": "execute_result"
    }
   ],
   "source": [
    "len(tweet_file_paths)"
   ]
  },
  {
   "cell_type": "code",
   "execution_count": 16,
   "metadata": {},
   "outputs": [],
   "source": [
    "def read_json(path):\n",
    "    with open(path, 'r', encoding='utf-8') as f:\n",
    "        return json.load(f)"
   ]
  },
  {
   "cell_type": "code",
   "execution_count": 17,
   "metadata": {},
   "outputs": [],
   "source": [
    "def parsing_tweet(tweet):\n",
    "    \"\"\"Parsing tweet\n",
    "    \"\"\"\n",
    "    screen_name = tweet[\"user\"][\"screen_name\"]\n",
    "    id_tweet = tweet[\"id_str\"]\n",
    "    full_text = tweet[\"full_text\"]\n",
    "    hashtags = tweet[\"entities\"][\"hashtags\"]\n",
    "    user_mentions = tweet[\"entities\"][\"user_mentions\"]\n",
    "    created_at = tweet[\"created_at\"]\n",
    "    \n",
    "    parsed = {\"screen_name\": screen_name, \"id_tweet\": id_tweet, \"full_text\": full_text, \"hashtags\": hashtags,\n",
    "           \"user_mentions\": user_mentions, \"created_at\": created_at}\n",
    "    \n",
    "    if tweet[\"in_reply_to_status_id_str\"]:\n",
    "        parsed[\"in_reply_to_status_id_str\"] = tweet[\"in_reply_to_status_id_str\"]\n",
    "        parsed[\"in_reply_to_user_id_str\"] = tweet[\"in_reply_to_user_id_str\"]\n",
    "        parsed[\"in_reply_to_screen_name\"] = tweet[\"in_reply_to_screen_name\"]\n",
    "        \n",
    "    \n",
    "    if tweet[\"is_quote_status\"]:\n",
    "        parsed[\"quote_is_quote_status\"] = tweet[\"is_quote_status\"]\n",
    "        try:\n",
    "            parsed[\"quote_screen_name\"] = tweet[\"quoted_status\"][\"user\"][\"screen_name\"]\n",
    "        except:\n",
    "            pass\n",
    "        try:\n",
    "            parsed[\"quote_id_tweet\"] = tweet[\"quoted_status\"][\"id_str\"]\n",
    "        except:\n",
    "            pass\n",
    "        try:\n",
    "            parsed[\"quote_full_text\"] = tweet[\"quoted_status\"][\"full_text\"]\n",
    "        except:\n",
    "            pass\n",
    "        try:\n",
    "            parsed[\"quote_hashtags\"] = tweet[\"quoted_status\"][\"entities\"][\"hashtags\"]\n",
    "        except:\n",
    "            pass\n",
    "        try:\n",
    "            parsed[\"quote_user_mentions\"] = tweet[\"quoted_status\"][\"entities\"][\"user_mentions\"]\n",
    "        except:\n",
    "            pass\n",
    "        try:\n",
    "            parsed[\"quote_created_at\"] = tweet[\"quoted_status\"][\"created_at\"]\n",
    "        except:\n",
    "            pass\n",
    "    return parsed "
   ]
  },
  {
   "cell_type": "code",
   "execution_count": 18,
   "metadata": {},
   "outputs": [
    {
     "name": "stderr",
     "output_type": "stream",
     "text": [
      "100%|██████████████████████████████████████████████████████████████████████████████| 7003/7003 [06:25<00:00, 18.16it/s]\n"
     ]
    }
   ],
   "source": [
    "list_of_parsed_data = []\n",
    "for path in tqdm(tweet_file_paths):\n",
    "    data = read_json(path)\n",
    "    list_of_parsed_data.extend(list(map(parsing_tweet, data[\"tweets\"])))\n",
    "    list_of_parsed_data.extend(list(map(parsing_tweet, data[\"retweets\"])))\n",
    "    list_of_parsed_data.extend(list(map(parsing_tweet, data[\"replies\"])))"
   ]
  },
  {
   "cell_type": "markdown",
   "metadata": {},
   "source": [
    "## parsed tweet to dataframe"
   ]
  },
  {
   "cell_type": "code",
   "execution_count": 19,
   "metadata": {},
   "outputs": [],
   "source": [
    "column_ordered = ['screen_name', 'id_tweet', 'full_text', 'hashtags', 'user_mentions', 'created_at',\n",
    "                 'quote_is_quote_status', 'quote_screen_name', 'quote_id_tweet', 'quote_full_text',\n",
    "                  'quote_hashtags', 'quote_user_mentions', 'quote_created_at', \n",
    "                  \"in_reply_to_status_id_str\", \"in_reply_to_user_id_str\", \"in_reply_to_screen_name\"]"
   ]
  },
  {
   "cell_type": "code",
   "execution_count": 20,
   "metadata": {},
   "outputs": [],
   "source": [
    "d_tweets = pd.DataFrame(list_of_parsed_data)"
   ]
  },
  {
   "cell_type": "code",
   "execution_count": 21,
   "metadata": {},
   "outputs": [],
   "source": [
    "d_tweets = d_tweets[column_ordered]"
   ]
  },
  {
   "cell_type": "code",
   "execution_count": 22,
   "metadata": {},
   "outputs": [
    {
     "data": {
      "text/plain": [
       "(1747731, 16)"
      ]
     },
     "execution_count": 22,
     "metadata": {},
     "output_type": "execute_result"
    }
   ],
   "source": [
    "d_tweets.shape"
   ]
  },
  {
   "cell_type": "code",
   "execution_count": 23,
   "metadata": {},
   "outputs": [
    {
     "data": {
      "text/html": [
       "<div>\n",
       "<style scoped>\n",
       "    .dataframe tbody tr th:only-of-type {\n",
       "        vertical-align: middle;\n",
       "    }\n",
       "\n",
       "    .dataframe tbody tr th {\n",
       "        vertical-align: top;\n",
       "    }\n",
       "\n",
       "    .dataframe thead th {\n",
       "        text-align: right;\n",
       "    }\n",
       "</style>\n",
       "<table border=\"1\" class=\"dataframe\">\n",
       "  <thead>\n",
       "    <tr style=\"text-align: right;\">\n",
       "      <th></th>\n",
       "      <th>screen_name</th>\n",
       "      <th>id_tweet</th>\n",
       "      <th>full_text</th>\n",
       "      <th>hashtags</th>\n",
       "      <th>user_mentions</th>\n",
       "      <th>created_at</th>\n",
       "      <th>quote_is_quote_status</th>\n",
       "      <th>quote_screen_name</th>\n",
       "      <th>quote_id_tweet</th>\n",
       "      <th>quote_full_text</th>\n",
       "      <th>quote_hashtags</th>\n",
       "      <th>quote_user_mentions</th>\n",
       "      <th>quote_created_at</th>\n",
       "      <th>in_reply_to_status_id_str</th>\n",
       "      <th>in_reply_to_user_id_str</th>\n",
       "      <th>in_reply_to_screen_name</th>\n",
       "    </tr>\n",
       "  </thead>\n",
       "  <tbody>\n",
       "    <tr>\n",
       "      <th>0</th>\n",
       "      <td>007koteka</td>\n",
       "      <td>1277097851726643201</td>\n",
       "      <td>#HariJadiTwitterSaya \\n28 Juni 2017 https://t....</td>\n",
       "      <td>[{'text': 'HariJadiTwitterSaya', 'indices': [0...</td>\n",
       "      <td>[]</td>\n",
       "      <td>Sun Jun 28 04:33:49 +0000 2020</td>\n",
       "      <td>NaN</td>\n",
       "      <td>NaN</td>\n",
       "      <td>NaN</td>\n",
       "      <td>NaN</td>\n",
       "      <td>NaN</td>\n",
       "      <td>NaN</td>\n",
       "      <td>NaN</td>\n",
       "      <td>NaN</td>\n",
       "      <td>NaN</td>\n",
       "      <td>NaN</td>\n",
       "    </tr>\n",
       "    <tr>\n",
       "      <th>1</th>\n",
       "      <td>007koteka</td>\n",
       "      <td>1275054629370261504</td>\n",
       "      <td>Penjilat yang Berkedok Agama\\n\\n#PecatTengkuzu...</td>\n",
       "      <td>[{'text': 'PecatTengkuzulDariMUI', 'indices': ...</td>\n",
       "      <td>[]</td>\n",
       "      <td>Mon Jun 22 13:14:47 +0000 2020</td>\n",
       "      <td>NaN</td>\n",
       "      <td>NaN</td>\n",
       "      <td>NaN</td>\n",
       "      <td>NaN</td>\n",
       "      <td>NaN</td>\n",
       "      <td>NaN</td>\n",
       "      <td>NaN</td>\n",
       "      <td>NaN</td>\n",
       "      <td>NaN</td>\n",
       "      <td>NaN</td>\n",
       "    </tr>\n",
       "    <tr>\n",
       "      <th>2</th>\n",
       "      <td>007koteka</td>\n",
       "      <td>1274709422296596480</td>\n",
       "      <td>600 Orang Ikut Rapid Test Polri Saat CFD di Ja...</td>\n",
       "      <td>[]</td>\n",
       "      <td>[]</td>\n",
       "      <td>Sun Jun 21 14:23:03 +0000 2020</td>\n",
       "      <td>NaN</td>\n",
       "      <td>NaN</td>\n",
       "      <td>NaN</td>\n",
       "      <td>NaN</td>\n",
       "      <td>NaN</td>\n",
       "      <td>NaN</td>\n",
       "      <td>NaN</td>\n",
       "      <td>NaN</td>\n",
       "      <td>NaN</td>\n",
       "      <td>NaN</td>\n",
       "    </tr>\n",
       "    <tr>\n",
       "      <th>3</th>\n",
       "      <td>007koteka</td>\n",
       "      <td>1274381838027382784</td>\n",
       "      <td>Sebelum kemunculan HRS, tak ada catatan mengen...</td>\n",
       "      <td>[]</td>\n",
       "      <td>[{'screen_name': 'GusNadjb', 'name': 'GusNadjb...</td>\n",
       "      <td>Sat Jun 20 16:41:21 +0000 2020</td>\n",
       "      <td>NaN</td>\n",
       "      <td>NaN</td>\n",
       "      <td>NaN</td>\n",
       "      <td>NaN</td>\n",
       "      <td>NaN</td>\n",
       "      <td>NaN</td>\n",
       "      <td>NaN</td>\n",
       "      <td>NaN</td>\n",
       "      <td>NaN</td>\n",
       "      <td>NaN</td>\n",
       "    </tr>\n",
       "    <tr>\n",
       "      <th>4</th>\n",
       "      <td>007koteka</td>\n",
       "      <td>1274368391462051840</td>\n",
       "      <td>Selamat Ulang Tahun ke-59\\nPresiden Republik I...</td>\n",
       "      <td>[{'text': 'HUTJokowi', 'indices': [235, 245]},...</td>\n",
       "      <td>[{'screen_name': 'jokowi', 'name': 'Joko Widod...</td>\n",
       "      <td>Sat Jun 20 15:47:55 +0000 2020</td>\n",
       "      <td>NaN</td>\n",
       "      <td>NaN</td>\n",
       "      <td>NaN</td>\n",
       "      <td>NaN</td>\n",
       "      <td>NaN</td>\n",
       "      <td>NaN</td>\n",
       "      <td>NaN</td>\n",
       "      <td>NaN</td>\n",
       "      <td>NaN</td>\n",
       "      <td>NaN</td>\n",
       "    </tr>\n",
       "  </tbody>\n",
       "</table>\n",
       "</div>"
      ],
      "text/plain": [
       "  screen_name             id_tweet  \\\n",
       "0   007koteka  1277097851726643201   \n",
       "1   007koteka  1275054629370261504   \n",
       "2   007koteka  1274709422296596480   \n",
       "3   007koteka  1274381838027382784   \n",
       "4   007koteka  1274368391462051840   \n",
       "\n",
       "                                           full_text  \\\n",
       "0  #HariJadiTwitterSaya \\n28 Juni 2017 https://t....   \n",
       "1  Penjilat yang Berkedok Agama\\n\\n#PecatTengkuzu...   \n",
       "2  600 Orang Ikut Rapid Test Polri Saat CFD di Ja...   \n",
       "3  Sebelum kemunculan HRS, tak ada catatan mengen...   \n",
       "4  Selamat Ulang Tahun ke-59\\nPresiden Republik I...   \n",
       "\n",
       "                                            hashtags  \\\n",
       "0  [{'text': 'HariJadiTwitterSaya', 'indices': [0...   \n",
       "1  [{'text': 'PecatTengkuzulDariMUI', 'indices': ...   \n",
       "2                                                 []   \n",
       "3                                                 []   \n",
       "4  [{'text': 'HUTJokowi', 'indices': [235, 245]},...   \n",
       "\n",
       "                                       user_mentions  \\\n",
       "0                                                 []   \n",
       "1                                                 []   \n",
       "2                                                 []   \n",
       "3  [{'screen_name': 'GusNadjb', 'name': 'GusNadjb...   \n",
       "4  [{'screen_name': 'jokowi', 'name': 'Joko Widod...   \n",
       "\n",
       "                       created_at quote_is_quote_status quote_screen_name  \\\n",
       "0  Sun Jun 28 04:33:49 +0000 2020                   NaN               NaN   \n",
       "1  Mon Jun 22 13:14:47 +0000 2020                   NaN               NaN   \n",
       "2  Sun Jun 21 14:23:03 +0000 2020                   NaN               NaN   \n",
       "3  Sat Jun 20 16:41:21 +0000 2020                   NaN               NaN   \n",
       "4  Sat Jun 20 15:47:55 +0000 2020                   NaN               NaN   \n",
       "\n",
       "  quote_id_tweet quote_full_text quote_hashtags quote_user_mentions  \\\n",
       "0            NaN             NaN            NaN                 NaN   \n",
       "1            NaN             NaN            NaN                 NaN   \n",
       "2            NaN             NaN            NaN                 NaN   \n",
       "3            NaN             NaN            NaN                 NaN   \n",
       "4            NaN             NaN            NaN                 NaN   \n",
       "\n",
       "  quote_created_at in_reply_to_status_id_str in_reply_to_user_id_str  \\\n",
       "0              NaN                       NaN                     NaN   \n",
       "1              NaN                       NaN                     NaN   \n",
       "2              NaN                       NaN                     NaN   \n",
       "3              NaN                       NaN                     NaN   \n",
       "4              NaN                       NaN                     NaN   \n",
       "\n",
       "  in_reply_to_screen_name  \n",
       "0                     NaN  \n",
       "1                     NaN  \n",
       "2                     NaN  \n",
       "3                     NaN  \n",
       "4                     NaN  "
      ]
     },
     "execution_count": 23,
     "metadata": {},
     "output_type": "execute_result"
    }
   ],
   "source": [
    "d_tweets.head()"
   ]
  },
  {
   "cell_type": "markdown",
   "metadata": {},
   "source": [
    "Save file"
   ]
  },
  {
   "cell_type": "code",
   "execution_count": 24,
   "metadata": {},
   "outputs": [],
   "source": [
    "with open(\"../data/supports/parsed_7003.pkl\", \"wb\") as file:\n",
    "    pickle.dump(d_tweets, file)"
   ]
  }
 ],
 "metadata": {
  "kernelspec": {
   "display_name": "Python 3",
   "language": "python",
   "name": "python3"
  },
  "language_info": {
   "codemirror_mode": {
    "name": "ipython",
    "version": 3
   },
   "file_extension": ".py",
   "mimetype": "text/x-python",
   "name": "python",
   "nbconvert_exporter": "python",
   "pygments_lexer": "ipython3",
   "version": "3.8.3"
  }
 },
 "nbformat": 4,
 "nbformat_minor": 4
}
