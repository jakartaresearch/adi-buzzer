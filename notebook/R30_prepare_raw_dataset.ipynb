{
 "cells": [
  {
   "cell_type": "code",
   "execution_count": 1,
   "metadata": {},
   "outputs": [],
   "source": [
    "import json\n",
    "import pandas as pd\n",
    "import numpy as np\n",
    "import seaborn as sns\n",
    "import re\n",
    "import matplotlib.pyplot as plt\n",
    "\n",
    "from sklearn.model_selection import train_test_split"
   ]
  },
  {
   "cell_type": "code",
   "execution_count": 2,
   "metadata": {},
   "outputs": [],
   "source": [
    "dataset_pth = '../data/dataset/dataset.json'"
   ]
  },
  {
   "cell_type": "code",
   "execution_count": 3,
   "metadata": {},
   "outputs": [],
   "source": [
    "def read_json(path):\n",
    "    with open(path, 'r') as file:\n",
    "        return json.load(file)"
   ]
  },
  {
   "cell_type": "code",
   "execution_count": 4,
   "metadata": {},
   "outputs": [],
   "source": [
    "dataset = pd.read_json(dataset_pth)"
   ]
  },
  {
   "cell_type": "code",
   "execution_count": 5,
   "metadata": {},
   "outputs": [],
   "source": [
    "choosen_feat = ['username', 'is_name_social_political', 'desc',\n",
    "               'tweets', 'n_tweet', 'quoted_tweets', 'n_tweet_use_hashtag',\n",
    "               'ratio_tweets_use_hashtag', 'n_photo', 'n_video', 'buzzer']\n",
    "dataset = dataset[choosen_feat]"
   ]
  },
  {
   "cell_type": "code",
   "execution_count": 6,
   "metadata": {},
   "outputs": [
    {
     "data": {
      "text/html": [
       "<div>\n",
       "<style scoped>\n",
       "    .dataframe tbody tr th:only-of-type {\n",
       "        vertical-align: middle;\n",
       "    }\n",
       "\n",
       "    .dataframe tbody tr th {\n",
       "        vertical-align: top;\n",
       "    }\n",
       "\n",
       "    .dataframe thead th {\n",
       "        text-align: right;\n",
       "    }\n",
       "</style>\n",
       "<table border=\"1\" class=\"dataframe\">\n",
       "  <thead>\n",
       "    <tr style=\"text-align: right;\">\n",
       "      <th></th>\n",
       "      <th>username</th>\n",
       "      <th>is_name_social_political</th>\n",
       "      <th>desc</th>\n",
       "      <th>tweets</th>\n",
       "      <th>n_tweet</th>\n",
       "      <th>quoted_tweets</th>\n",
       "      <th>n_tweet_use_hashtag</th>\n",
       "      <th>ratio_tweets_use_hashtag</th>\n",
       "      <th>n_photo</th>\n",
       "      <th>n_video</th>\n",
       "      <th>buzzer</th>\n",
       "    </tr>\n",
       "  </thead>\n",
       "  <tbody>\n",
       "    <tr>\n",
       "      <th>1054</th>\n",
       "      <td>AbdulMu20301125</td>\n",
       "      <td>0</td>\n",
       "      <td>mesti menjaga eksistensimu singa sdngkan kambi...</td>\n",
       "      <td>[partai sesuci apapun sistem iblis malaikatpun...</td>\n",
       "      <td>6</td>\n",
       "      <td>[gerindra segenap personal kader berubah publi...</td>\n",
       "      <td>0</td>\n",
       "      <td>0.0</td>\n",
       "      <td>0.0</td>\n",
       "      <td>2.0</td>\n",
       "      <td>0</td>\n",
       "    </tr>\n",
       "    <tr>\n",
       "      <th>3192</th>\n",
       "      <td>keziafredericaa</td>\n",
       "      <td>0</td>\n",
       "      <td>kerjaannya ngehaluu tr00zzz</td>\n",
       "      <td>[cinta memiliki memiliki, sih biar overthinkin...</td>\n",
       "      <td>2</td>\n",
       "      <td>[]</td>\n",
       "      <td>0</td>\n",
       "      <td>0.0</td>\n",
       "      <td>0.0</td>\n",
       "      <td>0.0</td>\n",
       "      <td>0</td>\n",
       "    </tr>\n",
       "  </tbody>\n",
       "</table>\n",
       "</div>"
      ],
      "text/plain": [
       "             username  is_name_social_political  \\\n",
       "1054  AbdulMu20301125                         0   \n",
       "3192  keziafredericaa                         0   \n",
       "\n",
       "                                                   desc  \\\n",
       "1054  mesti menjaga eksistensimu singa sdngkan kambi...   \n",
       "3192                        kerjaannya ngehaluu tr00zzz   \n",
       "\n",
       "                                                 tweets  n_tweet  \\\n",
       "1054  [partai sesuci apapun sistem iblis malaikatpun...        6   \n",
       "3192  [cinta memiliki memiliki, sih biar overthinkin...        2   \n",
       "\n",
       "                                          quoted_tweets  n_tweet_use_hashtag  \\\n",
       "1054  [gerindra segenap personal kader berubah publi...                    0   \n",
       "3192                                                 []                    0   \n",
       "\n",
       "      ratio_tweets_use_hashtag  n_photo  n_video  buzzer  \n",
       "1054                       0.0      0.0      2.0       0  \n",
       "3192                       0.0      0.0      0.0       0  "
      ]
     },
     "execution_count": 6,
     "metadata": {},
     "output_type": "execute_result"
    }
   ],
   "source": [
    "dataset.sample(2)"
   ]
  },
  {
   "cell_type": "markdown",
   "metadata": {},
   "source": [
    "## Check features correlation"
   ]
  },
  {
   "cell_type": "code",
   "execution_count": 7,
   "metadata": {},
   "outputs": [],
   "source": [
    "corr_feat = ['is_name_social_political', 'n_tweet', 'n_tweet_use_hashtag',\n",
    "             'ratio_tweets_use_hashtag', 'n_photo', 'n_video', 'buzzer']\n",
    "\n",
    "df = dataset[corr_feat]"
   ]
  },
  {
   "cell_type": "code",
   "execution_count": 8,
   "metadata": {},
   "outputs": [
    {
     "data": {
      "image/png": "[encoded data removed]",
      "text/plain": [
       "<Figure size 720x720 with 2 Axes>"
      ]
     },
     "metadata": {
      "needs_background": "light"
     },
     "output_type": "display_data"
    }
   ],
   "source": [
    "f, ax = plt.subplots(figsize=(10,10))\n",
    "sns.heatmap(df.corr(), annot=True, linewidths=0.5, fmt='.1f', ax=ax)\n",
    "plt.yticks(fontsize=10)\n",
    "plt.xticks(fontsize=10)\n",
    "plt.show()"
   ]
  },
  {
   "cell_type": "markdown",
   "metadata": {},
   "source": [
    "## Text Preprocessing"
   ]
  },
  {
   "cell_type": "code",
   "execution_count": 9,
   "metadata": {},
   "outputs": [],
   "source": [
    "def text_cleaning(list_text):\n",
    "    out = [re.sub(r'\\b\\d+\\b', ' ', text) for text in list_text]\n",
    "    out = [re.sub(r'\\s\\s+', ' ', text) for text in out]\n",
    "    return out"
   ]
  },
  {
   "cell_type": "code",
   "execution_count": 10,
   "metadata": {},
   "outputs": [],
   "source": [
    "dataset['combine_tweet'] = dataset.tweets + dataset.quoted_tweets\n",
    "dataset['clean_text'] = dataset.combine_tweet.apply(text_cleaning)\n",
    "dataset['text_used'] = dataset.clean_text.apply(lambda x: \" \".join(x))"
   ]
  },
  {
   "cell_type": "code",
   "execution_count": 11,
   "metadata": {},
   "outputs": [],
   "source": [
    "# Remove empty tweets (NaN)\n",
    "dataset = dataset[dataset.tweets.str.len() != 0]"
   ]
  },
  {
   "cell_type": "code",
   "execution_count": 12,
   "metadata": {},
   "outputs": [],
   "source": [
    "dataset.drop(['combine_tweet', 'clean_text'], axis=1, inplace=True)"
   ]
  },
  {
   "cell_type": "markdown",
   "metadata": {},
   "source": [
    "## Save RAW Dataset"
   ]
  },
  {
   "cell_type": "code",
   "execution_count": 13,
   "metadata": {},
   "outputs": [],
   "source": [
    "X = dataset\n",
    "y = dataset['buzzer']\n",
    "\n",
    "X_train, X_test, y_train, y_test = train_test_split(X, y, test_size=0.2, random_state=123)"
   ]
  },
  {
   "cell_type": "code",
   "execution_count": 14,
   "metadata": {},
   "outputs": [],
   "source": [
    "pth = '../data/dataset/'\n",
    "X_train.to_csv(pth+'RAW_X_train.csv', na_rep=None, index=False)\n",
    "X_test.to_csv(pth+'RAW_X_test.csv', na_rep=None, index=False)\n",
    "y_train.to_csv(pth+'RAW_y_train.csv', na_rep=None, index=False)\n",
    "y_test.to_csv(pth+'RAW_y_test.csv', na_rep=None, index=False)"
   ]
  },
  {
   "cell_type": "code",
   "execution_count": 15,
   "metadata": {},
   "outputs": [
    {
     "data": {
      "text/plain": [
       "<AxesSubplot:ylabel='buzzer'>"
      ]
     },
     "execution_count": 15,
     "metadata": {},
     "output_type": "execute_result"
    },
    {
     "data": {
      "image/png": "[encoded data removed]",
      "text/plain": [
       "<Figure size 432x288 with 1 Axes>"
      ]
     },
     "metadata": {},
     "output_type": "display_data"
    }
   ],
   "source": [
    "# Check imbalance dataset\n",
    "y.value_counts().plot.pie(autopct='%.2f')"
   ]
  },
  {
   "cell_type": "code",
   "execution_count": null,
   "metadata": {},
   "outputs": [],
   "source": []
  }
 ],
 "metadata": {
  "kernelspec": {
   "display_name": "Python 3",
   "language": "python",
   "name": "python3"
  },
  "language_info": {
   "codemirror_mode": {
    "name": "ipython",
    "version": 3
   },
   "file_extension": ".py",
   "mimetype": "text/x-python",
   "name": "python",
   "nbconvert_exporter": "python",
   "pygments_lexer": "ipython3",
   "version": "3.8.3"
  }
 },
 "nbformat": 4,
 "nbformat_minor": 4
}
