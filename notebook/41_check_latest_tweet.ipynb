{
 "cells": [
  {
   "cell_type": "code",
   "execution_count": null,
   "metadata": {},
   "outputs": [],
   "source": [
    "import os\n",
    "import re\n",
    "import glob\n",
    "import json\n",
    "import pickle\n",
    "\n",
    "from tqdm import tqdm\n",
    "import datetime as dt\n",
    "from datetime import datetime\n",
    "\n",
    "import pandas as pd\n",
    "import numpy as np\n",
    "import matplotlib.pyplot as plt\n",
    "import seaborn as sns"
   ]
  },
  {
   "cell_type": "code",
   "execution_count": null,
   "metadata": {},
   "outputs": [],
   "source": [
    "PROFILE_FILTERED_PATH = \"../data/supports/profile_filtered.pkl\"\n",
    "USER_TIMELINE_PATH = \"../data/user_timeline\"\n",
    "CHECK_LATEST_TWEET_PATH = \"../data/supports/check_latest_tweet.pkl\""
   ]
  },
  {
   "cell_type": "code",
   "execution_count": null,
   "metadata": {},
   "outputs": [],
   "source": [
    "d_profile = pickle.load(open(PROFILE_FILTERED_PATH, 'rb'))"
   ]
  },
  {
   "cell_type": "code",
   "execution_count": null,
   "metadata": {},
   "outputs": [],
   "source": [
    "tqdm.pandas()"
   ]
  },
  {
   "cell_type": "code",
   "execution_count": null,
   "metadata": {},
   "outputs": [],
   "source": [
    "def parse_created(date):\n",
    "    date = re.sub(\" \\+[0-9]{0,4}\", \"\", date)\n",
    "    date = re.sub(\"^[a-zA-Z]{3} \", \"\", date)\n",
    "    date = re.sub(\"[0-9]{2}:[0-9]{2}:[0-9]{2}\", \"\", date)\n",
    "    \n",
    "    tgl = re.search(\"[0-9]{2}\", date).group()\n",
    "    bln = re.search(\"[A-Za-z]{3}\", date).group()\n",
    "    bln = month_dict[bln]\n",
    "    thn = re.search(\"[0-9]{4}\", date).group()\n",
    "    date = tgl + \"-\" + bln + \"-\" + thn\n",
    "    \n",
    "    date = datetime.strptime(date, \"%d-%m-%Y\")\n",
    "    \n",
    "    return date"
   ]
  },
  {
   "cell_type": "code",
   "execution_count": null,
   "metadata": {},
   "outputs": [],
   "source": [
    "month_dict = {\"Jan\": \"01\", \"Feb\": \"02\", \"Mar\": \"03\", \"Apr\": \"04\", \"May\": \"05\", \"Jun\": \"06\"\n",
    "             , \"Jul\": \"07\", \"Aug\": \"08\", \"Sep\": \"09\", \"Oct\": \"10\", \"Nov\": \"11\", \"Dec\": \"12\"}"
   ]
  },
  {
   "cell_type": "code",
   "execution_count": null,
   "metadata": {},
   "outputs": [],
   "source": [
    "def read_tweet(screen_name):\n",
    "    file = os.path.join(USER_TIMELINE_PATH, screen_name + '.json')\n",
    "    if os.path.exists(file):\n",
    "        with open(file, 'r', encoding='utf-8') as f:\n",
    "            data = json.load(f)\n",
    "        \n",
    "        date = parse_created(data[\"created_at\"])\n",
    "        return date\n",
    "    else:\n",
    "        return None"
   ]
  },
  {
   "cell_type": "code",
   "execution_count": null,
   "metadata": {},
   "outputs": [],
   "source": [
    "d_profile[\"latest_tweet\"] = d_profile.screen_name.progress_apply(read_tweet)"
   ]
  },
  {
   "cell_type": "code",
   "execution_count": null,
   "metadata": {},
   "outputs": [],
   "source": [
    "d_profile[\"duration_latest_tweet\"] = d_profile.latest_tweet.apply(\n",
    "    lambda x: (datetime.today() - x).days)"
   ]
  },
  {
   "cell_type": "code",
   "execution_count": null,
   "metadata": {},
   "outputs": [],
   "source": [
    "d_profile = d_profile[~d_profile.duration_latest_tweet.isna()]"
   ]
  },
  {
   "cell_type": "code",
   "execution_count": null,
   "metadata": {},
   "outputs": [],
   "source": [
    "d_profile.shape"
   ]
  },
  {
   "cell_type": "code",
   "execution_count": null,
   "metadata": {},
   "outputs": [],
   "source": [
    "pickle.dump(d_profile, open(CHECK_LATEST_TWEET_PATH, 'wb'))"
   ]
  },
  {
   "cell_type": "code",
   "execution_count": null,
   "metadata": {},
   "outputs": [],
   "source": []
  }
 ],
 "metadata": {
  "kernelspec": {
   "display_name": "Python 3",
   "language": "python",
   "name": "python3"
  },
  "language_info": {
   "codemirror_mode": {
    "name": "ipython",
    "version": 3
   },
   "file_extension": ".py",
   "mimetype": "text/x-python",
   "name": "python",
   "nbconvert_exporter": "python",
   "pygments_lexer": "ipython3",
   "version": "3.7.3"
  }
 },
 "nbformat": 4,
 "nbformat_minor": 4
}
