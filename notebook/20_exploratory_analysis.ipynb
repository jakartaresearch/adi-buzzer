{
 "cells": [
  {
   "cell_type": "markdown",
   "metadata": {},
   "source": [
    "# Exploratory Data Analysis"
   ]
  },
  {
   "cell_type": "markdown",
   "metadata": {},
   "source": [
    "### Background\n",
    "boundaries yang jelas antara buzzer dan non buzzer\n",
    "kalo pake rule based mungkin bakal:\n",
    "\n",
    "- banyak tweet dari suatu account yang pake hashtag, e.g 80% dari tweetnya pake hashtag\n",
    "- banyak retweet yang mengandung hashtag atau yang bermuatan politik entah berupa text, gambar atau video\n",
    "- Jika tidak menggunakan hashtag, tidak meretweet, namun sering membuat tweet yang me-mention tokoh-tokoh politik dan sangat sering e.g 70% of the tweets"
   ]
  },
  {
   "cell_type": "code",
   "execution_count": 8,
   "metadata": {},
   "outputs": [],
   "source": [
    "import re\n",
    "import os\n",
    "import pytz\n",
    "import pickle\n",
    "from datetime import datetime, timedelta, timezone\n",
    "from tqdm import tqdm\n",
    "import pandas as pd\n",
    "import numpy as np\n",
    "import matplotlib.pyplot as plt\n",
    "import seaborn as sns\n",
    "from itertools import chain\n",
    "from collections import Counter"
   ]
  },
  {
   "cell_type": "code",
   "execution_count": 2,
   "metadata": {},
   "outputs": [],
   "source": [
    "tqdm.pandas()"
   ]
  },
  {
   "cell_type": "code",
   "execution_count": 3,
   "metadata": {},
   "outputs": [],
   "source": [
    "def read_pickle(path):\n",
    "    with open(path, 'rb') as f:\n",
    "        return pickle.load(f)"
   ]
  },
  {
   "cell_type": "code",
   "execution_count": 4,
   "metadata": {},
   "outputs": [],
   "source": [
    "d_accounts = pd.read_csv(\"../data/account_labeled/project_12_labels_Thu_Oct_15_2020.csv\")"
   ]
  },
  {
   "cell_type": "code",
   "execution_count": 5,
   "metadata": {},
   "outputs": [],
   "source": [
    "d_199 = read_pickle(\"../data/supports/parsed_199.pkl\")\n",
    "d_6725 = read_pickle(\"../data/supports/parsed_7003.pkl\")\n",
    "d_tweets = pd.concat([d_199, d_6725], axis = 0, sort=False)\n",
    "d_tweets.reset_index(drop=True, inplace=True)"
   ]
  },
  {
   "cell_type": "code",
   "execution_count": 9,
   "metadata": {},
   "outputs": [],
   "source": [
    "d_tweets.drop_duplicates(subset=\"id_tweet\", inplace=True)"
   ]
  },
  {
   "cell_type": "code",
   "execution_count": null,
   "metadata": {},
   "outputs": [],
   "source": [
    "print(f'Total tweets: {d_tweets.shape[0]:,}')"
   ]
  },
  {
   "cell_type": "code",
   "execution_count": null,
   "metadata": {},
   "outputs": [],
   "source": [
    "d_accounts.columns = [\"id\", \"text\", \"label\"]"
   ]
  },
  {
   "cell_type": "code",
   "execution_count": null,
   "metadata": {},
   "outputs": [],
   "source": [
    "d_accounts.shape"
   ]
  },
  {
   "cell_type": "code",
   "execution_count": null,
   "metadata": {},
   "outputs": [],
   "source": [
    "d_accounts.label.value_counts().plot.pie(autopct='%1.1f')\n",
    "plt.savefig(\"../data/figures/label_percentage.png\")"
   ]
  },
  {
   "cell_type": "code",
   "execution_count": null,
   "metadata": {},
   "outputs": [],
   "source": [
    "d_accounts = d_accounts[d_accounts.label != 'inactive']"
   ]
  },
  {
   "cell_type": "code",
   "execution_count": null,
   "metadata": {},
   "outputs": [],
   "source": [
    "d_accounts.shape"
   ]
  },
  {
   "cell_type": "code",
   "execution_count": null,
   "metadata": {},
   "outputs": [],
   "source": [
    "d_accounts.label.value_counts().plot.pie(autopct='%1.1f')"
   ]
  },
  {
   "cell_type": "code",
   "execution_count": null,
   "metadata": {},
   "outputs": [],
   "source": [
    "d_accounts['screenname'] = d_accounts.text.apply(lambda text: text.split()[0].split('/')[-1])"
   ]
  },
  {
   "cell_type": "code",
   "execution_count": null,
   "metadata": {
    "scrolled": true
   },
   "outputs": [],
   "source": [
    "d_accounts"
   ]
  },
  {
   "cell_type": "code",
   "execution_count": null,
   "metadata": {},
   "outputs": [],
   "source": [
    "d_tweets.head()"
   ]
  },
  {
   "cell_type": "code",
   "execution_count": null,
   "metadata": {},
   "outputs": [],
   "source": [
    "utc7 = pytz.timezone(\"Asia/Jakarta\")"
   ]
  },
  {
   "cell_type": "code",
   "execution_count": null,
   "metadata": {},
   "outputs": [],
   "source": [
    "d_tweets[\"created_at_format\"] = d_tweets.created_at.progress_apply(\n",
    "    lambda x: datetime.strptime(x, \"%a %b %d %H:%M:%S %z %Y\"))"
   ]
  },
  {
   "cell_type": "code",
   "execution_count": null,
   "metadata": {
    "scrolled": true
   },
   "outputs": [],
   "source": [
    "d_tweets[\"created_at_format\"] = d_tweets.created_at_format.progress_apply(\n",
    "    lambda x: x.tz_convert(utc7))"
   ]
  },
  {
   "cell_type": "markdown",
   "metadata": {},
   "source": [
    "### calculate average tweets per day given an account"
   ]
  },
  {
   "cell_type": "code",
   "execution_count": null,
   "metadata": {},
   "outputs": [],
   "source": [
    "d_accounts.loc[:, \"mean\"] = d_accounts.loc[:, \"screenname\"].progress_apply(\n",
    "    lambda screenname: d_tweets.loc[d_tweets.screen_name == screenname].groupby(\n",
    "    by=d_tweets.created_at_format.dt.date)[\"id_tweet\"].count().mean())"
   ]
  },
  {
   "cell_type": "code",
   "execution_count": null,
   "metadata": {},
   "outputs": [],
   "source": [
    "plt.figure(figsize=(5, 8))\n",
    "sns.boxplot(x = 'label', y = 'mean', data = d_accounts)"
   ]
  },
  {
   "cell_type": "code",
   "execution_count": null,
   "metadata": {},
   "outputs": [],
   "source": [
    "plt.savefig(\"../data/figures/average-tweets-per-account.png\")"
   ]
  },
  {
   "cell_type": "markdown",
   "metadata": {},
   "source": [
    "### calculate median tweets per day given an account"
   ]
  },
  {
   "cell_type": "code",
   "execution_count": null,
   "metadata": {},
   "outputs": [],
   "source": [
    "d_accounts.loc[:, \"median\"] = d_accounts.loc[:, \"screenname\"].progress_apply(\n",
    "    lambda screenname: d_tweets.loc[d_tweets.screen_name == screenname].groupby(\n",
    "    by=d_tweets.created_at_format.dt.date)[\"id_tweet\"].count().median())"
   ]
  },
  {
   "cell_type": "code",
   "execution_count": null,
   "metadata": {},
   "outputs": [],
   "source": [
    "plt.figure(figsize=(5, 8))\n",
    "sns.boxplot(x = 'label', y = 'median', data = d_accounts)\n",
    "plt.savefig(\"../data/figures/average-tweets-per-account.png\")"
   ]
  },
  {
   "cell_type": "markdown",
   "metadata": {},
   "source": [
    "### calculate average hashtags per account"
   ]
  },
  {
   "cell_type": "code",
   "execution_count": null,
   "metadata": {
    "scrolled": true
   },
   "outputs": [],
   "source": [
    "d_accounts[\"average_hashtag\"] = d_accounts.loc[:, \"screenname\"].progress_apply(\n",
    "    lambda x: d_tweets.loc[d_tweets.screen_name.isin([x])].hashtags.apply(len).mean())"
   ]
  },
  {
   "cell_type": "code",
   "execution_count": null,
   "metadata": {},
   "outputs": [],
   "source": [
    "plt.figure(figsize=(4,8))\n",
    "sns.boxplot(x = 'label', y = 'average_hashtag', data = d_accounts)\n",
    "plt.savefig(\"../data/figures/average_hashtag_per_user.png\")"
   ]
  },
  {
   "cell_type": "markdown",
   "metadata": {},
   "source": [
    "### average retweet per hari"
   ]
  },
  {
   "cell_type": "code",
   "execution_count": null,
   "metadata": {
    "scrolled": true
   },
   "outputs": [],
   "source": [
    "d_accounts[\"average_rt\"] = d_accounts.screenname.progress_apply(lambda x:\n",
    "    d_tweets[d_tweets.screen_name.isin([x])].full_text.str.contains('^RT', regex=True).mean())"
   ]
  },
  {
   "cell_type": "code",
   "execution_count": null,
   "metadata": {},
   "outputs": [],
   "source": [
    "plt.figure(figsize=(3,5))\n",
    "sns.boxplot(x = \"label\", y = \"avergae_rt\", data = d_accounts)\n",
    "plt.savefig(\"../data/figures/average_rt_per_account.png\")"
   ]
  },
  {
   "cell_type": "markdown",
   "metadata": {},
   "source": [
    "### berapa banyak tweet yang pake hashtag"
   ]
  },
  {
   "cell_type": "code",
   "execution_count": null,
   "metadata": {},
   "outputs": [],
   "source": [
    "d_accounts.head()"
   ]
  },
  {
   "cell_type": "code",
   "execution_count": null,
   "metadata": {},
   "outputs": [],
   "source": [
    "d_accounts[\"average_tweet_contain_hashtag\"] = d_accounts.screenname.progress_apply(\n",
    "    lambda x: (d_tweets[d_tweets.screen_name.isin([x])].hashtags.apply(len) > 0).mean())"
   ]
  },
  {
   "cell_type": "code",
   "execution_count": null,
   "metadata": {},
   "outputs": [],
   "source": [
    "plt.figure(figsize=(5,8))\n",
    "sns.boxplot(x = 'label', y = 'average_tweet_contain_hashtag', data = d_accounts)\n",
    "plt.savefig(\"../data/figures/average_tweet_contain_hashtag\")"
   ]
  },
  {
   "cell_type": "code",
   "execution_count": null,
   "metadata": {},
   "outputs": [],
   "source": [
    "hashtag_list = d_tweets.hashtags.apply(lambda x: [hashtag[\"text\"] for hashtag in x]).to_list()"
   ]
  },
  {
   "cell_type": "code",
   "execution_count": null,
   "metadata": {},
   "outputs": [],
   "source": [
    "hashtag_list_flat = list(chain(*hashtag_list))\n",
    "\n",
    "hashtag_dict = dict(Counter(hashtag_list_flat))\n",
    "\n",
    "d_hashtag = pd.DataFrame(data={\"hashtag\": list(hashtag_dict.keys()), \"frequency\": list(hashtag_dict.values())})"
   ]
  },
  {
   "cell_type": "code",
   "execution_count": null,
   "metadata": {},
   "outputs": [],
   "source": [
    "d_hashtag.to_csv(\"../data/supports/hashtag.csv\", index=False)"
   ]
  },
  {
   "cell_type": "code",
   "execution_count": null,
   "metadata": {},
   "outputs": [],
   "source": [
    "d_hashtag.sort_values(by=\"frequency\", ascending=False)"
   ]
  },
  {
   "cell_type": "code",
   "execution_count": null,
   "metadata": {},
   "outputs": [],
   "source": [
    "screenname_buzzer = d_accounts.loc[d_accounts.label==\"non-buzzer\", \"screenname\"].tolist()"
   ]
  },
  {
   "cell_type": "code",
   "execution_count": null,
   "metadata": {},
   "outputs": [],
   "source": [
    "hashtag_list = d_tweets[d_tweets.screen_name.isin(screenname_buzzer)].hashtags.apply(lambda x: [hashtag[\"text\"] for hashtag in x]).to_list()"
   ]
  },
  {
   "cell_type": "code",
   "execution_count": null,
   "metadata": {},
   "outputs": [],
   "source": [
    "hashtag_list_flat = list(chain(*hashtag_list))\n",
    "hashtag_dict = dict(Counter(hashtag_list_flat))\n",
    "d_hashtag = pd.DataFrame(data={\"hashtag\": list(hashtag_dict.keys()), \"frequency\": list(hashtag_dict.values())})"
   ]
  },
  {
   "cell_type": "code",
   "execution_count": null,
   "metadata": {},
   "outputs": [],
   "source": [
    "d_hashtag.sort_values(by=\"frequency\", ascending=False)"
   ]
  },
  {
   "cell_type": "code",
   "execution_count": null,
   "metadata": {},
   "outputs": [],
   "source": []
  }
 ],
 "metadata": {
  "kernelspec": {
   "display_name": "Python 3",
   "language": "python",
   "name": "python3"
  },
  "language_info": {
   "codemirror_mode": {
    "name": "ipython",
    "version": 3
   },
   "file_extension": ".py",
   "mimetype": "text/x-python",
   "name": "python",
   "nbconvert_exporter": "python",
   "pygments_lexer": "ipython3",
   "version": "3.7.3"
  }
 },
 "nbformat": 4,
 "nbformat_minor": 4
}
