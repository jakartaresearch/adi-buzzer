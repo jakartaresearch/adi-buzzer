{
 "cells": [
  {
   "cell_type": "markdown",
   "metadata": {
    "colab_type": "text",
    "id": "view-in-github"
   },
   "source": [
    "<a href=\"https://colab.research.google.com/github/jakartaresearch/adi-buzzer/blob/dev/notebook/R1_get_tweet_retweet_reply_300.ipynb\" target=\"_parent\"><img src=\"https://colab.research.google.com/assets/colab-badge.svg\" alt=\"Open In Colab\"/></a>"
   ]
  },
  {
   "cell_type": "code",
   "execution_count": null,
   "metadata": {
    "colab": {},
    "colab_type": "code",
    "id": "VY2kvG-uBALn"
   },
   "outputs": [],
   "source": [
    "!pip install tweepy --quiet"
   ]
  },
  {
   "cell_type": "markdown",
   "metadata": {
    "colab_type": "text",
    "id": "u5OJKbnIxe3k"
   },
   "source": [
    "# Setup & Import Library"
   ]
  },
  {
   "cell_type": "code",
   "execution_count": null,
   "metadata": {
    "colab": {
     "base_uri": "https://localhost:8080/",
     "height": 34
    },
    "colab_type": "code",
    "id": "a1LjR3yfWSAP",
    "outputId": "f3932cd9-6ebf-4554-f9f2-9073114748e1"
   },
   "outputs": [],
   "source": [
    "import pandas as pd\n",
    "import pickle\n",
    "import tweepy\n",
    "import json\n",
    "from tqdm import tqdm\n",
    "from tweepy import Cursor\n",
    "from datetime import datetime, date, time, timedelta\n",
    "from collections import Counter\n",
    "\n",
    "# Mount Google Drive\n",
    "from google.colab import drive # import drive from google colab\n",
    "\n",
    "ROOT = \"/content/drive/\"     # default location for the drive\n",
    "drive.mount(ROOT)           # we mount the google drive at /content/drive"
   ]
  },
  {
   "cell_type": "code",
   "execution_count": null,
   "metadata": {
    "colab": {},
    "colab_type": "code",
    "id": "VCjZmb-lWZ1o"
   },
   "outputs": [],
   "source": [
    "buzzer_path = 'drive/My Drive/Colab Notebooks/adi-buzzer/List of Buzzer.csv'\n",
    "key_path = 'drive/My Drive/Colab Notebooks/adi-buzzer/twitter_credentials.pkl'"
   ]
  },
  {
   "cell_type": "code",
   "execution_count": null,
   "metadata": {
    "colab": {},
    "colab_type": "code",
    "id": "ayCTgNFCxmEU"
   },
   "outputs": [],
   "source": [
    "class Twitter():\n",
    "    def __init__(self, buzzer_path, key_path, idx):\n",
    "        self.usernames = self.read_csv(buzzer_path)\n",
    "        self.key0, self.key1, self.key2 = self.get_key(key_path)\n",
    "        self.keys = [self.key0, self.key1, self.key2]\n",
    "        self.use_key = self.keys[idx]\n",
    "        self.api = self.auth(self.use_key['consumer_key'], self.use_key['consumer_secret'],\n",
    "                             self.use_key['access_token'], self.use_key['access_token_secret'])\n",
    "\n",
    "    def read_csv(self, path):\n",
    "        data = pd.read_csv(path)\n",
    "        data = data.username\n",
    "        return data\n",
    "    \n",
    "    def get_key(self, key_path):\n",
    "        with open(key_path, 'rb') as f:\n",
    "            twitter_credentials = pickle.load(f)\n",
    "        key0 = twitter_credentials[0]\n",
    "        key1 = twitter_credentials[1]\n",
    "        key2 = twitter_credentials[2]\n",
    "        return key0, key1, key2\n",
    "\n",
    "    def auth(self, consumer_key, consumer_secret, access_token, access_token_secret):\n",
    "        auth = tweepy.OAuthHandler(consumer_key, consumer_secret)\n",
    "        auth.set_access_token(access_token, access_token_secret)\n",
    "        api = tweepy.API(auth)\n",
    "        return api\n",
    "\n",
    "    def get_info(self, target):\n",
    "        item = self.api.get_user(target)\n",
    "        return {'name':item.name, 's_name':item.screen_name,\n",
    "                'desc':item.description, 'status_count':item.statuses_count,\n",
    "                'friends_count':item.friends_count, 'followers_count':item.followers_count}\n",
    "    \n",
    "    def get_hashtags(self, target, duration, max_tag):\n",
    "        hashtags = []\n",
    "        end_date = datetime.utcnow() - timedelta(days=duration)\n",
    "\n",
    "        for status in self.error_handle_cursor(tweepy.Cursor(self.api.user_timeline, id=target).items()):\n",
    "            if hasattr(status, \"entities\"):\n",
    "                entities = status.entities\n",
    "                if \"hashtags\" in entities:\n",
    "                  for ent in entities[\"hashtags\"]:\n",
    "                    if ent is not None:\n",
    "                      if \"text\" in ent:\n",
    "                        hashtag = ent[\"text\"]\n",
    "                        if hashtag is not None:\n",
    "                          hashtags.append(hashtag)\n",
    "\n",
    "            if status.created_at < end_date:\n",
    "                break\n",
    "        return Counter(hashtags).most_common(max_tag)\n",
    "\n",
    "    def get_mentions(self, target, duration, max_tag):\n",
    "        mentions = []\n",
    "        end_date = datetime.utcnow() - timedelta(days=duration)\n",
    "\n",
    "        for status in self.error_handle_cursor(tweepy.Cursor(self.api.user_timeline, id=target).items()):\n",
    "            if hasattr(status, \"entities\"):\n",
    "                entities = status.entities\n",
    "                if \"user_mentions\" in entities:\n",
    "                  for ent in entities[\"user_mentions\"]:\n",
    "                    if ent is not None:\n",
    "                      if \"screen_name\" in ent:\n",
    "                        name = ent[\"screen_name\"]\n",
    "                        if name is not None:\n",
    "                          mentions.append(name)\n",
    "\n",
    "            if status.created_at < end_date:\n",
    "                break\n",
    "\n",
    "        return Counter(mentions).most_common(max_tag)\n",
    "\n",
    "    def get_data(self, target):\n",
    "        tweets, retweets, replies = [], [], []\n",
    "        status_count = 0\n",
    "\n",
    "        for status in self.error_handle_cursor(tweepy.Cursor(self.api.user_timeline, id=target).items()):\n",
    "            status_count += 1\n",
    "\n",
    "            # Retweet\n",
    "            if status._json['text'][:2] == 'RT':\n",
    "              retweets.append(status)\n",
    "            # Reply\n",
    "            elif status._json['in_reply_to_screen_name'] != None:\n",
    "              replies.append(status)\n",
    "            # Tweet\n",
    "            elif (status._json['in_reply_to_screen_name'] == None) and (status._json['text'][:2] != 'RT'):\n",
    "              tweets.append(status)\n",
    "            if len(tweets) == 300:\n",
    "                break\n",
    "\n",
    "        return {'username':target, 'status_count':status_count,\n",
    "                'retweets':retweets, 'replies':replies, 'tweets':tweets, 'error_code':self.error_code}\n",
    "\n",
    "    def error_handle_cursor(self, cursor):\n",
    "        while True:\n",
    "            try:\n",
    "                yield cursor.next()\n",
    "                self.error_code = 'none'\n",
    "            except tweepy.error.TweepError as e:\n",
    "                print(\"\\n[error: tweepy] [{}]\".format(e))\n",
    "                e = str(e)\n",
    "                if e[-3:] == '401': \n",
    "                    self.error_code = '401 : account_suspended_or_locked'\n",
    "                    print(self.error_code) \n",
    "                    break\n",
    "                elif e[-3:] == '404':\n",
    "                    self.error_code = '404 : account_not_found' \n",
    "                    print(self.error_code)\n",
    "                    break\n",
    "            except:\n",
    "                break \n",
    "\n",
    "    def save_data(self, var, out_path):          \n",
    "        with open(out_path, 'wb') as f:\n",
    "            pickle.dump(var, f)"
   ]
  },
  {
   "cell_type": "code",
   "execution_count": null,
   "metadata": {
    "colab": {},
    "colab_type": "code",
    "id": "gVg6jmYe_4cs"
   },
   "outputs": [],
   "source": [
    "# Create object\n",
    "twitter_key0 = Twitter(buzzer_path, key_path, 0)\n",
    "twitter_key1 = Twitter(buzzer_path, key_path, 1)\n",
    "twitter_key2 = Twitter(buzzer_path, key_path, 2)\n",
    "\n",
    "twitter_keys = [twitter_key0, twitter_key1, twitter_key2]"
   ]
  },
  {
   "cell_type": "markdown",
   "metadata": {
    "colab_type": "text",
    "id": "YoK1n4l6AdDV"
   },
   "source": [
    "## Get Data for all usernames and save it"
   ]
  },
  {
   "cell_type": "code",
   "execution_count": null,
   "metadata": {
    "colab": {},
    "colab_type": "code",
    "id": "GUVphTayKCIF"
   },
   "outputs": [],
   "source": [
    "username = twitter_key0.usernames"
   ]
  },
  {
   "cell_type": "code",
   "execution_count": null,
   "metadata": {
    "colab": {},
    "colab_type": "code",
    "id": "vtvhUVvusUOj"
   },
   "outputs": [],
   "source": [
    "def show_rate_limit_status(idx):\n",
    "    rate_limit = twitter_keys[idx].api.rate_limit_status()['resources']['statuses']['/statuses/user_timeline']\n",
    "    return rate_limit"
   ]
  },
  {
   "cell_type": "code",
   "execution_count": null,
   "metadata": {
    "colab": {
     "base_uri": "https://localhost:8080/",
     "height": 68
    },
    "colab_type": "code",
    "id": "FHAXzJxqssJm",
    "outputId": "d242ef4e-dab5-4247-a5fe-830095202cd4"
   },
   "outputs": [],
   "source": [
    "for i in range(3):\n",
    "    print(show_rate_limit_status(i))"
   ]
  },
  {
   "cell_type": "code",
   "execution_count": null,
   "metadata": {
    "colab": {
     "base_uri": "https://localhost:8080/",
     "height": 1000
    },
    "colab_type": "code",
    "id": "13FjkOGXAlbV",
    "outputId": "68db5f12-914d-407d-f518-d321bd4c6d99"
   },
   "outputs": [],
   "source": [
    "import time\n",
    "out_path = 'drive/My Drive/Colab Notebooks/adi-buzzer/data/'\n",
    "check = 0\n",
    "idx = 0\n",
    "n_keys = 3\n",
    "data = username\n",
    "\n",
    "with tqdm(total=len(data), position=0, leave=True) as pbar:\n",
    "    for user in tqdm(data, position=0, leave=True):\n",
    "        print('\\nUsername :', user)\n",
    "        print('Current Key :', idx)\n",
    "        data = twitter_keys[idx].get_data(target=user)\n",
    "        print('Total tweets :', len(data['tweets']))\n",
    "        print(show_rate_limit_status(idx))\n",
    "        print('\\n')\n",
    "        twitter_keys[idx].save_data(data, (out_path+str(user)+'.pkl'))\n",
    "        check += 1\n",
    "        if check % 3 == 0 :\n",
    "            idx += 1\n",
    "            print('\\nChange Key :', idx,'\\n')\n",
    "        if idx == n_keys :\n",
    "            idx = 0\n",
    "        if check % 18 == 0 :\n",
    "            print('\\n----SLEEP----')\n",
    "            time.sleep(15*60)\n",
    "        with open(out_path+'summary.txt', \"a+\") as text_file:\n",
    "            text_file.write(str(user)+' = '+str(len(data['tweets']))+'\\n')\n",
    "        time.sleep(3)\n",
    "        pbar.update()"
   ]
  },
  {
   "cell_type": "code",
   "execution_count": null,
   "metadata": {
    "colab": {},
    "colab_type": "code",
    "id": "sOEz-9UrQmZC"
   },
   "outputs": [],
   "source": []
  }
 ],
 "metadata": {
  "colab": {
   "authorship_tag": "ABX9TyO4MHF6oKQgD9wTatzJAfTc",
   "collapsed_sections": [],
   "include_colab_link": true,
   "name": "R1_get_tweet_retweet_reply_300.ipynb",
   "provenance": []
  },
  "kernelspec": {
   "display_name": "Python 3",
   "language": "python",
   "name": "python3"
  },
  "language_info": {
   "codemirror_mode": {
    "name": "ipython",
    "version": 3
   },
   "file_extension": ".py",
   "mimetype": "text/x-python",
   "name": "python",
   "nbconvert_exporter": "python",
   "pygments_lexer": "ipython3",
   "version": "3.7.3"
  }
 },
 "nbformat": 4,
 "nbformat_minor": 4
}
