{
 "cells": [
  {
   "cell_type": "markdown",
   "id": "loved-clerk",
   "metadata": {},
   "source": [
    "## Data Aggregation for 46K Users\n",
    "Input files: all files from user_timeline_46K_parsed \\\n",
    "Output files: ../data/user_46K_stats.json"
   ]
  },
  {
   "cell_type": "code",
   "execution_count": 1,
   "id": "banner-kinase",
   "metadata": {},
   "outputs": [],
   "source": [
    "import os\n",
    "import glob\n",
    "import json\n",
    "import tqdm\n",
    "\n",
    "import pandas as pd\n",
    "import numpy as np\n",
    "import matplotlib.pyplot as plt\n",
    "import seaborn as sns"
   ]
  },
  {
   "cell_type": "code",
   "execution_count": null,
   "id": "married-imaging",
   "metadata": {},
   "outputs": [],
   "source": [
    "file_paths = sorted(glob.glob(\"../data/user_timeline_46K_parsed/*\"), key=lambda x: int(x.split('/')[-1].replace('.json', '')))"
   ]
  },
  {
   "cell_type": "code",
   "execution_count": null,
   "id": "controlling-great",
   "metadata": {},
   "outputs": [],
   "source": [
    "print(file_paths[:5])\n",
    "\n",
    "print(len(file_paths))\n",
    "\n",
    "d_data_all = pd.DataFrame([])\n",
    "\n",
    "for path in tqdm.tqdm(file_paths):\n",
    "    d_data = pd.read_json(path)\n",
    "    \n",
    "    d_agg = d_data.groupby('screen_name').agg({'hashtags': lambda x: sum([len(hashtag) for hashtag in x]),\n",
    "                                         'user_mentions': lambda x: sum([len(user) for user in x]),\n",
    "                                         'id_tweet': lambda x: len(x)})\n",
    "    \n",
    "    d_agg = d_agg.reset_index()\n",
    "    \n",
    "    d_agg['hashtag_per_tweets'] = d_agg.hashtags / d_agg.id_tweet\n",
    "    d_agg['mention_per_tweets'] = d_agg.user_mentions / d_agg.id_tweet\n",
    "    \n",
    "    d_data_all = d_data_all.append(d_agg, ignore_index=True)\n",
    "    break\n",
    "\n",
    "d_data_all.to_json(\"../data/user_46K_stats.json\", orient='records')"
   ]
  },
  {
   "cell_type": "markdown",
   "id": "angry-silver",
   "metadata": {},
   "source": [
    "# Analysis after parsing"
   ]
  },
  {
   "cell_type": "markdown",
   "id": "bibliographic-while",
   "metadata": {},
   "source": [
    "Load 46K Users Stats"
   ]
  },
  {
   "cell_type": "code",
   "execution_count": 2,
   "id": "swedish-fever",
   "metadata": {},
   "outputs": [],
   "source": [
    "d_data_all = pd.read_json(\"../data/supports/user_46K_stats.json\")"
   ]
  },
  {
   "cell_type": "markdown",
   "id": "handed-ratio",
   "metadata": {},
   "source": [
    "combine with 7200 users"
   ]
  },
  {
   "cell_type": "code",
   "execution_count": 3,
   "id": "mysterious-fossil",
   "metadata": {},
   "outputs": [],
   "source": [
    "d_data_7200 = pd.read_json(\"../data/supports/user_7200_stats.json\")"
   ]
  },
  {
   "cell_type": "code",
   "execution_count": 4,
   "id": "usual-aluminum",
   "metadata": {},
   "outputs": [],
   "source": [
    "d_data_all = d_data_all.append(d_data_7200, ignore_index=True)"
   ]
  },
  {
   "cell_type": "code",
   "execution_count": 5,
   "id": "changed-mitchell",
   "metadata": {},
   "outputs": [
    {
     "data": {
      "text/plain": [
       "(41761, 6)"
      ]
     },
     "execution_count": 5,
     "metadata": {},
     "output_type": "execute_result"
    }
   ],
   "source": [
    "d_data_all.shape"
   ]
  },
  {
   "cell_type": "code",
   "execution_count": 6,
   "id": "finnish-bargain",
   "metadata": {},
   "outputs": [],
   "source": [
    "d_data_all.drop_duplicates(subset='screen_name', inplace=True)"
   ]
  },
  {
   "cell_type": "code",
   "execution_count": 7,
   "id": "electoral-steering",
   "metadata": {},
   "outputs": [
    {
     "data": {
      "text/plain": [
       "(41756, 6)"
      ]
     },
     "execution_count": 7,
     "metadata": {},
     "output_type": "execute_result"
    }
   ],
   "source": [
    "d_data_all.shape"
   ]
  },
  {
   "cell_type": "code",
   "execution_count": 8,
   "id": "broad-equity",
   "metadata": {},
   "outputs": [
    {
     "data": {
      "text/html": [
       "<div>\n",
       "<style scoped>\n",
       "    .dataframe tbody tr th:only-of-type {\n",
       "        vertical-align: middle;\n",
       "    }\n",
       "\n",
       "    .dataframe tbody tr th {\n",
       "        vertical-align: top;\n",
       "    }\n",
       "\n",
       "    .dataframe thead th {\n",
       "        text-align: right;\n",
       "    }\n",
       "</style>\n",
       "<table border=\"1\" class=\"dataframe\">\n",
       "  <thead>\n",
       "    <tr style=\"text-align: right;\">\n",
       "      <th></th>\n",
       "      <th>screen_name</th>\n",
       "      <th>hashtags</th>\n",
       "      <th>user_mentions</th>\n",
       "      <th>id_tweet</th>\n",
       "      <th>hashtag_per_tweets</th>\n",
       "      <th>mention_per_tweets</th>\n",
       "    </tr>\n",
       "  </thead>\n",
       "  <tbody>\n",
       "    <tr>\n",
       "      <th>0</th>\n",
       "      <td>4SinCong</td>\n",
       "      <td>2</td>\n",
       "      <td>430</td>\n",
       "      <td>300</td>\n",
       "      <td>0.006667</td>\n",
       "      <td>1.433333</td>\n",
       "    </tr>\n",
       "    <tr>\n",
       "      <th>1</th>\n",
       "      <td>4rdipratama</td>\n",
       "      <td>20</td>\n",
       "      <td>296</td>\n",
       "      <td>300</td>\n",
       "      <td>0.066667</td>\n",
       "      <td>0.986667</td>\n",
       "    </tr>\n",
       "    <tr>\n",
       "      <th>2</th>\n",
       "      <td>ABackBone</td>\n",
       "      <td>414</td>\n",
       "      <td>151</td>\n",
       "      <td>300</td>\n",
       "      <td>1.380000</td>\n",
       "      <td>0.503333</td>\n",
       "    </tr>\n",
       "    <tr>\n",
       "      <th>3</th>\n",
       "      <td>ARUL77039666</td>\n",
       "      <td>0</td>\n",
       "      <td>13</td>\n",
       "      <td>20</td>\n",
       "      <td>0.000000</td>\n",
       "      <td>0.650000</td>\n",
       "    </tr>\n",
       "    <tr>\n",
       "      <th>4</th>\n",
       "      <td>ATAP03167829</td>\n",
       "      <td>5</td>\n",
       "      <td>327</td>\n",
       "      <td>300</td>\n",
       "      <td>0.016667</td>\n",
       "      <td>1.090000</td>\n",
       "    </tr>\n",
       "    <tr>\n",
       "      <th>...</th>\n",
       "      <td>...</td>\n",
       "      <td>...</td>\n",
       "      <td>...</td>\n",
       "      <td>...</td>\n",
       "      <td>...</td>\n",
       "      <td>...</td>\n",
       "    </tr>\n",
       "    <tr>\n",
       "      <th>41756</th>\n",
       "      <td>zulfikarzat31</td>\n",
       "      <td>35</td>\n",
       "      <td>172</td>\n",
       "      <td>300</td>\n",
       "      <td>0.116667</td>\n",
       "      <td>0.573333</td>\n",
       "    </tr>\n",
       "    <tr>\n",
       "      <th>41757</th>\n",
       "      <td>zulhermansyah97</td>\n",
       "      <td>29</td>\n",
       "      <td>377</td>\n",
       "      <td>300</td>\n",
       "      <td>0.096667</td>\n",
       "      <td>1.256667</td>\n",
       "    </tr>\n",
       "    <tr>\n",
       "      <th>41758</th>\n",
       "      <td>zulkifli_abdul9</td>\n",
       "      <td>11</td>\n",
       "      <td>212</td>\n",
       "      <td>300</td>\n",
       "      <td>0.036667</td>\n",
       "      <td>0.706667</td>\n",
       "    </tr>\n",
       "    <tr>\n",
       "      <th>41759</th>\n",
       "      <td>zulman1</td>\n",
       "      <td>42</td>\n",
       "      <td>304</td>\n",
       "      <td>300</td>\n",
       "      <td>0.140000</td>\n",
       "      <td>1.013333</td>\n",
       "    </tr>\n",
       "    <tr>\n",
       "      <th>41760</th>\n",
       "      <td>zulvitano</td>\n",
       "      <td>3</td>\n",
       "      <td>243</td>\n",
       "      <td>300</td>\n",
       "      <td>0.010000</td>\n",
       "      <td>0.810000</td>\n",
       "    </tr>\n",
       "  </tbody>\n",
       "</table>\n",
       "<p>41756 rows × 6 columns</p>\n",
       "</div>"
      ],
      "text/plain": [
       "           screen_name  hashtags  user_mentions  id_tweet  hashtag_per_tweets  \\\n",
       "0             4SinCong         2            430       300            0.006667   \n",
       "1          4rdipratama        20            296       300            0.066667   \n",
       "2            ABackBone       414            151       300            1.380000   \n",
       "3         ARUL77039666         0             13        20            0.000000   \n",
       "4         ATAP03167829         5            327       300            0.016667   \n",
       "...                ...       ...            ...       ...                 ...   \n",
       "41756    zulfikarzat31        35            172       300            0.116667   \n",
       "41757  zulhermansyah97        29            377       300            0.096667   \n",
       "41758  zulkifli_abdul9        11            212       300            0.036667   \n",
       "41759          zulman1        42            304       300            0.140000   \n",
       "41760        zulvitano         3            243       300            0.010000   \n",
       "\n",
       "       mention_per_tweets  \n",
       "0                1.433333  \n",
       "1                0.986667  \n",
       "2                0.503333  \n",
       "3                0.650000  \n",
       "4                1.090000  \n",
       "...                   ...  \n",
       "41756            0.573333  \n",
       "41757            1.256667  \n",
       "41758            0.706667  \n",
       "41759            1.013333  \n",
       "41760            0.810000  \n",
       "\n",
       "[41756 rows x 6 columns]"
      ]
     },
     "execution_count": 8,
     "metadata": {},
     "output_type": "execute_result"
    }
   ],
   "source": [
    "d_data_all"
   ]
  },
  {
   "cell_type": "code",
   "execution_count": 9,
   "id": "nutritional-richards",
   "metadata": {},
   "outputs": [
    {
     "data": {
      "text/plain": [
       "<AxesSubplot:ylabel='id_tweet'>"
      ]
     },
     "execution_count": 9,
     "metadata": {},
     "output_type": "execute_result"
    },
    {
     "data": {
      "image/png": "[encoded data removed]",
      "text/plain": [
       "<Figure size 720x432 with 3 Axes>"
      ]
     },
     "metadata": {
      "needs_background": "light"
     },
     "output_type": "display_data"
    }
   ],
   "source": [
    "fig, ax = plt.subplots(1,3,figsize=(10,6))\n",
    "sns.boxplot(y='hashtag_per_tweets', data=d_data_all, ax=ax[0])\n",
    "sns.boxplot(y='mention_per_tweets', data=d_data_all, ax=ax[1])\n",
    "sns.boxplot(y='id_tweet', data=d_data_all, ax=ax[2])"
   ]
  },
  {
   "cell_type": "markdown",
   "id": "romance-understanding",
   "metadata": {},
   "source": [
    "### Removing small tweets from accounts"
   ]
  },
  {
   "cell_type": "code",
   "execution_count": 10,
   "id": "grand-saturday",
   "metadata": {},
   "outputs": [],
   "source": [
    "# d_data_all = d_data_all[d_data_all.id_tweet >= 100].copy()"
   ]
  },
  {
   "cell_type": "code",
   "execution_count": 11,
   "id": "scientific-brass",
   "metadata": {},
   "outputs": [
    {
     "data": {
      "text/plain": [
       "(41756, 6)"
      ]
     },
     "execution_count": 11,
     "metadata": {},
     "output_type": "execute_result"
    }
   ],
   "source": [
    "d_data_all.shape"
   ]
  },
  {
   "cell_type": "code",
   "execution_count": 12,
   "id": "photographic-sweden",
   "metadata": {},
   "outputs": [
    {
     "data": {
      "text/html": [
       "<div>\n",
       "<style scoped>\n",
       "    .dataframe tbody tr th:only-of-type {\n",
       "        vertical-align: middle;\n",
       "    }\n",
       "\n",
       "    .dataframe tbody tr th {\n",
       "        vertical-align: top;\n",
       "    }\n",
       "\n",
       "    .dataframe thead th {\n",
       "        text-align: right;\n",
       "    }\n",
       "</style>\n",
       "<table border=\"1\" class=\"dataframe\">\n",
       "  <thead>\n",
       "    <tr style=\"text-align: right;\">\n",
       "      <th></th>\n",
       "      <th>hashtags</th>\n",
       "      <th>user_mentions</th>\n",
       "      <th>id_tweet</th>\n",
       "      <th>hashtag_per_tweets</th>\n",
       "      <th>mention_per_tweets</th>\n",
       "    </tr>\n",
       "  </thead>\n",
       "  <tbody>\n",
       "    <tr>\n",
       "      <th>count</th>\n",
       "      <td>41756.000000</td>\n",
       "      <td>41756.000000</td>\n",
       "      <td>41756.000000</td>\n",
       "      <td>41756.000000</td>\n",
       "      <td>41756.000000</td>\n",
       "    </tr>\n",
       "    <tr>\n",
       "      <th>mean</th>\n",
       "      <td>47.613541</td>\n",
       "      <td>307.373048</td>\n",
       "      <td>283.306591</td>\n",
       "      <td>0.182618</td>\n",
       "      <td>1.058237</td>\n",
       "    </tr>\n",
       "    <tr>\n",
       "      <th>std</th>\n",
       "      <td>129.137731</td>\n",
       "      <td>380.529872</td>\n",
       "      <td>117.758722</td>\n",
       "      <td>0.497616</td>\n",
       "      <td>0.677448</td>\n",
       "    </tr>\n",
       "    <tr>\n",
       "      <th>min</th>\n",
       "      <td>0.000000</td>\n",
       "      <td>0.000000</td>\n",
       "      <td>1.000000</td>\n",
       "      <td>0.000000</td>\n",
       "      <td>0.000000</td>\n",
       "    </tr>\n",
       "    <tr>\n",
       "      <th>25%</th>\n",
       "      <td>5.000000</td>\n",
       "      <td>192.000000</td>\n",
       "      <td>300.000000</td>\n",
       "      <td>0.016667</td>\n",
       "      <td>0.733333</td>\n",
       "    </tr>\n",
       "    <tr>\n",
       "      <th>50%</th>\n",
       "      <td>15.000000</td>\n",
       "      <td>291.000000</td>\n",
       "      <td>300.000000</td>\n",
       "      <td>0.056037</td>\n",
       "      <td>1.006667</td>\n",
       "    </tr>\n",
       "    <tr>\n",
       "      <th>75%</th>\n",
       "      <td>42.000000</td>\n",
       "      <td>372.000000</td>\n",
       "      <td>300.000000</td>\n",
       "      <td>0.160000</td>\n",
       "      <td>1.270000</td>\n",
       "    </tr>\n",
       "    <tr>\n",
       "      <th>max</th>\n",
       "      <td>4516.000000</td>\n",
       "      <td>37405.000000</td>\n",
       "      <td>3511.000000</td>\n",
       "      <td>20.523810</td>\n",
       "      <td>32.860000</td>\n",
       "    </tr>\n",
       "  </tbody>\n",
       "</table>\n",
       "</div>"
      ],
      "text/plain": [
       "           hashtags  user_mentions      id_tweet  hashtag_per_tweets  \\\n",
       "count  41756.000000   41756.000000  41756.000000        41756.000000   \n",
       "mean      47.613541     307.373048    283.306591            0.182618   \n",
       "std      129.137731     380.529872    117.758722            0.497616   \n",
       "min        0.000000       0.000000      1.000000            0.000000   \n",
       "25%        5.000000     192.000000    300.000000            0.016667   \n",
       "50%       15.000000     291.000000    300.000000            0.056037   \n",
       "75%       42.000000     372.000000    300.000000            0.160000   \n",
       "max     4516.000000   37405.000000   3511.000000           20.523810   \n",
       "\n",
       "       mention_per_tweets  \n",
       "count        41756.000000  \n",
       "mean             1.058237  \n",
       "std              0.677448  \n",
       "min              0.000000  \n",
       "25%              0.733333  \n",
       "50%              1.006667  \n",
       "75%              1.270000  \n",
       "max             32.860000  "
      ]
     },
     "execution_count": 12,
     "metadata": {},
     "output_type": "execute_result"
    }
   ],
   "source": [
    "d_data_all.describe()"
   ]
  },
  {
   "cell_type": "code",
   "execution_count": 13,
   "id": "controlling-unemployment",
   "metadata": {},
   "outputs": [
    {
     "data": {
      "text/plain": [
       "<AxesSubplot:ylabel='id_tweet'>"
      ]
     },
     "execution_count": 13,
     "metadata": {},
     "output_type": "execute_result"
    },
    {
     "data": {
      "image/png": "[encoded data removed]",
      "text/plain": [
       "<Figure size 720x432 with 3 Axes>"
      ]
     },
     "metadata": {
      "needs_background": "light"
     },
     "output_type": "display_data"
    }
   ],
   "source": [
    "fig, ax = plt.subplots(1,3,figsize=(10,6))\n",
    "sns.boxplot(y='hashtag_per_tweets', data=d_data_all, ax=ax[0])\n",
    "sns.boxplot(y='mention_per_tweets', data=d_data_all, ax=ax[1])\n",
    "sns.boxplot(y='id_tweet', data=d_data_all, ax=ax[2])"
   ]
  },
  {
   "cell_type": "markdown",
   "id": "pressed-priest",
   "metadata": {},
   "source": [
    "#### Set threshold"
   ]
  },
  {
   "cell_type": "code",
   "execution_count": 14,
   "id": "continental-spotlight",
   "metadata": {},
   "outputs": [],
   "source": [
    "def get_min_max_thres(series):\n",
    "    q1 = series.quantile(q=0.25)\n",
    "    q3 = series.quantile(q=0.75)\n",
    "    iqr = q3 - q1\n",
    "    max_thres = q3 + (1.5 * iqr)\n",
    "    min_thres = q1 - (1.5 * iqr)\n",
    "    \n",
    "    return min_thres, max_thres"
   ]
  },
  {
   "cell_type": "code",
   "execution_count": 15,
   "id": "pleasant-cotton",
   "metadata": {},
   "outputs": [],
   "source": [
    "min_hashtag, max_hashtag = get_min_max_thres(d_data_all.hashtag_per_tweets)"
   ]
  },
  {
   "cell_type": "code",
   "execution_count": 16,
   "id": "quiet-settle",
   "metadata": {},
   "outputs": [],
   "source": [
    "min_mention, max_mention = get_min_max_thres(d_data_all.mention_per_tweets)"
   ]
  },
  {
   "cell_type": "code",
   "execution_count": 17,
   "id": "trying-childhood",
   "metadata": {},
   "outputs": [],
   "source": [
    "d_data_all['is_high_hashtag'] = d_data_all.hashtag_per_tweets.apply(lambda x: 1 if x>= max_hashtag else 0) "
   ]
  },
  {
   "cell_type": "code",
   "execution_count": 18,
   "id": "inner-software",
   "metadata": {},
   "outputs": [],
   "source": [
    "d_data_all['is_high_mention'] = d_data_all.mention_per_tweets.apply(lambda x: 1 if x>= max_mention else 0) "
   ]
  },
  {
   "cell_type": "code",
   "execution_count": 19,
   "id": "velvet-imaging",
   "metadata": {},
   "outputs": [
    {
     "data": {
      "text/plain": [
       "0    36730\n",
       "1     5026\n",
       "Name: is_high_hashtag, dtype: int64"
      ]
     },
     "execution_count": 19,
     "metadata": {},
     "output_type": "execute_result"
    }
   ],
   "source": [
    "d_data_all.is_high_hashtag.value_counts()"
   ]
  },
  {
   "cell_type": "code",
   "execution_count": 20,
   "id": "spatial-sherman",
   "metadata": {},
   "outputs": [
    {
     "data": {
      "text/plain": [
       "0    40025\n",
       "1     1731\n",
       "Name: is_high_mention, dtype: int64"
      ]
     },
     "execution_count": 20,
     "metadata": {},
     "output_type": "execute_result"
    }
   ],
   "source": [
    "d_data_all.is_high_mention.value_counts()"
   ]
  },
  {
   "cell_type": "code",
   "execution_count": 21,
   "id": "seventh-knowing",
   "metadata": {},
   "outputs": [],
   "source": [
    "d_data_all['is_both_high'] = 0"
   ]
  },
  {
   "cell_type": "code",
   "execution_count": 22,
   "id": "acting-england",
   "metadata": {},
   "outputs": [],
   "source": [
    "d_data_all.loc[(d_data_all.is_high_hashtag==1) & (d_data_all.is_high_mention==1), 'is_both_high'] = 1"
   ]
  },
  {
   "cell_type": "code",
   "execution_count": 23,
   "id": "organized-payroll",
   "metadata": {},
   "outputs": [
    {
     "data": {
      "text/plain": [
       "0    41361\n",
       "1      395\n",
       "Name: is_both_high, dtype: int64"
      ]
     },
     "execution_count": 23,
     "metadata": {},
     "output_type": "execute_result"
    }
   ],
   "source": [
    "d_data_all.is_both_high.value_counts()"
   ]
  },
  {
   "cell_type": "code",
   "execution_count": 24,
   "id": "hairy-packet",
   "metadata": {},
   "outputs": [
    {
     "data": {
      "text/html": [
       "<div>\n",
       "<style scoped>\n",
       "    .dataframe tbody tr th:only-of-type {\n",
       "        vertical-align: middle;\n",
       "    }\n",
       "\n",
       "    .dataframe tbody tr th {\n",
       "        vertical-align: top;\n",
       "    }\n",
       "\n",
       "    .dataframe thead th {\n",
       "        text-align: right;\n",
       "    }\n",
       "</style>\n",
       "<table border=\"1\" class=\"dataframe\">\n",
       "  <thead>\n",
       "    <tr style=\"text-align: right;\">\n",
       "      <th></th>\n",
       "      <th>screen_name</th>\n",
       "      <th>hashtags</th>\n",
       "      <th>user_mentions</th>\n",
       "      <th>id_tweet</th>\n",
       "      <th>hashtag_per_tweets</th>\n",
       "      <th>mention_per_tweets</th>\n",
       "      <th>is_high_hashtag</th>\n",
       "      <th>is_high_mention</th>\n",
       "      <th>is_both_high</th>\n",
       "    </tr>\n",
       "  </thead>\n",
       "  <tbody>\n",
       "    <tr>\n",
       "      <th>0</th>\n",
       "      <td>4SinCong</td>\n",
       "      <td>2</td>\n",
       "      <td>430</td>\n",
       "      <td>300</td>\n",
       "      <td>0.006667</td>\n",
       "      <td>1.433333</td>\n",
       "      <td>0</td>\n",
       "      <td>0</td>\n",
       "      <td>0</td>\n",
       "    </tr>\n",
       "    <tr>\n",
       "      <th>1</th>\n",
       "      <td>4rdipratama</td>\n",
       "      <td>20</td>\n",
       "      <td>296</td>\n",
       "      <td>300</td>\n",
       "      <td>0.066667</td>\n",
       "      <td>0.986667</td>\n",
       "      <td>0</td>\n",
       "      <td>0</td>\n",
       "      <td>0</td>\n",
       "    </tr>\n",
       "    <tr>\n",
       "      <th>2</th>\n",
       "      <td>ABackBone</td>\n",
       "      <td>414</td>\n",
       "      <td>151</td>\n",
       "      <td>300</td>\n",
       "      <td>1.380000</td>\n",
       "      <td>0.503333</td>\n",
       "      <td>1</td>\n",
       "      <td>0</td>\n",
       "      <td>0</td>\n",
       "    </tr>\n",
       "    <tr>\n",
       "      <th>3</th>\n",
       "      <td>ARUL77039666</td>\n",
       "      <td>0</td>\n",
       "      <td>13</td>\n",
       "      <td>20</td>\n",
       "      <td>0.000000</td>\n",
       "      <td>0.650000</td>\n",
       "      <td>0</td>\n",
       "      <td>0</td>\n",
       "      <td>0</td>\n",
       "    </tr>\n",
       "    <tr>\n",
       "      <th>4</th>\n",
       "      <td>ATAP03167829</td>\n",
       "      <td>5</td>\n",
       "      <td>327</td>\n",
       "      <td>300</td>\n",
       "      <td>0.016667</td>\n",
       "      <td>1.090000</td>\n",
       "      <td>0</td>\n",
       "      <td>0</td>\n",
       "      <td>0</td>\n",
       "    </tr>\n",
       "    <tr>\n",
       "      <th>...</th>\n",
       "      <td>...</td>\n",
       "      <td>...</td>\n",
       "      <td>...</td>\n",
       "      <td>...</td>\n",
       "      <td>...</td>\n",
       "      <td>...</td>\n",
       "      <td>...</td>\n",
       "      <td>...</td>\n",
       "      <td>...</td>\n",
       "    </tr>\n",
       "    <tr>\n",
       "      <th>41756</th>\n",
       "      <td>zulfikarzat31</td>\n",
       "      <td>35</td>\n",
       "      <td>172</td>\n",
       "      <td>300</td>\n",
       "      <td>0.116667</td>\n",
       "      <td>0.573333</td>\n",
       "      <td>0</td>\n",
       "      <td>0</td>\n",
       "      <td>0</td>\n",
       "    </tr>\n",
       "    <tr>\n",
       "      <th>41757</th>\n",
       "      <td>zulhermansyah97</td>\n",
       "      <td>29</td>\n",
       "      <td>377</td>\n",
       "      <td>300</td>\n",
       "      <td>0.096667</td>\n",
       "      <td>1.256667</td>\n",
       "      <td>0</td>\n",
       "      <td>0</td>\n",
       "      <td>0</td>\n",
       "    </tr>\n",
       "    <tr>\n",
       "      <th>41758</th>\n",
       "      <td>zulkifli_abdul9</td>\n",
       "      <td>11</td>\n",
       "      <td>212</td>\n",
       "      <td>300</td>\n",
       "      <td>0.036667</td>\n",
       "      <td>0.706667</td>\n",
       "      <td>0</td>\n",
       "      <td>0</td>\n",
       "      <td>0</td>\n",
       "    </tr>\n",
       "    <tr>\n",
       "      <th>41759</th>\n",
       "      <td>zulman1</td>\n",
       "      <td>42</td>\n",
       "      <td>304</td>\n",
       "      <td>300</td>\n",
       "      <td>0.140000</td>\n",
       "      <td>1.013333</td>\n",
       "      <td>0</td>\n",
       "      <td>0</td>\n",
       "      <td>0</td>\n",
       "    </tr>\n",
       "    <tr>\n",
       "      <th>41760</th>\n",
       "      <td>zulvitano</td>\n",
       "      <td>3</td>\n",
       "      <td>243</td>\n",
       "      <td>300</td>\n",
       "      <td>0.010000</td>\n",
       "      <td>0.810000</td>\n",
       "      <td>0</td>\n",
       "      <td>0</td>\n",
       "      <td>0</td>\n",
       "    </tr>\n",
       "  </tbody>\n",
       "</table>\n",
       "<p>41756 rows × 9 columns</p>\n",
       "</div>"
      ],
      "text/plain": [
       "           screen_name  hashtags  user_mentions  id_tweet  hashtag_per_tweets  \\\n",
       "0             4SinCong         2            430       300            0.006667   \n",
       "1          4rdipratama        20            296       300            0.066667   \n",
       "2            ABackBone       414            151       300            1.380000   \n",
       "3         ARUL77039666         0             13        20            0.000000   \n",
       "4         ATAP03167829         5            327       300            0.016667   \n",
       "...                ...       ...            ...       ...                 ...   \n",
       "41756    zulfikarzat31        35            172       300            0.116667   \n",
       "41757  zulhermansyah97        29            377       300            0.096667   \n",
       "41758  zulkifli_abdul9        11            212       300            0.036667   \n",
       "41759          zulman1        42            304       300            0.140000   \n",
       "41760        zulvitano         3            243       300            0.010000   \n",
       "\n",
       "       mention_per_tweets  is_high_hashtag  is_high_mention  is_both_high  \n",
       "0                1.433333                0                0             0  \n",
       "1                0.986667                0                0             0  \n",
       "2                0.503333                1                0             0  \n",
       "3                0.650000                0                0             0  \n",
       "4                1.090000                0                0             0  \n",
       "...                   ...              ...              ...           ...  \n",
       "41756            0.573333                0                0             0  \n",
       "41757            1.256667                0                0             0  \n",
       "41758            0.706667                0                0             0  \n",
       "41759            1.013333                0                0             0  \n",
       "41760            0.810000                0                0             0  \n",
       "\n",
       "[41756 rows x 9 columns]"
      ]
     },
     "execution_count": 24,
     "metadata": {},
     "output_type": "execute_result"
    }
   ],
   "source": [
    "d_data_all"
   ]
  },
  {
   "cell_type": "markdown",
   "id": "under-amsterdam",
   "metadata": {},
   "source": [
    "### Cross check with existing manually labeled"
   ]
  },
  {
   "cell_type": "code",
   "execution_count": 25,
   "id": "pleased-pitch",
   "metadata": {},
   "outputs": [],
   "source": [
    "d_label = pd.read_csv(\"../data/account_labeled/project_12_labels_Thu_Oct_15_2020.csv\", \n",
    "                      names=[\"id\", \"text\", \"label\"], skiprows=1)"
   ]
  },
  {
   "cell_type": "code",
   "execution_count": 26,
   "id": "faced-stage",
   "metadata": {},
   "outputs": [],
   "source": [
    "d_label_updated = pd.read_csv(\"../data/account_labeled/cross_check_updated.csv\")\n",
    "d_label_updated.rename(columns={\"is_buzzer\": \"label\"}, inplace=True)\n",
    "d_label_updated.label = d_label_updated.label.map({1: \"buzzer\", 0: \"non-buzzer\"})\n",
    "d_label_updated.drop_duplicates('screen_name', inplace=True)"
   ]
  },
  {
   "cell_type": "code",
   "execution_count": 28,
   "id": "external-parcel",
   "metadata": {},
   "outputs": [],
   "source": [
    "d_autolabel = pd.read_excel(\"../data/account_labeled/autolabel_of_7200_updated.xlsx\", sheet_name=0)"
   ]
  },
  {
   "cell_type": "code",
   "execution_count": 29,
   "id": "supported-flight",
   "metadata": {},
   "outputs": [
    {
     "data": {
      "text/plain": [
       "(3403, 3)"
      ]
     },
     "execution_count": 29,
     "metadata": {},
     "output_type": "execute_result"
    }
   ],
   "source": [
    "d_label.shape"
   ]
  },
  {
   "cell_type": "code",
   "execution_count": 30,
   "id": "comprehensive-kinase",
   "metadata": {},
   "outputs": [
    {
     "data": {
      "text/plain": [
       "(982, 12)"
      ]
     },
     "execution_count": 30,
     "metadata": {},
     "output_type": "execute_result"
    }
   ],
   "source": [
    "d_label_updated.shape"
   ]
  },
  {
   "cell_type": "code",
   "execution_count": 31,
   "id": "worth-wales",
   "metadata": {},
   "outputs": [
    {
     "data": {
      "text/html": [
       "<div>\n",
       "<style scoped>\n",
       "    .dataframe tbody tr th:only-of-type {\n",
       "        vertical-align: middle;\n",
       "    }\n",
       "\n",
       "    .dataframe tbody tr th {\n",
       "        vertical-align: top;\n",
       "    }\n",
       "\n",
       "    .dataframe thead th {\n",
       "        text-align: right;\n",
       "    }\n",
       "</style>\n",
       "<table border=\"1\" class=\"dataframe\">\n",
       "  <thead>\n",
       "    <tr style=\"text-align: right;\">\n",
       "      <th></th>\n",
       "      <th>id</th>\n",
       "      <th>text</th>\n",
       "      <th>label</th>\n",
       "    </tr>\n",
       "  </thead>\n",
       "  <tbody>\n",
       "    <tr>\n",
       "      <th>0</th>\n",
       "      <td>2337</td>\n",
       "      <td>https://twitter.com/fahrisalam __________name:...</td>\n",
       "      <td>buzzer</td>\n",
       "    </tr>\n",
       "    <tr>\n",
       "      <th>1</th>\n",
       "      <td>5329</td>\n",
       "      <td>https://twitter.com/Prof_Kupie __________name:...</td>\n",
       "      <td>buzzer</td>\n",
       "    </tr>\n",
       "    <tr>\n",
       "      <th>2</th>\n",
       "      <td>6392</td>\n",
       "      <td>\"https://twitter.com/Syam42933824 __________na...</td>\n",
       "      <td>buzzer</td>\n",
       "    </tr>\n",
       "    <tr>\n",
       "      <th>3</th>\n",
       "      <td>2131</td>\n",
       "      <td>https://twitter.com/dwiawatie __________name: ...</td>\n",
       "      <td>buzzer</td>\n",
       "    </tr>\n",
       "    <tr>\n",
       "      <th>4</th>\n",
       "      <td>5849</td>\n",
       "      <td>https://twitter.com/saaragih __________name: L...</td>\n",
       "      <td>buzzer</td>\n",
       "    </tr>\n",
       "  </tbody>\n",
       "</table>\n",
       "</div>"
      ],
      "text/plain": [
       "     id                                               text   label\n",
       "0  2337  https://twitter.com/fahrisalam __________name:...  buzzer\n",
       "1  5329  https://twitter.com/Prof_Kupie __________name:...  buzzer\n",
       "2  6392  \"https://twitter.com/Syam42933824 __________na...  buzzer\n",
       "3  2131  https://twitter.com/dwiawatie __________name: ...  buzzer\n",
       "4  5849  https://twitter.com/saaragih __________name: L...  buzzer"
      ]
     },
     "execution_count": 31,
     "metadata": {},
     "output_type": "execute_result"
    }
   ],
   "source": [
    "d_label.head()"
   ]
  },
  {
   "cell_type": "code",
   "execution_count": 32,
   "id": "attached-stone",
   "metadata": {},
   "outputs": [],
   "source": [
    "d_label = d_label[d_label.label != 'inactive'].copy()"
   ]
  },
  {
   "cell_type": "code",
   "execution_count": 33,
   "id": "dress-blackjack",
   "metadata": {},
   "outputs": [],
   "source": [
    "d_label['screen_name'] = d_label.text.apply(lambda x: x.split(' ')[0].split('/')[-1])"
   ]
  },
  {
   "cell_type": "code",
   "execution_count": 34,
   "id": "dominant-federation",
   "metadata": {},
   "outputs": [],
   "source": [
    "d_label = d_label.set_index(\"screen_name\")\n",
    "d_label_updated = d_label_updated.set_index(\"screen_name\")"
   ]
  },
  {
   "cell_type": "code",
   "execution_count": 35,
   "id": "assumed-strategy",
   "metadata": {},
   "outputs": [
    {
     "data": {
      "text/html": [
       "<div>\n",
       "<style scoped>\n",
       "    .dataframe tbody tr th:only-of-type {\n",
       "        vertical-align: middle;\n",
       "    }\n",
       "\n",
       "    .dataframe tbody tr th {\n",
       "        vertical-align: top;\n",
       "    }\n",
       "\n",
       "    .dataframe thead th {\n",
       "        text-align: right;\n",
       "    }\n",
       "</style>\n",
       "<table border=\"1\" class=\"dataframe\">\n",
       "  <thead>\n",
       "    <tr style=\"text-align: right;\">\n",
       "      <th></th>\n",
       "      <th>id</th>\n",
       "      <th>text</th>\n",
       "      <th>label</th>\n",
       "    </tr>\n",
       "    <tr>\n",
       "      <th>screen_name</th>\n",
       "      <th></th>\n",
       "      <th></th>\n",
       "      <th></th>\n",
       "    </tr>\n",
       "  </thead>\n",
       "  <tbody>\n",
       "    <tr>\n",
       "      <th>fahrisalam</th>\n",
       "      <td>2337</td>\n",
       "      <td>https://twitter.com/fahrisalam __________name:...</td>\n",
       "      <td>buzzer</td>\n",
       "    </tr>\n",
       "    <tr>\n",
       "      <th>Prof_Kupie</th>\n",
       "      <td>5329</td>\n",
       "      <td>https://twitter.com/Prof_Kupie __________name:...</td>\n",
       "      <td>buzzer</td>\n",
       "    </tr>\n",
       "    <tr>\n",
       "      <th>Syam42933824</th>\n",
       "      <td>6392</td>\n",
       "      <td>\"https://twitter.com/Syam42933824 __________na...</td>\n",
       "      <td>buzzer</td>\n",
       "    </tr>\n",
       "    <tr>\n",
       "      <th>dwiawatie</th>\n",
       "      <td>2131</td>\n",
       "      <td>https://twitter.com/dwiawatie __________name: ...</td>\n",
       "      <td>buzzer</td>\n",
       "    </tr>\n",
       "    <tr>\n",
       "      <th>saaragih</th>\n",
       "      <td>5849</td>\n",
       "      <td>https://twitter.com/saaragih __________name: L...</td>\n",
       "      <td>buzzer</td>\n",
       "    </tr>\n",
       "  </tbody>\n",
       "</table>\n",
       "</div>"
      ],
      "text/plain": [
       "                id                                               text   label\n",
       "screen_name                                                                  \n",
       "fahrisalam    2337  https://twitter.com/fahrisalam __________name:...  buzzer\n",
       "Prof_Kupie    5329  https://twitter.com/Prof_Kupie __________name:...  buzzer\n",
       "Syam42933824  6392  \"https://twitter.com/Syam42933824 __________na...  buzzer\n",
       "dwiawatie     2131  https://twitter.com/dwiawatie __________name: ...  buzzer\n",
       "saaragih      5849  https://twitter.com/saaragih __________name: L...  buzzer"
      ]
     },
     "execution_count": 35,
     "metadata": {},
     "output_type": "execute_result"
    }
   ],
   "source": [
    "d_label.head()"
   ]
  },
  {
   "cell_type": "code",
   "execution_count": 36,
   "id": "valid-complement",
   "metadata": {},
   "outputs": [
    {
     "data": {
      "text/html": [
       "<div>\n",
       "<style scoped>\n",
       "    .dataframe tbody tr th:only-of-type {\n",
       "        vertical-align: middle;\n",
       "    }\n",
       "\n",
       "    .dataframe tbody tr th {\n",
       "        vertical-align: top;\n",
       "    }\n",
       "\n",
       "    .dataframe thead th {\n",
       "        text-align: right;\n",
       "    }\n",
       "</style>\n",
       "<table border=\"1\" class=\"dataframe\">\n",
       "  <thead>\n",
       "    <tr style=\"text-align: right;\">\n",
       "      <th></th>\n",
       "      <th>label</th>\n",
       "    </tr>\n",
       "    <tr>\n",
       "      <th>screen_name</th>\n",
       "      <th></th>\n",
       "    </tr>\n",
       "  </thead>\n",
       "  <tbody>\n",
       "    <tr>\n",
       "      <th>02Trus</th>\n",
       "      <td>buzzer</td>\n",
       "    </tr>\n",
       "    <tr>\n",
       "      <th>0b4tk3lu4r94</th>\n",
       "      <td>non-buzzer</td>\n",
       "    </tr>\n",
       "    <tr>\n",
       "      <th>17Mutawakkil</th>\n",
       "      <td>non-buzzer</td>\n",
       "    </tr>\n",
       "    <tr>\n",
       "      <th>2019GNKR</th>\n",
       "      <td>buzzer</td>\n",
       "    </tr>\n",
       "    <tr>\n",
       "      <th>2375Lawu</th>\n",
       "      <td>buzzer</td>\n",
       "    </tr>\n",
       "  </tbody>\n",
       "</table>\n",
       "</div>"
      ],
      "text/plain": [
       "                   label\n",
       "screen_name             \n",
       "02Trus            buzzer\n",
       "0b4tk3lu4r94  non-buzzer\n",
       "17Mutawakkil  non-buzzer\n",
       "2019GNKR          buzzer\n",
       "2375Lawu          buzzer"
      ]
     },
     "execution_count": 36,
     "metadata": {},
     "output_type": "execute_result"
    }
   ],
   "source": [
    "d_label_updated[[\"label\"]].head()"
   ]
  },
  {
   "cell_type": "code",
   "execution_count": 37,
   "id": "covered-wings",
   "metadata": {},
   "outputs": [],
   "source": [
    "d_label.update(d_label_updated[[\"label\"]])"
   ]
  },
  {
   "cell_type": "code",
   "execution_count": 38,
   "id": "vulnerable-subcommittee",
   "metadata": {},
   "outputs": [
    {
     "data": {
      "text/plain": [
       "non-buzzer    2329\n",
       "buzzer         774\n",
       "Name: label, dtype: int64"
      ]
     },
     "execution_count": 38,
     "metadata": {},
     "output_type": "execute_result"
    }
   ],
   "source": [
    "d_label.label.value_counts()"
   ]
  },
  {
   "cell_type": "code",
   "execution_count": 39,
   "id": "indonesian-madrid",
   "metadata": {},
   "outputs": [],
   "source": [
    "d_label = d_label.reset_index()[[\"screen_name\", \"label\"]]"
   ]
  },
  {
   "cell_type": "code",
   "execution_count": 40,
   "id": "cloudy-exemption",
   "metadata": {},
   "outputs": [],
   "source": [
    "d_label.label = d_label.label.map({\"buzzer\": 1, \"non-buzzer\": 0})"
   ]
  },
  {
   "cell_type": "code",
   "execution_count": 41,
   "id": "charming-combat",
   "metadata": {},
   "outputs": [],
   "source": [
    "d_autolabel = d_autolabel[[\"screen_name\", \"label\"]]"
   ]
  },
  {
   "cell_type": "code",
   "execution_count": 42,
   "id": "completed-celebration",
   "metadata": {},
   "outputs": [],
   "source": [
    "d_label = pd.concat((d_label, d_autolabel), axis=0)"
   ]
  },
  {
   "cell_type": "code",
   "execution_count": 43,
   "id": "tested-publication",
   "metadata": {},
   "outputs": [],
   "source": [
    "d_label.reset_index(drop=True, inplace=True)"
   ]
  },
  {
   "cell_type": "code",
   "execution_count": 44,
   "id": "adjacent-first",
   "metadata": {},
   "outputs": [],
   "source": [
    "d_label = d_label.drop_duplicates(subset='screen_name')"
   ]
  },
  {
   "cell_type": "code",
   "execution_count": 45,
   "id": "expanded-colon",
   "metadata": {},
   "outputs": [],
   "source": [
    "d_label = d_label.set_index('screen_name')"
   ]
  },
  {
   "cell_type": "markdown",
   "id": "coordinate-saint",
   "metadata": {},
   "source": [
    "#### Join d_data_all with d_label"
   ]
  },
  {
   "cell_type": "code",
   "execution_count": 47,
   "id": "comprehensive-yugoslavia",
   "metadata": {},
   "outputs": [],
   "source": [
    "d_data_all_annotate = d_data_all.set_index('screen_name').join(d_label[[\"label\"]], on='screen_name', how='left')"
   ]
  },
  {
   "cell_type": "code",
   "execution_count": 48,
   "id": "color-contest",
   "metadata": {},
   "outputs": [],
   "source": [
    "d_data_all_annotate.reset_index(inplace=True)"
   ]
  },
  {
   "cell_type": "code",
   "execution_count": 49,
   "id": "alpha-belief",
   "metadata": {},
   "outputs": [
    {
     "data": {
      "text/plain": [
       "0.0    4978\n",
       "1.0    1878\n",
       "Name: label, dtype: int64"
      ]
     },
     "execution_count": 49,
     "metadata": {},
     "output_type": "execute_result"
    }
   ],
   "source": [
    "d_data_all_annotate.label.value_counts()"
   ]
  },
  {
   "cell_type": "code",
   "execution_count": 50,
   "id": "paperback-attendance",
   "metadata": {},
   "outputs": [
    {
     "data": {
      "text/html": [
       "<div>\n",
       "<style scoped>\n",
       "    .dataframe tbody tr th:only-of-type {\n",
       "        vertical-align: middle;\n",
       "    }\n",
       "\n",
       "    .dataframe tbody tr th {\n",
       "        vertical-align: top;\n",
       "    }\n",
       "\n",
       "    .dataframe thead th {\n",
       "        text-align: right;\n",
       "    }\n",
       "</style>\n",
       "<table border=\"1\" class=\"dataframe\">\n",
       "  <thead>\n",
       "    <tr style=\"text-align: right;\">\n",
       "      <th></th>\n",
       "      <th>screen_name</th>\n",
       "      <th>hashtags</th>\n",
       "      <th>user_mentions</th>\n",
       "      <th>id_tweet</th>\n",
       "      <th>hashtag_per_tweets</th>\n",
       "      <th>mention_per_tweets</th>\n",
       "      <th>is_high_hashtag</th>\n",
       "      <th>is_high_mention</th>\n",
       "      <th>is_both_high</th>\n",
       "      <th>label</th>\n",
       "    </tr>\n",
       "  </thead>\n",
       "  <tbody>\n",
       "    <tr>\n",
       "      <th>0</th>\n",
       "      <td>4SinCong</td>\n",
       "      <td>2</td>\n",
       "      <td>430</td>\n",
       "      <td>300</td>\n",
       "      <td>0.006667</td>\n",
       "      <td>1.433333</td>\n",
       "      <td>0</td>\n",
       "      <td>0</td>\n",
       "      <td>0</td>\n",
       "      <td>NaN</td>\n",
       "    </tr>\n",
       "    <tr>\n",
       "      <th>1</th>\n",
       "      <td>4rdipratama</td>\n",
       "      <td>20</td>\n",
       "      <td>296</td>\n",
       "      <td>300</td>\n",
       "      <td>0.066667</td>\n",
       "      <td>0.986667</td>\n",
       "      <td>0</td>\n",
       "      <td>0</td>\n",
       "      <td>0</td>\n",
       "      <td>NaN</td>\n",
       "    </tr>\n",
       "    <tr>\n",
       "      <th>2</th>\n",
       "      <td>ABackBone</td>\n",
       "      <td>414</td>\n",
       "      <td>151</td>\n",
       "      <td>300</td>\n",
       "      <td>1.380000</td>\n",
       "      <td>0.503333</td>\n",
       "      <td>1</td>\n",
       "      <td>0</td>\n",
       "      <td>0</td>\n",
       "      <td>NaN</td>\n",
       "    </tr>\n",
       "    <tr>\n",
       "      <th>3</th>\n",
       "      <td>ARUL77039666</td>\n",
       "      <td>0</td>\n",
       "      <td>13</td>\n",
       "      <td>20</td>\n",
       "      <td>0.000000</td>\n",
       "      <td>0.650000</td>\n",
       "      <td>0</td>\n",
       "      <td>0</td>\n",
       "      <td>0</td>\n",
       "      <td>NaN</td>\n",
       "    </tr>\n",
       "    <tr>\n",
       "      <th>4</th>\n",
       "      <td>ATAP03167829</td>\n",
       "      <td>5</td>\n",
       "      <td>327</td>\n",
       "      <td>300</td>\n",
       "      <td>0.016667</td>\n",
       "      <td>1.090000</td>\n",
       "      <td>0</td>\n",
       "      <td>0</td>\n",
       "      <td>0</td>\n",
       "      <td>NaN</td>\n",
       "    </tr>\n",
       "  </tbody>\n",
       "</table>\n",
       "</div>"
      ],
      "text/plain": [
       "    screen_name  hashtags  user_mentions  id_tweet  hashtag_per_tweets  \\\n",
       "0      4SinCong         2            430       300            0.006667   \n",
       "1   4rdipratama        20            296       300            0.066667   \n",
       "2     ABackBone       414            151       300            1.380000   \n",
       "3  ARUL77039666         0             13        20            0.000000   \n",
       "4  ATAP03167829         5            327       300            0.016667   \n",
       "\n",
       "   mention_per_tweets  is_high_hashtag  is_high_mention  is_both_high  label  \n",
       "0            1.433333                0                0             0    NaN  \n",
       "1            0.986667                0                0             0    NaN  \n",
       "2            0.503333                1                0             0    NaN  \n",
       "3            0.650000                0                0             0    NaN  \n",
       "4            1.090000                0                0             0    NaN  "
      ]
     },
     "execution_count": 50,
     "metadata": {},
     "output_type": "execute_result"
    }
   ],
   "source": [
    "d_data_all_annotate.head()"
   ]
  },
  {
   "cell_type": "markdown",
   "id": "intermediate-landscape",
   "metadata": {},
   "source": [
    "#### Dataset for cross check"
   ]
  },
  {
   "cell_type": "code",
   "execution_count": null,
   "id": "cognitive-robert",
   "metadata": {},
   "outputs": [],
   "source": [
    "d_cross_check = d_data_all_annotate[~d_data_all_annotate.label.isna()].copy()\n",
    "\n",
    "d_cross_check.reset_index(drop=True, inplace=True)\n",
    "\n",
    "d_cross_check.rename(columns={'Label': 'is_buzzer'}, inplace=True)\n",
    "\n",
    "d_cross_check.is_buzzer = d_cross_check.is_buzzer.map({'buzzer': 1, 'non-buzzer': 0})\n",
    "\n",
    "d_cross_check[d_cross_check.is_high_hashtag != d_cross_check.is_buzzer]\n",
    "\n",
    "d_cross_check[d_cross_check.is_high_hashtag != d_cross_check.is_buzzer].to_csv(\"../data/cross_check.csv\", index=False)"
   ]
  },
  {
   "cell_type": "markdown",
   "id": "annoying-invite",
   "metadata": {},
   "source": [
    "### Dataset with Autolabeling"
   ]
  },
  {
   "cell_type": "code",
   "execution_count": 51,
   "id": "wicked-audio",
   "metadata": {},
   "outputs": [],
   "source": [
    "d_data_annotate_v2 = d_data_all_annotate[(d_data_all_annotate.screen_name.isin(d_data_7200.screen_name)) & \n",
    "                    (d_data_all_annotate.label.isna())]\n",
    "\n",
    "d_data_annotate_v2.loc[(d_data_annotate_v2.is_high_hashtag == 1) &\n",
    "                       (d_data_annotate_v2.label.isna()), 'label'] = 'buzzer'\n",
    "\n",
    "d_data_annotate_v2.loc[(d_data_annotate_v2.is_high_hashtag == 0) &\n",
    "                       (d_data_annotate_v2.label.isna()), 'label'] = 'non-buzzer'"
   ]
  },
  {
   "cell_type": "code",
   "execution_count": null,
   "id": "recreational-sister",
   "metadata": {},
   "outputs": [],
   "source": [
    "d_data_annotate_v2[[\"screen_name\", \"label\"]].to_csv(\"../data/account_labeled/autolabel_of_7200.csv\", index=False)"
   ]
  },
  {
   "cell_type": "markdown",
   "id": "public-yorkshire",
   "metadata": {},
   "source": [
    "#### Modeling"
   ]
  },
  {
   "cell_type": "code",
   "execution_count": 53,
   "id": "renewable-james",
   "metadata": {},
   "outputs": [
    {
     "data": {
      "text/plain": [
       "0.0    4978\n",
       "1.0    1878\n",
       "Name: label, dtype: int64"
      ]
     },
     "execution_count": 53,
     "metadata": {},
     "output_type": "execute_result"
    }
   ],
   "source": [
    "d_data_all_annotate.label.value_counts()"
   ]
  },
  {
   "cell_type": "code",
   "execution_count": 54,
   "id": "antique-instrument",
   "metadata": {},
   "outputs": [],
   "source": [
    "d_data_all_annotate[[\"screen_name\", \"label\"]].to_csv(\"../data/account_labeled/label_updated.csv\", index=False)"
   ]
  },
  {
   "cell_type": "code",
   "execution_count": null,
   "id": "incoming-bundle",
   "metadata": {},
   "outputs": [],
   "source": []
  }
 ],
 "metadata": {
  "kernelspec": {
   "display_name": "Python 3",
   "language": "python",
   "name": "python3"
  },
  "language_info": {
   "codemirror_mode": {
    "name": "ipython",
    "version": 3
   },
   "file_extension": ".py",
   "mimetype": "text/x-python",
   "name": "python",
   "nbconvert_exporter": "python",
   "pygments_lexer": "ipython3",
   "version": "3.8.5"
  }
 },
 "nbformat": 4,
 "nbformat_minor": 5
}
