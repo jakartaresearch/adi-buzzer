{
 "cells": [
  {
   "cell_type": "code",
   "execution_count": 1,
   "metadata": {},
   "outputs": [
    {
     "name": "stderr",
     "output_type": "stream",
     "text": [
      "/home/ryx/miniconda3/lib/python3.8/site-packages/tqdm/std.py:668: FutureWarning: The Panel class is removed from pandas. Accessing it from the top-level namespace will also be removed in the next version\n",
      "  from pandas import Panel\n"
     ]
    }
   ],
   "source": [
    "import json\n",
    "import pandas as pd\n",
    "import glob\n",
    "import re\n",
    "import spacy\n",
    "\n",
    "from tqdm import tqdm\n",
    "tqdm.pandas(desc=\"my bar!\")\n",
    "\n",
    "from gensim.matutils import jaccard\n",
    "from strsimpy.levenshtein import Levenshtein"
   ]
  },
  {
   "cell_type": "markdown",
   "metadata": {},
   "source": [
    "## Get token"
   ]
  },
  {
   "cell_type": "code",
   "execution_count": 2,
   "metadata": {},
   "outputs": [],
   "source": [
    "def tokenizer(text):\n",
    "    output = []\n",
    "    list_token = text.split('_')\n",
    "    list_token = list(filter(None, list_token))\n",
    "    list_token = [token[1:] if token.startswith('@') else token for token in list_token]\n",
    "    \n",
    "    pattern1 = r\"([A-Z][a-z])\"\n",
    "    pattern2 = r\"([A-Z]{2,})\"\n",
    "    insert_space = r\" \\1\"\n",
    "    \n",
    "    step1 = [re.sub(pattern1, insert_space, token) for token in list_token]\n",
    "    step2 = [re.sub(pattern2, insert_space, token).split() for token in step1]\n",
    "    \n",
    "    for i in step2:\n",
    "        output += i\n",
    "        \n",
    "    return output"
   ]
  },
  {
   "cell_type": "code",
   "execution_count": 3,
   "metadata": {},
   "outputs": [],
   "source": [
    "def jaccard_sim_feature(df, spwd):    \n",
    "    out = []\n",
    "\n",
    "    for _, row in tqdm(df.iterrows()):\n",
    "        jaccard_user = []\n",
    "        for user_token in row['token']:\n",
    "            jaccard_val = []\n",
    "            for word in spwd['social political']:\n",
    "                jaccard_val.append(jaccard(user_token, word))\n",
    "\n",
    "            jaccard_user.append(min(jaccard_val))\n",
    "        out.append(min(jaccard_user))\n",
    "    return out"
   ]
  },
  {
   "cell_type": "code",
   "execution_count": 4,
   "metadata": {},
   "outputs": [],
   "source": [
    "def levenshtein_feature(df, spwd):\n",
    "    out = []\n",
    "    levenshtein = Levenshtein()\n",
    "    \n",
    "    for _,row in tqdm(df.iterrows()):\n",
    "        levenshtein_user = []\n",
    "        for user_token in row['token']:\n",
    "            levenshtein_val = []\n",
    "            for word in spwd['social political']:\n",
    "                levenshtein_val.append(levenshtein.distance(user_token, word))\n",
    "\n",
    "            levenshtein_user.append(min(levenshtein_val))\n",
    "        out.append(min(levenshtein_user))\n",
    "    return out"
   ]
  },
  {
   "cell_type": "code",
   "execution_count": 5,
   "metadata": {},
   "outputs": [],
   "source": [
    "def create_features(dataset_path, spwd_path):\n",
    "    df_dataset = pd.read_csv(dataset_path)\n",
    "    spwd = pd.read_csv(spwd_path, usecols = ['social political'])\n",
    "    \n",
    "    df_dataset['token'] = df_dataset['text'].progress_apply(tokenizer)\n",
    "    \n",
    "    df_dataset['char_count'] = df_dataset.text.progress_apply(len)\n",
    "    df_dataset['n_token'] = df_dataset.token.progress_apply(len)\n",
    "    df_dataset['jaccard_sim'] = jaccard_sim_feature(df_dataset, spwd)\n",
    "    df_dataset['levenshtein_dist'] = levenshtein_feature(df_dataset, spwd)\n",
    "    \n",
    "    return df_dataset"
   ]
  },
  {
   "cell_type": "code",
   "execution_count": 6,
   "metadata": {},
   "outputs": [],
   "source": [
    "dataset_path = '../data/dataset/short_text_dataset.csv'\n",
    "spwd_path = '../data/SPWD.csv'"
   ]
  },
  {
   "cell_type": "code",
   "execution_count": 7,
   "metadata": {},
   "outputs": [
    {
     "name": "stderr",
     "output_type": "stream",
     "text": [
      "my bar!: 100%|██████████| 12201/12201 [00:00<00:00, 100888.94it/s]\n",
      "my bar!: 100%|██████████| 12201/12201 [00:00<00:00, 1003838.90it/s]\n",
      "my bar!: 100%|██████████| 12201/12201 [00:00<00:00, 964068.86it/s]\n",
      "12201it [00:58, 206.95it/s]\n",
      "12201it [06:10, 32.96it/s]\n"
     ]
    }
   ],
   "source": [
    "features = create_features(dataset_path, spwd_path)"
   ]
  },
  {
   "cell_type": "code",
   "execution_count": 14,
   "metadata": {},
   "outputs": [],
   "source": [
    "features.to_csv('../data/dataset/short_text_feat.csv', index=False)"
   ]
  },
  {
   "cell_type": "code",
   "execution_count": null,
   "metadata": {},
   "outputs": [],
   "source": []
  }
 ],
 "metadata": {
  "kernelspec": {
   "display_name": "Python 3",
   "language": "python",
   "name": "python3"
  },
  "language_info": {
   "codemirror_mode": {
    "name": "ipython",
    "version": 3
   },
   "file_extension": ".py",
   "mimetype": "text/x-python",
   "name": "python",
   "nbconvert_exporter": "python",
   "pygments_lexer": "ipython3",
   "version": "3.8.3"
  }
 },
 "nbformat": 4,
 "nbformat_minor": 4
}
