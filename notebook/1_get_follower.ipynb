{
 "cells": [
  {
   "cell_type": "code",
   "execution_count": null,
   "metadata": {},
   "outputs": [],
   "source": [
    "import os\n",
    "import glob\n",
    "import json\n",
    "import time\n",
    "import pickle\n",
    "import tweepy\n",
    "\n",
    "from datetime import datetime\n",
    "\n",
    "import pandas as pd"
   ]
  },
  {
   "cell_type": "code",
   "execution_count": null,
   "metadata": {},
   "outputs": [],
   "source": [
    "data_dir_path = '../data'"
   ]
  },
  {
   "cell_type": "code",
   "execution_count": null,
   "metadata": {},
   "outputs": [],
   "source": [
    "key_dir_path = '../keys'"
   ]
  },
  {
   "cell_type": "code",
   "execution_count": null,
   "metadata": {},
   "outputs": [],
   "source": [
    "key_paths = glob.glob(os.path.join(keys_path, '*'))\n",
    "key_paths = [key.replace('\\\\', '/') for key in key_paths]"
   ]
  },
  {
   "cell_type": "code",
   "execution_count": null,
   "metadata": {},
   "outputs": [],
   "source": [
    "username_path = os.path.join(data_path, 'supports', 'list_of_buzzer.csv')"
   ]
  },
  {
   "cell_type": "code",
   "execution_count": null,
   "metadata": {
    "scrolled": true
   },
   "outputs": [],
   "source": [
    "for username in d_buzzers.username.to_list()[:3]:\n",
    "    username = username.replace('@', '')\n",
    "    print(username)\n",
    "    profile = get_profile_user(username)\n",
    "    \n",
    "    if type(profile) == tweepy.error.TweepError:\n",
    "        user_raw_all.extend({username: profile})\n",
    "        user_and_following_dict[username] = None\n",
    "        username_has_collected.append(username)\n",
    "    else:\n",
    "        follower_list, user_raw = get_following(username)\n",
    "\n",
    "        user_and_following_dict[profile.screen_name] = follower_list\n",
    "        user_raw_all.extend([{user.screen_name: user} for user in user_raw])\n",
    "        user_raw_all.extend({profile.screen_name: profile})\n",
    "        username_has_collected.append(username)"
   ]
  },
  {
   "cell_type": "code",
   "execution_count": null,
   "metadata": {},
   "outputs": [],
   "source": [
    "class Friends():\n",
    "    def __init__(self, keys_paths, username_path):\n",
    "        self.keys = self.read_key(keys_paths)\n",
    "        self.apis = self.auth_twitter()\n",
    "        self.apis_is_used = [False] * len(self.apis)\n",
    "        self.usernames = self.read_csv(username_path)\n",
    "        \n",
    "    def read_key(self, key_paths):\n",
    "        return [pickle.load(open(path, 'rb')) for path in key_paths]\n",
    "    \n",
    "    def read_csv(self, path):\n",
    "        d_data = pd.read_csv(path)\n",
    "        return d_data\n",
    "    \n",
    "    def auth_twitter(self):\n",
    "        api_list = []\n",
    "        for key in self.keys:\n",
    "            auth = tweepy.OAuthHandler(key[\"api_key\"], key[\"api_secret_key\"])\n",
    "            auth.set_access_token(key[\"access_token\"], key[\"access_token_secret\"])\n",
    "            api = tweepy.API(auth)\n",
    "            \n",
    "            api_list.append(api)\n",
    "            \n",
    "        return api_list\n",
    "    \n",
    "    def output(data, path_dir, filename):\n",
    "        pickle.dump(data, open(os.path.join(path_dir, filename), 'wb'))\n",
    "        print(\"success\", filename)\n",
    "        \n",
    "    def get_profile_user(self, username):\n",
    "        while True:\n",
    "            try:\n",
    "                profile = api.get_user(username)\n",
    "                return profile\n",
    "            except tweepy.TweepError as e:\n",
    "                err_msg = e\n",
    "                return err_msg\n",
    "            except tweepy.RateLimitError:\n",
    "                print(\"\\tRateLimit\")\n",
    "                print(datetime.today().strftime(\"\\t%H:%M:%S %d-%m-%Y\"))\n",
    "                time.sleep(15*60)\n",
    "    \n",
    "    def limit_handled(self, cursor):\n",
    "        while True:\n",
    "            try:\n",
    "                yield cursor.next()\n",
    "            except tweepy.RateLimitError:\n",
    "                print('\\tRateLimit')\n",
    "                print(datetime.today().strftime(\"\\t%H:%M:%S %d-%m-%Y\"))\n",
    "                time.sleep(15 * 60)\n",
    "            except:\n",
    "                break\n",
    "    \n",
    "    def get_following(self, username):\n",
    "        follower_list = []\n",
    "        user_raw = []\n",
    "        for follower in limit_handled(tweepy.Cursor(api.friends, id=username).items()):\n",
    "            follower_list.append(follower.screen_name)\n",
    "            user_raw.append(follower)\n",
    "\n",
    "        return follower_list, user_raw"
   ]
  },
  {
   "cell_type": "code",
   "execution_count": null,
   "metadata": {},
   "outputs": [],
   "source": [
    "friends = Friends(keys_path, username_path)"
   ]
  },
  {
   "cell_type": "code",
   "execution_count": null,
   "metadata": {},
   "outputs": [],
   "source": []
  }
 ],
 "metadata": {
  "kernelspec": {
   "display_name": "Python 3",
   "language": "python",
   "name": "python3"
  },
  "language_info": {
   "codemirror_mode": {
    "name": "ipython",
    "version": 3
   },
   "file_extension": ".py",
   "mimetype": "text/x-python",
   "name": "python",
   "nbconvert_exporter": "python",
   "pygments_lexer": "ipython3",
   "version": "3.7.3"
  }
 },
 "nbformat": 4,
 "nbformat_minor": 4
}
