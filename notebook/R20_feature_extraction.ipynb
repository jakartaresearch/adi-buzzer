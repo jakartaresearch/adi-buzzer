{
 "cells": [
  {
   "cell_type": "code",
   "execution_count": 1,
   "metadata": {},
   "outputs": [],
   "source": [
    "import json\n",
    "import pandas as pd\n",
    "import glob\n",
    "from maleo.wizard import Wizard\n",
    "from tqdm import tqdm"
   ]
  },
  {
   "cell_type": "code",
   "execution_count": 2,
   "metadata": {},
   "outputs": [],
   "source": [
    "def read_json(path):\n",
    "    with open(path, 'r') as file:\n",
    "        return json.load(file)"
   ]
  },
  {
   "cell_type": "code",
   "execution_count": 3,
   "metadata": {},
   "outputs": [],
   "source": [
    "def get_all_hashtag(list_tweets):   \n",
    "    all_hashtag = []\n",
    "    \n",
    "    wiz = Wizard()\n",
    "    twt_hashtag = wiz.get_hashtag(pd.Series(list_tweets))['Hashtag']\n",
    "    n_twt_use_hashtag = len(twt_hashtag)\n",
    "    \n",
    "    for i in twt_hashtag:\n",
    "        all_hashtag += i\n",
    "    return n_twt_use_hashtag, all_hashtag"
   ]
  },
  {
   "cell_type": "code",
   "execution_count": 4,
   "metadata": {},
   "outputs": [],
   "source": [
    "data_path = '../data/data_7200/*.json'\n",
    "profile_data_path = '../data/profile_id.json'"
   ]
  },
  {
   "cell_type": "markdown",
   "metadata": {},
   "source": [
    "screen_name == username\n",
    "\n",
    "Data pada key \"tweets\" terdiri atas independent & dependent tweet\n",
    " - Independent tweet = tweet yang dibuat sendiri (inspirasi sendiri)\n",
    " - Dependent tweet = tweet yang mengutip/quote tweet org lain (quoted tweet)"
   ]
  },
  {
   "cell_type": "code",
   "execution_count": 5,
   "metadata": {},
   "outputs": [],
   "source": [
    "profile_id = read_json(profile_data_path)\n",
    "username_desc = {user['screen_name']:(user['name'], user['description']) for user in profile_id}"
   ]
  },
  {
   "cell_type": "code",
   "execution_count": null,
   "metadata": {},
   "outputs": [],
   "source": [
    "raw_features = []\n",
    "\n",
    "for data in tqdm(glob.glob(data_path)[:5]):\n",
    "    list_tweets = []\n",
    "    list_quoted_tweets = []\n",
    "    \n",
    "    user_data = read_json(data)\n",
    "    \n",
    "    for twt in user_data['tweets']:\n",
    "        list_tweets.append(twt['full_text'])\n",
    "        try:\n",
    "            list_quoted_tweets.append(twt['quoted_status']['full_text'])\n",
    "        except:\n",
    "            pass\n",
    "        \n",
    "    n_twt_use_hashtag, all_hashtag = get_all_hashtag(list_tweets)\n",
    "    \n",
    "    if n_twt_use_hashtag != 0:\n",
    "        ratio = (n_twt_use_hashtag/len(list_tweets))\n",
    "    else:\n",
    "        ratio = 0\n",
    "    \n",
    "    username = data.split('/')[-1][:-5]\n",
    "    if not username.startswith('@'):\n",
    "        desc = username_desc.get(username)[1]\n",
    "    else:\n",
    "        desc = user_data['description']\n",
    "        \n",
    "    feat = {'username': username, \n",
    "            'name': username_desc.get(username)[0],\n",
    "            'desc': desc,\n",
    "            'tweets': list_tweets,\n",
    "            'quoted_tweets': list_quoted_tweets,\n",
    "            'n_tweet': len(list_tweets),\n",
    "            'hashtag': all_hashtag,\n",
    "            'n_tweet_use_hashtag': n_twt_use_hashtag,\n",
    "            'ratio_tweets_use_hashtag': ratio}\n",
    "    raw_features.append(feat)"
   ]
  },
  {
   "cell_type": "code",
   "execution_count": null,
   "metadata": {},
   "outputs": [],
   "source": [
    "raw_features[0]"
   ]
  },
  {
   "cell_type": "markdown",
   "metadata": {},
   "source": [
    "## Get media and url link"
   ]
  },
  {
   "cell_type": "code",
   "execution_count": 6,
   "metadata": {},
   "outputs": [],
   "source": [
    "tes = read_json('../data/data_7200/@TsamaraDKI.json')"
   ]
  },
  {
   "cell_type": "code",
   "execution_count": 78,
   "metadata": {},
   "outputs": [],
   "source": [
    "def get_media_and_url(data):\n",
    "    media_type = None\n",
    "    url_link = None\n",
    "    \n",
    "    if 'quoted_status' not in data:\n",
    "        try:\n",
    "            media_type = data['extended_entities']['media'][0]['type']\n",
    "        except:\n",
    "            pass\n",
    "        if media_type != 'photo' and data['entities']['urls'] != []:\n",
    "            url_link = data['entities']['urls'][0]['expanded_url']\n",
    "    return media_type, url_link"
   ]
  },
  {
   "cell_type": "code",
   "execution_count": 79,
   "metadata": {},
   "outputs": [],
   "source": [
    "def get_youtube_title(url_link):\n",
    "    import urllib.request\n",
    "    import json\n",
    "    import urllib\n",
    "    \n",
    "    VideoID = url_link.split('/')[-1] \n",
    "\n",
    "    params = {\"format\": \"json\", \"url\": \"https://www.youtube.com/watch?v=%s\" % VideoID}\n",
    "    url = \"https://www.youtube.com/oembed\"\n",
    "    query_string = urllib.parse.urlencode(params)\n",
    "    url = url + \"?\" + query_string\n",
    "\n",
    "    with urllib.request.urlopen(url) as response:\n",
    "        response_text = response.read()\n",
    "        data = json.loads(response_text.decode())\n",
    "        return data['title']"
   ]
  },
  {
   "cell_type": "code",
   "execution_count": 114,
   "metadata": {},
   "outputs": [],
   "source": [
    "def coba(data):\n",
    "    media_type, url_link = get_media_and_url(data)\n",
    "    \n",
    "    if url_link == None:\n",
    "        title = None\n",
    "    elif url_link.split('/')[-2] == 'youtu.be':\n",
    "        title = get_youtube_title(url_link)\n",
    "    else:\n",
    "        title = url_link.split('/')[-1].split('?')[0].split('.')[0]\n",
    "    return media_type, title"
   ]
  },
  {
   "cell_type": "code",
   "execution_count": 132,
   "metadata": {},
   "outputs": [
    {
     "data": {
      "text/plain": [
       "(None,\n",
       " 'psi-hanura-pkpi-berkarya-hingga-perindo-tolak-kenaikan-pt-arogansi-kekuasaan-1tZ5TNVvJ2u')"
      ]
     },
     "execution_count": 132,
     "metadata": {},
     "output_type": "execute_result"
    }
   ],
   "source": [
    "coba(tes['tweets'][21])"
   ]
  },
  {
   "cell_type": "code",
   "execution_count": null,
   "metadata": {},
   "outputs": [],
   "source": []
  }
 ],
 "metadata": {
  "kernelspec": {
   "display_name": "Python 3",
   "language": "python",
   "name": "python3"
  },
  "language_info": {
   "codemirror_mode": {
    "name": "ipython",
    "version": 3
   },
   "file_extension": ".py",
   "mimetype": "text/x-python",
   "name": "python",
   "nbconvert_exporter": "python",
   "pygments_lexer": "ipython3",
   "version": "3.8.3"
  }
 },
 "nbformat": 4,
 "nbformat_minor": 4
}
