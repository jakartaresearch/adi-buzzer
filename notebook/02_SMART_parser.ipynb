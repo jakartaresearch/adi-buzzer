{
 "cells": [
  {
   "cell_type": "markdown",
   "metadata": {},
   "source": [
    "## Parse Tweets for SMART Anotation"
   ]
  },
  {
   "cell_type": "code",
   "execution_count": 1,
   "metadata": {},
   "outputs": [],
   "source": [
    "import os\n",
    "import glob\n",
    "import json\n",
    "from tqdm import tqdm\n",
    "\n",
    "import pandas as pd"
   ]
  },
  {
   "cell_type": "code",
   "execution_count": 2,
   "metadata": {},
   "outputs": [],
   "source": [
    "DATA_PATH = \"../data\""
   ]
  },
  {
   "cell_type": "code",
   "execution_count": 3,
   "metadata": {},
   "outputs": [],
   "source": [
    "tweets_file_paths = glob.glob(os.path.join(DATA_PATH, \"tweets\", \"*.json\"))"
   ]
  },
  {
   "cell_type": "code",
   "execution_count": 4,
   "metadata": {},
   "outputs": [],
   "source": [
    "large_indo_file_paths = glob.glob(os.path.join(DATA_PATH, \"7K_INDO\", \"*.json\"))"
   ]
  },
  {
   "cell_type": "code",
   "execution_count": 5,
   "metadata": {},
   "outputs": [],
   "source": [
    "file_paths = tweets_file_paths + large_indo_file_paths"
   ]
  },
  {
   "cell_type": "code",
   "execution_count": 6,
   "metadata": {},
   "outputs": [
    {
     "data": {
      "text/plain": [
       "7202"
      ]
     },
     "execution_count": 6,
     "metadata": {},
     "output_type": "execute_result"
    }
   ],
   "source": [
    "len(file_paths)"
   ]
  },
  {
   "cell_type": "code",
   "execution_count": 7,
   "metadata": {},
   "outputs": [],
   "source": [
    "def read_json(path):\n",
    "    with open(path, 'r', encoding=\"utf-8\") as file:\n",
    "        return json.load(file)"
   ]
  },
  {
   "cell_type": "code",
   "execution_count": null,
   "metadata": {},
   "outputs": [],
   "source": [
    "data_text = []\n",
    "for idx, path in tqdm(enumerate(file_paths)):\n",
    "    data = read_json(path)\n",
    "    string = \"https://twitter.com/\"+data[\"username\"].replace(\"@\", \"\")+\" \"+ \"_\"*10\n",
    "    if len(data[\"tweets\"]) > 0:\n",
    "        \n",
    "        screen_name = \"name: \"+data[\"tweets\"][0][\"user\"][\"name\"] + \"_\"*10\n",
    "        description = \"description: \"+data[\"tweets\"][0][\"user\"][\"description\"] + \"_\"*10\n",
    "        \n",
    "        string = string + screen_name + description\n",
    "        \n",
    "    if len(data[\"tweets\"]) > 0:\n",
    "        data_used = data[\"tweets\"]\n",
    "    elif len(data[\"retweets\"]) > 0:\n",
    "        data_used = data[\"retweets\"]\n",
    "    elif len(data[\"replies\"]) > 0:\n",
    "        data_used = data[\"replies\"]\n",
    "    else:\n",
    "        data_used = data[\"tweets\"]\n",
    "        \n",
    "    for tweet in data_used[:5]:\n",
    "        string = string + tweet[\"full_text\"] + \"_\"*10\n",
    "\n",
    "    string = string.replace(\"\\n\", \" \")\n",
    "    string = string.replace(\",\", \" \")\n",
    "    data_text.append({\"ID\": idx, \"Text\": string, \"Label\": \"\"})"
   ]
  },
  {
   "cell_type": "code",
   "execution_count": null,
   "metadata": {},
   "outputs": [],
   "source": [
    "d_tweets = pd.DataFrame(data_text, columns = [\"ID\", \"Text\", \"Label\"])"
   ]
  },
  {
   "cell_type": "code",
   "execution_count": null,
   "metadata": {
    "scrolled": true
   },
   "outputs": [],
   "source": [
    "d_tweets"
   ]
  },
  {
   "cell_type": "code",
   "execution_count": null,
   "metadata": {
    "scrolled": true
   },
   "outputs": [],
   "source": [
    "d_tweets.to_csv(os.path.join(DATA_PATH, \"supports\", \"SMART_FORMATED_199.csv\"), sep=\",\", index=False)"
   ]
  },
  {
   "cell_type": "code",
   "execution_count": null,
   "metadata": {},
   "outputs": [],
   "source": []
  }
 ],
 "metadata": {
  "kernelspec": {
   "display_name": "Python 3",
   "language": "python",
   "name": "python3"
  },
  "language_info": {
   "codemirror_mode": {
    "name": "ipython",
    "version": 3
   },
   "file_extension": ".py",
   "mimetype": "text/x-python",
   "name": "python",
   "nbconvert_exporter": "python",
   "pygments_lexer": "ipython3",
   "version": "3.7.3"
  }
 },
 "nbformat": 4,
 "nbformat_minor": 4
}
