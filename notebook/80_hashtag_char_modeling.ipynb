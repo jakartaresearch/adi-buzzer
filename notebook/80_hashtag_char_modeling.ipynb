{
 "cells": [
  {
   "cell_type": "code",
   "execution_count": 1,
   "metadata": {},
   "outputs": [],
   "source": [
    "import re\n",
    "from itertools import chain\n",
    "from collections import Counter\n",
    "import pandas as pd\n",
    "import numpy as np\n",
    "import matplotlib.pyplot as plt\n",
    "\n",
    "from sklearn.model_selection import train_test_split, cross_val_score\n",
    "from sklearn.svm import SVC\n",
    "from sklearn.naive_bayes import BernoulliNB\n",
    "from sklearn.ensemble import RandomForestClassifier, AdaBoostClassifier, GradientBoostingClassifier\n",
    "from sklearn.metrics import classification_report\n",
    "%matplotlib inline"
   ]
  },
  {
   "cell_type": "code",
   "execution_count": 2,
   "metadata": {},
   "outputs": [],
   "source": [
    "d_hashtag = pd.read_csv(\"../data/hashtag/Tweet hashtags - clean.csv\")\n",
    "d_hashtag = d_hashtag[~d_hashtag.label_full.isna()]\n",
    "d_hashtag.label_full = d_hashtag.label_full.astype(int)"
   ]
  },
  {
   "cell_type": "code",
   "execution_count": 3,
   "metadata": {},
   "outputs": [
    {
     "data": {
      "image/png": "[encoded data removed]",
      "text/plain": [
       "<Figure size 432x288 with 1 Axes>"
      ]
     },
     "metadata": {},
     "output_type": "display_data"
    }
   ],
   "source": [
    "d_hashtag.label_full.value_counts().plot.pie(autopct='%1.1f')\n",
    "plt.savefig(\"../data/figures/hashtag_label.png\")"
   ]
  },
  {
   "cell_type": "code",
   "execution_count": 4,
   "metadata": {},
   "outputs": [],
   "source": [
    "d_hashtag = d_hashtag.sort_values(by='label_full')\n",
    "d_hashtag = d_hashtag.sample(frac=1)\n",
    "d_hashtag.reset_index(drop=True, inplace=True)"
   ]
  },
  {
   "cell_type": "code",
   "execution_count": 7,
   "metadata": {},
   "outputs": [],
   "source": [
    "d_hashtag.columns = [\"hashtag\", \"frequency\", \"label\"]"
   ]
  },
  {
   "cell_type": "code",
   "execution_count": 8,
   "metadata": {},
   "outputs": [
    {
     "data": {
      "text/html": [
       "<div>\n",
       "<style scoped>\n",
       "    .dataframe tbody tr th:only-of-type {\n",
       "        vertical-align: middle;\n",
       "    }\n",
       "\n",
       "    .dataframe tbody tr th {\n",
       "        vertical-align: top;\n",
       "    }\n",
       "\n",
       "    .dataframe thead th {\n",
       "        text-align: right;\n",
       "    }\n",
       "</style>\n",
       "<table border=\"1\" class=\"dataframe\">\n",
       "  <thead>\n",
       "    <tr style=\"text-align: right;\">\n",
       "      <th></th>\n",
       "      <th>hashtag</th>\n",
       "      <th>frequency</th>\n",
       "      <th>label</th>\n",
       "    </tr>\n",
       "  </thead>\n",
       "  <tbody>\n",
       "    <tr>\n",
       "      <th>0</th>\n",
       "      <td>Kehamilan</td>\n",
       "      <td>43</td>\n",
       "      <td>0</td>\n",
       "    </tr>\n",
       "    <tr>\n",
       "      <th>1</th>\n",
       "      <td>KamiDukungOmnibusLaw</td>\n",
       "      <td>96</td>\n",
       "      <td>1</td>\n",
       "    </tr>\n",
       "    <tr>\n",
       "      <th>2</th>\n",
       "      <td>BUMNLokomotifNormalBaru</td>\n",
       "      <td>106</td>\n",
       "      <td>1</td>\n",
       "    </tr>\n",
       "    <tr>\n",
       "      <th>3</th>\n",
       "      <td>BudayaNusantara</td>\n",
       "      <td>120</td>\n",
       "      <td>0</td>\n",
       "    </tr>\n",
       "    <tr>\n",
       "      <th>4</th>\n",
       "      <td>BersamaPerjuangkanKhilafah</td>\n",
       "      <td>35</td>\n",
       "      <td>1</td>\n",
       "    </tr>\n",
       "  </tbody>\n",
       "</table>\n",
       "</div>"
      ],
      "text/plain": [
       "                      hashtag  frequency  label\n",
       "0                   Kehamilan         43      0\n",
       "1        KamiDukungOmnibusLaw         96      1\n",
       "2     BUMNLokomotifNormalBaru        106      1\n",
       "3             BudayaNusantara        120      0\n",
       "4  BersamaPerjuangkanKhilafah         35      1"
      ]
     },
     "execution_count": 8,
     "metadata": {},
     "output_type": "execute_result"
    }
   ],
   "source": [
    "d_hashtag.head()"
   ]
  },
  {
   "cell_type": "markdown",
   "metadata": {},
   "source": [
    "## modeling"
   ]
  },
  {
   "cell_type": "code",
   "execution_count": 9,
   "metadata": {},
   "outputs": [],
   "source": [
    "def is_ascii(text):\n",
    "    try:\n",
    "        text.encode('ascii')\n",
    "        return True\n",
    "    except UnicodeEncodeError:\n",
    "        return False"
   ]
  },
  {
   "cell_type": "code",
   "execution_count": 10,
   "metadata": {},
   "outputs": [],
   "source": [
    "# remove non-ascii\n",
    "d_hashtag['is_ascii'] = d_hashtag.hashtag.apply(is_ascii)\n",
    "d_hashtag = d_hashtag[d_hashtag.is_ascii]"
   ]
  },
  {
   "cell_type": "code",
   "execution_count": 11,
   "metadata": {},
   "outputs": [],
   "source": [
    "d_hashtag['hashtag_sep'] = d_hashtag.hashtag.apply(lambda x: re.sub(r\"\\B([A-Z])\", r\" \\1\", x))"
   ]
  },
  {
   "cell_type": "markdown",
   "metadata": {},
   "source": [
    "save hashtag for 81_hashtag_wordpiece"
   ]
  },
  {
   "cell_type": "code",
   "execution_count": 12,
   "metadata": {},
   "outputs": [],
   "source": [
    "hashtag_text = \" \".join(d_hashtag.hashtag_sep.str.lower().to_list())\n",
    "with open(\"../data/tokenizers/hashtag_raw.txt\", \"w\") as f:\n",
    "    f.write(hashtag_text)"
   ]
  },
  {
   "cell_type": "markdown",
   "metadata": {},
   "source": [
    "## Model Single Character"
   ]
  },
  {
   "cell_type": "code",
   "execution_count": null,
   "metadata": {},
   "outputs": [],
   "source": [
    "d_hashtag.reset_index(drop=True, inplace=True)\n",
    "text = \"\".join(d_hashtag.hashtag.to_list())\n",
    "text = sorted(list(set(text)))"
   ]
  },
  {
   "cell_type": "markdown",
   "metadata": {},
   "source": [
    "### Char2Matrix Transformation"
   ]
  },
  {
   "cell_type": "code",
   "execution_count": null,
   "metadata": {},
   "outputs": [],
   "source": [
    "def matrix_placement(row):\n",
    "    index = row.name\n",
    "    for c in row.hashtag:\n",
    "        try:\n",
    "            X[index, char2idx[c]] += 1\n",
    "        except:\n",
    "            X[index, char2idx[0]] += 1"
   ]
  },
  {
   "cell_type": "code",
   "execution_count": null,
   "metadata": {
    "scrolled": true
   },
   "outputs": [],
   "source": [
    "char2idx = dict([(char, idx) for idx, char in enumerate(text, 1)])\n",
    "idx2char = dict([(idx, char) for idx, char in enumerate(text, 1)])\n",
    "char2idx['UNK'] = 0\n",
    "idx2char[0] = 'UNK'\n",
    "\n",
    "X = np.zeros((d_hashtag.shape[0], len(char2idx)))\n",
    "\n",
    "d_hashtag.loc[:, :].apply(matrix_placement, axis = 1)"
   ]
  },
  {
   "cell_type": "code",
   "execution_count": null,
   "metadata": {},
   "outputs": [],
   "source": [
    "X_train, X_test, y_train, y_test = train_test_split(X, d_hashtag.label)"
   ]
  },
  {
   "cell_type": "markdown",
   "metadata": {},
   "source": [
    "### Naive Bayes"
   ]
  },
  {
   "cell_type": "code",
   "execution_count": 52,
   "metadata": {},
   "outputs": [],
   "source": [
    "def model_mnb(X_train, X_test, y_train, y_test):\n",
    "    model = BernoulliNB()\n",
    "    model.fit(X_train, y_train)\n",
    "    y_pred = model.predict(X_test)\n",
    "    print(classification_report(y_test, y_pred))"
   ]
  },
  {
   "cell_type": "markdown",
   "metadata": {},
   "source": [
    "### Support Vector Machine"
   ]
  },
  {
   "cell_type": "code",
   "execution_count": 53,
   "metadata": {},
   "outputs": [],
   "source": [
    "def model_svm(X_train, X_test, y_train, y_test):\n",
    "    model = SVC(gamma='scale')\n",
    "    model.fit(X_train, y_train)\n",
    "    y_pred = model.predict(X_test)\n",
    "    print(classification_report(y_test, y_pred))"
   ]
  },
  {
   "cell_type": "markdown",
   "metadata": {},
   "source": [
    "### Random Forest"
   ]
  },
  {
   "cell_type": "code",
   "execution_count": 54,
   "metadata": {},
   "outputs": [],
   "source": [
    "def model_rfc(X_train, X_test, y_train, y_test):\n",
    "    model = RandomForestClassifier(n_estimators=100)\n",
    "    model.fit(X_train, y_train)\n",
    "    y_pred = model.predict(X_test)\n",
    "    print(classification_report(y_test, y_pred))"
   ]
  },
  {
   "cell_type": "markdown",
   "metadata": {},
   "source": [
    "### AdaBoostClassifier"
   ]
  },
  {
   "cell_type": "code",
   "execution_count": 55,
   "metadata": {},
   "outputs": [],
   "source": [
    "def model_adaboost(X_train, X_test, y_train, y_test):\n",
    "    model = AdaBoostClassifier()\n",
    "    model.fit(X_train, y_train)\n",
    "    y_pred = model.predict(X_test)\n",
    "    print(classification_report(y_test, y_pred))"
   ]
  },
  {
   "cell_type": "markdown",
   "metadata": {},
   "source": [
    "### Gradient Boosting"
   ]
  },
  {
   "cell_type": "code",
   "execution_count": 56,
   "metadata": {},
   "outputs": [],
   "source": [
    "def model_gbc(X_train, X_test, y_train, y_test):\n",
    "    model = GradientBoostingClassifier()\n",
    "    model.fit(X_train, y_train)\n",
    "    y_pred = model.predict(X_test)\n",
    "    print(classification_report(y_test, y_pred))"
   ]
  },
  {
   "cell_type": "markdown",
   "metadata": {},
   "source": [
    "## Model Triple Character"
   ]
  },
  {
   "cell_type": "code",
   "execution_count": 13,
   "metadata": {},
   "outputs": [],
   "source": [
    "d_hashtag['hashtag_lower'] = d_hashtag.hashtag.str.lower()"
   ]
  },
  {
   "cell_type": "code",
   "execution_count": 14,
   "metadata": {},
   "outputs": [],
   "source": [
    "d_hashtag = d_hashtag[d_hashtag.hashtag_lower.str.len() > 3]"
   ]
  },
  {
   "cell_type": "code",
   "execution_count": 16,
   "metadata": {},
   "outputs": [],
   "source": [
    "d_hashtag.reset_index(drop=True, inplace=True)"
   ]
  },
  {
   "cell_type": "code",
   "execution_count": 17,
   "metadata": {},
   "outputs": [],
   "source": [
    "def trigram(x):\n",
    "    start = 0\n",
    "    end = 3\n",
    "    iterate = len(x) - 2\n",
    "    token = []\n",
    "    for _ in range(iterate):\n",
    "        token.append(x[start:end])\n",
    "        start += 1\n",
    "        end += 1\n",
    "        \n",
    "    return token"
   ]
  },
  {
   "cell_type": "code",
   "execution_count": 18,
   "metadata": {},
   "outputs": [],
   "source": [
    "d_hashtag.loc[:, 'trigram'] = d_hashtag.hashtag_lower.apply(trigram)"
   ]
  },
  {
   "cell_type": "code",
   "execution_count": 30,
   "metadata": {},
   "outputs": [],
   "source": [
    "tokens = list(list(chain(*d_hashtag.trigram.tolist())))"
   ]
  },
  {
   "cell_type": "code",
   "execution_count": 31,
   "metadata": {
    "scrolled": true
   },
   "outputs": [],
   "source": [
    "tri2idx = dict((char, idx) for idx, char in enumerate(token))\n",
    "idx2char = dict((idx, char) for idx, char in enumerate(token))"
   ]
  },
  {
   "cell_type": "code",
   "execution_count": 33,
   "metadata": {},
   "outputs": [],
   "source": [
    "X = np.zeros((d_hashtag.shape[0], len(token)))"
   ]
  },
  {
   "cell_type": "code",
   "execution_count": 39,
   "metadata": {},
   "outputs": [],
   "source": [
    "for idx in range(d_hashtag.shape[0]):\n",
    "    trigram_token = d_hashtag.loc[idx, \"trigram\"]\n",
    "    for token in trigram_token:\n",
    "        X[idx, tri2idx[token]] += 1"
   ]
  },
  {
   "cell_type": "code",
   "execution_count": 43,
   "metadata": {},
   "outputs": [],
   "source": [
    "X_train, X_test, y_train, y_test = train_test_split(X, d_hashtag.label)"
   ]
  },
  {
   "cell_type": "code",
   "execution_count": 46,
   "metadata": {},
   "outputs": [
    {
     "data": {
      "text/plain": [
       "((3653, 5563), (1218, 5563))"
      ]
     },
     "execution_count": 46,
     "metadata": {},
     "output_type": "execute_result"
    }
   ],
   "source": [
    "X_train.shape, X_test.shape"
   ]
  },
  {
   "cell_type": "code",
   "execution_count": 49,
   "metadata": {},
   "outputs": [
    {
     "data": {
      "text/plain": [
       "((array([0, 1]), array([2719,  934], dtype=int64)),\n",
       " (array([0, 1]), array([924, 294], dtype=int64)))"
      ]
     },
     "execution_count": 49,
     "metadata": {},
     "output_type": "execute_result"
    }
   ],
   "source": [
    "np.unique(y_train, return_counts=True), np.unique(y_test, return_counts=True)"
   ]
  },
  {
   "cell_type": "code",
   "execution_count": 57,
   "metadata": {},
   "outputs": [
    {
     "name": "stdout",
     "output_type": "stream",
     "text": [
      "              precision    recall  f1-score   support\n",
      "\n",
      "           0       0.88      0.94      0.91       924\n",
      "           1       0.75      0.62      0.68       294\n",
      "\n",
      "    accuracy                           0.86      1218\n",
      "   macro avg       0.82      0.78      0.79      1218\n",
      "weighted avg       0.85      0.86      0.85      1218\n",
      "\n"
     ]
    }
   ],
   "source": [
    "model_mnb(X_train, X_test, y_train, y_test)"
   ]
  },
  {
   "cell_type": "code",
   "execution_count": 59,
   "metadata": {},
   "outputs": [
    {
     "name": "stdout",
     "output_type": "stream",
     "text": [
      "              precision    recall  f1-score   support\n",
      "\n",
      "           0       0.88      0.95      0.91       924\n",
      "           1       0.77      0.58      0.66       294\n",
      "\n",
      "    accuracy                           0.86      1218\n",
      "   macro avg       0.82      0.76      0.79      1218\n",
      "weighted avg       0.85      0.86      0.85      1218\n",
      "\n"
     ]
    }
   ],
   "source": [
    "model_svm(X_train, X_test, y_train, y_test)"
   ]
  },
  {
   "cell_type": "code",
   "execution_count": 61,
   "metadata": {},
   "outputs": [
    {
     "name": "stdout",
     "output_type": "stream",
     "text": [
      "              precision    recall  f1-score   support\n",
      "\n",
      "           0       0.87      0.95      0.91       924\n",
      "           1       0.77      0.56      0.65       294\n",
      "\n",
      "    accuracy                           0.85      1218\n",
      "   macro avg       0.82      0.76      0.78      1218\n",
      "weighted avg       0.85      0.85      0.85      1218\n",
      "\n"
     ]
    }
   ],
   "source": [
    "model_rfc(X_train, X_test, y_train, y_test)"
   ]
  },
  {
   "cell_type": "code",
   "execution_count": 62,
   "metadata": {},
   "outputs": [
    {
     "name": "stdout",
     "output_type": "stream",
     "text": [
      "              precision    recall  f1-score   support\n",
      "\n",
      "           0       0.86      0.94      0.90       924\n",
      "           1       0.74      0.51      0.61       294\n",
      "\n",
      "    accuracy                           0.84      1218\n",
      "   macro avg       0.80      0.73      0.75      1218\n",
      "weighted avg       0.83      0.84      0.83      1218\n",
      "\n"
     ]
    }
   ],
   "source": [
    "model_adaboost(X_train, X_test, y_train, y_test)"
   ]
  },
  {
   "cell_type": "code",
   "execution_count": 63,
   "metadata": {},
   "outputs": [
    {
     "name": "stdout",
     "output_type": "stream",
     "text": [
      "              precision    recall  f1-score   support\n",
      "\n",
      "           0       0.85      0.97      0.91       924\n",
      "           1       0.82      0.47      0.60       294\n",
      "\n",
      "    accuracy                           0.85      1218\n",
      "   macro avg       0.84      0.72      0.75      1218\n",
      "weighted avg       0.84      0.85      0.83      1218\n",
      "\n"
     ]
    }
   ],
   "source": [
    "model_gbc(X_train, X_test, y_train, y_test)"
   ]
  },
  {
   "cell_type": "code",
   "execution_count": null,
   "metadata": {},
   "outputs": [],
   "source": []
  }
 ],
 "metadata": {
  "kernelspec": {
   "display_name": "Python 3",
   "language": "python",
   "name": "python3"
  },
  "language_info": {
   "codemirror_mode": {
    "name": "ipython",
    "version": 3
   },
   "file_extension": ".py",
   "mimetype": "text/x-python",
   "name": "python",
   "nbconvert_exporter": "python",
   "pygments_lexer": "ipython3",
   "version": "3.7.3"
  }
 },
 "nbformat": 4,
 "nbformat_minor": 4
}
