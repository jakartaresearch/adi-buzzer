{
 "cells": [
  {
   "cell_type": "code",
   "execution_count": null,
   "metadata": {},
   "outputs": [],
   "source": [
    "import os\n",
    "import re\n",
    "import glob\n",
    "import json\n",
    "import pickle\n",
    "\n",
    "from tqdm import tqdm\n",
    "import datetime as dt\n",
    "from datetime import datetime\n",
    "\n",
    "import pandas as pd\n",
    "import numpy as np\n",
    "import matplotlib.pyplot as plt\n",
    "import seaborn as sns"
   ]
  },
  {
   "cell_type": "code",
   "execution_count": null,
   "metadata": {},
   "outputs": [],
   "source": [
    "PROFILE_FILTERED_PATH = \"../data/supports/profile_filtered.pkl\"\n",
    "SCREEN_NAME_FILTERED = \"screen_name_filtered.json\""
   ]
  },
  {
   "cell_type": "code",
   "execution_count": null,
   "metadata": {},
   "outputs": [],
   "source": [
    "paths = glob.glob(\"../data/profile/*\")"
   ]
  },
  {
   "cell_type": "code",
   "execution_count": null,
   "metadata": {},
   "outputs": [],
   "source": [
    "data_list = []"
   ]
  },
  {
   "cell_type": "code",
   "execution_count": null,
   "metadata": {},
   "outputs": [],
   "source": [
    "data_error = []"
   ]
  },
  {
   "cell_type": "code",
   "execution_count": null,
   "metadata": {},
   "outputs": [],
   "source": [
    "for path in tqdm(paths):\n",
    "    try:\n",
    "        with open(path, 'r') as f:\n",
    "            data = json.load(f)\n",
    "\n",
    "        data_list.append(data)\n",
    "    except:\n",
    "        data_error.append(path)"
   ]
  },
  {
   "cell_type": "code",
   "execution_count": null,
   "metadata": {},
   "outputs": [],
   "source": [
    "len(data_list)"
   ]
  },
  {
   "cell_type": "markdown",
   "metadata": {},
   "source": [
    "## filtering"
   ]
  },
  {
   "cell_type": "code",
   "execution_count": null,
   "metadata": {},
   "outputs": [],
   "source": [
    "profile_list = [profile for profile in data_list if type(profile) == dict]"
   ]
  },
  {
   "cell_type": "code",
   "execution_count": null,
   "metadata": {},
   "outputs": [],
   "source": [
    "len(profile_list)"
   ]
  },
  {
   "cell_type": "code",
   "execution_count": null,
   "metadata": {},
   "outputs": [],
   "source": [
    "d_profile = pd.DataFrame(data = profile_list)"
   ]
  },
  {
   "cell_type": "code",
   "execution_count": null,
   "metadata": {},
   "outputs": [],
   "source": [
    "d_profile.shape"
   ]
  },
  {
   "cell_type": "code",
   "execution_count": null,
   "metadata": {},
   "outputs": [],
   "source": [
    "cols = ['screen_name', 'name', 'description', 'friends_count', 'followers_count', 'statuses_count', \n",
    "        'favourites_count', 'protected', 'lang', 'created_at', \n",
    "        'blocked_by', 'blocking', 'contributors_enabled', 'default_profile', 'default_profile_image', \n",
    "        'entities', 'follow_request_sent', 'following', 'geo_enabled', 'has_extended_profile',\n",
    "       'id', 'id_str', 'is_translation_enabled', 'is_translator',\n",
    "       'listed_count', 'live_following', 'location', 'muting',\n",
    "       'notifications', 'profile_background_color',\n",
    "       'profile_background_image_url', 'profile_background_image_url_https',\n",
    "       'profile_background_tile', 'profile_banner_url', 'profile_image_url',\n",
    "       'profile_image_url_https', 'profile_link_color', 'profile_location',\n",
    "       'profile_sidebar_border_color', 'profile_sidebar_fill_color',\n",
    "       'profile_text_color', 'profile_use_background_image', 'status', 'time_zone',\n",
    "       'translator_type', 'url', 'utc_offset', 'verified', 'withheld_in_countries']"
   ]
  },
  {
   "cell_type": "code",
   "execution_count": null,
   "metadata": {},
   "outputs": [],
   "source": [
    "d_profile = d_profile[cols]"
   ]
  },
  {
   "cell_type": "code",
   "execution_count": null,
   "metadata": {},
   "outputs": [],
   "source": [
    "month_dict = {\"Jan\": \"01\", \"Feb\": \"02\", \"Mar\": \"03\", \"Apr\": \"04\", \"May\": \"05\", \"Jun\": \"06\"\n",
    "             , \"Jul\": \"07\", \"Aug\": \"08\", \"Sep\": \"09\", \"Oct\": \"10\", \"Nov\": \"11\", \"Dec\": \"12\"}"
   ]
  },
  {
   "cell_type": "code",
   "execution_count": null,
   "metadata": {},
   "outputs": [],
   "source": [
    "def parse_created(date):\n",
    "    date = re.sub(\" \\+[0-9]{0,4}\", \"\", date)\n",
    "    date = re.sub(\"^[a-zA-Z]{3} \", \"\", date)\n",
    "    date = re.sub(\"[0-9]{2}:[0-9]{2}:[0-9]{2}\", \"\", date)\n",
    "    \n",
    "    tgl = re.search(\"[0-9]{2}\", date).group()\n",
    "    bln = re.search(\"[A-Za-z]{3}\", date).group()\n",
    "    bln = month_dict[bln]\n",
    "    thn = re.search(\"[0-9]{4}\", date).group()\n",
    "    date = tgl + \"-\" + bln + \"-\" + thn\n",
    "    \n",
    "    date = datetime.strptime(date, \"%d-%m-%Y\")\n",
    "    \n",
    "    return date"
   ]
  },
  {
   "cell_type": "code",
   "execution_count": null,
   "metadata": {},
   "outputs": [],
   "source": [
    "date_gathered = datetime.strptime(\"13-06-2020\", \"%d-%m-%Y\")"
   ]
  },
  {
   "cell_type": "code",
   "execution_count": null,
   "metadata": {},
   "outputs": [],
   "source": [
    "d_profile[\"created_at_format\"] = d_profile.created_at.apply(parse_created)\n",
    "\n",
    "d_profile[\"days_duration\"] = d_profile.created_at_format.apply(lambda x: (date_gathered - x).days)"
   ]
  },
  {
   "cell_type": "code",
   "execution_count": null,
   "metadata": {},
   "outputs": [],
   "source": [
    "fig = sns.distplot(d_profile.days_duration.values)"
   ]
  },
  {
   "cell_type": "code",
   "execution_count": null,
   "metadata": {},
   "outputs": [],
   "source": [
    "# fig.figure.savefig(\"days_duration.png\")"
   ]
  },
  {
   "cell_type": "code",
   "execution_count": null,
   "metadata": {},
   "outputs": [],
   "source": [
    "d_profile[\"activity_count\"] = d_profile.statuses_count + d_profile.favourites_count"
   ]
  },
  {
   "cell_type": "code",
   "execution_count": null,
   "metadata": {},
   "outputs": [],
   "source": [
    "d_profile[\"activity_perday\"] = d_profile.activity_count / d_profile.days_duration"
   ]
  },
  {
   "cell_type": "code",
   "execution_count": null,
   "metadata": {},
   "outputs": [],
   "source": [
    "d_profile[[\"activity_count\", \"activity_perday\", \"days_duration\"]].describe()"
   ]
  },
  {
   "cell_type": "markdown",
   "metadata": {},
   "source": [
    "## get hashtag tweets"
   ]
  },
  {
   "cell_type": "markdown",
   "metadata": {},
   "source": [
    "## cleansing"
   ]
  },
  {
   "cell_type": "markdown",
   "metadata": {},
   "source": [
    "based on absolute actvity"
   ]
  },
  {
   "cell_type": "code",
   "execution_count": null,
   "metadata": {},
   "outputs": [],
   "source": [
    "d_profile.drop(d_profile[d_profile[\"activity_count\"] < 10].index, inplace=True)"
   ]
  },
  {
   "cell_type": "markdown",
   "metadata": {},
   "source": [
    "based on activity and account age above 5 years"
   ]
  },
  {
   "cell_type": "code",
   "execution_count": null,
   "metadata": {
    "scrolled": true
   },
   "outputs": [],
   "source": [
    "d_profile.drop(d_profile[(d_profile[\"activity_count\"] < 2000) & \n",
    "          (d_profile[\"days_duration\"] > 365*5)].sort_values(by=\"activity_perday\").index, inplace=True)"
   ]
  },
  {
   "cell_type": "code",
   "execution_count": null,
   "metadata": {},
   "outputs": [],
   "source": [
    "d_profile.shape"
   ]
  },
  {
   "cell_type": "code",
   "execution_count": null,
   "metadata": {},
   "outputs": [],
   "source": [
    "d_profile[[\"activity_count\", \"activity_perday\", \"days_duration\"]].describe()"
   ]
  },
  {
   "cell_type": "code",
   "execution_count": null,
   "metadata": {},
   "outputs": [],
   "source": [
    "d_profile.shape"
   ]
  },
  {
   "cell_type": "code",
   "execution_count": null,
   "metadata": {},
   "outputs": [],
   "source": [
    "d_profile.drop(d_profile[(d_profile[\"friends_count\"] > 100) & \n",
    "          (d_profile[\"followers_count\"] > 100) & \n",
    "          (d_profile[\"days_duration\"] > 365*5) &\n",
    "          (d_profile[\"activity_perday\"] < 10)].sort_values(by=[\"activity_perday\"]).index, inplace=True)"
   ]
  },
  {
   "cell_type": "markdown",
   "metadata": {},
   "source": [
    "Save to pickle"
   ]
  },
  {
   "cell_type": "code",
   "execution_count": null,
   "metadata": {},
   "outputs": [],
   "source": [
    "if False:\n",
    "    pickle.dump(d_profile, open(PROFILE_FILTERED_PATH, 'wb'))"
   ]
  },
  {
   "cell_type": "markdown",
   "metadata": {},
   "source": [
    "Save screen_name to json"
   ]
  },
  {
   "cell_type": "code",
   "execution_count": null,
   "metadata": {},
   "outputs": [],
   "source": [
    "if False:\n",
    "    with open(SCREEN_NAME_FILTERED, 'w') as f:\n",
    "        f.write(json.dumps({\"screen_name\": d_profile.screen_name.to_list()}))"
   ]
  }
 ],
 "metadata": {
  "kernelspec": {
   "display_name": "Python 3",
   "language": "python",
   "name": "python3"
  },
  "language_info": {
   "codemirror_mode": {
    "name": "ipython",
    "version": 3
   },
   "file_extension": ".py",
   "mimetype": "text/x-python",
   "name": "python",
   "nbconvert_exporter": "python",
   "pygments_lexer": "ipython3",
   "version": "3.7.3"
  }
 },
 "nbformat": 4,
 "nbformat_minor": 4
}
