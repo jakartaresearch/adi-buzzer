{
 "cells": [
  {
   "cell_type": "markdown",
   "metadata": {},
   "source": [
    "# Get Previous Trends in Twitter\n",
    "using getdaytrends.com"
   ]
  },
  {
   "cell_type": "code",
   "execution_count": null,
   "metadata": {},
   "outputs": [],
   "source": [
    "import re\n",
    "import pandas as pd\n",
    "import urllib3\n",
    "import certifi\n",
    "import datetime\n",
    "from bs4 import BeautifulSoup"
   ]
  },
  {
   "cell_type": "code",
   "execution_count": null,
   "metadata": {},
   "outputs": [],
   "source": [
    "http = urllib3.PoolManager(cert_reqs='CERT_REQUIRED', ca_certs=certifi.where())"
   ]
  },
  {
   "cell_type": "code",
   "execution_count": null,
   "metadata": {},
   "outputs": [],
   "source": [
    "TRENDS_PATH = \"../data/trends/11-06-2020.csv\"\n",
    "HASHTAG_LABEL_PATH = \"../data/trends/hashtag_label.xlsx\""
   ]
  },
  {
   "cell_type": "code",
   "execution_count": null,
   "metadata": {},
   "outputs": [],
   "source": [
    "hours = range(0, 23)"
   ]
  },
  {
   "cell_type": "code",
   "execution_count": null,
   "metadata": {},
   "outputs": [],
   "source": [
    "def parse(response, date, hour):\n",
    "    trends = []\n",
    "    soup = BeautifulSoup(response.data, \"lxml\")\n",
    "\n",
    "    tr_list = soup.find_all(\"tr\")\n",
    "\n",
    "    for tr in tr_list:\n",
    "        try:\n",
    "            trend_name = tr.find(\"td\").find('a').text\n",
    "            desc = tr.find(\"td\").span.text\n",
    "            trends.append({\"name\": trend_name, \"description\": desc, \"date\": date, \"hour\": hour})\n",
    "        except:\n",
    "            pass\n",
    "    return trends"
   ]
  },
  {
   "cell_type": "code",
   "execution_count": null,
   "metadata": {
    "scrolled": true
   },
   "outputs": [],
   "source": [
    "trends = []\n",
    "for min_day in range(1, 30):\n",
    "    print(min_day)\n",
    "    for hour in hours:\n",
    "        today = datetime.datetime.today()\n",
    "        date = today - datetime.timedelta(min_day)\n",
    "        date = date.strftime(\"%Y-%m-%d\")\n",
    "        response = http.request('GET', url = \"https://getdaytrends.com/indonesia/{}/{}/\".format(date, hour))\n",
    "        trends.extend(parse(response, date, hour))"
   ]
  },
  {
   "cell_type": "code",
   "execution_count": null,
   "metadata": {},
   "outputs": [],
   "source": [
    "d_trends = pd.DataFrame(trends, columns=[\"name\", \"description\", \"date\", \"hour\"])"
   ]
  },
  {
   "cell_type": "code",
   "execution_count": null,
   "metadata": {},
   "outputs": [],
   "source": [
    "d_trends.shape"
   ]
  },
  {
   "cell_type": "code",
   "execution_count": null,
   "metadata": {},
   "outputs": [],
   "source": [
    "d_trends.head()"
   ]
  },
  {
   "cell_type": "code",
   "execution_count": null,
   "metadata": {},
   "outputs": [],
   "source": [
    "d_trends.to_csv(TRENDS_PATH, index=False)"
   ]
  },
  {
   "cell_type": "markdown",
   "metadata": {},
   "source": [
    "### create doc for label"
   ]
  },
  {
   "cell_type": "code",
   "execution_count": null,
   "metadata": {},
   "outputs": [],
   "source": [
    "list_trends = d_trends.name.value_counts().index"
   ]
  },
  {
   "cell_type": "code",
   "execution_count": null,
   "metadata": {},
   "outputs": [],
   "source": [
    "hashtag_trends = []\n",
    "for trend in list_trends:\n",
    "    try:\n",
    "        t = re.match(\"#.*\", trend).group()\n",
    "        hashtag_trends.append(t)\n",
    "    except:\n",
    "        pass"
   ]
  },
  {
   "cell_type": "code",
   "execution_count": null,
   "metadata": {},
   "outputs": [],
   "source": [
    "d_hashtag_only = pd.DataFrame(data = {\"trend\": hashtag_trends})"
   ]
  },
  {
   "cell_type": "code",
   "execution_count": null,
   "metadata": {},
   "outputs": [],
   "source": [
    "d_hashtag_only[\"category\"] = 0"
   ]
  },
  {
   "cell_type": "code",
   "execution_count": null,
   "metadata": {},
   "outputs": [],
   "source": [
    "d_hashtag_only.to_excel(HASHTAG_LABEL_PATH, index=False)"
   ]
  }
 ],
 "metadata": {
  "kernelspec": {
   "display_name": "Python 3",
   "language": "python",
   "name": "python3"
  },
  "language_info": {
   "codemirror_mode": {
    "name": "ipython",
    "version": 3
   },
   "file_extension": ".py",
   "mimetype": "text/x-python",
   "name": "python",
   "nbconvert_exporter": "python",
   "pygments_lexer": "ipython3",
   "version": "3.8.3"
  }
 },
 "nbformat": 4,
 "nbformat_minor": 4
}
