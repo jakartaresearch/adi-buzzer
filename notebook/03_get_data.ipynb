{
 "cells": [
  {
   "cell_type": "markdown",
   "metadata": {},
   "source": [
    "## Data gathering using multitoken\n",
    "\n",
    "- get following\n",
    "- get profile\n",
    "- get tweets by hashtag\n",
    "- get user timeline"
   ]
  },
  {
   "cell_type": "code",
   "execution_count": 1,
   "metadata": {},
   "outputs": [],
   "source": [
    "import os\n",
    "import glob\n",
    "import json\n",
    "import time\n",
    "import pickle\n",
    "\n",
    "import tweepy\n",
    "import pandas as pd\n",
    "import concurrent.futures\n",
    "from tqdm import tqdm, notebook\n",
    "\n",
    "from itertools import compress \n",
    "from datetime import datetime"
   ]
  },
  {
   "cell_type": "code",
   "execution_count": 2,
   "metadata": {},
   "outputs": [
    {
     "data": {
      "text/plain": [
       "8"
      ]
     },
     "execution_count": 2,
     "metadata": {},
     "output_type": "execute_result"
    }
   ],
   "source": [
    "os.cpu_count()"
   ]
  },
  {
   "cell_type": "code",
   "execution_count": 3,
   "metadata": {},
   "outputs": [],
   "source": [
    "data_dir_path = '../data'\n",
    "key_dir_path = '../keys'"
   ]
  },
  {
   "cell_type": "code",
   "execution_count": 4,
   "metadata": {},
   "outputs": [],
   "source": [
    "key_paths = glob.glob(os.path.join(key_dir_path, '*'))\n",
    "key_paths = [key.replace('\\\\', '/') for key in key_paths]"
   ]
  },
  {
   "cell_type": "code",
   "execution_count": 5,
   "metadata": {},
   "outputs": [],
   "source": [
    "daftar_buzzer = os.path.join(data_dir_path, 'supports', 'list_of_buzzer.csv')"
   ]
  },
  {
   "cell_type": "code",
   "execution_count": 6,
   "metadata": {},
   "outputs": [],
   "source": [
    "class Friends():\n",
    "    def __init__(self, keys_paths, username_path):\n",
    "        self.keys = self.read_key(keys_paths)\n",
    "        self.usernames = self.read_csv(username_path)\n",
    "        self.apis = self.auth_twitter()\n",
    "        self.api_statuses = [True] * len(self.apis)\n",
    "        self.setup()\n",
    "        \n",
    "    def setup(self):\n",
    "        paths = [\"../data/profile\", \"../data/following\"]\n",
    "        for path in paths:\n",
    "            if not os.path.exists(path):\n",
    "                os.makedirs(path)\n",
    "        \n",
    "    def read_key(self, key_paths):\n",
    "        return [pickle.load(open(path, 'rb')) for path in key_paths]\n",
    "    \n",
    "    def read_csv(self, path):\n",
    "        d_data = pd.read_csv(path)\n",
    "        return d_data\n",
    "    \n",
    "    def read_json(self, path):\n",
    "        with open(path, 'r', encoding=\"utf-8\") as file:\n",
    "            data_dict = json.load(file)\n",
    "        \n",
    "        return data_dict\n",
    "    \n",
    "    def auth_twitter(self):\n",
    "        api_list = []\n",
    "        for key in self.keys:\n",
    "            auth = tweepy.OAuthHandler(key[\"api_key\"], key[\"api_secret_key\"])\n",
    "            auth.set_access_token(key[\"access_token\"], key[\"access_token_secret\"])\n",
    "            api = tweepy.API(auth)\n",
    "            \n",
    "            api_list.append(api)\n",
    "            \n",
    "        return api_list\n",
    "    \n",
    "    def get_free_token(self):\n",
    "        idx_tokens = list(compress(range(len(self.api_statuses)), self.api_statuses))\n",
    "        \n",
    "        if len(idx_tokens) > 0:\n",
    "            index = idx_tokens[0]\n",
    "            return self.apis[index], index\n",
    "        else:\n",
    "            return None, None\n",
    "\n",
    "    def output(self, data, path_dir, filename):\n",
    "        \n",
    "        try:\n",
    "            with open(os.path.join(path_dir, filename + '.json'), 'w') as f:\n",
    "                f.write(json.dumps(data))\n",
    "        except:\n",
    "            try:\n",
    "                with open(os.path.join(path_dir, filename + '.json'), 'w') as f:\n",
    "                    f.write(data)\n",
    "            except:\n",
    "                pickle.dump(data, open(os.path.join(path_dir, filename + '.pkl'), 'wb'))\n",
    "        \n",
    "    def get_profile_user(self, username, api, index_token):\n",
    "        while True:\n",
    "            try:\n",
    "                profile = api.get_user(username)\n",
    "                profile = profile._json\n",
    "                self.api_statuses[index_token] = True\n",
    "                self.output(profile, '../data/profile', profile[\"screen_name\"])\n",
    "                break\n",
    "            except tweepy.RateLimitError:\n",
    "                print(\"\\tRateLimit\", datetime.today().strftime(\"\\t%H:%M:%S %d-%m-%Y\"))\n",
    "                time.sleep(15*60)\n",
    "            except tweepy.TweepError as e:\n",
    "                err_msg = e.response.text\n",
    "                self.api_statuses[index_token] = True\n",
    "                self.output(err_msg, '../data/profile', username.replace(\"@\", ''))\n",
    "                break\n",
    "                \n",
    "    def limit_handled(self, cursor):\n",
    "        while True:\n",
    "            try:\n",
    "                yield cursor.next()\n",
    "            except tweepy.RateLimitError:\n",
    "                print('\\tRateLimit', datetime.today().strftime(\"\\t%H:%M:%S %d-%m-%Y\"))\n",
    "                time.sleep(15 * 60)\n",
    "            except tweepy.TweepError as e:\n",
    "                msg = e\n",
    "                if \"Failed to send request\" in msg.reason:\n",
    "                    pass\n",
    "                elif '429' in msg.reason:\n",
    "                    print('\\tRateLimit', datetime.today().strftime(\"\\t%H:%M:%S %d-%m-%Y\"))\n",
    "                    time.sleep(15 * 60)\n",
    "                else:\n",
    "                    return\n",
    "            except StopIteration:\n",
    "                return\n",
    "    \n",
    "    def get_following(self, username, api, index_token):\n",
    "        user_follower_dict = {username: []}\n",
    "        \n",
    "        for follower in self.limit_handled(tweepy.Cursor(api.friends, id=username).items()):\n",
    "            user_follower_dict[username].append(follower.screen_name)\n",
    "            self.output(follower._json, '../data/profile', follower.screen_name)\n",
    "            \n",
    "        self.output(user_follower_dict, '../data/following', username)\n",
    "        \n",
    "        self.api_statuses[index_token] = True\n",
    "        \n",
    "        \n",
    "    def get_search_tweet(self, hashtag, api, index_token):\n",
    "        for tweet in self.limit_handled(tweepy.Cursor(api.search, q=hashtag).items(400)):\n",
    "            self.output(tweet._json, '../data/search_tweets', tweet.user.screen_name)\n",
    "                \n",
    "        self.api_statuses[index_token] = True\n",
    "        \n",
    "    def get_user_timeline(self, username, api, index_token):\n",
    "        all_tweets = []\n",
    "        for tweet in self.limit_handled(tweepy.Cursor(api.user_timeline, username).items(300)):\n",
    "            all_tweets.append(tweet._json)\n",
    "        \n",
    "        self.output(all_tweets, '../data/user_timeline_46K', username)\n",
    "            \n",
    "        self.api_statuses[index_token] = True"
   ]
  },
  {
   "cell_type": "code",
   "execution_count": 7,
   "metadata": {},
   "outputs": [],
   "source": [
    "friends = Friends(key_paths, daftar_buzzer)"
   ]
  },
  {
   "cell_type": "code",
   "execution_count": 10,
   "metadata": {},
   "outputs": [],
   "source": [
    "def calculate_time(start, end):\n",
    "    duration = end - start\n",
    "    m = int(duration / 60)\n",
    "    s = int(duration % 60)\n",
    "    \n",
    "    return m, s"
   ]
  },
  {
   "cell_type": "code",
   "execution_count": 11,
   "metadata": {},
   "outputs": [],
   "source": [
    "def get_profile_thread(usernames):\n",
    "    start = time.perf_counter()\n",
    "    with concurrent.futures.ThreadPoolExecutor(max_workers=10) as executor:\n",
    "        print(\"usernames\", usernames)\n",
    "        for username in usernames:\n",
    "            while True:\n",
    "                api, index_token = friends.get_free_token()\n",
    "                if index_token is not None:\n",
    "                    friends.api_statuses[index_token] = False\n",
    "                    try:    \n",
    "                        executor.submit(friends.get_profile_user, username, api, index_token)\n",
    "                        progress_bar_profile.update(1)\n",
    "                        break\n",
    "                    except:\n",
    "                        pass\n",
    "\n",
    "    end = time.perf_counter()\n",
    "    m, s = calculate_time(start,end)\n",
    "    print(\"Time:\", m, s)"
   ]
  },
  {
   "cell_type": "code",
   "execution_count": 12,
   "metadata": {},
   "outputs": [],
   "source": [
    "def get_following_thread(path_profiles):\n",
    "    start = time.perf_counter()\n",
    "    with concurrent.futures.ThreadPoolExecutor() as executor:\n",
    "        for index, path in enumerate(path_profiles):\n",
    "            user_profile = friends.read_json(path)\n",
    "            if \"screen_name\" in user_profile:\n",
    "                username = user_profile[\"screen_name\"]\n",
    "                if (user_profile[\"friends_count\"] > 900) or (user_profile[\"friends_count\"] == 0):\n",
    "                    msg = {\"status\": \"friends_count is above threshold\", \"friends_count\": user_profile[\"friends_count\"]}\n",
    "                    friends.output(msg, \"../data/following\", username)\n",
    "                else:\n",
    "                    while True:\n",
    "                        api, index_token = friends.get_free_token()\n",
    "                        if index_token is not None:\n",
    "                            friends.api_statuses[index_token] = False\n",
    "                            try:\n",
    "                                executor.submit(friends.get_following, username, api, index_token)\n",
    "                                progress_bar.update(1)\n",
    "                                break\n",
    "                            except:\n",
    "                                pass\n",
    "            else:\n",
    "                friends.output(user_profile, \"../data/following\", path.split(\"/\")[-1].replace(\".json\", \"\"))\n",
    "\n",
    "    end = time.perf_counter()\n",
    "    m, s = calculate_time(start, end)\n",
    "    print(\"Time:\", m, s)"
   ]
  },
  {
   "cell_type": "code",
   "execution_count": 13,
   "metadata": {},
   "outputs": [],
   "source": [
    "def get_hashtag_tweets(hashtages):\n",
    "    start = time.perf_counter()\n",
    "    with concurrent.futures.ThreadPoolExecutor(max_workers=10) as executor:\n",
    "        for index, hashtag in enumerate(hashtages):\n",
    "            while True:\n",
    "                api, index_token = friends.get_free_token()\n",
    "                if index_token is not None:\n",
    "                    print(index, \"/\", len(hashtages), \"getting\", hashtag, \"data...\")\n",
    "                    friends.api_statuses[index_token] = False\n",
    "                    try:    \n",
    "                        executor.submit(friends.get_search_tweet, hashtag, api, index_token)\n",
    "                        break\n",
    "                    except:\n",
    "                        pass\n",
    "\n",
    "    end = time.perf_counter()\n",
    "    m, s = calculate_time(start,end)\n",
    "    print(\"Time:\", m, s)"
   ]
  },
  {
   "cell_type": "code",
   "execution_count": 21,
   "metadata": {},
   "outputs": [],
   "source": [
    "def get_user_first_tweet(usernames):\n",
    "    \n",
    "    progress_bar = notebook.tqdm(total=len(usernames))\n",
    "    \n",
    "    start = time.perf_counter()\n",
    "    with concurrent.futures.ThreadPoolExecutor(max_workers=10) as executor:\n",
    "        print(usernames)\n",
    "        for username in usernames:\n",
    "            print(username)\n",
    "            while True:\n",
    "                api, index_token = friends.get_free_token()\n",
    "                if index_token is not None:\n",
    "                    friends.api_statuses[index_token] = False\n",
    "                    executor.submit(friends.get_user_timeline, username, api, index_token)\n",
    "                    progress_bar.update(1)\n",
    "                    break\n",
    "    \n",
    "    end = time.perf_counter()\n",
    "    m, s = calculate_time(start,end)\n",
    "    print(\"Time:\", m, s)"
   ]
  },
  {
   "cell_type": "code",
   "execution_count": 15,
   "metadata": {},
   "outputs": [],
   "source": [
    "def get_usernames_have_not_following(profile):\n",
    "    \n",
    "    if profile is None:\n",
    "        profile = glob.glob(\"../data/profile/*\")\n",
    "        profile = [username.replace(\"\\\\\", \"/\") for username in profile]\n",
    "\n",
    "    following = glob.glob(\"../data/following/*\")\n",
    "    following = [username.replace(\"\\\\\", \"/\") for username in following]\n",
    "    \n",
    "    profile_username = dict((user.split('/')[-1].replace('.json', \"\"), user) for user in profile)\n",
    "    following_username = [user.split('/')[-1].replace(\".json\", \"\") for user in following]\n",
    "    \n",
    "    for username in following_username:\n",
    "        profile_username.pop(username, None)\n",
    "        \n",
    "    return list(profile_username.values())"
   ]
  },
  {
   "cell_type": "code",
   "execution_count": 16,
   "metadata": {},
   "outputs": [],
   "source": [
    "def have_not_following(path_usernames):\n",
    "    \n",
    "    path_usernames = get_usernames_have_not_following(path_usernames)\n",
    "    path_usernames = sorted(path_usernames)\n",
    "    path_usernames = [username for username in path_usernames if os.path.exists(username)]\n",
    "    \n",
    "    return path_usernames"
   ]
  },
  {
   "cell_type": "markdown",
   "metadata": {},
   "source": [
    "## Getting Started"
   ]
  },
  {
   "cell_type": "code",
   "execution_count": null,
   "metadata": {},
   "outputs": [],
   "source": [
    "usernames = friends.usernames.username.to_list()\n",
    "path_usernames = [\"../data/profile/\"+username.replace(\"@\", \"\")+\".json\" for username in usernames]"
   ]
  },
  {
   "cell_type": "markdown",
   "metadata": {},
   "source": [
    "### get profile"
   ]
  },
  {
   "cell_type": "code",
   "execution_count": null,
   "metadata": {},
   "outputs": [],
   "source": [
    "path_usernames = [screenname\n",
    "                  for screenname in screen_names \n",
    "                  if not os.path.exists('../data/profile/'+screenname+'.json')]"
   ]
  },
  {
   "cell_type": "code",
   "execution_count": null,
   "metadata": {},
   "outputs": [],
   "source": [
    "progress_bar_profile = notebook.tqdm(total = len(path_usernames))"
   ]
  },
  {
   "cell_type": "code",
   "execution_count": null,
   "metadata": {},
   "outputs": [],
   "source": [
    "get_profile_thread(path_usernames)"
   ]
  },
  {
   "cell_type": "markdown",
   "metadata": {},
   "source": [
    "### get following user"
   ]
  },
  {
   "cell_type": "code",
   "execution_count": null,
   "metadata": {},
   "outputs": [],
   "source": [
    "with open('../data/supports/screen_name_id.json', 'r') as f:\n",
    "    screen_names = json.load(f)"
   ]
  },
  {
   "cell_type": "code",
   "execution_count": null,
   "metadata": {},
   "outputs": [],
   "source": [
    "len(screen_names)"
   ]
  },
  {
   "cell_type": "code",
   "execution_count": null,
   "metadata": {},
   "outputs": [],
   "source": [
    "path_usernames = ['../data/profile/'+screenname+'.json' \n",
    "                  for screenname in screen_names \n",
    "                  if os.path.exists('../data/profile/'+screenname+'.json')]"
   ]
  },
  {
   "cell_type": "code",
   "execution_count": null,
   "metadata": {},
   "outputs": [],
   "source": [
    "path_usernames[:1]"
   ]
  },
  {
   "cell_type": "code",
   "execution_count": null,
   "metadata": {},
   "outputs": [],
   "source": [
    "path_usernames = have_not_following(path_usernames)"
   ]
  },
  {
   "cell_type": "code",
   "execution_count": null,
   "metadata": {},
   "outputs": [],
   "source": [
    "path_usernames = ['addiems', 'agussar', 'AksiKamisan', 'AksiLangsung', 'anandasukarlan', 'andre_rosiade', 'aniesbaswedan', 'Anyaselalubenar', 'AS86222548', 'badgaIdidi', 'BEAUTIFULYOONGO', 'braddamamad', 'CahyadiAnugrah', 'catwomanizer', 'epta25', 'FarraDemetria', 'ferizandra', 'GagakLu93445554', 'gitaputrid', 'Greschinov', 'hamdJr666', 'HAR4K', 'honcuk', 'ianhugen', 'Insideme11', 'ismailfahmi', 'jatamnas', 'justforfun9922', 'LaillyFadillah', 'Lini_ZQ', 'maderodog', 'MantapMana', 'Mantul_234', 'margianta', 'mas_piyuuu', 'mas__piyuuu', 'MawarSolitaire', 'menuju_harapan', 'mochamadarip', 'mohmahfudmd', 'muannas_alaidid', 'MuliaRamadhan10', 'Nadine_Oliv', 'NajwaShihab', 'narasitv', 'negativisme', 'Nelangsa_', 'OmahMunir', 'OposisiCerdas', 'org_hidup', 'P4tihGajahMada', 'Pattimura1817', 'PresidenWKWK', 'RamliRizal', 'ReiNaldo85', 'Roma13054710', 'Rustodead', 'rzrhmn', 'safirawwww', 'SanKohtaro', 'SerenityAthen', 'ShadowJoe2', 'sociotalker', 'Soliper_SP', 'SorotMata212', 'taecemver', 'TanYoana', 'TeddyGusnaidi', 'TretanMuslim', 'Uki23', 'VeronicaKoman', 'Yatie84991237']"
   ]
  },
  {
   "cell_type": "code",
   "execution_count": null,
   "metadata": {},
   "outputs": [],
   "source": [
    "path_usernames = [\"../data/profile/\"+username+\".json\" for username in path_usernames]"
   ]
  },
  {
   "cell_type": "code",
   "execution_count": null,
   "metadata": {},
   "outputs": [],
   "source": [
    "len(path_usernames)"
   ]
  },
  {
   "cell_type": "code",
   "execution_count": null,
   "metadata": {},
   "outputs": [],
   "source": [
    "progress_bar = notebook.tqdm(total = len(path_usernames))"
   ]
  },
  {
   "cell_type": "code",
   "execution_count": null,
   "metadata": {
    "scrolled": true
   },
   "outputs": [],
   "source": [
    "get_following_thread(path_usernames)"
   ]
  },
  {
   "cell_type": "markdown",
   "metadata": {},
   "source": [
    "### get hashtag tweets"
   ]
  },
  {
   "cell_type": "code",
   "execution_count": null,
   "metadata": {},
   "outputs": [],
   "source": [
    "hashtag_list = pd.read_excel(\"../data/trends/hashtag_label.xlsx\", sheet_name=0)\n",
    "hashtag_list = hashtag_list[hashtag_list[\"category\"].isin([1,2])]\n",
    "hashtag_list = hashtag_list.trend.to_list()"
   ]
  },
  {
   "cell_type": "code",
   "execution_count": null,
   "metadata": {},
   "outputs": [],
   "source": [
    "len(hashtag_list[50+27:])"
   ]
  },
  {
   "cell_type": "code",
   "execution_count": null,
   "metadata": {
    "scrolled": true
   },
   "outputs": [],
   "source": [
    "get_hashtag_tweets(hashtag_list[50+27:])"
   ]
  },
  {
   "cell_type": "markdown",
   "metadata": {},
   "source": [
    "### get first tweet of user"
   ]
  },
  {
   "cell_type": "code",
   "execution_count": null,
   "metadata": {},
   "outputs": [],
   "source": [
    "with open('screen_name_filtered.json', 'r') as f:\n",
    "    screennames = json.load(f)"
   ]
  },
  {
   "cell_type": "code",
   "execution_count": null,
   "metadata": {},
   "outputs": [],
   "source": [
    "screennames = screennames[\"screen_name\"]"
   ]
  },
  {
   "cell_type": "code",
   "execution_count": null,
   "metadata": {},
   "outputs": [],
   "source": [
    "screennames_exists = [username.replace('.json', '') for username in os.listdir('../data/user_timeline')]"
   ]
  },
  {
   "cell_type": "code",
   "execution_count": null,
   "metadata": {},
   "outputs": [],
   "source": [
    "screennames = list(set(screennames) - set(screennames_exists))"
   ]
  },
  {
   "cell_type": "code",
   "execution_count": null,
   "metadata": {},
   "outputs": [],
   "source": [
    "len(screennames)"
   ]
  },
  {
   "cell_type": "code",
   "execution_count": null,
   "metadata": {},
   "outputs": [],
   "source": [
    "progress_bar = notebook.tqdm_notebook(total=len(screennames))"
   ]
  },
  {
   "cell_type": "code",
   "execution_count": null,
   "metadata": {
    "scrolled": true
   },
   "outputs": [],
   "source": [
    "get_user_first_tweet(screennames)"
   ]
  },
  {
   "cell_type": "markdown",
   "metadata": {},
   "source": [
    "### get 300 tweets of user"
   ]
  },
  {
   "cell_type": "code",
   "execution_count": 22,
   "metadata": {},
   "outputs": [],
   "source": [
    "with open('../data/supports/46K_users.json', 'r') as f:\n",
    "    usernames = json.load(f)"
   ]
  },
  {
   "cell_type": "code",
   "execution_count": 23,
   "metadata": {},
   "outputs": [
    {
     "data": {
      "text/plain": [
       "<__main__.Friends at 0x239b70b63c8>"
      ]
     },
     "execution_count": 23,
     "metadata": {},
     "output_type": "execute_result"
    }
   ],
   "source": [
    "friends"
   ]
  },
  {
   "cell_type": "code",
   "execution_count": 24,
   "metadata": {},
   "outputs": [
    {
     "data": {
      "application/vnd.jupyter.widget-view+json": {
       "model_id": "39ce36703b854f3b8c8f1809e2df3db5",
       "version_major": 2,
       "version_minor": 0
      },
      "text/plain": [
       "HBox(children=(FloatProgress(value=0.0, max=1.0), HTML(value='')))"
      ]
     },
     "metadata": {},
     "output_type": "display_data"
    },
    {
     "name": "stdout",
     "output_type": "stream",
     "text": [
      "['kangkueh06']\n",
      "kangkueh06\n",
      "Time: 0 0\n"
     ]
    }
   ],
   "source": [
    "get_user_first_tweet(usernames[:)"
   ]
  },
  {
   "cell_type": "markdown",
   "metadata": {},
   "source": [
    "## debug"
   ]
  },
  {
   "cell_type": "markdown",
   "metadata": {},
   "source": [
    "Reading output files following"
   ]
  },
  {
   "cell_type": "code",
   "execution_count": null,
   "metadata": {},
   "outputs": [],
   "source": [
    "files = glob.glob('../data/profile/*')"
   ]
  },
  {
   "cell_type": "code",
   "execution_count": null,
   "metadata": {},
   "outputs": [],
   "source": [
    "for file in files:\n",
    "    data = pickle.load(open(file, 'rb'))\n",
    "    print(data)\n",
    "    print(\"\\n\")"
   ]
  },
  {
   "cell_type": "markdown",
   "metadata": {},
   "source": [
    "## review"
   ]
  },
  {
   "cell_type": "code",
   "execution_count": null,
   "metadata": {},
   "outputs": [],
   "source": [
    "following_paths = glob.glob('../data/following/*')"
   ]
  },
  {
   "cell_type": "code",
   "execution_count": null,
   "metadata": {},
   "outputs": [],
   "source": [
    "file_err = []\n",
    "for path in following_paths:\n",
    "    data = friends.read_json(path)\n",
    "    try:\n",
    "        for key, val in data.items():\n",
    "            if len(val) == 0:\n",
    "                file_err.append(path)\n",
    "    except:\n",
    "        pass"
   ]
  },
  {
   "cell_type": "markdown",
   "metadata": {},
   "source": [
    "## under 900"
   ]
  },
  {
   "cell_type": "code",
   "execution_count": null,
   "metadata": {},
   "outputs": [],
   "source": [
    "following_paths = glob.glob('../data/following/*')"
   ]
  },
  {
   "cell_type": "code",
   "execution_count": null,
   "metadata": {},
   "outputs": [],
   "source": [
    "following_username = [username.split(\"\\\\\")[-1].replace(\".json\", \"\") for username in following_paths]"
   ]
  },
  {
   "cell_type": "code",
   "execution_count": null,
   "metadata": {},
   "outputs": [],
   "source": [
    "profile_paths = glob.glob('../data/profile/*.json')"
   ]
  },
  {
   "cell_type": "code",
   "execution_count": null,
   "metadata": {},
   "outputs": [],
   "source": [
    "profile_paths = [path.replace(\"\\\\\", \"/\") for path in profile_paths]"
   ]
  },
  {
   "cell_type": "code",
   "execution_count": null,
   "metadata": {
    "scrolled": true
   },
   "outputs": [],
   "source": [
    "under_thresh = []\n",
    "for path in tqdm(profile_paths):\n",
    "    try:\n",
    "        data = friends.read_json(path)\n",
    "        if \"screen_name\" in data:\n",
    "            if data[\"screen_name\"] not in following_username:\n",
    "                if (data[\"friends_count\"] > 299) & (data[\"friends_count\"] < 901):\n",
    "                    under_thresh.append({\"path\": path, \"friends_count\": data[\"friends_count\"]})\n",
    "    except:\n",
    "        print(path)"
   ]
  },
  {
   "cell_type": "code",
   "execution_count": null,
   "metadata": {
    "scrolled": true
   },
   "outputs": [],
   "source": [
    "under_thresh = sorted(under_thresh, key = lambda x: x[\"friends_count\"])"
   ]
  },
  {
   "cell_type": "code",
   "execution_count": null,
   "metadata": {},
   "outputs": [],
   "source": [
    "len(under_thresh)"
   ]
  },
  {
   "cell_type": "code",
   "execution_count": null,
   "metadata": {},
   "outputs": [],
   "source": [
    "path_usernames = [path[\"path\"].replace('\\\\', '/') for path in under_thresh]"
   ]
  },
  {
   "cell_type": "code",
   "execution_count": null,
   "metadata": {},
   "outputs": [],
   "source": [
    "len(path_usernames)"
   ]
  }
 ],
 "metadata": {
  "kernelspec": {
   "display_name": "Python 3",
   "language": "python",
   "name": "python3"
  },
  "language_info": {
   "codemirror_mode": {
    "name": "ipython",
    "version": 3
   },
   "file_extension": ".py",
   "mimetype": "text/x-python",
   "name": "python",
   "nbconvert_exporter": "python",
   "pygments_lexer": "ipython3",
   "version": "3.7.3"
  }
 },
 "nbformat": 4,
 "nbformat_minor": 4
}
