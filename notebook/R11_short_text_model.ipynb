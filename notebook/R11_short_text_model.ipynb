{
 "cells": [
  {
   "cell_type": "code",
   "execution_count": 1,
   "metadata": {},
   "outputs": [
    {
     "name": "stderr",
     "output_type": "stream",
     "text": [
      "\n",
      "Bad key \"text.kerning_factor\" on line 4 in\n",
      "/home/ryx/miniconda3/lib/python3.8/site-packages/matplotlib/mpl-data/stylelib/_classic_test_patch.mplstyle.\n",
      "You probably need to get an updated matplotlibrc file from\n",
      "https://github.com/matplotlib/matplotlib/blob/v3.1.3/matplotlibrc.template\n",
      "or from the matplotlib source distribution\n",
      "/home/ryx/miniconda3/lib/python3.8/site-packages/tqdm/std.py:668: FutureWarning: The Panel class is removed from pandas. Accessing it from the top-level namespace will also be removed in the next version\n",
      "  from pandas import Panel\n"
     ]
    }
   ],
   "source": [
    "import pandas as pd\n",
    "import seaborn as sns\n",
    "import matplotlib.pyplot as plt\n",
    "import numpy as np\n",
    " \n",
    "from sklearn.ensemble import RandomForestClassifier\n",
    "from sklearn.model_selection import train_test_split, cross_val_score, RandomizedSearchCV\n",
    "from sklearn.metrics import classification_report, roc_auc_score, plot_roc_curve\n",
    "from imblearn.over_sampling import KMeansSMOTE\n",
    "\n",
    "from tqdm import tqdm\n",
    "tqdm.pandas(desc=\"my bar!\")"
   ]
  },
  {
   "cell_type": "code",
   "execution_count": 2,
   "metadata": {},
   "outputs": [],
   "source": [
    "dataset = pd.read_csv('../data/dataset/short_text_feat.csv')"
   ]
  },
  {
   "cell_type": "code",
   "execution_count": 3,
   "metadata": {},
   "outputs": [
    {
     "data": {
      "text/plain": [
       "0    10872\n",
       "1     1329\n",
       "Name: label, dtype: int64"
      ]
     },
     "execution_count": 3,
     "metadata": {},
     "output_type": "execute_result"
    }
   ],
   "source": [
    "dataset.label.value_counts()"
   ]
  },
  {
   "cell_type": "code",
   "execution_count": 4,
   "metadata": {},
   "outputs": [
    {
     "data": {
      "text/plain": [
       "<matplotlib.axes._subplots.AxesSubplot at 0x7f9a806f6af0>"
      ]
     },
     "execution_count": 4,
     "metadata": {},
     "output_type": "execute_result"
    },
    {
     "data": {
      "image/png": "[encoded data removed]",
      "text/plain": [
       "<Figure size 432x288 with 1 Axes>"
      ]
     },
     "metadata": {
      "needs_background": "light"
     },
     "output_type": "display_data"
    }
   ],
   "source": [
    "sns.countplot(x=\"label\", data=dataset, palette=\"Set3\")"
   ]
  },
  {
   "cell_type": "code",
   "execution_count": 5,
   "metadata": {},
   "outputs": [
    {
     "data": {
      "text/html": [
       "<div>\n",
       "<style scoped>\n",
       "    .dataframe tbody tr th:only-of-type {\n",
       "        vertical-align: middle;\n",
       "    }\n",
       "\n",
       "    .dataframe tbody tr th {\n",
       "        vertical-align: top;\n",
       "    }\n",
       "\n",
       "    .dataframe thead th {\n",
       "        text-align: right;\n",
       "    }\n",
       "</style>\n",
       "<table border=\"1\" class=\"dataframe\">\n",
       "  <thead>\n",
       "    <tr style=\"text-align: right;\">\n",
       "      <th></th>\n",
       "      <th>text</th>\n",
       "      <th>label</th>\n",
       "      <th>token</th>\n",
       "      <th>char_count</th>\n",
       "      <th>n_token</th>\n",
       "      <th>jaccard_sim</th>\n",
       "      <th>levenshtein_dist</th>\n",
       "    </tr>\n",
       "  </thead>\n",
       "  <tbody>\n",
       "    <tr>\n",
       "      <th>0</th>\n",
       "      <td>GantengPendekar</td>\n",
       "      <td>0</td>\n",
       "      <td>['Ganteng', 'Pendekar']</td>\n",
       "      <td>15</td>\n",
       "      <td>2</td>\n",
       "      <td>0.285714</td>\n",
       "      <td>2.0</td>\n",
       "    </tr>\n",
       "    <tr>\n",
       "      <th>1</th>\n",
       "      <td>wal_hasbi</td>\n",
       "      <td>0</td>\n",
       "      <td>['wal', 'hasbi']</td>\n",
       "      <td>9</td>\n",
       "      <td>2</td>\n",
       "      <td>0.200000</td>\n",
       "      <td>1.0</td>\n",
       "    </tr>\n",
       "    <tr>\n",
       "      <th>2</th>\n",
       "      <td>SMART_JABAR</td>\n",
       "      <td>0</td>\n",
       "      <td>['SMART', 'JABAR']</td>\n",
       "      <td>11</td>\n",
       "      <td>2</td>\n",
       "      <td>0.666667</td>\n",
       "      <td>4.0</td>\n",
       "    </tr>\n",
       "    <tr>\n",
       "      <th>3</th>\n",
       "      <td>DiniAriyani20</td>\n",
       "      <td>0</td>\n",
       "      <td>['Dini', 'Ariyani20']</td>\n",
       "      <td>13</td>\n",
       "      <td>2</td>\n",
       "      <td>0.500000</td>\n",
       "      <td>3.0</td>\n",
       "    </tr>\n",
       "    <tr>\n",
       "      <th>4</th>\n",
       "      <td>widepyp</td>\n",
       "      <td>0</td>\n",
       "      <td>['widepyp']</td>\n",
       "      <td>7</td>\n",
       "      <td>1</td>\n",
       "      <td>0.500000</td>\n",
       "      <td>4.0</td>\n",
       "    </tr>\n",
       "  </tbody>\n",
       "</table>\n",
       "</div>"
      ],
      "text/plain": [
       "              text  label                    token  char_count  n_token  \\\n",
       "0  GantengPendekar      0  ['Ganteng', 'Pendekar']          15        2   \n",
       "1        wal_hasbi      0         ['wal', 'hasbi']           9        2   \n",
       "2      SMART_JABAR      0       ['SMART', 'JABAR']          11        2   \n",
       "3    DiniAriyani20      0    ['Dini', 'Ariyani20']          13        2   \n",
       "4          widepyp      0              ['widepyp']           7        1   \n",
       "\n",
       "   jaccard_sim  levenshtein_dist  \n",
       "0     0.285714               2.0  \n",
       "1     0.200000               1.0  \n",
       "2     0.666667               4.0  \n",
       "3     0.500000               3.0  \n",
       "4     0.500000               4.0  "
      ]
     },
     "execution_count": 5,
     "metadata": {},
     "output_type": "execute_result"
    }
   ],
   "source": [
    "dataset.head()"
   ]
  },
  {
   "cell_type": "code",
   "execution_count": 6,
   "metadata": {},
   "outputs": [],
   "source": [
    "X = dataset[['jaccard_sim', 'levenshtein_dist', 'char_count']]\n",
    "y = dataset.label"
   ]
  },
  {
   "cell_type": "markdown",
   "metadata": {},
   "source": [
    "## Heatmap correlation"
   ]
  },
  {
   "cell_type": "code",
   "execution_count": 7,
   "metadata": {},
   "outputs": [
    {
     "data": {
      "text/plain": [
       "<matplotlib.axes._subplots.AxesSubplot at 0x7f9ad91ee970>"
      ]
     },
     "execution_count": 7,
     "metadata": {},
     "output_type": "execute_result"
    },
    {
     "data": {
      "image/png": "[encoded data removed]",
      "text/plain": [
       "<Figure size 432x288 with 2 Axes>"
      ]
     },
     "metadata": {
      "needs_background": "light"
     },
     "output_type": "display_data"
    }
   ],
   "source": [
    "sns.heatmap(dataset.corr(), vmin=-1, vmax=1, annot=True)"
   ]
  },
  {
   "cell_type": "code",
   "execution_count": 8,
   "metadata": {},
   "outputs": [],
   "source": [
    "X_train, X_test, y_train, y_test = train_test_split(X, y, test_size=0.2, random_state=42, stratify=y)"
   ]
  },
  {
   "cell_type": "code",
   "execution_count": 9,
   "metadata": {},
   "outputs": [],
   "source": [
    "sm = KMeansSMOTE(random_state=42, sampling_strategy='minority')\n",
    "X_train_res, y_train_res = sm.fit_resample(X_train, y_train)"
   ]
  },
  {
   "cell_type": "code",
   "execution_count": 10,
   "metadata": {},
   "outputs": [],
   "source": [
    "# Number of trees in random forest\n",
    "n_estimators = [int(x) for x in np.linspace(start = 200, stop = 2000, num = 10)]\n",
    "# Number of features to consider at every split\n",
    "max_features = ['auto', 'sqrt']\n",
    "# Maximum number of levels in tree\n",
    "max_depth = [int(x) for x in np.linspace(10, 110, num = 11)]\n",
    "max_depth.append(None)\n",
    "# Minimum number of samples required to split a node\n",
    "min_samples_split = [2, 5, 10]\n",
    "# Minimum number of samples required at each leaf node\n",
    "min_samples_leaf = [1, 2, 4]\n",
    "# Method of selecting samples for training each tree\n",
    "bootstrap = [True, False]\n",
    "\n",
    "# Create the random grid\n",
    "random_grid = {'n_estimators': n_estimators,\n",
    "               'max_features': max_features,\n",
    "               'max_depth': max_depth,\n",
    "               'min_samples_split': min_samples_split,\n",
    "               'min_samples_leaf': min_samples_leaf,\n",
    "               'bootstrap': bootstrap}"
   ]
  },
  {
   "cell_type": "code",
   "execution_count": 11,
   "metadata": {},
   "outputs": [],
   "source": [
    "def model(X_train, y_train, X_test, y_test, params):    \n",
    "    rf = RandomForestClassifier(random_state=42)\n",
    "    clf = RandomizedSearchCV(rf, params, random_state=42, n_jobs=2,\n",
    "                             scoring=['f1', 'precision'], refit='f1', verbose=1)\n",
    "    search = clf.fit(X_train, y_train)\n",
    "    print(search.best_params_)\n",
    "    \n",
    "    y_pred = clf.predict(X_test)\n",
    "    print(classification_report(y_test, y_pred))\n",
    "    print('ROC Score=', roc_auc_score(y_test, y_pred))\n",
    "    plot_roc_curve(clf, X_test, y_test)\n",
    "    plt.show()\n",
    "    \n",
    "    return search"
   ]
  },
  {
   "cell_type": "code",
   "execution_count": 12,
   "metadata": {},
   "outputs": [
    {
     "name": "stdout",
     "output_type": "stream",
     "text": [
      "Fitting 5 folds for each of 10 candidates, totalling 50 fits\n"
     ]
    },
    {
     "name": "stderr",
     "output_type": "stream",
     "text": [
      "[Parallel(n_jobs=2)]: Using backend LokyBackend with 2 concurrent workers.\n",
      "[Parallel(n_jobs=2)]: Done  46 tasks      | elapsed:  1.7min\n",
      "[Parallel(n_jobs=2)]: Done  50 out of  50 | elapsed:  2.0min finished\n"
     ]
    },
    {
     "name": "stdout",
     "output_type": "stream",
     "text": [
      "{'n_estimators': 200, 'min_samples_split': 5, 'min_samples_leaf': 2, 'max_features': 'sqrt', 'max_depth': 10, 'bootstrap': True}\n",
      "              precision    recall  f1-score   support\n",
      "\n",
      "           0       0.96      0.95      0.95      2175\n",
      "           1       0.62      0.67      0.65       266\n",
      "\n",
      "    accuracy                           0.92      2441\n",
      "   macro avg       0.79      0.81      0.80      2441\n",
      "weighted avg       0.92      0.92      0.92      2441\n",
      "\n",
      "ROC Score= 0.8099887650159883\n"
     ]
    },
    {
     "data": {
      "image/png": "[encoded data removed]",
      "text/plain": [
       "<Figure size 432x288 with 1 Axes>"
      ]
     },
     "metadata": {
      "needs_background": "light"
     },
     "output_type": "display_data"
    }
   ],
   "source": [
    "out = model(X_train_res, y_train_res, X_test, y_test, params=random_grid)"
   ]
  },
  {
   "cell_type": "code",
   "execution_count": 13,
   "metadata": {},
   "outputs": [
    {
     "data": {
      "text/html": [
       "<div>\n",
       "<style scoped>\n",
       "    .dataframe tbody tr th:only-of-type {\n",
       "        vertical-align: middle;\n",
       "    }\n",
       "\n",
       "    .dataframe tbody tr th {\n",
       "        vertical-align: top;\n",
       "    }\n",
       "\n",
       "    .dataframe thead th {\n",
       "        text-align: right;\n",
       "    }\n",
       "</style>\n",
       "<table border=\"1\" class=\"dataframe\">\n",
       "  <thead>\n",
       "    <tr style=\"text-align: right;\">\n",
       "      <th></th>\n",
       "      <th>mean_fit_time</th>\n",
       "      <th>std_fit_time</th>\n",
       "      <th>mean_score_time</th>\n",
       "      <th>std_score_time</th>\n",
       "      <th>param_n_estimators</th>\n",
       "      <th>param_min_samples_split</th>\n",
       "      <th>param_min_samples_leaf</th>\n",
       "      <th>param_max_features</th>\n",
       "      <th>param_max_depth</th>\n",
       "      <th>param_bootstrap</th>\n",
       "      <th>...</th>\n",
       "      <th>std_test_f1</th>\n",
       "      <th>rank_test_f1</th>\n",
       "      <th>split0_test_precision</th>\n",
       "      <th>split1_test_precision</th>\n",
       "      <th>split2_test_precision</th>\n",
       "      <th>split3_test_precision</th>\n",
       "      <th>split4_test_precision</th>\n",
       "      <th>mean_test_precision</th>\n",
       "      <th>std_test_precision</th>\n",
       "      <th>rank_test_precision</th>\n",
       "    </tr>\n",
       "  </thead>\n",
       "  <tbody>\n",
       "    <tr>\n",
       "      <th>0</th>\n",
       "      <td>0.801215</td>\n",
       "      <td>0.075388</td>\n",
       "      <td>0.079780</td>\n",
       "      <td>0.009834</td>\n",
       "      <td>200</td>\n",
       "      <td>10</td>\n",
       "      <td>2</td>\n",
       "      <td>sqrt</td>\n",
       "      <td>50</td>\n",
       "      <td>True</td>\n",
       "      <td>...</td>\n",
       "      <td>0.062035</td>\n",
       "      <td>3</td>\n",
       "      <td>0.970774</td>\n",
       "      <td>0.950273</td>\n",
       "      <td>0.948746</td>\n",
       "      <td>0.954446</td>\n",
       "      <td>0.956155</td>\n",
       "      <td>0.956079</td>\n",
       "      <td>0.007824</td>\n",
       "      <td>1</td>\n",
       "    </tr>\n",
       "    <tr>\n",
       "      <th>1</th>\n",
       "      <td>2.848596</td>\n",
       "      <td>0.315287</td>\n",
       "      <td>0.226740</td>\n",
       "      <td>0.026968</td>\n",
       "      <td>600</td>\n",
       "      <td>10</td>\n",
       "      <td>4</td>\n",
       "      <td>sqrt</td>\n",
       "      <td>90</td>\n",
       "      <td>False</td>\n",
       "      <td>...</td>\n",
       "      <td>0.062494</td>\n",
       "      <td>5</td>\n",
       "      <td>0.971451</td>\n",
       "      <td>0.948718</td>\n",
       "      <td>0.948746</td>\n",
       "      <td>0.954446</td>\n",
       "      <td>0.956180</td>\n",
       "      <td>0.955908</td>\n",
       "      <td>0.008328</td>\n",
       "      <td>2</td>\n",
       "    </tr>\n",
       "    <tr>\n",
       "      <th>2</th>\n",
       "      <td>2.920241</td>\n",
       "      <td>0.335591</td>\n",
       "      <td>0.233219</td>\n",
       "      <td>0.027304</td>\n",
       "      <td>600</td>\n",
       "      <td>2</td>\n",
       "      <td>2</td>\n",
       "      <td>auto</td>\n",
       "      <td>60</td>\n",
       "      <td>False</td>\n",
       "      <td>...</td>\n",
       "      <td>0.062586</td>\n",
       "      <td>6</td>\n",
       "      <td>0.969889</td>\n",
       "      <td>0.945109</td>\n",
       "      <td>0.946652</td>\n",
       "      <td>0.953399</td>\n",
       "      <td>0.952725</td>\n",
       "      <td>0.953555</td>\n",
       "      <td>0.008792</td>\n",
       "      <td>10</td>\n",
       "    </tr>\n",
       "    <tr>\n",
       "      <th>3</th>\n",
       "      <td>5.639357</td>\n",
       "      <td>0.532483</td>\n",
       "      <td>0.531112</td>\n",
       "      <td>0.050598</td>\n",
       "      <td>1400</td>\n",
       "      <td>5</td>\n",
       "      <td>1</td>\n",
       "      <td>sqrt</td>\n",
       "      <td>30</td>\n",
       "      <td>True</td>\n",
       "      <td>...</td>\n",
       "      <td>0.063964</td>\n",
       "      <td>7</td>\n",
       "      <td>0.973515</td>\n",
       "      <td>0.945623</td>\n",
       "      <td>0.949264</td>\n",
       "      <td>0.951340</td>\n",
       "      <td>0.954318</td>\n",
       "      <td>0.954812</td>\n",
       "      <td>0.009771</td>\n",
       "      <td>7</td>\n",
       "    </tr>\n",
       "    <tr>\n",
       "      <th>4</th>\n",
       "      <td>4.907923</td>\n",
       "      <td>0.538119</td>\n",
       "      <td>0.390652</td>\n",
       "      <td>0.046394</td>\n",
       "      <td>1000</td>\n",
       "      <td>10</td>\n",
       "      <td>1</td>\n",
       "      <td>auto</td>\n",
       "      <td>80</td>\n",
       "      <td>False</td>\n",
       "      <td>...</td>\n",
       "      <td>0.063989</td>\n",
       "      <td>10</td>\n",
       "      <td>0.972735</td>\n",
       "      <td>0.945623</td>\n",
       "      <td>0.952355</td>\n",
       "      <td>0.952877</td>\n",
       "      <td>0.950975</td>\n",
       "      <td>0.954913</td>\n",
       "      <td>0.009275</td>\n",
       "      <td>6</td>\n",
       "    </tr>\n",
       "    <tr>\n",
       "      <th>5</th>\n",
       "      <td>1.961843</td>\n",
       "      <td>0.217702</td>\n",
       "      <td>0.159443</td>\n",
       "      <td>0.017997</td>\n",
       "      <td>400</td>\n",
       "      <td>10</td>\n",
       "      <td>1</td>\n",
       "      <td>sqrt</td>\n",
       "      <td>60</td>\n",
       "      <td>False</td>\n",
       "      <td>...</td>\n",
       "      <td>0.064022</td>\n",
       "      <td>9</td>\n",
       "      <td>0.972735</td>\n",
       "      <td>0.946137</td>\n",
       "      <td>0.952851</td>\n",
       "      <td>0.953399</td>\n",
       "      <td>0.950948</td>\n",
       "      <td>0.955214</td>\n",
       "      <td>0.009126</td>\n",
       "      <td>5</td>\n",
       "    </tr>\n",
       "    <tr>\n",
       "      <th>6</th>\n",
       "      <td>9.735488</td>\n",
       "      <td>1.120947</td>\n",
       "      <td>0.762767</td>\n",
       "      <td>0.089085</td>\n",
       "      <td>2000</td>\n",
       "      <td>2</td>\n",
       "      <td>2</td>\n",
       "      <td>auto</td>\n",
       "      <td>50</td>\n",
       "      <td>False</td>\n",
       "      <td>...</td>\n",
       "      <td>0.062438</td>\n",
       "      <td>8</td>\n",
       "      <td>0.969889</td>\n",
       "      <td>0.945623</td>\n",
       "      <td>0.946652</td>\n",
       "      <td>0.953399</td>\n",
       "      <td>0.952540</td>\n",
       "      <td>0.953621</td>\n",
       "      <td>0.008699</td>\n",
       "      <td>9</td>\n",
       "    </tr>\n",
       "    <tr>\n",
       "      <th>7</th>\n",
       "      <td>0.735650</td>\n",
       "      <td>0.053846</td>\n",
       "      <td>0.068123</td>\n",
       "      <td>0.005022</td>\n",
       "      <td>200</td>\n",
       "      <td>5</td>\n",
       "      <td>2</td>\n",
       "      <td>sqrt</td>\n",
       "      <td>10</td>\n",
       "      <td>True</td>\n",
       "      <td>...</td>\n",
       "      <td>0.060285</td>\n",
       "      <td>1</td>\n",
       "      <td>0.971003</td>\n",
       "      <td>0.947684</td>\n",
       "      <td>0.948746</td>\n",
       "      <td>0.954446</td>\n",
       "      <td>0.954571</td>\n",
       "      <td>0.955290</td>\n",
       "      <td>0.008352</td>\n",
       "      <td>4</td>\n",
       "    </tr>\n",
       "    <tr>\n",
       "      <th>8</th>\n",
       "      <td>4.654142</td>\n",
       "      <td>0.420971</td>\n",
       "      <td>0.435110</td>\n",
       "      <td>0.049473</td>\n",
       "      <td>1200</td>\n",
       "      <td>2</td>\n",
       "      <td>4</td>\n",
       "      <td>auto</td>\n",
       "      <td>100</td>\n",
       "      <td>True</td>\n",
       "      <td>...</td>\n",
       "      <td>0.061293</td>\n",
       "      <td>2</td>\n",
       "      <td>0.970126</td>\n",
       "      <td>0.951834</td>\n",
       "      <td>0.948746</td>\n",
       "      <td>0.952877</td>\n",
       "      <td>0.954036</td>\n",
       "      <td>0.955524</td>\n",
       "      <td>0.007510</td>\n",
       "      <td>3</td>\n",
       "    </tr>\n",
       "    <tr>\n",
       "      <th>9</th>\n",
       "      <td>7.936162</td>\n",
       "      <td>0.724713</td>\n",
       "      <td>0.736679</td>\n",
       "      <td>0.079734</td>\n",
       "      <td>2000</td>\n",
       "      <td>5</td>\n",
       "      <td>2</td>\n",
       "      <td>auto</td>\n",
       "      <td>50</td>\n",
       "      <td>True</td>\n",
       "      <td>...</td>\n",
       "      <td>0.061008</td>\n",
       "      <td>4</td>\n",
       "      <td>0.970889</td>\n",
       "      <td>0.945623</td>\n",
       "      <td>0.947197</td>\n",
       "      <td>0.953922</td>\n",
       "      <td>0.956278</td>\n",
       "      <td>0.954782</td>\n",
       "      <td>0.008987</td>\n",
       "      <td>8</td>\n",
       "    </tr>\n",
       "  </tbody>\n",
       "</table>\n",
       "<p>10 rows × 27 columns</p>\n",
       "</div>"
      ],
      "text/plain": [
       "   mean_fit_time  std_fit_time  mean_score_time  std_score_time  \\\n",
       "0       0.801215      0.075388         0.079780        0.009834   \n",
       "1       2.848596      0.315287         0.226740        0.026968   \n",
       "2       2.920241      0.335591         0.233219        0.027304   \n",
       "3       5.639357      0.532483         0.531112        0.050598   \n",
       "4       4.907923      0.538119         0.390652        0.046394   \n",
       "5       1.961843      0.217702         0.159443        0.017997   \n",
       "6       9.735488      1.120947         0.762767        0.089085   \n",
       "7       0.735650      0.053846         0.068123        0.005022   \n",
       "8       4.654142      0.420971         0.435110        0.049473   \n",
       "9       7.936162      0.724713         0.736679        0.079734   \n",
       "\n",
       "  param_n_estimators param_min_samples_split param_min_samples_leaf  \\\n",
       "0                200                      10                      2   \n",
       "1                600                      10                      4   \n",
       "2                600                       2                      2   \n",
       "3               1400                       5                      1   \n",
       "4               1000                      10                      1   \n",
       "5                400                      10                      1   \n",
       "6               2000                       2                      2   \n",
       "7                200                       5                      2   \n",
       "8               1200                       2                      4   \n",
       "9               2000                       5                      2   \n",
       "\n",
       "  param_max_features param_max_depth param_bootstrap  ... std_test_f1  \\\n",
       "0               sqrt              50            True  ...    0.062035   \n",
       "1               sqrt              90           False  ...    0.062494   \n",
       "2               auto              60           False  ...    0.062586   \n",
       "3               sqrt              30            True  ...    0.063964   \n",
       "4               auto              80           False  ...    0.063989   \n",
       "5               sqrt              60           False  ...    0.064022   \n",
       "6               auto              50           False  ...    0.062438   \n",
       "7               sqrt              10            True  ...    0.060285   \n",
       "8               auto             100            True  ...    0.061293   \n",
       "9               auto              50            True  ...    0.061008   \n",
       "\n",
       "   rank_test_f1  split0_test_precision  split1_test_precision  \\\n",
       "0             3               0.970774               0.950273   \n",
       "1             5               0.971451               0.948718   \n",
       "2             6               0.969889               0.945109   \n",
       "3             7               0.973515               0.945623   \n",
       "4            10               0.972735               0.945623   \n",
       "5             9               0.972735               0.946137   \n",
       "6             8               0.969889               0.945623   \n",
       "7             1               0.971003               0.947684   \n",
       "8             2               0.970126               0.951834   \n",
       "9             4               0.970889               0.945623   \n",
       "\n",
       "   split2_test_precision  split3_test_precision  split4_test_precision  \\\n",
       "0               0.948746               0.954446               0.956155   \n",
       "1               0.948746               0.954446               0.956180   \n",
       "2               0.946652               0.953399               0.952725   \n",
       "3               0.949264               0.951340               0.954318   \n",
       "4               0.952355               0.952877               0.950975   \n",
       "5               0.952851               0.953399               0.950948   \n",
       "6               0.946652               0.953399               0.952540   \n",
       "7               0.948746               0.954446               0.954571   \n",
       "8               0.948746               0.952877               0.954036   \n",
       "9               0.947197               0.953922               0.956278   \n",
       "\n",
       "   mean_test_precision  std_test_precision  rank_test_precision  \n",
       "0             0.956079            0.007824                    1  \n",
       "1             0.955908            0.008328                    2  \n",
       "2             0.953555            0.008792                   10  \n",
       "3             0.954812            0.009771                    7  \n",
       "4             0.954913            0.009275                    6  \n",
       "5             0.955214            0.009126                    5  \n",
       "6             0.953621            0.008699                    9  \n",
       "7             0.955290            0.008352                    4  \n",
       "8             0.955524            0.007510                    3  \n",
       "9             0.954782            0.008987                    8  \n",
       "\n",
       "[10 rows x 27 columns]"
      ]
     },
     "execution_count": 13,
     "metadata": {},
     "output_type": "execute_result"
    }
   ],
   "source": [
    "pd.DataFrame(out.cv_results_)"
   ]
  },
  {
   "cell_type": "code",
   "execution_count": 14,
   "metadata": {},
   "outputs": [
    {
     "data": {
      "text/plain": [
       "RandomForestClassifier(max_depth=10, max_features='sqrt', min_samples_leaf=2,\n",
       "                       min_samples_split=5, n_estimators=200, random_state=42)"
      ]
     },
     "execution_count": 14,
     "metadata": {},
     "output_type": "execute_result"
    }
   ],
   "source": [
    "out.best_estimator_"
   ]
  },
  {
   "cell_type": "code",
   "execution_count": 15,
   "metadata": {},
   "outputs": [
    {
     "data": {
      "text/plain": [
       "['../model/social_political_clf.pkl']"
      ]
     },
     "execution_count": 15,
     "metadata": {},
     "output_type": "execute_result"
    }
   ],
   "source": [
    "import joblib\n",
    "joblib.dump(out.best_estimator_, '../model/social_political_clf.pkl')"
   ]
  },
  {
   "cell_type": "code",
   "execution_count": null,
   "metadata": {},
   "outputs": [],
   "source": []
  }
 ],
 "metadata": {
  "kernelspec": {
   "display_name": "Python 3",
   "language": "python",
   "name": "python3"
  },
  "language_info": {
   "codemirror_mode": {
    "name": "ipython",
    "version": 3
   },
   "file_extension": ".py",
   "mimetype": "text/x-python",
   "name": "python",
   "nbconvert_exporter": "python",
   "pygments_lexer": "ipython3",
   "version": "3.8.3"
  }
 },
 "nbformat": 4,
 "nbformat_minor": 4
}
