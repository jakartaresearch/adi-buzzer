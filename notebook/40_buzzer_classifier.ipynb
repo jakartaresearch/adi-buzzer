{
 "cells": [
  {
   "cell_type": "code",
   "execution_count": 1,
   "metadata": {},
   "outputs": [],
   "source": [
    "import os\n",
    "import re\n",
    "import json\n",
    "import glob\n",
    "import pickle\n",
    "import string\n",
    "import itertools\n",
    "import collections\n",
    "from tqdm import tqdm\n",
    "\n",
    "import pandas as pd\n",
    "import numpy as np\n",
    "import matplotlib.pyplot as plt\n",
    "import seaborn as sns\n",
    "\n",
    "from nltk import word_tokenize\n",
    "\n",
    "from sklearn.feature_extraction.text import TfidfVectorizer, TfidfTransformer\n",
    "from sklearn.model_selection import train_test_split, cross_val_score, StratifiedKFold\n",
    "from sklearn.naive_bayes import BernoulliNB\n",
    "from sklearn.svm import SVC\n",
    "from sklearn.ensemble import RandomForestClassifier, AdaBoostClassifier, GradientBoostingClassifier\n",
    "from sklearn.metrics import accuracy_score, precision_score, recall_score, f1_score\n",
    "\n",
    "%matplotlib inline"
   ]
  },
  {
   "cell_type": "code",
   "execution_count": 2,
   "metadata": {},
   "outputs": [],
   "source": [
    "tqdm.pandas()"
   ]
  },
  {
   "cell_type": "code",
   "execution_count": 3,
   "metadata": {},
   "outputs": [],
   "source": [
    "pd.set_option('display.max_rows', 10)"
   ]
  },
  {
   "cell_type": "code",
   "execution_count": 4,
   "metadata": {},
   "outputs": [],
   "source": [
    "# input path\n",
    "SUPPORT_PATH = \"../data/supports\""
   ]
  },
  {
   "cell_type": "code",
   "execution_count": 5,
   "metadata": {},
   "outputs": [],
   "source": [
    "def read_pickle(path):\n",
    "    with open(path, 'rb') as f:\n",
    "        return pickle.load(f)"
   ]
  },
  {
   "cell_type": "code",
   "execution_count": 6,
   "metadata": {},
   "outputs": [],
   "source": [
    "d_199 = read_pickle(os.path.join(SUPPORT_PATH, \"parsed_199.pkl\"))\n",
    "d_6725 = read_pickle(os.path.join(SUPPORT_PATH, \"parsed_7003.pkl\"))"
   ]
  },
  {
   "cell_type": "code",
   "execution_count": 7,
   "metadata": {},
   "outputs": [],
   "source": [
    "d_tweets = pd.concat([d_199, d_6725], axis = 0, sort=False)\n",
    "d_tweets.drop_duplicates(subset=\"id_tweet\", inplace=True)\n",
    "d_tweets.reset_index(drop=True, inplace=True)"
   ]
  },
  {
   "cell_type": "code",
   "execution_count": 8,
   "metadata": {},
   "outputs": [],
   "source": [
    "d_label = pd.read_csv(\"../data/account_labeled/label_updated.csv\")"
   ]
  },
  {
   "cell_type": "code",
   "execution_count": 9,
   "metadata": {},
   "outputs": [
    {
     "data": {
      "text/html": [
       "<div>\n",
       "<style scoped>\n",
       "    .dataframe tbody tr th:only-of-type {\n",
       "        vertical-align: middle;\n",
       "    }\n",
       "\n",
       "    .dataframe tbody tr th {\n",
       "        vertical-align: top;\n",
       "    }\n",
       "\n",
       "    .dataframe thead th {\n",
       "        text-align: right;\n",
       "    }\n",
       "</style>\n",
       "<table border=\"1\" class=\"dataframe\">\n",
       "  <thead>\n",
       "    <tr style=\"text-align: right;\">\n",
       "      <th></th>\n",
       "      <th>screen_name</th>\n",
       "      <th>label</th>\n",
       "    </tr>\n",
       "  </thead>\n",
       "  <tbody>\n",
       "    <tr>\n",
       "      <th>0</th>\n",
       "      <td>4SinCong</td>\n",
       "      <td>NaN</td>\n",
       "    </tr>\n",
       "    <tr>\n",
       "      <th>1</th>\n",
       "      <td>4rdipratama</td>\n",
       "      <td>NaN</td>\n",
       "    </tr>\n",
       "    <tr>\n",
       "      <th>2</th>\n",
       "      <td>ABackBone</td>\n",
       "      <td>NaN</td>\n",
       "    </tr>\n",
       "    <tr>\n",
       "      <th>3</th>\n",
       "      <td>ARUL77039666</td>\n",
       "      <td>NaN</td>\n",
       "    </tr>\n",
       "    <tr>\n",
       "      <th>4</th>\n",
       "      <td>ATAP03167829</td>\n",
       "      <td>NaN</td>\n",
       "    </tr>\n",
       "  </tbody>\n",
       "</table>\n",
       "</div>"
      ],
      "text/plain": [
       "    screen_name  label\n",
       "0      4SinCong    NaN\n",
       "1   4rdipratama    NaN\n",
       "2     ABackBone    NaN\n",
       "3  ARUL77039666    NaN\n",
       "4  ATAP03167829    NaN"
      ]
     },
     "execution_count": 9,
     "metadata": {},
     "output_type": "execute_result"
    }
   ],
   "source": [
    "d_label.head()"
   ]
  },
  {
   "cell_type": "code",
   "execution_count": 10,
   "metadata": {},
   "outputs": [
    {
     "data": {
      "text/plain": [
       "(41756, 2)"
      ]
     },
     "execution_count": 10,
     "metadata": {},
     "output_type": "execute_result"
    }
   ],
   "source": [
    "d_label.shape"
   ]
  },
  {
   "cell_type": "code",
   "execution_count": 11,
   "metadata": {},
   "outputs": [
    {
     "data": {
      "text/html": [
       "<div>\n",
       "<style scoped>\n",
       "    .dataframe tbody tr th:only-of-type {\n",
       "        vertical-align: middle;\n",
       "    }\n",
       "\n",
       "    .dataframe tbody tr th {\n",
       "        vertical-align: top;\n",
       "    }\n",
       "\n",
       "    .dataframe thead th {\n",
       "        text-align: right;\n",
       "    }\n",
       "</style>\n",
       "<table border=\"1\" class=\"dataframe\">\n",
       "  <thead>\n",
       "    <tr style=\"text-align: right;\">\n",
       "      <th></th>\n",
       "      <th>screen_name</th>\n",
       "      <th>id_tweet</th>\n",
       "      <th>full_text</th>\n",
       "      <th>hashtags</th>\n",
       "      <th>user_mentions</th>\n",
       "      <th>created_at</th>\n",
       "      <th>quote_is_quote_status</th>\n",
       "      <th>quote_screen_name</th>\n",
       "      <th>quote_id_tweet</th>\n",
       "      <th>quote_full_text</th>\n",
       "      <th>quote_hashtags</th>\n",
       "      <th>quote_user_mentions</th>\n",
       "      <th>quote_created_at</th>\n",
       "      <th>in_reply_to_status_id_str</th>\n",
       "      <th>in_reply_to_user_id_str</th>\n",
       "      <th>in_reply_to_screen_name</th>\n",
       "    </tr>\n",
       "  </thead>\n",
       "  <tbody>\n",
       "    <tr>\n",
       "      <th>0</th>\n",
       "      <td>212Ujee2</td>\n",
       "      <td>1272955449160040449</td>\n",
       "      <td>#HapusRUUHIPDariMukaBumi \\n#HapusRUUHIPDariMuk...</td>\n",
       "      <td>[{'text': 'HapusRUUHIPDariMukaBumi', 'indices'...</td>\n",
       "      <td>[]</td>\n",
       "      <td>Tue Jun 16 18:13:24 +0000 2020</td>\n",
       "      <td>True</td>\n",
       "      <td>Par3w4_Minang</td>\n",
       "      <td>1272901801516335112</td>\n",
       "      <td>Moncong putih ingin cuci tangan \\n\\nKata si Po...</td>\n",
       "      <td>[]</td>\n",
       "      <td>[]</td>\n",
       "      <td>Tue Jun 16 14:40:13 +0000 2020</td>\n",
       "      <td>NaN</td>\n",
       "      <td>NaN</td>\n",
       "      <td>NaN</td>\n",
       "    </tr>\n",
       "    <tr>\n",
       "      <th>1</th>\n",
       "      <td>212Ujee2</td>\n",
       "      <td>1272573148974571526</td>\n",
       "      <td>Sampah n benalu\\nPerusak demokrasi wajib kita ...</td>\n",
       "      <td>[{'text': 'BuzzeRpPublicEnemy', 'indices': [59...</td>\n",
       "      <td>[]</td>\n",
       "      <td>Mon Jun 15 16:54:16 +0000 2020</td>\n",
       "      <td>NaN</td>\n",
       "      <td>NaN</td>\n",
       "      <td>NaN</td>\n",
       "      <td>NaN</td>\n",
       "      <td>NaN</td>\n",
       "      <td>NaN</td>\n",
       "      <td>NaN</td>\n",
       "      <td>NaN</td>\n",
       "      <td>NaN</td>\n",
       "      <td>NaN</td>\n",
       "    </tr>\n",
       "    <tr>\n",
       "      <th>2</th>\n",
       "      <td>212Ujee2</td>\n",
       "      <td>1272242834725208064</td>\n",
       "      <td>Saatnya kita bersatu\\nWahai umat Islam\\n\\n#Sto...</td>\n",
       "      <td>[{'text': 'Stop_RUUHIP', 'indices': [39, 51]},...</td>\n",
       "      <td>[]</td>\n",
       "      <td>Sun Jun 14 19:01:43 +0000 2020</td>\n",
       "      <td>NaN</td>\n",
       "      <td>NaN</td>\n",
       "      <td>NaN</td>\n",
       "      <td>NaN</td>\n",
       "      <td>NaN</td>\n",
       "      <td>NaN</td>\n",
       "      <td>NaN</td>\n",
       "      <td>NaN</td>\n",
       "      <td>NaN</td>\n",
       "      <td>NaN</td>\n",
       "    </tr>\n",
       "    <tr>\n",
       "      <th>3</th>\n",
       "      <td>212Ujee2</td>\n",
       "      <td>1267860265694978049</td>\n",
       "      <td>Umat Islam\\nHrs diam \\nTerus sampai kapan?\\nKe...</td>\n",
       "      <td>[{'text': 'BalikinDanaHaji', 'indices': [104, ...</td>\n",
       "      <td>[]</td>\n",
       "      <td>Tue Jun 02 16:46:57 +0000 2020</td>\n",
       "      <td>NaN</td>\n",
       "      <td>NaN</td>\n",
       "      <td>NaN</td>\n",
       "      <td>NaN</td>\n",
       "      <td>NaN</td>\n",
       "      <td>NaN</td>\n",
       "      <td>NaN</td>\n",
       "      <td>NaN</td>\n",
       "      <td>NaN</td>\n",
       "      <td>NaN</td>\n",
       "    </tr>\n",
       "    <tr>\n",
       "      <th>4</th>\n",
       "      <td>212Ujee2</td>\n",
       "      <td>1266354000716107780</td>\n",
       "      <td>Hai Pemimpin !!!\\nApakah udh ga ada lagi \\nPro...</td>\n",
       "      <td>[{'text': 'DirutBokep', 'indices': [204, 215]}...</td>\n",
       "      <td>[{'screen_name': '__p3jalan____', 'name': 'p3j...</td>\n",
       "      <td>Fri May 29 13:01:36 +0000 2020</td>\n",
       "      <td>NaN</td>\n",
       "      <td>NaN</td>\n",
       "      <td>NaN</td>\n",
       "      <td>NaN</td>\n",
       "      <td>NaN</td>\n",
       "      <td>NaN</td>\n",
       "      <td>NaN</td>\n",
       "      <td>NaN</td>\n",
       "      <td>NaN</td>\n",
       "      <td>NaN</td>\n",
       "    </tr>\n",
       "  </tbody>\n",
       "</table>\n",
       "</div>"
      ],
      "text/plain": [
       "  screen_name             id_tweet  \\\n",
       "0    212Ujee2  1272955449160040449   \n",
       "1    212Ujee2  1272573148974571526   \n",
       "2    212Ujee2  1272242834725208064   \n",
       "3    212Ujee2  1267860265694978049   \n",
       "4    212Ujee2  1266354000716107780   \n",
       "\n",
       "                                           full_text  \\\n",
       "0  #HapusRUUHIPDariMukaBumi \\n#HapusRUUHIPDariMuk...   \n",
       "1  Sampah n benalu\\nPerusak demokrasi wajib kita ...   \n",
       "2  Saatnya kita bersatu\\nWahai umat Islam\\n\\n#Sto...   \n",
       "3  Umat Islam\\nHrs diam \\nTerus sampai kapan?\\nKe...   \n",
       "4  Hai Pemimpin !!!\\nApakah udh ga ada lagi \\nPro...   \n",
       "\n",
       "                                            hashtags  \\\n",
       "0  [{'text': 'HapusRUUHIPDariMukaBumi', 'indices'...   \n",
       "1  [{'text': 'BuzzeRpPublicEnemy', 'indices': [59...   \n",
       "2  [{'text': 'Stop_RUUHIP', 'indices': [39, 51]},...   \n",
       "3  [{'text': 'BalikinDanaHaji', 'indices': [104, ...   \n",
       "4  [{'text': 'DirutBokep', 'indices': [204, 215]}...   \n",
       "\n",
       "                                       user_mentions  \\\n",
       "0                                                 []   \n",
       "1                                                 []   \n",
       "2                                                 []   \n",
       "3                                                 []   \n",
       "4  [{'screen_name': '__p3jalan____', 'name': 'p3j...   \n",
       "\n",
       "                       created_at quote_is_quote_status quote_screen_name  \\\n",
       "0  Tue Jun 16 18:13:24 +0000 2020                  True     Par3w4_Minang   \n",
       "1  Mon Jun 15 16:54:16 +0000 2020                   NaN               NaN   \n",
       "2  Sun Jun 14 19:01:43 +0000 2020                   NaN               NaN   \n",
       "3  Tue Jun 02 16:46:57 +0000 2020                   NaN               NaN   \n",
       "4  Fri May 29 13:01:36 +0000 2020                   NaN               NaN   \n",
       "\n",
       "        quote_id_tweet                                    quote_full_text  \\\n",
       "0  1272901801516335112  Moncong putih ingin cuci tangan \\n\\nKata si Po...   \n",
       "1                  NaN                                                NaN   \n",
       "2                  NaN                                                NaN   \n",
       "3                  NaN                                                NaN   \n",
       "4                  NaN                                                NaN   \n",
       "\n",
       "  quote_hashtags quote_user_mentions                quote_created_at  \\\n",
       "0             []                  []  Tue Jun 16 14:40:13 +0000 2020   \n",
       "1            NaN                 NaN                             NaN   \n",
       "2            NaN                 NaN                             NaN   \n",
       "3            NaN                 NaN                             NaN   \n",
       "4            NaN                 NaN                             NaN   \n",
       "\n",
       "  in_reply_to_status_id_str in_reply_to_user_id_str in_reply_to_screen_name  \n",
       "0                       NaN                     NaN                     NaN  \n",
       "1                       NaN                     NaN                     NaN  \n",
       "2                       NaN                     NaN                     NaN  \n",
       "3                       NaN                     NaN                     NaN  \n",
       "4                       NaN                     NaN                     NaN  "
      ]
     },
     "execution_count": 11,
     "metadata": {},
     "output_type": "execute_result"
    }
   ],
   "source": [
    "d_tweets.head()"
   ]
  },
  {
   "cell_type": "code",
   "execution_count": 12,
   "metadata": {},
   "outputs": [
    {
     "data": {
      "text/plain": [
       "(1983967, 16)"
      ]
     },
     "execution_count": 12,
     "metadata": {},
     "output_type": "execute_result"
    }
   ],
   "source": [
    "d_tweets.shape"
   ]
  },
  {
   "cell_type": "code",
   "execution_count": 13,
   "metadata": {},
   "outputs": [],
   "source": [
    "d_label = d_label[~d_label.label.isna()]"
   ]
  },
  {
   "cell_type": "code",
   "execution_count": 14,
   "metadata": {},
   "outputs": [
    {
     "data": {
      "text/html": [
       "<div>\n",
       "<style scoped>\n",
       "    .dataframe tbody tr th:only-of-type {\n",
       "        vertical-align: middle;\n",
       "    }\n",
       "\n",
       "    .dataframe tbody tr th {\n",
       "        vertical-align: top;\n",
       "    }\n",
       "\n",
       "    .dataframe thead th {\n",
       "        text-align: right;\n",
       "    }\n",
       "</style>\n",
       "<table border=\"1\" class=\"dataframe\">\n",
       "  <thead>\n",
       "    <tr style=\"text-align: right;\">\n",
       "      <th></th>\n",
       "      <th>screen_name</th>\n",
       "      <th>label</th>\n",
       "    </tr>\n",
       "  </thead>\n",
       "  <tbody>\n",
       "    <tr>\n",
       "      <th>34900</th>\n",
       "      <td>007koteka</td>\n",
       "      <td>1.0</td>\n",
       "    </tr>\n",
       "    <tr>\n",
       "      <th>34901</th>\n",
       "      <td>02Trus</td>\n",
       "      <td>1.0</td>\n",
       "    </tr>\n",
       "    <tr>\n",
       "      <th>34902</th>\n",
       "      <td>02fc71ba00c2451</td>\n",
       "      <td>1.0</td>\n",
       "    </tr>\n",
       "    <tr>\n",
       "      <th>34903</th>\n",
       "      <td>0b4tk3lu4r94</td>\n",
       "      <td>0.0</td>\n",
       "    </tr>\n",
       "    <tr>\n",
       "      <th>34904</th>\n",
       "      <td>0m_Brewoks2</td>\n",
       "      <td>0.0</td>\n",
       "    </tr>\n",
       "  </tbody>\n",
       "</table>\n",
       "</div>"
      ],
      "text/plain": [
       "           screen_name  label\n",
       "34900        007koteka    1.0\n",
       "34901           02Trus    1.0\n",
       "34902  02fc71ba00c2451    1.0\n",
       "34903     0b4tk3lu4r94    0.0\n",
       "34904      0m_Brewoks2    0.0"
      ]
     },
     "execution_count": 14,
     "metadata": {},
     "output_type": "execute_result"
    }
   ],
   "source": [
    "d_label.head()"
   ]
  },
  {
   "cell_type": "code",
   "execution_count": 15,
   "metadata": {},
   "outputs": [
    {
     "data": {
      "text/plain": [
       "0.0    4978\n",
       "1.0    1878\n",
       "Name: label, dtype: int64"
      ]
     },
     "execution_count": 15,
     "metadata": {},
     "output_type": "execute_result"
    }
   ],
   "source": [
    "d_label.label.value_counts()"
   ]
  },
  {
   "cell_type": "code",
   "execution_count": 16,
   "metadata": {},
   "outputs": [
    {
     "data": {
      "text/plain": [
       "(6856,)"
      ]
     },
     "execution_count": 16,
     "metadata": {},
     "output_type": "execute_result"
    }
   ],
   "source": [
    "# 2797 accounts are labeled, the rest are excluded before parsing\n",
    "d_tweets[d_tweets.screen_name.isin(d_label.screen_name)].screen_name.unique().shape"
   ]
  },
  {
   "cell_type": "code",
   "execution_count": 17,
   "metadata": {},
   "outputs": [],
   "source": [
    "d_dataset = d_tweets.groupby('screen_name')['full_text'].apply(list)\n",
    "d_dataset = d_dataset.reset_index()\n",
    "\n",
    "# join dataset and label\n",
    "d_dataset = d_dataset.join(d_label.set_index('screen_name'), on='screen_name')"
   ]
  },
  {
   "cell_type": "code",
   "execution_count": 18,
   "metadata": {},
   "outputs": [],
   "source": [
    "def get_profile_key(screen_name, key):\n",
    "    profile_path = os.path.join(f\"../data/profile/{screen_name}.json\")\n",
    "    if os.path.exists(profile_path):\n",
    "        with open(profile_path) as f:\n",
    "            data = json.load(f)\n",
    "            if isinstance(data, dict):\n",
    "                return data.get(key, None)\n",
    "            else:\n",
    "                return None"
   ]
  },
  {
   "cell_type": "code",
   "execution_count": 19,
   "metadata": {},
   "outputs": [
    {
     "name": "stderr",
     "output_type": "stream",
     "text": [
      "100%|█████████████████████████████████████████████████████████████████████████████| 6856/6856 [00:11<00:00, 585.64it/s]\n"
     ]
    }
   ],
   "source": [
    "# get verified\n",
    "d_dataset[\"is_verified\"] = d_dataset.screen_name.progress_apply(get_profile_key, args=('verified', ))"
   ]
  },
  {
   "cell_type": "code",
   "execution_count": 20,
   "metadata": {},
   "outputs": [
    {
     "data": {
      "text/plain": [
       "False    2981\n",
       "True       95\n",
       "Name: is_verified, dtype: int64"
      ]
     },
     "execution_count": 20,
     "metadata": {},
     "output_type": "execute_result"
    }
   ],
   "source": [
    "d_dataset.is_verified.value_counts()"
   ]
  },
  {
   "cell_type": "code",
   "execution_count": 21,
   "metadata": {},
   "outputs": [
    {
     "name": "stderr",
     "output_type": "stream",
     "text": [
      "100%|███████████████████████████████████████████████████████████████████████████| 6856/6856 [00:00<00:00, 13059.79it/s]\n"
     ]
    }
   ],
   "source": [
    "# get description profile\n",
    "d_dataset[\"profile_description\"] = d_dataset.screen_name.progress_apply(get_profile_key, args=('description', ))"
   ]
  },
  {
   "cell_type": "code",
   "execution_count": 22,
   "metadata": {},
   "outputs": [],
   "source": [
    "def check_akun_resmi(description):\n",
    "    if description:\n",
    "        if re.search(\"akun .* resmi\", description.lower()):\n",
    "            return True\n",
    "        else:\n",
    "            return False\n",
    "    else:\n",
    "        return False"
   ]
  },
  {
   "cell_type": "code",
   "execution_count": 23,
   "metadata": {},
   "outputs": [],
   "source": [
    "d_dataset[\"is_akun_resmi\"] = d_dataset.profile_description.apply(check_akun_resmi)"
   ]
  },
  {
   "cell_type": "code",
   "execution_count": 24,
   "metadata": {},
   "outputs": [],
   "source": [
    "d_dataset.loc[:, 'num_tweets'] = d_dataset.full_text.apply(lambda x : len(x))"
   ]
  },
  {
   "cell_type": "code",
   "execution_count": 25,
   "metadata": {},
   "outputs": [
    {
     "data": {
      "text/plain": [
       "0.0    4978\n",
       "1.0    1878\n",
       "Name: label, dtype: int64"
      ]
     },
     "execution_count": 25,
     "metadata": {},
     "output_type": "execute_result"
    }
   ],
   "source": [
    "d_dataset.label.value_counts()"
   ]
  },
  {
   "cell_type": "code",
   "execution_count": 26,
   "metadata": {},
   "outputs": [],
   "source": [
    "d_dataset2 = d_dataset[d_dataset.num_tweets >= 20]"
   ]
  },
  {
   "cell_type": "code",
   "execution_count": 27,
   "metadata": {},
   "outputs": [
    {
     "data": {
      "text/plain": [
       "(6856, 7)"
      ]
     },
     "execution_count": 27,
     "metadata": {},
     "output_type": "execute_result"
    }
   ],
   "source": [
    "d_dataset.shape"
   ]
  },
  {
   "cell_type": "code",
   "execution_count": 28,
   "metadata": {},
   "outputs": [
    {
     "data": {
      "text/plain": [
       "(6720, 7)"
      ]
     },
     "execution_count": 28,
     "metadata": {},
     "output_type": "execute_result"
    }
   ],
   "source": [
    "d_dataset2.shape"
   ]
  },
  {
   "cell_type": "code",
   "execution_count": 29,
   "metadata": {},
   "outputs": [
    {
     "data": {
      "text/plain": [
       "0.0    4876\n",
       "1.0    1844\n",
       "Name: label, dtype: int64"
      ]
     },
     "execution_count": 29,
     "metadata": {},
     "output_type": "execute_result"
    }
   ],
   "source": [
    "d_dataset2.label.value_counts()"
   ]
  },
  {
   "cell_type": "code",
   "execution_count": 30,
   "metadata": {},
   "outputs": [
    {
     "name": "stderr",
     "output_type": "stream",
     "text": [
      "<ipython-input-30-cd17e9658115>:3: SettingWithCopyWarning: \n",
      "A value is trying to be set on a copy of a slice from a DataFrame.\n",
      "Try using .loc[row_indexer,col_indexer] = value instead\n",
      "\n",
      "See the caveats in the documentation: https://pandas.pydata.org/pandas-docs/stable/user_guide/indexing.html#returning-a-view-versus-a-copy\n",
      "  d_dataset2['text_used'] = d_dataset2.full_text.apply(lambda x: \" \".join(x[:n_tweets]))\n"
     ]
    }
   ],
   "source": [
    "# using n samples\n",
    "n_tweets = 30\n",
    "d_dataset2['text_used'] = d_dataset2.full_text.apply(lambda x: \" \".join(x[:n_tweets]))"
   ]
  },
  {
   "cell_type": "code",
   "execution_count": 31,
   "metadata": {},
   "outputs": [
    {
     "data": {
      "text/plain": [
       "(6720, 8)"
      ]
     },
     "execution_count": 31,
     "metadata": {},
     "output_type": "execute_result"
    }
   ],
   "source": [
    "d_dataset2.shape"
   ]
  },
  {
   "cell_type": "code",
   "execution_count": 32,
   "metadata": {},
   "outputs": [],
   "source": [
    "d_train = d_dataset2[d_dataset2.label.notna()]"
   ]
  },
  {
   "cell_type": "code",
   "execution_count": 33,
   "metadata": {},
   "outputs": [],
   "source": [
    "d_train.reset_index(drop=True, inplace=True)"
   ]
  },
  {
   "cell_type": "code",
   "execution_count": 34,
   "metadata": {},
   "outputs": [
    {
     "data": {
      "text/plain": [
       "(6720, 8)"
      ]
     },
     "execution_count": 34,
     "metadata": {},
     "output_type": "execute_result"
    }
   ],
   "source": [
    "d_train.shape"
   ]
  },
  {
   "cell_type": "code",
   "execution_count": 37,
   "metadata": {},
   "outputs": [],
   "source": [
    "def text_cleansing(title):\n",
    "    punctuation = '!\"#$%&\\'()*+,-./:;=?@[\\\\]^_`{|}~'\n",
    "    table = str.maketrans(punctuation, ' '*len(punctuation)) #map punctuation to space\n",
    "    \n",
    "    # parse hashtag\n",
    "    title = re.sub(r\"([a-z])([A-Z])\", r\"\\1 \\2\", title)\n",
    "    # lowercase\n",
    "    title = title.lower()\n",
    "    # convert hyperlinks to link\n",
    "#     title = re.sub('http(s):/\\/\\\\S+', '<LINK> ', title)\n",
    "    title = re.sub('http(s):/\\/\\\\S+', ' ', title)\n",
    "    # convert @username to username\n",
    "#     title = re.sub('@\\w+', '<USERNAME>', title)\n",
    "    title = re.sub('@\\w+', ' ', title)\n",
    "    # remove punctuation\n",
    "    title = title.translate(table)\n",
    "    # only take string started with alphanum\n",
    "    title = re.sub(\"[^(\\w|\\<\\>)]\", ' ', title)\n",
    "    # remove double whitespaces\n",
    "    title = re.sub('\\s+', ' ', title)\n",
    "    # remove double whitespaces\n",
    "    title = title.strip()\n",
    "    # tokenize text\n",
    "    tokens = word_tokenize(title)\n",
    "    # filter tokens more than 2 characters\n",
    "    tokens = list(filter(lambda x: len(x) > 2, tokens))\n",
    "    # filter tokens not numeric only\n",
    "    tokens = list(filter(lambda x: not x.isnumeric(), tokens))\n",
    "    # revert to string\n",
    "    title = \" \".join(tokens)\n",
    "    \n",
    "    return title"
   ]
  },
  {
   "cell_type": "code",
   "execution_count": 38,
   "metadata": {},
   "outputs": [],
   "source": [
    "d_train[\"preprocessed_text\"] = d_train.text_used.apply(text_cleansing)"
   ]
  },
  {
   "cell_type": "code",
   "execution_count": 39,
   "metadata": {},
   "outputs": [
    {
     "data": {
      "text/html": [
       "<div>\n",
       "<style scoped>\n",
       "    .dataframe tbody tr th:only-of-type {\n",
       "        vertical-align: middle;\n",
       "    }\n",
       "\n",
       "    .dataframe tbody tr th {\n",
       "        vertical-align: top;\n",
       "    }\n",
       "\n",
       "    .dataframe thead th {\n",
       "        text-align: right;\n",
       "    }\n",
       "</style>\n",
       "<table border=\"1\" class=\"dataframe\">\n",
       "  <thead>\n",
       "    <tr style=\"text-align: right;\">\n",
       "      <th></th>\n",
       "      <th>screen_name</th>\n",
       "      <th>full_text</th>\n",
       "      <th>label</th>\n",
       "      <th>is_verified</th>\n",
       "      <th>profile_description</th>\n",
       "      <th>is_akun_resmi</th>\n",
       "      <th>num_tweets</th>\n",
       "      <th>text_used</th>\n",
       "      <th>preprocessed_text</th>\n",
       "    </tr>\n",
       "  </thead>\n",
       "  <tbody>\n",
       "    <tr>\n",
       "      <th>0</th>\n",
       "      <td>007koteka</td>\n",
       "      <td>[#HariJadiTwitterSaya \\n28 Juni 2017 https://t...</td>\n",
       "      <td>1.0</td>\n",
       "      <td>False</td>\n",
       "      <td>- Jadilah Penyejuk Hati yang Gersang l    \\n  ...</td>\n",
       "      <td>False</td>\n",
       "      <td>300</td>\n",
       "      <td>#HariJadiTwitterSaya \\n28 Juni 2017 https://t....</td>\n",
       "      <td>hari jadi twitter saya juni penjilat yang berk...</td>\n",
       "    </tr>\n",
       "    <tr>\n",
       "      <th>1</th>\n",
       "      <td>02Trus</td>\n",
       "      <td>[RT @SaveMoslem1: *Asyeeekkk.... PDIP kena jeb...</td>\n",
       "      <td>1.0</td>\n",
       "      <td>None</td>\n",
       "      <td>None</td>\n",
       "      <td>False</td>\n",
       "      <td>300</td>\n",
       "      <td>RT @SaveMoslem1: *Asyeeekkk.... PDIP kena jeba...</td>\n",
       "      <td>moslem1 asyeeekkk pdip kena jebakan batman fra...</td>\n",
       "    </tr>\n",
       "    <tr>\n",
       "      <th>2</th>\n",
       "      <td>02fc71ba00c2451</td>\n",
       "      <td>[Salah ketik, salah hitung, salah input, salah...</td>\n",
       "      <td>1.0</td>\n",
       "      <td>False</td>\n",
       "      <td>benci dengan kemunafikan</td>\n",
       "      <td>False</td>\n",
       "      <td>300</td>\n",
       "      <td>Salah ketik, salah hitung, salah input, salah ...</td>\n",
       "      <td>salah ketik salah hitung salah input salah sia...</td>\n",
       "    </tr>\n",
       "    <tr>\n",
       "      <th>3</th>\n",
       "      <td>0b4tk3lu4r94</td>\n",
       "      <td>[Sebentar....bentar gue hrs inget2 nih berukny...</td>\n",
       "      <td>0.0</td>\n",
       "      <td>False</td>\n",
       "      <td>Bergerak dan berdoa teros ajah</td>\n",
       "      <td>False</td>\n",
       "      <td>300</td>\n",
       "      <td>Sebentar....bentar gue hrs inget2 nih beruknya...</td>\n",
       "      <td>sebentar bentar gue hrs inget2 nih beruknya sa...</td>\n",
       "    </tr>\n",
       "    <tr>\n",
       "      <th>4</th>\n",
       "      <td>0m_Brewoks2</td>\n",
       "      <td>[Bismillah. Bagi Yg minat kaos,topi #ManusiaMe...</td>\n",
       "      <td>0.0</td>\n",
       "      <td>None</td>\n",
       "      <td>None</td>\n",
       "      <td>False</td>\n",
       "      <td>300</td>\n",
       "      <td>Bismillah. Bagi Yg minat kaos,topi #ManusiaMer...</td>\n",
       "      <td>bismillah bagi minat kaos topi manusia merdeka...</td>\n",
       "    </tr>\n",
       "    <tr>\n",
       "      <th>...</th>\n",
       "      <td>...</td>\n",
       "      <td>...</td>\n",
       "      <td>...</td>\n",
       "      <td>...</td>\n",
       "      <td>...</td>\n",
       "      <td>...</td>\n",
       "      <td>...</td>\n",
       "      <td>...</td>\n",
       "      <td>...</td>\n",
       "    </tr>\n",
       "    <tr>\n",
       "      <th>6715</th>\n",
       "      <td>zulfikarzat31</td>\n",
       "      <td>[Baru saja mengirim foto https://t.co/xh415Eyj...</td>\n",
       "      <td>0.0</td>\n",
       "      <td>False</td>\n",
       "      <td>💗Di beranda, kita pernah lupa bahwa cinta bisa...</td>\n",
       "      <td>False</td>\n",
       "      <td>300</td>\n",
       "      <td>Baru saja mengirim foto https://t.co/xh415Eyj2...</td>\n",
       "      <td>baru saja mengirim foto ijin share qah sisa ha...</td>\n",
       "    </tr>\n",
       "    <tr>\n",
       "      <th>6716</th>\n",
       "      <td>zulhermansyah97</td>\n",
       "      <td>[👁 Siapa yang melawat profil anda? 👁\\n@ArifinN...</td>\n",
       "      <td>0.0</td>\n",
       "      <td>False</td>\n",
       "      <td>Lelah 🔜 Lillah</td>\n",
       "      <td>False</td>\n",
       "      <td>300</td>\n",
       "      <td>👁 Siapa yang melawat profil anda? 👁\\n@ArifinNa...</td>\n",
       "      <td>siapa yang melawat profil anda naftalia min so...</td>\n",
       "    </tr>\n",
       "    <tr>\n",
       "      <th>6717</th>\n",
       "      <td>zulkifli_abdul9</td>\n",
       "      <td>[Ini kenapa aku gak segampang itu ngambil kese...</td>\n",
       "      <td>0.0</td>\n",
       "      <td>False</td>\n",
       "      <td>Football manager addict, ava nya alim orang ny...</td>\n",
       "      <td>False</td>\n",
       "      <td>300</td>\n",
       "      <td>Ini kenapa aku gak segampang itu ngambil kesem...</td>\n",
       "      <td>ini kenapa aku gak segampang itu ngambil kesem...</td>\n",
       "    </tr>\n",
       "    <tr>\n",
       "      <th>6718</th>\n",
       "      <td>zulman1</td>\n",
       "      <td>[Hmm bisa di coba ini wkwkw https://t.co/qCGES...</td>\n",
       "      <td>0.0</td>\n",
       "      <td>False</td>\n",
       "      <td>Juru tulis kapal bajak laut yang sedang berlay...</td>\n",
       "      <td>False</td>\n",
       "      <td>300</td>\n",
       "      <td>Hmm bisa di coba ini wkwkw https://t.co/qCGESp...</td>\n",
       "      <td>hmm bisa coba ini wkwkw cgesp wyw garuda dadak...</td>\n",
       "    </tr>\n",
       "    <tr>\n",
       "      <th>6719</th>\n",
       "      <td>zulvitano</td>\n",
       "      <td>[aku orang yang suka nahan kentut dari magrib ...</td>\n",
       "      <td>0.0</td>\n",
       "      <td>False</td>\n",
       "      <td>apa yang kamu beri apa yang kamu dapatkan dike...</td>\n",
       "      <td>False</td>\n",
       "      <td>300</td>\n",
       "      <td>aku orang yang suka nahan kentut dari magrib s...</td>\n",
       "      <td>aku orang yang suka nahan kentut dari magrib s...</td>\n",
       "    </tr>\n",
       "  </tbody>\n",
       "</table>\n",
       "<p>6720 rows × 9 columns</p>\n",
       "</div>"
      ],
      "text/plain": [
       "          screen_name                                          full_text  \\\n",
       "0           007koteka  [#HariJadiTwitterSaya \\n28 Juni 2017 https://t...   \n",
       "1              02Trus  [RT @SaveMoslem1: *Asyeeekkk.... PDIP kena jeb...   \n",
       "2     02fc71ba00c2451  [Salah ketik, salah hitung, salah input, salah...   \n",
       "3        0b4tk3lu4r94  [Sebentar....bentar gue hrs inget2 nih berukny...   \n",
       "4         0m_Brewoks2  [Bismillah. Bagi Yg minat kaos,topi #ManusiaMe...   \n",
       "...               ...                                                ...   \n",
       "6715    zulfikarzat31  [Baru saja mengirim foto https://t.co/xh415Eyj...   \n",
       "6716  zulhermansyah97  [👁 Siapa yang melawat profil anda? 👁\\n@ArifinN...   \n",
       "6717  zulkifli_abdul9  [Ini kenapa aku gak segampang itu ngambil kese...   \n",
       "6718          zulman1  [Hmm bisa di coba ini wkwkw https://t.co/qCGES...   \n",
       "6719        zulvitano  [aku orang yang suka nahan kentut dari magrib ...   \n",
       "\n",
       "      label is_verified                                profile_description  \\\n",
       "0       1.0       False  - Jadilah Penyejuk Hati yang Gersang l    \\n  ...   \n",
       "1       1.0        None                                               None   \n",
       "2       1.0       False                           benci dengan kemunafikan   \n",
       "3       0.0       False                     Bergerak dan berdoa teros ajah   \n",
       "4       0.0        None                                               None   \n",
       "...     ...         ...                                                ...   \n",
       "6715    0.0       False  💗Di beranda, kita pernah lupa bahwa cinta bisa...   \n",
       "6716    0.0       False                                     Lelah 🔜 Lillah   \n",
       "6717    0.0       False  Football manager addict, ava nya alim orang ny...   \n",
       "6718    0.0       False  Juru tulis kapal bajak laut yang sedang berlay...   \n",
       "6719    0.0       False  apa yang kamu beri apa yang kamu dapatkan dike...   \n",
       "\n",
       "      is_akun_resmi  num_tweets  \\\n",
       "0             False         300   \n",
       "1             False         300   \n",
       "2             False         300   \n",
       "3             False         300   \n",
       "4             False         300   \n",
       "...             ...         ...   \n",
       "6715          False         300   \n",
       "6716          False         300   \n",
       "6717          False         300   \n",
       "6718          False         300   \n",
       "6719          False         300   \n",
       "\n",
       "                                              text_used  \\\n",
       "0     #HariJadiTwitterSaya \\n28 Juni 2017 https://t....   \n",
       "1     RT @SaveMoslem1: *Asyeeekkk.... PDIP kena jeba...   \n",
       "2     Salah ketik, salah hitung, salah input, salah ...   \n",
       "3     Sebentar....bentar gue hrs inget2 nih beruknya...   \n",
       "4     Bismillah. Bagi Yg minat kaos,topi #ManusiaMer...   \n",
       "...                                                 ...   \n",
       "6715  Baru saja mengirim foto https://t.co/xh415Eyj2...   \n",
       "6716  👁 Siapa yang melawat profil anda? 👁\\n@ArifinNa...   \n",
       "6717  Ini kenapa aku gak segampang itu ngambil kesem...   \n",
       "6718  Hmm bisa di coba ini wkwkw https://t.co/qCGESp...   \n",
       "6719  aku orang yang suka nahan kentut dari magrib s...   \n",
       "\n",
       "                                      preprocessed_text  \n",
       "0     hari jadi twitter saya juni penjilat yang berk...  \n",
       "1     moslem1 asyeeekkk pdip kena jebakan batman fra...  \n",
       "2     salah ketik salah hitung salah input salah sia...  \n",
       "3     sebentar bentar gue hrs inget2 nih beruknya sa...  \n",
       "4     bismillah bagi minat kaos topi manusia merdeka...  \n",
       "...                                                 ...  \n",
       "6715  baru saja mengirim foto ijin share qah sisa ha...  \n",
       "6716  siapa yang melawat profil anda naftalia min so...  \n",
       "6717  ini kenapa aku gak segampang itu ngambil kesem...  \n",
       "6718  hmm bisa coba ini wkwkw cgesp wyw garuda dadak...  \n",
       "6719  aku orang yang suka nahan kentut dari magrib s...  \n",
       "\n",
       "[6720 rows x 9 columns]"
      ]
     },
     "execution_count": 39,
     "metadata": {},
     "output_type": "execute_result"
    }
   ],
   "source": [
    "d_train"
   ]
  },
  {
   "cell_type": "code",
   "execution_count": 40,
   "metadata": {},
   "outputs": [],
   "source": [
    "d_train.label = d_train.label.astype(int)"
   ]
  },
  {
   "cell_type": "code",
   "execution_count": 41,
   "metadata": {},
   "outputs": [
    {
     "data": {
      "text/plain": [
       "0    4876\n",
       "1    1844\n",
       "Name: label, dtype: int64"
      ]
     },
     "execution_count": 41,
     "metadata": {},
     "output_type": "execute_result"
    }
   ],
   "source": [
    "d_train.label.value_counts()"
   ]
  },
  {
   "cell_type": "code",
   "execution_count": 42,
   "metadata": {},
   "outputs": [
    {
     "data": {
      "text/plain": [
       "<AxesSubplot:ylabel='label'>"
      ]
     },
     "execution_count": 42,
     "metadata": {},
     "output_type": "execute_result"
    },
    {
     "data": {
      "image/png": "[encoded data removed]",
      "text/plain": [
       "<Figure size 432x288 with 1 Axes>"
      ]
     },
     "metadata": {},
     "output_type": "display_data"
    }
   ],
   "source": [
    "d_train.label.value_counts().plot(kind='pie', autopct='%.2f')"
   ]
  },
  {
   "cell_type": "markdown",
   "metadata": {},
   "source": [
    "#### Creating Count Matrix"
   ]
  },
  {
   "cell_type": "code",
   "execution_count": 44,
   "metadata": {},
   "outputs": [
    {
     "data": {
      "text/html": [
       "<div>\n",
       "<style scoped>\n",
       "    .dataframe tbody tr th:only-of-type {\n",
       "        vertical-align: middle;\n",
       "    }\n",
       "\n",
       "    .dataframe tbody tr th {\n",
       "        vertical-align: top;\n",
       "    }\n",
       "\n",
       "    .dataframe thead th {\n",
       "        text-align: right;\n",
       "    }\n",
       "</style>\n",
       "<table border=\"1\" class=\"dataframe\">\n",
       "  <thead>\n",
       "    <tr style=\"text-align: right;\">\n",
       "      <th></th>\n",
       "      <th>screen_name</th>\n",
       "      <th>full_text</th>\n",
       "      <th>label</th>\n",
       "      <th>is_verified</th>\n",
       "      <th>profile_description</th>\n",
       "      <th>is_akun_resmi</th>\n",
       "      <th>num_tweets</th>\n",
       "      <th>text_used</th>\n",
       "      <th>preprocessed_text</th>\n",
       "    </tr>\n",
       "  </thead>\n",
       "  <tbody>\n",
       "    <tr>\n",
       "      <th>0</th>\n",
       "      <td>007koteka</td>\n",
       "      <td>[#HariJadiTwitterSaya \\n28 Juni 2017 https://t...</td>\n",
       "      <td>1</td>\n",
       "      <td>False</td>\n",
       "      <td>- Jadilah Penyejuk Hati yang Gersang l    \\n  ...</td>\n",
       "      <td>False</td>\n",
       "      <td>300</td>\n",
       "      <td>#HariJadiTwitterSaya \\n28 Juni 2017 https://t....</td>\n",
       "      <td>hari jadi twitter saya juni penjilat yang berk...</td>\n",
       "    </tr>\n",
       "    <tr>\n",
       "      <th>1</th>\n",
       "      <td>02Trus</td>\n",
       "      <td>[RT @SaveMoslem1: *Asyeeekkk.... PDIP kena jeb...</td>\n",
       "      <td>1</td>\n",
       "      <td>None</td>\n",
       "      <td>None</td>\n",
       "      <td>False</td>\n",
       "      <td>300</td>\n",
       "      <td>RT @SaveMoslem1: *Asyeeekkk.... PDIP kena jeba...</td>\n",
       "      <td>moslem1 asyeeekkk pdip kena jebakan batman fra...</td>\n",
       "    </tr>\n",
       "    <tr>\n",
       "      <th>2</th>\n",
       "      <td>02fc71ba00c2451</td>\n",
       "      <td>[Salah ketik, salah hitung, salah input, salah...</td>\n",
       "      <td>1</td>\n",
       "      <td>False</td>\n",
       "      <td>benci dengan kemunafikan</td>\n",
       "      <td>False</td>\n",
       "      <td>300</td>\n",
       "      <td>Salah ketik, salah hitung, salah input, salah ...</td>\n",
       "      <td>salah ketik salah hitung salah input salah sia...</td>\n",
       "    </tr>\n",
       "    <tr>\n",
       "      <th>3</th>\n",
       "      <td>0b4tk3lu4r94</td>\n",
       "      <td>[Sebentar....bentar gue hrs inget2 nih berukny...</td>\n",
       "      <td>0</td>\n",
       "      <td>False</td>\n",
       "      <td>Bergerak dan berdoa teros ajah</td>\n",
       "      <td>False</td>\n",
       "      <td>300</td>\n",
       "      <td>Sebentar....bentar gue hrs inget2 nih beruknya...</td>\n",
       "      <td>sebentar bentar gue hrs inget2 nih beruknya sa...</td>\n",
       "    </tr>\n",
       "    <tr>\n",
       "      <th>4</th>\n",
       "      <td>0m_Brewoks2</td>\n",
       "      <td>[Bismillah. Bagi Yg minat kaos,topi #ManusiaMe...</td>\n",
       "      <td>0</td>\n",
       "      <td>None</td>\n",
       "      <td>None</td>\n",
       "      <td>False</td>\n",
       "      <td>300</td>\n",
       "      <td>Bismillah. Bagi Yg minat kaos,topi #ManusiaMer...</td>\n",
       "      <td>bismillah bagi minat kaos topi manusia merdeka...</td>\n",
       "    </tr>\n",
       "  </tbody>\n",
       "</table>\n",
       "</div>"
      ],
      "text/plain": [
       "       screen_name                                          full_text  label  \\\n",
       "0        007koteka  [#HariJadiTwitterSaya \\n28 Juni 2017 https://t...      1   \n",
       "1           02Trus  [RT @SaveMoslem1: *Asyeeekkk.... PDIP kena jeb...      1   \n",
       "2  02fc71ba00c2451  [Salah ketik, salah hitung, salah input, salah...      1   \n",
       "3     0b4tk3lu4r94  [Sebentar....bentar gue hrs inget2 nih berukny...      0   \n",
       "4      0m_Brewoks2  [Bismillah. Bagi Yg minat kaos,topi #ManusiaMe...      0   \n",
       "\n",
       "  is_verified                                profile_description  \\\n",
       "0       False  - Jadilah Penyejuk Hati yang Gersang l    \\n  ...   \n",
       "1        None                                               None   \n",
       "2       False                           benci dengan kemunafikan   \n",
       "3       False                     Bergerak dan berdoa teros ajah   \n",
       "4        None                                               None   \n",
       "\n",
       "   is_akun_resmi  num_tweets  \\\n",
       "0          False         300   \n",
       "1          False         300   \n",
       "2          False         300   \n",
       "3          False         300   \n",
       "4          False         300   \n",
       "\n",
       "                                           text_used  \\\n",
       "0  #HariJadiTwitterSaya \\n28 Juni 2017 https://t....   \n",
       "1  RT @SaveMoslem1: *Asyeeekkk.... PDIP kena jeba...   \n",
       "2  Salah ketik, salah hitung, salah input, salah ...   \n",
       "3  Sebentar....bentar gue hrs inget2 nih beruknya...   \n",
       "4  Bismillah. Bagi Yg minat kaos,topi #ManusiaMer...   \n",
       "\n",
       "                                   preprocessed_text  \n",
       "0  hari jadi twitter saya juni penjilat yang berk...  \n",
       "1  moslem1 asyeeekkk pdip kena jebakan batman fra...  \n",
       "2  salah ketik salah hitung salah input salah sia...  \n",
       "3  sebentar bentar gue hrs inget2 nih beruknya sa...  \n",
       "4  bismillah bagi minat kaos topi manusia merdeka...  "
      ]
     },
     "execution_count": 44,
     "metadata": {},
     "output_type": "execute_result"
    }
   ],
   "source": [
    "d_train.head()"
   ]
  },
  {
   "cell_type": "code",
   "execution_count": 45,
   "metadata": {},
   "outputs": [
    {
     "data": {
      "text/plain": [
       "(6720, 9)"
      ]
     },
     "execution_count": 45,
     "metadata": {},
     "output_type": "execute_result"
    }
   ],
   "source": [
    "d_train.shape"
   ]
  },
  {
   "cell_type": "code",
   "execution_count": 98,
   "metadata": {},
   "outputs": [],
   "source": [
    "corpus = [\"ada apa dengan cinta\",\n",
    "         \"apa apa dengan cinta\",\n",
    "         \"apa apa dengan cinta\"]"
   ]
  },
  {
   "cell_type": "markdown",
   "metadata": {},
   "source": [
    "### Exprimenting with simple algorithm"
   ]
  },
  {
   "cell_type": "code",
   "execution_count": 105,
   "metadata": {},
   "outputs": [],
   "source": [
    "tfidf = TfidfVectorizer(min_df=2)"
   ]
  },
  {
   "cell_type": "code",
   "execution_count": 106,
   "metadata": {},
   "outputs": [],
   "source": [
    "text_tfidf = tfidf.fit_transform(d_train.preprocessed_text)"
   ]
  },
  {
   "cell_type": "code",
   "execution_count": 107,
   "metadata": {},
   "outputs": [
    {
     "data": {
      "text/plain": [
       "(6720, 65591)"
      ]
     },
     "execution_count": 107,
     "metadata": {},
     "output_type": "execute_result"
    }
   ],
   "source": [
    "text_tfidf.shape"
   ]
  },
  {
   "cell_type": "code",
   "execution_count": 116,
   "metadata": {},
   "outputs": [],
   "source": [
    "X_train, X_test, y_train, y_test = train_test_split(text_tfidf, d_train.label, test_size=0.2, random_state=123)"
   ]
  },
  {
   "cell_type": "code",
   "execution_count": 117,
   "metadata": {},
   "outputs": [
    {
     "data": {
      "text/plain": [
       "0    3915\n",
       "1    1461\n",
       "Name: label, dtype: int64"
      ]
     },
     "execution_count": 117,
     "metadata": {},
     "output_type": "execute_result"
    }
   ],
   "source": [
    "y_train.value_counts()"
   ]
  },
  {
   "cell_type": "code",
   "execution_count": 118,
   "metadata": {},
   "outputs": [
    {
     "data": {
      "text/plain": [
       "0    961\n",
       "1    383\n",
       "Name: label, dtype: int64"
      ]
     },
     "execution_count": 118,
     "metadata": {},
     "output_type": "execute_result"
    }
   ],
   "source": [
    "y_test.value_counts()"
   ]
  },
  {
   "cell_type": "code",
   "execution_count": 119,
   "metadata": {},
   "outputs": [],
   "source": [
    "def scoring(y_test, y_pred):\n",
    "    \n",
    "    acc = accuracy_score(y_test, y_pred)\n",
    "    pre = precision_score(y_test, y_pred)\n",
    "    rec = recall_score(y_test, y_pred)\n",
    "    f1 = f1_score(y_test, y_pred)\n",
    "    \n",
    "    print(f\"accuracy: {acc:.2f} | precision: {pre:.2f} | recall: {rec:.2f} | f score: {f1:.2f}\")"
   ]
  },
  {
   "cell_type": "code",
   "execution_count": 120,
   "metadata": {},
   "outputs": [
    {
     "name": "stdout",
     "output_type": "stream",
     "text": [
      "accuracy: 0.78 | precision: 0.59 | recall: 0.70 | f score: 0.64\n"
     ]
    }
   ],
   "source": [
    "model = BernoulliNB()\n",
    "model.fit(X_train, y_train)\n",
    "y_pred = model.predict(X_test)\n",
    "scoring(y_test, y_pred)"
   ]
  },
  {
   "cell_type": "code",
   "execution_count": 121,
   "metadata": {},
   "outputs": [
    {
     "name": "stdout",
     "output_type": "stream",
     "text": [
      "accuracy: 0.82 | precision: 0.71 | recall: 0.62 | f score: 0.66\n"
     ]
    }
   ],
   "source": [
    "model = SVC(gamma='scale', kernel='linear')\n",
    "model.fit(X_train, y_train)\n",
    "y_pred = model.predict(X_test)\n",
    "scoring(y_test, y_pred)"
   ]
  },
  {
   "cell_type": "code",
   "execution_count": 122,
   "metadata": {},
   "outputs": [
    {
     "name": "stdout",
     "output_type": "stream",
     "text": [
      "accuracy: 0.79 | precision: 0.69 | recall: 0.48 | f score: 0.57\n"
     ]
    }
   ],
   "source": [
    "model = RandomForestClassifier(n_estimators=100)\n",
    "model.fit(X_train, y_train)\n",
    "y_pred = model.predict(X_test)\n",
    "scoring(y_test, y_pred)"
   ]
  },
  {
   "cell_type": "code",
   "execution_count": 123,
   "metadata": {},
   "outputs": [
    {
     "name": "stdout",
     "output_type": "stream",
     "text": [
      "accuracy: 0.80 | precision: 0.71 | recall: 0.53 | f score: 0.61\n"
     ]
    }
   ],
   "source": [
    "model = GradientBoostingClassifier(n_estimators=200)\n",
    "model.fit(X_train, y_train)\n",
    "y_pred = model.predict(X_test)\n",
    "scoring(y_test, y_pred)"
   ]
  },
  {
   "cell_type": "code",
   "execution_count": 124,
   "metadata": {},
   "outputs": [
    {
     "name": "stdout",
     "output_type": "stream",
     "text": [
      "accuracy: 0.77 | precision: 0.60 | recall: 0.53 | f score: 0.56\n"
     ]
    }
   ],
   "source": [
    "model = AdaBoostClassifier(n_estimators=400)\n",
    "model.fit(X_train, y_train)\n",
    "y_pred = model.predict(X_test)\n",
    "scoring(y_test, y_pred)"
   ]
  },
  {
   "cell_type": "markdown",
   "metadata": {},
   "source": [
    "## Cross Validation"
   ]
  },
  {
   "cell_type": "code",
   "execution_count": null,
   "metadata": {},
   "outputs": [],
   "source": []
  },
  {
   "cell_type": "code",
   "execution_count": 166,
   "metadata": {},
   "outputs": [],
   "source": [
    "cv_f1_score = cross_val_score(SVC(gamma=\"scale\", kernel=\"linear\"), text_tfidf, d_train.label, scoring=\"f1\", cv=5)"
   ]
  },
  {
   "cell_type": "code",
   "execution_count": 167,
   "metadata": {},
   "outputs": [],
   "source": [
    "cv_acc_score = cross_val_score(SVC(gamma=\"scale\", kernel=\"linear\"), text_tfidf, d_train.label, scoring=\"accuracy\", cv=5)"
   ]
  },
  {
   "cell_type": "code",
   "execution_count": 168,
   "metadata": {},
   "outputs": [
    {
     "data": {
      "text/plain": [
       "(0.6502367044376106, 0.028013629451520694)"
      ]
     },
     "execution_count": 168,
     "metadata": {},
     "output_type": "execute_result"
    }
   ],
   "source": [
    "cv_f1_score.mean(), cv_f1_score.std()"
   ]
  },
  {
   "cell_type": "code",
   "execution_count": 169,
   "metadata": {},
   "outputs": [
    {
     "data": {
      "text/plain": [
       "(0.819047619047619, 0.0272301098642652)"
      ]
     },
     "execution_count": 169,
     "metadata": {},
     "output_type": "execute_result"
    }
   ],
   "source": [
    "cv_acc_score.mean(), cv_acc_score.std()"
   ]
  },
  {
   "cell_type": "code",
   "execution_count": null,
   "metadata": {},
   "outputs": [],
   "source": []
  }
 ],
 "metadata": {
  "kernelspec": {
   "display_name": "Python 3",
   "language": "python",
   "name": "python3"
  },
  "language_info": {
   "codemirror_mode": {
    "name": "ipython",
    "version": 3
   },
   "file_extension": ".py",
   "mimetype": "text/x-python",
   "name": "python",
   "nbconvert_exporter": "python",
   "pygments_lexer": "ipython3",
   "version": "3.8.5"
  }
 },
 "nbformat": 4,
 "nbformat_minor": 4
}
