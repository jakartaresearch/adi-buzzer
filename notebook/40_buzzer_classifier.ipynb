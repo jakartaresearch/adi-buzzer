{
 "cells": [
  {
   "cell_type": "code",
   "execution_count": 138,
   "metadata": {},
   "outputs": [],
   "source": [
    "import os\n",
    "import re\n",
    "import glob\n",
    "import pickle\n",
    "import string\n",
    "\n",
    "from maleo.wizard import Wizard\n",
    "\n",
    "import pandas as pd\n",
    "import matplotlib.pyplot as plt\n",
    "\n",
    "from sklearn.feature_extraction.text import TfidfVectorizer\n",
    "from sklearn.model_selection import train_test_split, cross_val_score, StratifiedKFold\n",
    "from sklearn.naive_bayes import BernoulliNB\n",
    "from sklearn.svm import SVC\n",
    "from sklearn.ensemble import RandomForestClassifier, AdaBoostClassifier, GradientBoostingClassifier\n",
    "from sklearn.metrics import accuracy_score, precision_score, recall_score, f1_score\n",
    "\n",
    "%matplotlib inline"
   ]
  },
  {
   "cell_type": "code",
   "execution_count": 2,
   "metadata": {},
   "outputs": [],
   "source": [
    "wiz = Wizard()"
   ]
  },
  {
   "cell_type": "code",
   "execution_count": 3,
   "metadata": {},
   "outputs": [],
   "source": [
    "pd.set_option('display.max_rows', 10)"
   ]
  },
  {
   "cell_type": "code",
   "execution_count": 4,
   "metadata": {},
   "outputs": [],
   "source": [
    "# input path\n",
    "SUPPORT_PATH = \"../data/supports\""
   ]
  },
  {
   "cell_type": "code",
   "execution_count": 5,
   "metadata": {},
   "outputs": [],
   "source": [
    "def read_pickle(path):\n",
    "    with open(path, 'rb') as f:\n",
    "        return pickle.load(f)"
   ]
  },
  {
   "cell_type": "code",
   "execution_count": 6,
   "metadata": {},
   "outputs": [],
   "source": [
    "d_199 = read_pickle(os.path.join(SUPPORT_PATH, \"parsed_199.pkl\"))\n",
    "d_6725 = read_pickle(os.path.join(SUPPORT_PATH, \"parsed_7003.pkl\"))\n",
    "d_tweets = pd.concat([d_199, d_6725], axis = 0, sort=False)\n",
    "d_tweets.drop_duplicates(subset=\"id_tweet\", inplace=True)\n",
    "d_tweets.reset_index(drop=True, inplace=True)"
   ]
  },
  {
   "cell_type": "code",
   "execution_count": 7,
   "metadata": {},
   "outputs": [],
   "source": [
    "d_label = pd.read_csv(\"../data/account_labeled/project_12_labels_Thu_Oct_15_2020.csv\")"
   ]
  },
  {
   "cell_type": "code",
   "execution_count": 8,
   "metadata": {},
   "outputs": [
    {
     "data": {
      "text/html": [
       "<div>\n",
       "<style scoped>\n",
       "    .dataframe tbody tr th:only-of-type {\n",
       "        vertical-align: middle;\n",
       "    }\n",
       "\n",
       "    .dataframe tbody tr th {\n",
       "        vertical-align: top;\n",
       "    }\n",
       "\n",
       "    .dataframe thead th {\n",
       "        text-align: right;\n",
       "    }\n",
       "</style>\n",
       "<table border=\"1\" class=\"dataframe\">\n",
       "  <thead>\n",
       "    <tr style=\"text-align: right;\">\n",
       "      <th></th>\n",
       "      <th>ID</th>\n",
       "      <th>Text</th>\n",
       "      <th>Label</th>\n",
       "    </tr>\n",
       "  </thead>\n",
       "  <tbody>\n",
       "    <tr>\n",
       "      <th>0</th>\n",
       "      <td>2337</td>\n",
       "      <td>https://twitter.com/fahrisalam __________name:...</td>\n",
       "      <td>buzzer</td>\n",
       "    </tr>\n",
       "    <tr>\n",
       "      <th>1</th>\n",
       "      <td>5329</td>\n",
       "      <td>https://twitter.com/Prof_Kupie __________name:...</td>\n",
       "      <td>buzzer</td>\n",
       "    </tr>\n",
       "    <tr>\n",
       "      <th>2</th>\n",
       "      <td>6392</td>\n",
       "      <td>\"https://twitter.com/Syam42933824 __________na...</td>\n",
       "      <td>buzzer</td>\n",
       "    </tr>\n",
       "    <tr>\n",
       "      <th>3</th>\n",
       "      <td>2131</td>\n",
       "      <td>https://twitter.com/dwiawatie __________name: ...</td>\n",
       "      <td>buzzer</td>\n",
       "    </tr>\n",
       "    <tr>\n",
       "      <th>4</th>\n",
       "      <td>5849</td>\n",
       "      <td>https://twitter.com/saaragih __________name: L...</td>\n",
       "      <td>buzzer</td>\n",
       "    </tr>\n",
       "  </tbody>\n",
       "</table>\n",
       "</div>"
      ],
      "text/plain": [
       "     ID                                               Text   Label\n",
       "0  2337  https://twitter.com/fahrisalam __________name:...  buzzer\n",
       "1  5329  https://twitter.com/Prof_Kupie __________name:...  buzzer\n",
       "2  6392  \"https://twitter.com/Syam42933824 __________na...  buzzer\n",
       "3  2131  https://twitter.com/dwiawatie __________name: ...  buzzer\n",
       "4  5849  https://twitter.com/saaragih __________name: L...  buzzer"
      ]
     },
     "execution_count": 8,
     "metadata": {},
     "output_type": "execute_result"
    }
   ],
   "source": [
    "d_label.head()"
   ]
  },
  {
   "cell_type": "code",
   "execution_count": 9,
   "metadata": {},
   "outputs": [
    {
     "data": {
      "text/plain": [
       "(3403, 3)"
      ]
     },
     "execution_count": 9,
     "metadata": {},
     "output_type": "execute_result"
    }
   ],
   "source": [
    "d_label.shape"
   ]
  },
  {
   "cell_type": "code",
   "execution_count": 10,
   "metadata": {},
   "outputs": [
    {
     "data": {
      "text/html": [
       "<div>\n",
       "<style scoped>\n",
       "    .dataframe tbody tr th:only-of-type {\n",
       "        vertical-align: middle;\n",
       "    }\n",
       "\n",
       "    .dataframe tbody tr th {\n",
       "        vertical-align: top;\n",
       "    }\n",
       "\n",
       "    .dataframe thead th {\n",
       "        text-align: right;\n",
       "    }\n",
       "</style>\n",
       "<table border=\"1\" class=\"dataframe\">\n",
       "  <thead>\n",
       "    <tr style=\"text-align: right;\">\n",
       "      <th></th>\n",
       "      <th>screen_name</th>\n",
       "      <th>id_tweet</th>\n",
       "      <th>full_text</th>\n",
       "      <th>hashtags</th>\n",
       "      <th>user_mentions</th>\n",
       "      <th>created_at</th>\n",
       "      <th>quote_is_quote_status</th>\n",
       "      <th>quote_screen_name</th>\n",
       "      <th>quote_id_tweet</th>\n",
       "      <th>quote_full_text</th>\n",
       "      <th>quote_hashtags</th>\n",
       "      <th>quote_user_mentions</th>\n",
       "      <th>quote_created_at</th>\n",
       "      <th>in_reply_to_status_id_str</th>\n",
       "      <th>in_reply_to_user_id_str</th>\n",
       "      <th>in_reply_to_screen_name</th>\n",
       "    </tr>\n",
       "  </thead>\n",
       "  <tbody>\n",
       "    <tr>\n",
       "      <th>0</th>\n",
       "      <td>212Ujee2</td>\n",
       "      <td>1272955449160040449</td>\n",
       "      <td>#HapusRUUHIPDariMukaBumi \\n#HapusRUUHIPDariMuk...</td>\n",
       "      <td>[{'text': 'HapusRUUHIPDariMukaBumi', 'indices'...</td>\n",
       "      <td>[]</td>\n",
       "      <td>Tue Jun 16 18:13:24 +0000 2020</td>\n",
       "      <td>True</td>\n",
       "      <td>Par3w4_Minang</td>\n",
       "      <td>1272901801516335112</td>\n",
       "      <td>Moncong putih ingin cuci tangan \\n\\nKata si Po...</td>\n",
       "      <td>[]</td>\n",
       "      <td>[]</td>\n",
       "      <td>Tue Jun 16 14:40:13 +0000 2020</td>\n",
       "      <td>NaN</td>\n",
       "      <td>NaN</td>\n",
       "      <td>NaN</td>\n",
       "    </tr>\n",
       "    <tr>\n",
       "      <th>1</th>\n",
       "      <td>212Ujee2</td>\n",
       "      <td>1272573148974571526</td>\n",
       "      <td>Sampah n benalu\\nPerusak demokrasi wajib kita ...</td>\n",
       "      <td>[{'text': 'BuzzeRpPublicEnemy', 'indices': [59...</td>\n",
       "      <td>[]</td>\n",
       "      <td>Mon Jun 15 16:54:16 +0000 2020</td>\n",
       "      <td>NaN</td>\n",
       "      <td>NaN</td>\n",
       "      <td>NaN</td>\n",
       "      <td>NaN</td>\n",
       "      <td>NaN</td>\n",
       "      <td>NaN</td>\n",
       "      <td>NaN</td>\n",
       "      <td>NaN</td>\n",
       "      <td>NaN</td>\n",
       "      <td>NaN</td>\n",
       "    </tr>\n",
       "    <tr>\n",
       "      <th>2</th>\n",
       "      <td>212Ujee2</td>\n",
       "      <td>1272242834725208064</td>\n",
       "      <td>Saatnya kita bersatu\\nWahai umat Islam\\n\\n#Sto...</td>\n",
       "      <td>[{'text': 'Stop_RUUHIP', 'indices': [39, 51]},...</td>\n",
       "      <td>[]</td>\n",
       "      <td>Sun Jun 14 19:01:43 +0000 2020</td>\n",
       "      <td>NaN</td>\n",
       "      <td>NaN</td>\n",
       "      <td>NaN</td>\n",
       "      <td>NaN</td>\n",
       "      <td>NaN</td>\n",
       "      <td>NaN</td>\n",
       "      <td>NaN</td>\n",
       "      <td>NaN</td>\n",
       "      <td>NaN</td>\n",
       "      <td>NaN</td>\n",
       "    </tr>\n",
       "    <tr>\n",
       "      <th>3</th>\n",
       "      <td>212Ujee2</td>\n",
       "      <td>1267860265694978049</td>\n",
       "      <td>Umat Islam\\nHrs diam \\nTerus sampai kapan?\\nKe...</td>\n",
       "      <td>[{'text': 'BalikinDanaHaji', 'indices': [104, ...</td>\n",
       "      <td>[]</td>\n",
       "      <td>Tue Jun 02 16:46:57 +0000 2020</td>\n",
       "      <td>NaN</td>\n",
       "      <td>NaN</td>\n",
       "      <td>NaN</td>\n",
       "      <td>NaN</td>\n",
       "      <td>NaN</td>\n",
       "      <td>NaN</td>\n",
       "      <td>NaN</td>\n",
       "      <td>NaN</td>\n",
       "      <td>NaN</td>\n",
       "      <td>NaN</td>\n",
       "    </tr>\n",
       "    <tr>\n",
       "      <th>4</th>\n",
       "      <td>212Ujee2</td>\n",
       "      <td>1266354000716107780</td>\n",
       "      <td>Hai Pemimpin !!!\\nApakah udh ga ada lagi \\nPro...</td>\n",
       "      <td>[{'text': 'DirutBokep', 'indices': [204, 215]}...</td>\n",
       "      <td>[{'screen_name': '__p3jalan____', 'name': 'p3j...</td>\n",
       "      <td>Fri May 29 13:01:36 +0000 2020</td>\n",
       "      <td>NaN</td>\n",
       "      <td>NaN</td>\n",
       "      <td>NaN</td>\n",
       "      <td>NaN</td>\n",
       "      <td>NaN</td>\n",
       "      <td>NaN</td>\n",
       "      <td>NaN</td>\n",
       "      <td>NaN</td>\n",
       "      <td>NaN</td>\n",
       "      <td>NaN</td>\n",
       "    </tr>\n",
       "  </tbody>\n",
       "</table>\n",
       "</div>"
      ],
      "text/plain": [
       "  screen_name             id_tweet  \\\n",
       "0    212Ujee2  1272955449160040449   \n",
       "1    212Ujee2  1272573148974571526   \n",
       "2    212Ujee2  1272242834725208064   \n",
       "3    212Ujee2  1267860265694978049   \n",
       "4    212Ujee2  1266354000716107780   \n",
       "\n",
       "                                           full_text  \\\n",
       "0  #HapusRUUHIPDariMukaBumi \\n#HapusRUUHIPDariMuk...   \n",
       "1  Sampah n benalu\\nPerusak demokrasi wajib kita ...   \n",
       "2  Saatnya kita bersatu\\nWahai umat Islam\\n\\n#Sto...   \n",
       "3  Umat Islam\\nHrs diam \\nTerus sampai kapan?\\nKe...   \n",
       "4  Hai Pemimpin !!!\\nApakah udh ga ada lagi \\nPro...   \n",
       "\n",
       "                                            hashtags  \\\n",
       "0  [{'text': 'HapusRUUHIPDariMukaBumi', 'indices'...   \n",
       "1  [{'text': 'BuzzeRpPublicEnemy', 'indices': [59...   \n",
       "2  [{'text': 'Stop_RUUHIP', 'indices': [39, 51]},...   \n",
       "3  [{'text': 'BalikinDanaHaji', 'indices': [104, ...   \n",
       "4  [{'text': 'DirutBokep', 'indices': [204, 215]}...   \n",
       "\n",
       "                                       user_mentions  \\\n",
       "0                                                 []   \n",
       "1                                                 []   \n",
       "2                                                 []   \n",
       "3                                                 []   \n",
       "4  [{'screen_name': '__p3jalan____', 'name': 'p3j...   \n",
       "\n",
       "                       created_at quote_is_quote_status quote_screen_name  \\\n",
       "0  Tue Jun 16 18:13:24 +0000 2020                  True     Par3w4_Minang   \n",
       "1  Mon Jun 15 16:54:16 +0000 2020                   NaN               NaN   \n",
       "2  Sun Jun 14 19:01:43 +0000 2020                   NaN               NaN   \n",
       "3  Tue Jun 02 16:46:57 +0000 2020                   NaN               NaN   \n",
       "4  Fri May 29 13:01:36 +0000 2020                   NaN               NaN   \n",
       "\n",
       "        quote_id_tweet                                    quote_full_text  \\\n",
       "0  1272901801516335112  Moncong putih ingin cuci tangan \\n\\nKata si Po...   \n",
       "1                  NaN                                                NaN   \n",
       "2                  NaN                                                NaN   \n",
       "3                  NaN                                                NaN   \n",
       "4                  NaN                                                NaN   \n",
       "\n",
       "  quote_hashtags quote_user_mentions                quote_created_at  \\\n",
       "0             []                  []  Tue Jun 16 14:40:13 +0000 2020   \n",
       "1            NaN                 NaN                             NaN   \n",
       "2            NaN                 NaN                             NaN   \n",
       "3            NaN                 NaN                             NaN   \n",
       "4            NaN                 NaN                             NaN   \n",
       "\n",
       "  in_reply_to_status_id_str in_reply_to_user_id_str in_reply_to_screen_name  \n",
       "0                       NaN                     NaN                     NaN  \n",
       "1                       NaN                     NaN                     NaN  \n",
       "2                       NaN                     NaN                     NaN  \n",
       "3                       NaN                     NaN                     NaN  \n",
       "4                       NaN                     NaN                     NaN  "
      ]
     },
     "execution_count": 10,
     "metadata": {},
     "output_type": "execute_result"
    }
   ],
   "source": [
    "d_tweets.head()"
   ]
  },
  {
   "cell_type": "code",
   "execution_count": 11,
   "metadata": {},
   "outputs": [
    {
     "data": {
      "text/plain": [
       "(1983967, 16)"
      ]
     },
     "execution_count": 11,
     "metadata": {},
     "output_type": "execute_result"
    }
   ],
   "source": [
    "d_tweets.shape"
   ]
  },
  {
   "cell_type": "code",
   "execution_count": 12,
   "metadata": {},
   "outputs": [
    {
     "data": {
      "text/html": [
       "<div>\n",
       "<style scoped>\n",
       "    .dataframe tbody tr th:only-of-type {\n",
       "        vertical-align: middle;\n",
       "    }\n",
       "\n",
       "    .dataframe tbody tr th {\n",
       "        vertical-align: top;\n",
       "    }\n",
       "\n",
       "    .dataframe thead th {\n",
       "        text-align: right;\n",
       "    }\n",
       "</style>\n",
       "<table border=\"1\" class=\"dataframe\">\n",
       "  <thead>\n",
       "    <tr style=\"text-align: right;\">\n",
       "      <th></th>\n",
       "      <th>screen_name</th>\n",
       "      <th>id_tweet</th>\n",
       "      <th>full_text</th>\n",
       "      <th>hashtags</th>\n",
       "      <th>user_mentions</th>\n",
       "      <th>created_at</th>\n",
       "      <th>quote_is_quote_status</th>\n",
       "      <th>quote_screen_name</th>\n",
       "      <th>quote_id_tweet</th>\n",
       "      <th>quote_full_text</th>\n",
       "      <th>quote_hashtags</th>\n",
       "      <th>quote_user_mentions</th>\n",
       "      <th>quote_created_at</th>\n",
       "      <th>in_reply_to_status_id_str</th>\n",
       "      <th>in_reply_to_user_id_str</th>\n",
       "      <th>in_reply_to_screen_name</th>\n",
       "    </tr>\n",
       "  </thead>\n",
       "  <tbody>\n",
       "    <tr>\n",
       "      <th>219332</th>\n",
       "      <td>urmila__011</td>\n",
       "      <td>1274370414408425473</td>\n",
       "      <td>Ryamizard: Orang yang Ingin Mengganti Pancasil...</td>\n",
       "      <td>[]</td>\n",
       "      <td>[]</td>\n",
       "      <td>Sat Jun 20 15:55:58 +0000 2020</td>\n",
       "      <td>NaN</td>\n",
       "      <td>NaN</td>\n",
       "      <td>NaN</td>\n",
       "      <td>NaN</td>\n",
       "      <td>NaN</td>\n",
       "      <td>NaN</td>\n",
       "      <td>NaN</td>\n",
       "      <td>NaN</td>\n",
       "      <td>NaN</td>\n",
       "      <td>NaN</td>\n",
       "    </tr>\n",
       "    <tr>\n",
       "      <th>219333</th>\n",
       "      <td>urmila__011</td>\n",
       "      <td>1274272204935462913</td>\n",
       "      <td>Yg pingin ikutan salfol utk besok komen disini...</td>\n",
       "      <td>[]</td>\n",
       "      <td>[]</td>\n",
       "      <td>Sat Jun 20 09:25:43 +0000 2020</td>\n",
       "      <td>True</td>\n",
       "      <td>urmila__011</td>\n",
       "      <td>1274266066772885504</td>\n",
       "      <td>Tilem...\\n\\nJangan tanya kenapa ngak pake bung...</td>\n",
       "      <td>[]</td>\n",
       "      <td>[]</td>\n",
       "      <td>Sat Jun 20 09:01:19 +0000 2020</td>\n",
       "      <td>NaN</td>\n",
       "      <td>NaN</td>\n",
       "      <td>NaN</td>\n",
       "    </tr>\n",
       "    <tr>\n",
       "      <th>219334</th>\n",
       "      <td>urmila__011</td>\n",
       "      <td>1274266066772885504</td>\n",
       "      <td>Tilem...\\n\\nJangan tanya kenapa ngak pake bung...</td>\n",
       "      <td>[]</td>\n",
       "      <td>[]</td>\n",
       "      <td>Sat Jun 20 09:01:19 +0000 2020</td>\n",
       "      <td>NaN</td>\n",
       "      <td>NaN</td>\n",
       "      <td>NaN</td>\n",
       "      <td>NaN</td>\n",
       "      <td>NaN</td>\n",
       "      <td>NaN</td>\n",
       "      <td>NaN</td>\n",
       "      <td>NaN</td>\n",
       "      <td>NaN</td>\n",
       "      <td>NaN</td>\n",
       "    </tr>\n",
       "    <tr>\n",
       "      <th>219335</th>\n",
       "      <td>urmila__011</td>\n",
       "      <td>1274234503867727872</td>\n",
       "      <td>Ada yg blm salfol ya ama akun keren ini... \\n\\...</td>\n",
       "      <td>[]</td>\n",
       "      <td>[{'screen_name': 'll_fharez', 'name': 'de'Rezz...</td>\n",
       "      <td>Sat Jun 20 06:55:54 +0000 2020</td>\n",
       "      <td>NaN</td>\n",
       "      <td>NaN</td>\n",
       "      <td>NaN</td>\n",
       "      <td>NaN</td>\n",
       "      <td>NaN</td>\n",
       "      <td>NaN</td>\n",
       "      <td>NaN</td>\n",
       "      <td>NaN</td>\n",
       "      <td>NaN</td>\n",
       "      <td>NaN</td>\n",
       "    </tr>\n",
       "    <tr>\n",
       "      <th>219336</th>\n",
       "      <td>urmila__011</td>\n",
       "      <td>1274230206698381312</td>\n",
       "      <td>Salfol siang\\n\\nngak folbek boleh unfol\\n\\n@Yn...</td>\n",
       "      <td>[]</td>\n",
       "      <td>[{'screen_name': 'Ynos8881', 'name': 'L888$', ...</td>\n",
       "      <td>Sat Jun 20 06:38:49 +0000 2020</td>\n",
       "      <td>NaN</td>\n",
       "      <td>NaN</td>\n",
       "      <td>NaN</td>\n",
       "      <td>NaN</td>\n",
       "      <td>NaN</td>\n",
       "      <td>NaN</td>\n",
       "      <td>NaN</td>\n",
       "      <td>NaN</td>\n",
       "      <td>NaN</td>\n",
       "      <td>NaN</td>\n",
       "    </tr>\n",
       "    <tr>\n",
       "      <th>...</th>\n",
       "      <td>...</td>\n",
       "      <td>...</td>\n",
       "      <td>...</td>\n",
       "      <td>...</td>\n",
       "      <td>...</td>\n",
       "      <td>...</td>\n",
       "      <td>...</td>\n",
       "      <td>...</td>\n",
       "      <td>...</td>\n",
       "      <td>...</td>\n",
       "      <td>...</td>\n",
       "      <td>...</td>\n",
       "      <td>...</td>\n",
       "      <td>...</td>\n",
       "      <td>...</td>\n",
       "      <td>...</td>\n",
       "    </tr>\n",
       "    <tr>\n",
       "      <th>1872783</th>\n",
       "      <td>urmila__011</td>\n",
       "      <td>1276328574312579072</td>\n",
       "      <td>@angraeni21 Penghasilan dia dr konten terbesar...</td>\n",
       "      <td>[]</td>\n",
       "      <td>[{'screen_name': 'angraeni21', 'name': 'Anggra...</td>\n",
       "      <td>Fri Jun 26 01:36:59 +0000 2020</td>\n",
       "      <td>NaN</td>\n",
       "      <td>NaN</td>\n",
       "      <td>NaN</td>\n",
       "      <td>NaN</td>\n",
       "      <td>NaN</td>\n",
       "      <td>NaN</td>\n",
       "      <td>NaN</td>\n",
       "      <td>1276328074015981568</td>\n",
       "      <td>1236905751873908736</td>\n",
       "      <td>angraeni21</td>\n",
       "    </tr>\n",
       "    <tr>\n",
       "      <th>1872784</th>\n",
       "      <td>urmila__011</td>\n",
       "      <td>1276321866660016131</td>\n",
       "      <td>@Risnabetty14 @QiraniAyara @nafas_cinta79 @The...</td>\n",
       "      <td>[]</td>\n",
       "      <td>[{'screen_name': 'Risnabetty14', 'name': 'Risn...</td>\n",
       "      <td>Fri Jun 26 01:10:20 +0000 2020</td>\n",
       "      <td>NaN</td>\n",
       "      <td>NaN</td>\n",
       "      <td>NaN</td>\n",
       "      <td>NaN</td>\n",
       "      <td>NaN</td>\n",
       "      <td>NaN</td>\n",
       "      <td>NaN</td>\n",
       "      <td>1276321357131743233</td>\n",
       "      <td>1276076867972239361</td>\n",
       "      <td>Risnabetty14</td>\n",
       "    </tr>\n",
       "    <tr>\n",
       "      <th>1872785</th>\n",
       "      <td>urmila__011</td>\n",
       "      <td>1276321493861859328</td>\n",
       "      <td>@RantingPinus @Toto75014110 Sama kita liat2 sj...</td>\n",
       "      <td>[]</td>\n",
       "      <td>[{'screen_name': 'RantingPinus', 'name': 'Rant...</td>\n",
       "      <td>Fri Jun 26 01:08:51 +0000 2020</td>\n",
       "      <td>NaN</td>\n",
       "      <td>NaN</td>\n",
       "      <td>NaN</td>\n",
       "      <td>NaN</td>\n",
       "      <td>NaN</td>\n",
       "      <td>NaN</td>\n",
       "      <td>NaN</td>\n",
       "      <td>1276321086825619456</td>\n",
       "      <td>1141724784100646912</td>\n",
       "      <td>RantingPinus</td>\n",
       "    </tr>\n",
       "    <tr>\n",
       "      <th>1872786</th>\n",
       "      <td>urmila__011</td>\n",
       "      <td>1276321239406010368</td>\n",
       "      <td>@Doni28231984 @Asruleffendylu3 @DrhRukmana @Ay...</td>\n",
       "      <td>[]</td>\n",
       "      <td>[{'screen_name': 'Doni28231984', 'name': 'Doni...</td>\n",
       "      <td>Fri Jun 26 01:07:51 +0000 2020</td>\n",
       "      <td>NaN</td>\n",
       "      <td>NaN</td>\n",
       "      <td>NaN</td>\n",
       "      <td>NaN</td>\n",
       "      <td>NaN</td>\n",
       "      <td>NaN</td>\n",
       "      <td>NaN</td>\n",
       "      <td>1276321069486374914</td>\n",
       "      <td>1213315709704388609</td>\n",
       "      <td>Doni28231984</td>\n",
       "    </tr>\n",
       "    <tr>\n",
       "      <th>1872787</th>\n",
       "      <td>urmila__011</td>\n",
       "      <td>1276320177668231168</td>\n",
       "      <td>@RantingPinus @Toto75014110 Gelora ma golkar😂😂...</td>\n",
       "      <td>[]</td>\n",
       "      <td>[{'screen_name': 'RantingPinus', 'name': 'Rant...</td>\n",
       "      <td>Fri Jun 26 01:03:37 +0000 2020</td>\n",
       "      <td>NaN</td>\n",
       "      <td>NaN</td>\n",
       "      <td>NaN</td>\n",
       "      <td>NaN</td>\n",
       "      <td>NaN</td>\n",
       "      <td>NaN</td>\n",
       "      <td>NaN</td>\n",
       "      <td>1276315020226260993</td>\n",
       "      <td>1141724784100646912</td>\n",
       "      <td>RantingPinus</td>\n",
       "    </tr>\n",
       "  </tbody>\n",
       "</table>\n",
       "<p>3511 rows × 16 columns</p>\n",
       "</div>"
      ],
      "text/plain": [
       "         screen_name             id_tweet  \\\n",
       "219332   urmila__011  1274370414408425473   \n",
       "219333   urmila__011  1274272204935462913   \n",
       "219334   urmila__011  1274266066772885504   \n",
       "219335   urmila__011  1274234503867727872   \n",
       "219336   urmila__011  1274230206698381312   \n",
       "...              ...                  ...   \n",
       "1872783  urmila__011  1276328574312579072   \n",
       "1872784  urmila__011  1276321866660016131   \n",
       "1872785  urmila__011  1276321493861859328   \n",
       "1872786  urmila__011  1276321239406010368   \n",
       "1872787  urmila__011  1276320177668231168   \n",
       "\n",
       "                                                 full_text hashtags  \\\n",
       "219332   Ryamizard: Orang yang Ingin Mengganti Pancasil...       []   \n",
       "219333   Yg pingin ikutan salfol utk besok komen disini...       []   \n",
       "219334   Tilem...\\n\\nJangan tanya kenapa ngak pake bung...       []   \n",
       "219335   Ada yg blm salfol ya ama akun keren ini... \\n\\...       []   \n",
       "219336   Salfol siang\\n\\nngak folbek boleh unfol\\n\\n@Yn...       []   \n",
       "...                                                    ...      ...   \n",
       "1872783  @angraeni21 Penghasilan dia dr konten terbesar...       []   \n",
       "1872784  @Risnabetty14 @QiraniAyara @nafas_cinta79 @The...       []   \n",
       "1872785  @RantingPinus @Toto75014110 Sama kita liat2 sj...       []   \n",
       "1872786  @Doni28231984 @Asruleffendylu3 @DrhRukmana @Ay...       []   \n",
       "1872787  @RantingPinus @Toto75014110 Gelora ma golkar😂😂...       []   \n",
       "\n",
       "                                             user_mentions  \\\n",
       "219332                                                  []   \n",
       "219333                                                  []   \n",
       "219334                                                  []   \n",
       "219335   [{'screen_name': 'll_fharez', 'name': 'de'Rezz...   \n",
       "219336   [{'screen_name': 'Ynos8881', 'name': 'L888$', ...   \n",
       "...                                                    ...   \n",
       "1872783  [{'screen_name': 'angraeni21', 'name': 'Anggra...   \n",
       "1872784  [{'screen_name': 'Risnabetty14', 'name': 'Risn...   \n",
       "1872785  [{'screen_name': 'RantingPinus', 'name': 'Rant...   \n",
       "1872786  [{'screen_name': 'Doni28231984', 'name': 'Doni...   \n",
       "1872787  [{'screen_name': 'RantingPinus', 'name': 'Rant...   \n",
       "\n",
       "                             created_at quote_is_quote_status  \\\n",
       "219332   Sat Jun 20 15:55:58 +0000 2020                   NaN   \n",
       "219333   Sat Jun 20 09:25:43 +0000 2020                  True   \n",
       "219334   Sat Jun 20 09:01:19 +0000 2020                   NaN   \n",
       "219335   Sat Jun 20 06:55:54 +0000 2020                   NaN   \n",
       "219336   Sat Jun 20 06:38:49 +0000 2020                   NaN   \n",
       "...                                 ...                   ...   \n",
       "1872783  Fri Jun 26 01:36:59 +0000 2020                   NaN   \n",
       "1872784  Fri Jun 26 01:10:20 +0000 2020                   NaN   \n",
       "1872785  Fri Jun 26 01:08:51 +0000 2020                   NaN   \n",
       "1872786  Fri Jun 26 01:07:51 +0000 2020                   NaN   \n",
       "1872787  Fri Jun 26 01:03:37 +0000 2020                   NaN   \n",
       "\n",
       "        quote_screen_name       quote_id_tweet  \\\n",
       "219332                NaN                  NaN   \n",
       "219333        urmila__011  1274266066772885504   \n",
       "219334                NaN                  NaN   \n",
       "219335                NaN                  NaN   \n",
       "219336                NaN                  NaN   \n",
       "...                   ...                  ...   \n",
       "1872783               NaN                  NaN   \n",
       "1872784               NaN                  NaN   \n",
       "1872785               NaN                  NaN   \n",
       "1872786               NaN                  NaN   \n",
       "1872787               NaN                  NaN   \n",
       "\n",
       "                                           quote_full_text quote_hashtags  \\\n",
       "219332                                                 NaN            NaN   \n",
       "219333   Tilem...\\n\\nJangan tanya kenapa ngak pake bung...             []   \n",
       "219334                                                 NaN            NaN   \n",
       "219335                                                 NaN            NaN   \n",
       "219336                                                 NaN            NaN   \n",
       "...                                                    ...            ...   \n",
       "1872783                                                NaN            NaN   \n",
       "1872784                                                NaN            NaN   \n",
       "1872785                                                NaN            NaN   \n",
       "1872786                                                NaN            NaN   \n",
       "1872787                                                NaN            NaN   \n",
       "\n",
       "        quote_user_mentions                quote_created_at  \\\n",
       "219332                  NaN                             NaN   \n",
       "219333                   []  Sat Jun 20 09:01:19 +0000 2020   \n",
       "219334                  NaN                             NaN   \n",
       "219335                  NaN                             NaN   \n",
       "219336                  NaN                             NaN   \n",
       "...                     ...                             ...   \n",
       "1872783                 NaN                             NaN   \n",
       "1872784                 NaN                             NaN   \n",
       "1872785                 NaN                             NaN   \n",
       "1872786                 NaN                             NaN   \n",
       "1872787                 NaN                             NaN   \n",
       "\n",
       "        in_reply_to_status_id_str in_reply_to_user_id_str  \\\n",
       "219332                        NaN                     NaN   \n",
       "219333                        NaN                     NaN   \n",
       "219334                        NaN                     NaN   \n",
       "219335                        NaN                     NaN   \n",
       "219336                        NaN                     NaN   \n",
       "...                           ...                     ...   \n",
       "1872783       1276328074015981568     1236905751873908736   \n",
       "1872784       1276321357131743233     1276076867972239361   \n",
       "1872785       1276321086825619456     1141724784100646912   \n",
       "1872786       1276321069486374914     1213315709704388609   \n",
       "1872787       1276315020226260993     1141724784100646912   \n",
       "\n",
       "        in_reply_to_screen_name  \n",
       "219332                      NaN  \n",
       "219333                      NaN  \n",
       "219334                      NaN  \n",
       "219335                      NaN  \n",
       "219336                      NaN  \n",
       "...                         ...  \n",
       "1872783              angraeni21  \n",
       "1872784            Risnabetty14  \n",
       "1872785            RantingPinus  \n",
       "1872786            Doni28231984  \n",
       "1872787            RantingPinus  \n",
       "\n",
       "[3511 rows x 16 columns]"
      ]
     },
     "execution_count": 12,
     "metadata": {},
     "output_type": "execute_result"
    }
   ],
   "source": [
    "d_tweets[d_tweets.screen_name.isin(['urmila__011'])]"
   ]
  },
  {
   "cell_type": "code",
   "execution_count": 13,
   "metadata": {},
   "outputs": [],
   "source": [
    "# parsing label\n",
    "d_label.rename(columns={'Label': \"label\"}, inplace=True)\n",
    "d_label['url_profile'] = d_label.Text.apply(lambda x: x.split()[0].strip())\n",
    "d_label['username'] = d_label.url_profile.apply(lambda x: x.split('/')[-1])\n",
    "d_label = d_label[[\"username\", \"label\"]]"
   ]
  },
  {
   "cell_type": "code",
   "execution_count": 14,
   "metadata": {},
   "outputs": [
    {
     "data": {
      "text/plain": [
       "(3258,)"
      ]
     },
     "execution_count": 14,
     "metadata": {},
     "output_type": "execute_result"
    }
   ],
   "source": [
    "# 3258 accounts are labeled, the rest are excluded before parsing\n",
    "d_tweets[d_tweets.screen_name.isin(d_label.username)].screen_name.unique().shape"
   ]
  },
  {
   "cell_type": "code",
   "execution_count": 15,
   "metadata": {},
   "outputs": [],
   "source": [
    "d_dataset = d_tweets.groupby('screen_name')['full_text'].apply(list)\n",
    "d_dataset = d_dataset.reset_index()\n",
    "# join dataset and label\n",
    "d_dataset = d_dataset.join(d_label.set_index('username'), on='screen_name')\n",
    "d_dataset = d_dataset.rename(columns={'Label':'label'})\n",
    "# remove label inactive\n",
    "d_dataset = d_dataset[d_dataset.label != 'inactive']"
   ]
  },
  {
   "cell_type": "code",
   "execution_count": 16,
   "metadata": {},
   "outputs": [],
   "source": [
    "d_dataset.loc[:, 'num_tweets'] = d_dataset.full_text.apply(lambda x : len(x))"
   ]
  },
  {
   "cell_type": "code",
   "execution_count": 17,
   "metadata": {},
   "outputs": [],
   "source": [
    "# using 10 samples\n",
    "d_dataset['text_used'] = d_dataset.full_text.apply(lambda x: \" \".join(x[:10]))"
   ]
  },
  {
   "cell_type": "code",
   "execution_count": 83,
   "metadata": {},
   "outputs": [],
   "source": [
    "def text_cleansing(title):\n",
    "    punctuation = '!\"#$%&\\'()*+,-./:;=?@[\\\\]^_`{|}~'\n",
    "    table = str.maketrans(punctuation, ' '*len(punctuation)) #map punctuation to space\n",
    "    \n",
    "    # parse hashtag\n",
    "    title = re.sub(r\"([a-z])([A-Z])\", r\"\\1 \\2\", title)\n",
    "    # lowercase\n",
    "    title = title.lower()\n",
    "    # convert hyperlinks to link\n",
    "    title = re.sub('http(s):/\\/\\\\S+', '<LINK> ', title)\n",
    "    # convert @username to username\n",
    "    title = re.sub('@\\w+', '<USERNAME>', title)\n",
    "    # remove punctuation\n",
    "    title = title.translate(table)\n",
    "    # only take string started with alphanum\n",
    "    title = re.sub(\"[^(\\w|\\<\\>)]\", ' ', title)\n",
    "    # remove double whitespaces\n",
    "    title = re.sub('\\s+', ' ', title)\n",
    "    # remove double whitespaces\n",
    "    title = title.strip()\n",
    "    \n",
    "    return title"
   ]
  },
  {
   "cell_type": "code",
   "execution_count": 84,
   "metadata": {},
   "outputs": [],
   "source": [
    "d_dataset['preprocessed_text'] = d_dataset.text_used.apply(text_cleansing)"
   ]
  },
  {
   "cell_type": "code",
   "execution_count": 85,
   "metadata": {},
   "outputs": [
    {
     "data": {
      "text/plain": [
       "'#HariJadiTwitterSaya \\n28 Juni 2017 https://t.co/zrb4HSd6tG Penjilat yang Berkedok Agama\\n\\n#PecatTengkuzulDariMUI\\n#PecatTengkuzulDariMUI https://t.co/m575Heqt88 600 Orang Ikut Rapid Test Polri Saat CFD di Jakarta, 5 Orang Reaktif\\n\\n🤦🤦🤦\\nKlo begini nanti ada Konpres ga ya ?\\n https://t.co/ohiPQ1ijFl Sebelum kemunculan HRS, tak ada catatan mengenai “konflik” antara habaib dan nahdliyin kecuali kasus individual Habib Husein al-Habsyi yg menyerukan penggulingan Gus Dur dari kursi kepresidenan, pada 2001.\\n@GusNadjb https://t.co/U2E5V3dKbN Selamat Ulang Tahun ke-59\\nPresiden Republik Indonesia\\nPanglima Tertinggi\\nBapak Joko Widodo / @jokowi \\n\\nSemoga\\nSelalu diberikan Kesehatan, Kekuatan dan Kesuksesan menjadi Pemimpin dalam Memakmurkan dan Mensejahterakan Bangsa Indonesia\\n\\n#HUTJokowi\\n#MenujuIndonesiaMaju https://t.co/r49PZr8BCK Ada apa dengan Almamater Ku\\nKenapa ada Tagar 👇\\n#InstitutPalingBorjuis IPB https://t.co/2dAqvkZhte Arie Poyuono : \"isu PKI dimainkan Kadrun\" ditujukan pada Kadal Gurun (Kadrun)\\n\\nKini Kita Bisa Tahu\\nMana Kadal 🦎 dan Mana Orang\\n\\n#PKS_SarangKadrun \\n#RekayasaDidzolimi https://t.co/Wbp7GCU4oc -\\nMat Sore Drun\\nAda Drama Apalagi Malam ini ?\\n\\nSemalam Kalian Begadang sampai Pagi ya ? Apa karena Hari ini Ada Pencairan ?\\n\\n#PKS_SarangKadrun\\n#TenggelamkanKadrun https://t.co/avgdyfidjO RT @AvatarPemburu: Hukum tabur tuai..Apa yang kau tanam, itu yang kau tuai..Siap-siaplah hai para Provokator Bangs*t akan berhadapan dengan… RT @August44114438: PDIP di tuduh sebagai Neo PKI, di tuduh ingin mengganti Pancasila, sampailah demo &amp; bakar bendera. Lalu sekarang mau ng…'"
      ]
     },
     "execution_count": 85,
     "metadata": {},
     "output_type": "execute_result"
    }
   ],
   "source": [
    "d_dataset.loc[0, 'text_used']"
   ]
  },
  {
   "cell_type": "code",
   "execution_count": 86,
   "metadata": {},
   "outputs": [
    {
     "data": {
      "text/plain": [
       "'hari jadi twitter saya 28 juni 2017 <LINK> g penjilat yang berkedok agama pecat tengkuzul dari mui pecat tengkuzul dari mui <LINK> 600 orang ikut rapid test polri saat cfd di jakarta 5 orang reaktif klo begini nanti ada konpres ga ya <LINK> pq1ij fl sebelum kemunculan hrs tak ada catatan mengenai konflik antara habaib dan nahdliyin kecuali kasus individual habib husein al habsyi yg menyerukan penggulingan gus dur dari kursi kepresidenan pada 2001 <USERNAME> nadjb <LINK> kb n selamat ulang tahun ke 59 presiden republik indonesia panglima tertinggi bapak joko widodo <USERNAME> semoga selalu diberikan kesehatan kekuatan dan kesuksesan menjadi pemimpin dalam memakmurkan dan mensejahterakan bangsa indonesia hutjokowi menuju indonesia maju <LINK> ada apa dengan almamater ku kenapa ada tagar institut paling borjuis ipb <LINK> aqvk zhte arie poyuono isu pki dimainkan kadrun ditujukan pada kadal gurun kadrun kini kita bisa tahu mana kadal dan mana orang pks sarang kadrun rekayasa didzolimi <LINK> mat sore drun ada drama apalagi malam ini semalam kalian begadang sampai pagi ya apa karena hari ini ada pencairan pks sarang kadrun tenggelamkan kadrun <LINK> o rt <USERNAME> pemburu hukum tabur tuai apa yang kau tanam itu yang kau tuai siap siaplah hai para provokator bangs t akan berhadapan dengan rt <USERNAME> pdip di tuduh sebagai neo pki di tuduh ingin mengganti pancasila sampailah demo amp bakar bendera lalu sekarang mau ng'"
      ]
     },
     "execution_count": 86,
     "metadata": {},
     "output_type": "execute_result"
    }
   ],
   "source": [
    "d_dataset.loc[0, 'preprocessed_text']"
   ]
  },
  {
   "cell_type": "code",
   "execution_count": 87,
   "metadata": {},
   "outputs": [],
   "source": [
    "d_train = d_dataset.dropna()\n",
    "d_test = d_dataset[d_dataset.label.isna()]"
   ]
  },
  {
   "cell_type": "code",
   "execution_count": 88,
   "metadata": {},
   "outputs": [],
   "source": [
    "d_train = d_train[[\"screen_name\", \"full_text\", \"text_used\", \"preprocessed_text\", \"label\"]]"
   ]
  },
  {
   "cell_type": "code",
   "execution_count": 89,
   "metadata": {},
   "outputs": [],
   "source": [
    "d_train.loc[:, 'label_encoded'] = d_train.label.map({'buzzer': 1, 'non-buzzer': 0})"
   ]
  },
  {
   "cell_type": "code",
   "execution_count": 90,
   "metadata": {},
   "outputs": [
    {
     "data": {
      "text/html": [
       "<div>\n",
       "<style scoped>\n",
       "    .dataframe tbody tr th:only-of-type {\n",
       "        vertical-align: middle;\n",
       "    }\n",
       "\n",
       "    .dataframe tbody tr th {\n",
       "        vertical-align: top;\n",
       "    }\n",
       "\n",
       "    .dataframe thead th {\n",
       "        text-align: right;\n",
       "    }\n",
       "</style>\n",
       "<table border=\"1\" class=\"dataframe\">\n",
       "  <thead>\n",
       "    <tr style=\"text-align: right;\">\n",
       "      <th></th>\n",
       "      <th>screen_name</th>\n",
       "      <th>full_text</th>\n",
       "      <th>text_used</th>\n",
       "      <th>preprocessed_text</th>\n",
       "      <th>label</th>\n",
       "      <th>label_encoded</th>\n",
       "    </tr>\n",
       "  </thead>\n",
       "  <tbody>\n",
       "    <tr>\n",
       "      <th>1</th>\n",
       "      <td>02Trus</td>\n",
       "      <td>[RT @SaveMoslem1: *Asyeeekkk.... PDIP kena jeb...</td>\n",
       "      <td>RT @SaveMoslem1: *Asyeeekkk.... PDIP kena jeba...</td>\n",
       "      <td>rt &lt;USERNAME&gt; moslem1 asyeeekkk pdip kena jeba...</td>\n",
       "      <td>buzzer</td>\n",
       "      <td>1</td>\n",
       "    </tr>\n",
       "    <tr>\n",
       "      <th>3</th>\n",
       "      <td>0b4tk3lu4r94</td>\n",
       "      <td>[Sebentar....bentar gue hrs inget2 nih berukny...</td>\n",
       "      <td>Sebentar....bentar gue hrs inget2 nih beruknya...</td>\n",
       "      <td>sebentar bentar gue hrs inget2 nih beruknya sa...</td>\n",
       "      <td>non-buzzer</td>\n",
       "      <td>0</td>\n",
       "    </tr>\n",
       "    <tr>\n",
       "      <th>5</th>\n",
       "      <td>0mega01</td>\n",
       "      <td>[Tayang #programfolback \\n#MutualMilenial \\nFo...</td>\n",
       "      <td>Tayang #programfolback \\n#MutualMilenial \\nFol...</td>\n",
       "      <td>tayang programfolback mutual milenial follow &lt;...</td>\n",
       "      <td>buzzer</td>\n",
       "      <td>1</td>\n",
       "    </tr>\n",
       "    <tr>\n",
       "      <th>6</th>\n",
       "      <td>0v4lt1n3_</td>\n",
       "      <td>[..dan produk yang pro-Zionis. \\n\\nSayang.. Te...</td>\n",
       "      <td>..dan produk yang pro-Zionis. \\n\\nSayang.. Ter...</td>\n",
       "      <td>dan produk yang pro zionis sayang terlambat se...</td>\n",
       "      <td>non-buzzer</td>\n",
       "      <td>0</td>\n",
       "    </tr>\n",
       "    <tr>\n",
       "      <th>8</th>\n",
       "      <td>17Mutawakkil</td>\n",
       "      <td>[Dengarkan podcast saya, Sambatan Harapan di G...</td>\n",
       "      <td>Dengarkan podcast saya, Sambatan Harapan di Go...</td>\n",
       "      <td>dengarkan podcast saya sambatan harapan di goo...</td>\n",
       "      <td>non-buzzer</td>\n",
       "      <td>0</td>\n",
       "    </tr>\n",
       "  </tbody>\n",
       "</table>\n",
       "</div>"
      ],
      "text/plain": [
       "    screen_name                                          full_text  \\\n",
       "1        02Trus  [RT @SaveMoslem1: *Asyeeekkk.... PDIP kena jeb...   \n",
       "3  0b4tk3lu4r94  [Sebentar....bentar gue hrs inget2 nih berukny...   \n",
       "5       0mega01  [Tayang #programfolback \\n#MutualMilenial \\nFo...   \n",
       "6     0v4lt1n3_  [..dan produk yang pro-Zionis. \\n\\nSayang.. Te...   \n",
       "8  17Mutawakkil  [Dengarkan podcast saya, Sambatan Harapan di G...   \n",
       "\n",
       "                                           text_used  \\\n",
       "1  RT @SaveMoslem1: *Asyeeekkk.... PDIP kena jeba...   \n",
       "3  Sebentar....bentar gue hrs inget2 nih beruknya...   \n",
       "5  Tayang #programfolback \\n#MutualMilenial \\nFol...   \n",
       "6  ..dan produk yang pro-Zionis. \\n\\nSayang.. Ter...   \n",
       "8  Dengarkan podcast saya, Sambatan Harapan di Go...   \n",
       "\n",
       "                                   preprocessed_text       label  \\\n",
       "1  rt <USERNAME> moslem1 asyeeekkk pdip kena jeba...      buzzer   \n",
       "3  sebentar bentar gue hrs inget2 nih beruknya sa...  non-buzzer   \n",
       "5  tayang programfolback mutual milenial follow <...      buzzer   \n",
       "6  dan produk yang pro zionis sayang terlambat se...  non-buzzer   \n",
       "8  dengarkan podcast saya sambatan harapan di goo...  non-buzzer   \n",
       "\n",
       "   label_encoded  \n",
       "1              1  \n",
       "3              0  \n",
       "5              1  \n",
       "6              0  \n",
       "8              0  "
      ]
     },
     "execution_count": 90,
     "metadata": {},
     "output_type": "execute_result"
    }
   ],
   "source": [
    "d_train.head()"
   ]
  },
  {
   "cell_type": "code",
   "execution_count": 91,
   "metadata": {},
   "outputs": [
    {
     "data": {
      "text/plain": [
       "<matplotlib.axes._subplots.AxesSubplot at 0x13dc6926828>"
      ]
     },
     "execution_count": 91,
     "metadata": {},
     "output_type": "execute_result"
    },
    {
     "data": {
      "image/png": "[encoded data removed]",
      "text/plain": [
       "<Figure size 432x288 with 1 Axes>"
      ]
     },
     "metadata": {},
     "output_type": "display_data"
    }
   ],
   "source": [
    "d_train.label_encoded.value_counts().plot(kind='pie', autopct='%.2f')"
   ]
  },
  {
   "cell_type": "markdown",
   "metadata": {},
   "source": [
    "### Exprimenting with simple algorithm"
   ]
  },
  {
   "cell_type": "code",
   "execution_count": 92,
   "metadata": {},
   "outputs": [],
   "source": [
    "tfidf = TfidfVectorizer()"
   ]
  },
  {
   "cell_type": "code",
   "execution_count": 93,
   "metadata": {},
   "outputs": [],
   "source": [
    "text_tfidf = tfidf.fit_transform(d_train.preprocessed_text)"
   ]
  },
  {
   "cell_type": "code",
   "execution_count": 137,
   "metadata": {},
   "outputs": [
    {
     "data": {
      "text/plain": [
       "(3099, 64690)"
      ]
     },
     "execution_count": 137,
     "metadata": {},
     "output_type": "execute_result"
    }
   ],
   "source": [
    "text_tfidf.shape"
   ]
  },
  {
   "cell_type": "code",
   "execution_count": 130,
   "metadata": {},
   "outputs": [],
   "source": [
    "X_train, X_test, y_train, y_test = train_test_split(text_tfidf, d_train.label_encoded, test_size=0.2, random_state=123)"
   ]
  },
  {
   "cell_type": "code",
   "execution_count": 131,
   "metadata": {},
   "outputs": [
    {
     "data": {
      "text/plain": [
       "0    1838\n",
       "1     641\n",
       "Name: label_encoded, dtype: int64"
      ]
     },
     "execution_count": 131,
     "metadata": {},
     "output_type": "execute_result"
    }
   ],
   "source": [
    "y_train.value_counts()"
   ]
  },
  {
   "cell_type": "code",
   "execution_count": 132,
   "metadata": {},
   "outputs": [
    {
     "data": {
      "text/plain": [
       "0    470\n",
       "1    150\n",
       "Name: label_encoded, dtype: int64"
      ]
     },
     "execution_count": 132,
     "metadata": {},
     "output_type": "execute_result"
    }
   ],
   "source": [
    "y_test.value_counts()"
   ]
  },
  {
   "cell_type": "code",
   "execution_count": 133,
   "metadata": {},
   "outputs": [],
   "source": [
    "def scoring(y_test, y_pred):\n",
    "    \n",
    "    acc = accuracy_score(y_test, y_pred)\n",
    "    pre = precision_score(y_test, y_pred)\n",
    "    rec = recall_score(y_test, y_pred)\n",
    "    f1 = f1_score(y_test, y_pred)\n",
    "    \n",
    "    print(f\"accuracy: {acc:.2f} | precision: {pre:.2f} | recall: {rec:.2f} | f score: {f1:.2f}\")"
   ]
  },
  {
   "cell_type": "code",
   "execution_count": 134,
   "metadata": {},
   "outputs": [
    {
     "name": "stdout",
     "output_type": "stream",
     "text": [
      "accuracy: 0.78 | precision: 0.60 | recall: 0.21 | f score: 0.32\n"
     ]
    }
   ],
   "source": [
    "model = BernoulliNB()\n",
    "model.fit(X_train, y_train)\n",
    "y_pred = model.predict(X_test)\n",
    "scoring(y_test, y_pred)"
   ]
  },
  {
   "cell_type": "code",
   "execution_count": 135,
   "metadata": {},
   "outputs": [
    {
     "name": "stdout",
     "output_type": "stream",
     "text": [
      "accuracy: 0.85 | precision: 0.74 | recall: 0.57 | f score: 0.64\n"
     ]
    }
   ],
   "source": [
    "model = SVC(gamma='scale', kernel='linear')\n",
    "model.fit(X_train, y_train)\n",
    "y_pred = model.predict(X_test)\n",
    "scoring(y_test, y_pred)"
   ]
  },
  {
   "cell_type": "code",
   "execution_count": 136,
   "metadata": {},
   "outputs": [
    {
     "name": "stdout",
     "output_type": "stream",
     "text": [
      "accuracy: 0.82 | precision: 0.74 | recall: 0.43 | f score: 0.54\n"
     ]
    }
   ],
   "source": [
    "model = RandomForestClassifier(n_estimators=100)\n",
    "model.fit(X_train, y_train)\n",
    "y_pred = model.predict(X_test)\n",
    "scoring(y_test, y_pred)"
   ]
  },
  {
   "cell_type": "code",
   "execution_count": 140,
   "metadata": {},
   "outputs": [
    {
     "name": "stdout",
     "output_type": "stream",
     "text": [
      "accuracy: 0.84 | precision: 0.73 | recall: 0.55 | f score: 0.63\n"
     ]
    }
   ],
   "source": [
    "model = GradientBoostingClassifier(n_estimators=200)\n",
    "model.fit(X_train, y_train)\n",
    "y_pred = model.predict(X_test)\n",
    "scoring(y_test, y_pred)"
   ]
  },
  {
   "cell_type": "code",
   "execution_count": 141,
   "metadata": {},
   "outputs": [
    {
     "name": "stdout",
     "output_type": "stream",
     "text": [
      "accuracy: 0.81 | precision: 0.63 | recall: 0.58 | f score: 0.60\n"
     ]
    }
   ],
   "source": [
    "model = AdaBoostClassifier(n_estimators=400)\n",
    "model.fit(X_train, y_train)\n",
    "y_pred = model.predict(X_test)\n",
    "scoring(y_test, y_pred)"
   ]
  },
  {
   "cell_type": "code",
   "execution_count": null,
   "metadata": {},
   "outputs": [],
   "source": []
  }
 ],
 "metadata": {
  "kernelspec": {
   "display_name": "Python 3",
   "language": "python",
   "name": "python3"
  },
  "language_info": {
   "codemirror_mode": {
    "name": "ipython",
    "version": 3
   },
   "file_extension": ".py",
   "mimetype": "text/x-python",
   "name": "python",
   "nbconvert_exporter": "python",
   "pygments_lexer": "ipython3",
   "version": "3.7.3"
  }
 },
 "nbformat": 4,
 "nbformat_minor": 4
}
