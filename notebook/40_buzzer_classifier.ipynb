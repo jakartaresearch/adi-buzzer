{
 "cells": [
  {
   "cell_type": "code",
   "execution_count": 102,
   "metadata": {},
   "outputs": [],
   "source": [
    "import os\n",
    "import re\n",
    "import json\n",
    "import glob\n",
    "import pickle\n",
    "import string\n",
    "import itertools\n",
    "import collections\n",
    "from tqdm import tqdm\n",
    "\n",
    "import pandas as pd\n",
    "import numpy as np\n",
    "import matplotlib.pyplot as plt\n",
    "import seaborn as sns\n",
    "\n",
    "from nltk import word_tokenize\n",
    "\n",
    "from sklearn.feature_extraction.text import TfidfVectorizer, TfidfTransformer\n",
    "from sklearn.model_selection import train_test_split, cross_val_score, StratifiedKFold\n",
    "from sklearn.naive_bayes import BernoulliNB\n",
    "from sklearn.svm import SVC\n",
    "from sklearn.ensemble import RandomForestClassifier, AdaBoostClassifier, GradientBoostingClassifier\n",
    "from sklearn.metrics import accuracy_score, precision_score, recall_score, f1_score\n",
    "\n",
    "%matplotlib inline"
   ]
  },
  {
   "cell_type": "code",
   "execution_count": 2,
   "metadata": {},
   "outputs": [],
   "source": [
    "tqdm.pandas()"
   ]
  },
  {
   "cell_type": "code",
   "execution_count": 3,
   "metadata": {},
   "outputs": [],
   "source": [
    "pd.set_option('display.max_rows', 10)"
   ]
  },
  {
   "cell_type": "code",
   "execution_count": 4,
   "metadata": {},
   "outputs": [],
   "source": [
    "# input path\n",
    "SUPPORT_PATH = \"../data/supports\""
   ]
  },
  {
   "cell_type": "code",
   "execution_count": 5,
   "metadata": {},
   "outputs": [],
   "source": [
    "def read_pickle(path):\n",
    "    with open(path, 'rb') as f:\n",
    "        return pickle.load(f)"
   ]
  },
  {
   "cell_type": "code",
   "execution_count": 6,
   "metadata": {},
   "outputs": [],
   "source": [
    "d_199 = read_pickle(os.path.join(SUPPORT_PATH, \"parsed_199.pkl\"))\n",
    "d_6725 = read_pickle(os.path.join(SUPPORT_PATH, \"parsed_7003.pkl\"))\n",
    "d_tweets = pd.concat([d_199, d_6725], axis = 0, sort=False)\n",
    "d_tweets.drop_duplicates(subset=\"id_tweet\", inplace=True)\n",
    "d_tweets.reset_index(drop=True, inplace=True)"
   ]
  },
  {
   "cell_type": "code",
   "execution_count": 7,
   "metadata": {},
   "outputs": [],
   "source": [
    "d_label = pd.read_csv(\"../data/account_labeled/label_updated.csv\")"
   ]
  },
  {
   "cell_type": "code",
   "execution_count": 8,
   "metadata": {},
   "outputs": [
    {
     "data": {
      "text/html": [
       "<div>\n",
       "<style scoped>\n",
       "    .dataframe tbody tr th:only-of-type {\n",
       "        vertical-align: middle;\n",
       "    }\n",
       "\n",
       "    .dataframe tbody tr th {\n",
       "        vertical-align: top;\n",
       "    }\n",
       "\n",
       "    .dataframe thead th {\n",
       "        text-align: right;\n",
       "    }\n",
       "</style>\n",
       "<table border=\"1\" class=\"dataframe\">\n",
       "  <thead>\n",
       "    <tr style=\"text-align: right;\">\n",
       "      <th></th>\n",
       "      <th>screen_name</th>\n",
       "      <th>label</th>\n",
       "    </tr>\n",
       "  </thead>\n",
       "  <tbody>\n",
       "    <tr>\n",
       "      <th>0</th>\n",
       "      <td>4SinCong</td>\n",
       "      <td>NaN</td>\n",
       "    </tr>\n",
       "    <tr>\n",
       "      <th>1</th>\n",
       "      <td>4rdipratama</td>\n",
       "      <td>NaN</td>\n",
       "    </tr>\n",
       "    <tr>\n",
       "      <th>2</th>\n",
       "      <td>ABackBone</td>\n",
       "      <td>NaN</td>\n",
       "    </tr>\n",
       "    <tr>\n",
       "      <th>3</th>\n",
       "      <td>ATAP03167829</td>\n",
       "      <td>NaN</td>\n",
       "    </tr>\n",
       "    <tr>\n",
       "      <th>4</th>\n",
       "      <td>AbdeeProklamasi</td>\n",
       "      <td>NaN</td>\n",
       "    </tr>\n",
       "  </tbody>\n",
       "</table>\n",
       "</div>"
      ],
      "text/plain": [
       "       screen_name label\n",
       "0         4SinCong   NaN\n",
       "1      4rdipratama   NaN\n",
       "2        ABackBone   NaN\n",
       "3     ATAP03167829   NaN\n",
       "4  AbdeeProklamasi   NaN"
      ]
     },
     "execution_count": 8,
     "metadata": {},
     "output_type": "execute_result"
    }
   ],
   "source": [
    "d_label.head()"
   ]
  },
  {
   "cell_type": "code",
   "execution_count": 9,
   "metadata": {},
   "outputs": [
    {
     "data": {
      "text/plain": [
       "(39353, 2)"
      ]
     },
     "execution_count": 9,
     "metadata": {},
     "output_type": "execute_result"
    }
   ],
   "source": [
    "d_label.shape"
   ]
  },
  {
   "cell_type": "code",
   "execution_count": 10,
   "metadata": {},
   "outputs": [
    {
     "data": {
      "text/html": [
       "<div>\n",
       "<style scoped>\n",
       "    .dataframe tbody tr th:only-of-type {\n",
       "        vertical-align: middle;\n",
       "    }\n",
       "\n",
       "    .dataframe tbody tr th {\n",
       "        vertical-align: top;\n",
       "    }\n",
       "\n",
       "    .dataframe thead th {\n",
       "        text-align: right;\n",
       "    }\n",
       "</style>\n",
       "<table border=\"1\" class=\"dataframe\">\n",
       "  <thead>\n",
       "    <tr style=\"text-align: right;\">\n",
       "      <th></th>\n",
       "      <th>screen_name</th>\n",
       "      <th>id_tweet</th>\n",
       "      <th>full_text</th>\n",
       "      <th>hashtags</th>\n",
       "      <th>user_mentions</th>\n",
       "      <th>created_at</th>\n",
       "      <th>quote_is_quote_status</th>\n",
       "      <th>quote_screen_name</th>\n",
       "      <th>quote_id_tweet</th>\n",
       "      <th>quote_full_text</th>\n",
       "      <th>quote_hashtags</th>\n",
       "      <th>quote_user_mentions</th>\n",
       "      <th>quote_created_at</th>\n",
       "      <th>in_reply_to_status_id_str</th>\n",
       "      <th>in_reply_to_user_id_str</th>\n",
       "      <th>in_reply_to_screen_name</th>\n",
       "    </tr>\n",
       "  </thead>\n",
       "  <tbody>\n",
       "    <tr>\n",
       "      <th>0</th>\n",
       "      <td>212Ujee2</td>\n",
       "      <td>1272955449160040449</td>\n",
       "      <td>#HapusRUUHIPDariMukaBumi \\n#HapusRUUHIPDariMuk...</td>\n",
       "      <td>[{'text': 'HapusRUUHIPDariMukaBumi', 'indices'...</td>\n",
       "      <td>[]</td>\n",
       "      <td>Tue Jun 16 18:13:24 +0000 2020</td>\n",
       "      <td>True</td>\n",
       "      <td>Par3w4_Minang</td>\n",
       "      <td>1272901801516335112</td>\n",
       "      <td>Moncong putih ingin cuci tangan \\n\\nKata si Po...</td>\n",
       "      <td>[]</td>\n",
       "      <td>[]</td>\n",
       "      <td>Tue Jun 16 14:40:13 +0000 2020</td>\n",
       "      <td>NaN</td>\n",
       "      <td>NaN</td>\n",
       "      <td>NaN</td>\n",
       "    </tr>\n",
       "    <tr>\n",
       "      <th>1</th>\n",
       "      <td>212Ujee2</td>\n",
       "      <td>1272573148974571526</td>\n",
       "      <td>Sampah n benalu\\nPerusak demokrasi wajib kita ...</td>\n",
       "      <td>[{'text': 'BuzzeRpPublicEnemy', 'indices': [59...</td>\n",
       "      <td>[]</td>\n",
       "      <td>Mon Jun 15 16:54:16 +0000 2020</td>\n",
       "      <td>NaN</td>\n",
       "      <td>NaN</td>\n",
       "      <td>NaN</td>\n",
       "      <td>NaN</td>\n",
       "      <td>NaN</td>\n",
       "      <td>NaN</td>\n",
       "      <td>NaN</td>\n",
       "      <td>NaN</td>\n",
       "      <td>NaN</td>\n",
       "      <td>NaN</td>\n",
       "    </tr>\n",
       "    <tr>\n",
       "      <th>2</th>\n",
       "      <td>212Ujee2</td>\n",
       "      <td>1272242834725208064</td>\n",
       "      <td>Saatnya kita bersatu\\nWahai umat Islam\\n\\n#Sto...</td>\n",
       "      <td>[{'text': 'Stop_RUUHIP', 'indices': [39, 51]},...</td>\n",
       "      <td>[]</td>\n",
       "      <td>Sun Jun 14 19:01:43 +0000 2020</td>\n",
       "      <td>NaN</td>\n",
       "      <td>NaN</td>\n",
       "      <td>NaN</td>\n",
       "      <td>NaN</td>\n",
       "      <td>NaN</td>\n",
       "      <td>NaN</td>\n",
       "      <td>NaN</td>\n",
       "      <td>NaN</td>\n",
       "      <td>NaN</td>\n",
       "      <td>NaN</td>\n",
       "    </tr>\n",
       "    <tr>\n",
       "      <th>3</th>\n",
       "      <td>212Ujee2</td>\n",
       "      <td>1267860265694978049</td>\n",
       "      <td>Umat Islam\\nHrs diam \\nTerus sampai kapan?\\nKe...</td>\n",
       "      <td>[{'text': 'BalikinDanaHaji', 'indices': [104, ...</td>\n",
       "      <td>[]</td>\n",
       "      <td>Tue Jun 02 16:46:57 +0000 2020</td>\n",
       "      <td>NaN</td>\n",
       "      <td>NaN</td>\n",
       "      <td>NaN</td>\n",
       "      <td>NaN</td>\n",
       "      <td>NaN</td>\n",
       "      <td>NaN</td>\n",
       "      <td>NaN</td>\n",
       "      <td>NaN</td>\n",
       "      <td>NaN</td>\n",
       "      <td>NaN</td>\n",
       "    </tr>\n",
       "    <tr>\n",
       "      <th>4</th>\n",
       "      <td>212Ujee2</td>\n",
       "      <td>1266354000716107780</td>\n",
       "      <td>Hai Pemimpin !!!\\nApakah udh ga ada lagi \\nPro...</td>\n",
       "      <td>[{'text': 'DirutBokep', 'indices': [204, 215]}...</td>\n",
       "      <td>[{'screen_name': '__p3jalan____', 'name': 'p3j...</td>\n",
       "      <td>Fri May 29 13:01:36 +0000 2020</td>\n",
       "      <td>NaN</td>\n",
       "      <td>NaN</td>\n",
       "      <td>NaN</td>\n",
       "      <td>NaN</td>\n",
       "      <td>NaN</td>\n",
       "      <td>NaN</td>\n",
       "      <td>NaN</td>\n",
       "      <td>NaN</td>\n",
       "      <td>NaN</td>\n",
       "      <td>NaN</td>\n",
       "    </tr>\n",
       "  </tbody>\n",
       "</table>\n",
       "</div>"
      ],
      "text/plain": [
       "  screen_name             id_tweet  \\\n",
       "0    212Ujee2  1272955449160040449   \n",
       "1    212Ujee2  1272573148974571526   \n",
       "2    212Ujee2  1272242834725208064   \n",
       "3    212Ujee2  1267860265694978049   \n",
       "4    212Ujee2  1266354000716107780   \n",
       "\n",
       "                                           full_text  \\\n",
       "0  #HapusRUUHIPDariMukaBumi \\n#HapusRUUHIPDariMuk...   \n",
       "1  Sampah n benalu\\nPerusak demokrasi wajib kita ...   \n",
       "2  Saatnya kita bersatu\\nWahai umat Islam\\n\\n#Sto...   \n",
       "3  Umat Islam\\nHrs diam \\nTerus sampai kapan?\\nKe...   \n",
       "4  Hai Pemimpin !!!\\nApakah udh ga ada lagi \\nPro...   \n",
       "\n",
       "                                            hashtags  \\\n",
       "0  [{'text': 'HapusRUUHIPDariMukaBumi', 'indices'...   \n",
       "1  [{'text': 'BuzzeRpPublicEnemy', 'indices': [59...   \n",
       "2  [{'text': 'Stop_RUUHIP', 'indices': [39, 51]},...   \n",
       "3  [{'text': 'BalikinDanaHaji', 'indices': [104, ...   \n",
       "4  [{'text': 'DirutBokep', 'indices': [204, 215]}...   \n",
       "\n",
       "                                       user_mentions  \\\n",
       "0                                                 []   \n",
       "1                                                 []   \n",
       "2                                                 []   \n",
       "3                                                 []   \n",
       "4  [{'screen_name': '__p3jalan____', 'name': 'p3j...   \n",
       "\n",
       "                       created_at quote_is_quote_status quote_screen_name  \\\n",
       "0  Tue Jun 16 18:13:24 +0000 2020                  True     Par3w4_Minang   \n",
       "1  Mon Jun 15 16:54:16 +0000 2020                   NaN               NaN   \n",
       "2  Sun Jun 14 19:01:43 +0000 2020                   NaN               NaN   \n",
       "3  Tue Jun 02 16:46:57 +0000 2020                   NaN               NaN   \n",
       "4  Fri May 29 13:01:36 +0000 2020                   NaN               NaN   \n",
       "\n",
       "        quote_id_tweet                                    quote_full_text  \\\n",
       "0  1272901801516335112  Moncong putih ingin cuci tangan \\n\\nKata si Po...   \n",
       "1                  NaN                                                NaN   \n",
       "2                  NaN                                                NaN   \n",
       "3                  NaN                                                NaN   \n",
       "4                  NaN                                                NaN   \n",
       "\n",
       "  quote_hashtags quote_user_mentions                quote_created_at  \\\n",
       "0             []                  []  Tue Jun 16 14:40:13 +0000 2020   \n",
       "1            NaN                 NaN                             NaN   \n",
       "2            NaN                 NaN                             NaN   \n",
       "3            NaN                 NaN                             NaN   \n",
       "4            NaN                 NaN                             NaN   \n",
       "\n",
       "  in_reply_to_status_id_str in_reply_to_user_id_str in_reply_to_screen_name  \n",
       "0                       NaN                     NaN                     NaN  \n",
       "1                       NaN                     NaN                     NaN  \n",
       "2                       NaN                     NaN                     NaN  \n",
       "3                       NaN                     NaN                     NaN  \n",
       "4                       NaN                     NaN                     NaN  "
      ]
     },
     "execution_count": 10,
     "metadata": {},
     "output_type": "execute_result"
    }
   ],
   "source": [
    "d_tweets.head()"
   ]
  },
  {
   "cell_type": "code",
   "execution_count": 11,
   "metadata": {},
   "outputs": [
    {
     "data": {
      "text/plain": [
       "(1983967, 16)"
      ]
     },
     "execution_count": 11,
     "metadata": {},
     "output_type": "execute_result"
    }
   ],
   "source": [
    "d_tweets.shape"
   ]
  },
  {
   "cell_type": "code",
   "execution_count": 12,
   "metadata": {},
   "outputs": [],
   "source": [
    "d_label = d_label[~d_label.label.isna()]"
   ]
  },
  {
   "cell_type": "code",
   "execution_count": 13,
   "metadata": {},
   "outputs": [
    {
     "data": {
      "text/html": [
       "<div>\n",
       "<style scoped>\n",
       "    .dataframe tbody tr th:only-of-type {\n",
       "        vertical-align: middle;\n",
       "    }\n",
       "\n",
       "    .dataframe tbody tr th {\n",
       "        vertical-align: top;\n",
       "    }\n",
       "\n",
       "    .dataframe thead th {\n",
       "        text-align: right;\n",
       "    }\n",
       "</style>\n",
       "<table border=\"1\" class=\"dataframe\">\n",
       "  <thead>\n",
       "    <tr style=\"text-align: right;\">\n",
       "      <th></th>\n",
       "      <th>screen_name</th>\n",
       "      <th>label</th>\n",
       "    </tr>\n",
       "  </thead>\n",
       "  <tbody>\n",
       "    <tr>\n",
       "      <th>33186</th>\n",
       "      <td>02Trus</td>\n",
       "      <td>buzzer</td>\n",
       "    </tr>\n",
       "    <tr>\n",
       "      <th>33188</th>\n",
       "      <td>0b4tk3lu4r94</td>\n",
       "      <td>non-buzzer</td>\n",
       "    </tr>\n",
       "    <tr>\n",
       "      <th>33190</th>\n",
       "      <td>0mega01</td>\n",
       "      <td>buzzer</td>\n",
       "    </tr>\n",
       "    <tr>\n",
       "      <th>33191</th>\n",
       "      <td>0v4lt1n3_</td>\n",
       "      <td>non-buzzer</td>\n",
       "    </tr>\n",
       "    <tr>\n",
       "      <th>33193</th>\n",
       "      <td>17Mutawakkil</td>\n",
       "      <td>non-buzzer</td>\n",
       "    </tr>\n",
       "  </tbody>\n",
       "</table>\n",
       "</div>"
      ],
      "text/plain": [
       "        screen_name       label\n",
       "33186        02Trus      buzzer\n",
       "33188  0b4tk3lu4r94  non-buzzer\n",
       "33190       0mega01      buzzer\n",
       "33191     0v4lt1n3_  non-buzzer\n",
       "33193  17Mutawakkil  non-buzzer"
      ]
     },
     "execution_count": 13,
     "metadata": {},
     "output_type": "execute_result"
    }
   ],
   "source": [
    "d_label.head()"
   ]
  },
  {
   "cell_type": "code",
   "execution_count": 14,
   "metadata": {},
   "outputs": [
    {
     "data": {
      "text/plain": [
       "non-buzzer    2094\n",
       "buzzer         713\n",
       "Name: label, dtype: int64"
      ]
     },
     "execution_count": 14,
     "metadata": {},
     "output_type": "execute_result"
    }
   ],
   "source": [
    "d_label.label.value_counts()"
   ]
  },
  {
   "cell_type": "code",
   "execution_count": 15,
   "metadata": {},
   "outputs": [
    {
     "data": {
      "text/plain": [
       "(2797,)"
      ]
     },
     "execution_count": 15,
     "metadata": {},
     "output_type": "execute_result"
    }
   ],
   "source": [
    "# 2797 accounts are labeled, the rest are excluded before parsing\n",
    "d_tweets[d_tweets.screen_name.isin(d_label.screen_name)].screen_name.unique().shape"
   ]
  },
  {
   "cell_type": "code",
   "execution_count": 16,
   "metadata": {},
   "outputs": [],
   "source": [
    "d_dataset = d_tweets.groupby('screen_name')['full_text'].apply(list)\n",
    "d_dataset = d_dataset.reset_index()\n",
    "\n",
    "# join dataset and label\n",
    "d_dataset = d_dataset.join(d_label.set_index('screen_name'), on='screen_name')"
   ]
  },
  {
   "cell_type": "code",
   "execution_count": 17,
   "metadata": {},
   "outputs": [],
   "source": [
    "def get_profile_key(screen_name, key):\n",
    "    profile_path = os.path.join(f\"../data/profile/{screen_name}.json\")\n",
    "    if os.path.exists(profile_path):\n",
    "        with open(profile_path) as f:\n",
    "            data = json.load(f)\n",
    "            if isinstance(data, dict):\n",
    "                return data.get(key, None)\n",
    "            else:\n",
    "                return None"
   ]
  },
  {
   "cell_type": "code",
   "execution_count": 18,
   "metadata": {},
   "outputs": [
    {
     "name": "stderr",
     "output_type": "stream",
     "text": [
      "100%|████████████████████████████████████████████████████████████████████████████| 6866/6866 [00:02<00:00, 3001.02it/s]\n"
     ]
    }
   ],
   "source": [
    "# get verified\n",
    "d_dataset[\"is_verified\"] = d_dataset.screen_name.progress_apply(get_profile_key, args=('verified', ))"
   ]
  },
  {
   "cell_type": "code",
   "execution_count": 19,
   "metadata": {},
   "outputs": [
    {
     "data": {
      "text/plain": [
       "False    2986\n",
       "True       96\n",
       "Name: is_verified, dtype: int64"
      ]
     },
     "execution_count": 19,
     "metadata": {},
     "output_type": "execute_result"
    }
   ],
   "source": [
    "d_dataset.is_verified.value_counts()"
   ]
  },
  {
   "cell_type": "code",
   "execution_count": 20,
   "metadata": {},
   "outputs": [
    {
     "name": "stderr",
     "output_type": "stream",
     "text": [
      "100%|████████████████████████████████████████████████████████████████████████████| 6866/6866 [00:02<00:00, 3301.61it/s]\n"
     ]
    }
   ],
   "source": [
    "# get description profile\n",
    "d_dataset[\"profile_description\"] = d_dataset.screen_name.progress_apply(get_profile_key, args=('description', ))"
   ]
  },
  {
   "cell_type": "code",
   "execution_count": 21,
   "metadata": {},
   "outputs": [],
   "source": [
    "def check_akun_resmi(description):\n",
    "    if description:\n",
    "        if re.search(\"akun .* resmi\", description.lower()):\n",
    "            return True\n",
    "        else:\n",
    "            return False\n",
    "    else:\n",
    "        return False"
   ]
  },
  {
   "cell_type": "code",
   "execution_count": 22,
   "metadata": {},
   "outputs": [],
   "source": [
    "d_dataset[\"is_akun_resmi\"] = d_dataset.profile_description.apply(check_akun_resmi)"
   ]
  },
  {
   "cell_type": "code",
   "execution_count": 23,
   "metadata": {},
   "outputs": [],
   "source": [
    "d_dataset.loc[:, 'num_tweets'] = d_dataset.full_text.apply(lambda x : len(x))"
   ]
  },
  {
   "cell_type": "code",
   "execution_count": 24,
   "metadata": {},
   "outputs": [],
   "source": [
    "d_dataset2 = d_dataset[d_dataset.num_tweets >= 20]"
   ]
  },
  {
   "cell_type": "code",
   "execution_count": 25,
   "metadata": {},
   "outputs": [
    {
     "data": {
      "text/plain": [
       "(6866, 7)"
      ]
     },
     "execution_count": 25,
     "metadata": {},
     "output_type": "execute_result"
    }
   ],
   "source": [
    "d_dataset.shape"
   ]
  },
  {
   "cell_type": "code",
   "execution_count": 26,
   "metadata": {},
   "outputs": [
    {
     "data": {
      "text/plain": [
       "(6730, 7)"
      ]
     },
     "execution_count": 26,
     "metadata": {},
     "output_type": "execute_result"
    }
   ],
   "source": [
    "d_dataset2.shape"
   ]
  },
  {
   "cell_type": "code",
   "execution_count": 27,
   "metadata": {},
   "outputs": [
    {
     "name": "stderr",
     "output_type": "stream",
     "text": [
      "C:\\Users\\Andreas Chandra\\AppData\\Roaming\\Python\\Python37\\site-packages\\ipykernel_launcher.py:2: SettingWithCopyWarning: \n",
      "A value is trying to be set on a copy of a slice from a DataFrame.\n",
      "Try using .loc[row_indexer,col_indexer] = value instead\n",
      "\n",
      "See the caveats in the documentation: https://pandas.pydata.org/pandas-docs/stable/user_guide/indexing.html#returning-a-view-versus-a-copy\n",
      "  \n"
     ]
    }
   ],
   "source": [
    "# using 10 samples\n",
    "d_dataset2['text_used'] = d_dataset2.full_text.apply(lambda x: \" \".join(x[:30]))"
   ]
  },
  {
   "cell_type": "code",
   "execution_count": 28,
   "metadata": {},
   "outputs": [
    {
     "data": {
      "text/plain": [
       "(6730, 8)"
      ]
     },
     "execution_count": 28,
     "metadata": {},
     "output_type": "execute_result"
    }
   ],
   "source": [
    "d_dataset2.shape"
   ]
  },
  {
   "cell_type": "code",
   "execution_count": 29,
   "metadata": {},
   "outputs": [],
   "source": [
    "d_dataset2 = d_dataset2[(d_dataset2.is_verified == False) & (d_dataset2.is_akun_resmi == False)]"
   ]
  },
  {
   "cell_type": "code",
   "execution_count": 30,
   "metadata": {},
   "outputs": [
    {
     "data": {
      "text/plain": [
       "(2968, 8)"
      ]
     },
     "execution_count": 30,
     "metadata": {},
     "output_type": "execute_result"
    }
   ],
   "source": [
    "d_dataset2.shape"
   ]
  },
  {
   "cell_type": "code",
   "execution_count": 31,
   "metadata": {},
   "outputs": [],
   "source": [
    "d_train = d_dataset2[d_dataset2.label.notna()]"
   ]
  },
  {
   "cell_type": "code",
   "execution_count": 32,
   "metadata": {},
   "outputs": [],
   "source": [
    "d_train.reset_index(drop=True, inplace=True)"
   ]
  },
  {
   "cell_type": "code",
   "execution_count": 33,
   "metadata": {},
   "outputs": [
    {
     "data": {
      "text/plain": [
       "(1333, 8)"
      ]
     },
     "execution_count": 33,
     "metadata": {},
     "output_type": "execute_result"
    }
   ],
   "source": [
    "d_train.shape"
   ]
  },
  {
   "cell_type": "code",
   "execution_count": 34,
   "metadata": {},
   "outputs": [],
   "source": [
    "def text_cleansing(title):\n",
    "    punctuation = '!\"#$%&\\'()*+,-./:;=?@[\\\\]^_`{|}~'\n",
    "    table = str.maketrans(punctuation, ' '*len(punctuation)) #map punctuation to space\n",
    "    \n",
    "    # parse hashtag\n",
    "    title = re.sub(r\"([a-z])([A-Z])\", r\"\\1 \\2\", title)\n",
    "    # lowercase\n",
    "    title = title.lower()\n",
    "    # convert hyperlinks to link\n",
    "#     title = re.sub('http(s):/\\/\\\\S+', '<LINK> ', title)\n",
    "    title = re.sub('http(s):/\\/\\\\S+', ' ', title)\n",
    "    # convert @username to username\n",
    "#     title = re.sub('@\\w+', '<USERNAME>', title)\n",
    "    title = re.sub('@\\w+', ' ', title)\n",
    "    # remove punctuation\n",
    "    title = title.translate(table)\n",
    "    # only take string started with alphanum\n",
    "    title = re.sub(\"[^(\\w|\\<\\>)]\", ' ', title)\n",
    "    # remove double whitespaces\n",
    "    title = re.sub('\\s+', ' ', title)\n",
    "    # remove double whitespaces\n",
    "    title = title.strip()\n",
    "    \n",
    "    return title"
   ]
  },
  {
   "cell_type": "code",
   "execution_count": 35,
   "metadata": {},
   "outputs": [
    {
     "name": "stderr",
     "output_type": "stream",
     "text": [
      "C:\\Users\\Andreas Chandra\\AppData\\Roaming\\Python\\Python37\\site-packages\\ipykernel_launcher.py:1: SettingWithCopyWarning: \n",
      "A value is trying to be set on a copy of a slice from a DataFrame.\n",
      "Try using .loc[row_indexer,col_indexer] = value instead\n",
      "\n",
      "See the caveats in the documentation: https://pandas.pydata.org/pandas-docs/stable/user_guide/indexing.html#returning-a-view-versus-a-copy\n",
      "  \"\"\"Entry point for launching an IPython kernel.\n"
     ]
    }
   ],
   "source": [
    "d_train[\"preprocessed_text\"] = d_train.text_used.apply(text_cleansing)"
   ]
  },
  {
   "cell_type": "code",
   "execution_count": 36,
   "metadata": {},
   "outputs": [
    {
     "name": "stderr",
     "output_type": "stream",
     "text": [
      "c:\\users\\andreas chandra\\appdata\\local\\continuum\\anaconda3\\lib\\site-packages\\pandas\\core\\indexing.py:1597: SettingWithCopyWarning: \n",
      "A value is trying to be set on a copy of a slice from a DataFrame.\n",
      "Try using .loc[row_indexer,col_indexer] = value instead\n",
      "\n",
      "See the caveats in the documentation: https://pandas.pydata.org/pandas-docs/stable/user_guide/indexing.html#returning-a-view-versus-a-copy\n",
      "  self.obj[key] = value\n",
      "c:\\users\\andreas chandra\\appdata\\local\\continuum\\anaconda3\\lib\\site-packages\\pandas\\core\\indexing.py:1676: SettingWithCopyWarning: \n",
      "A value is trying to be set on a copy of a slice from a DataFrame.\n",
      "Try using .loc[row_indexer,col_indexer] = value instead\n",
      "\n",
      "See the caveats in the documentation: https://pandas.pydata.org/pandas-docs/stable/user_guide/indexing.html#returning-a-view-versus-a-copy\n",
      "  self._setitem_single_column(ilocs[0], value, pi)\n"
     ]
    }
   ],
   "source": [
    "d_train.loc[:, 'preprocessed_text_token'] = d_train.preprocessed_text.apply(word_tokenize)"
   ]
  },
  {
   "cell_type": "code",
   "execution_count": 37,
   "metadata": {},
   "outputs": [
    {
     "data": {
      "text/html": [
       "<div>\n",
       "<style scoped>\n",
       "    .dataframe tbody tr th:only-of-type {\n",
       "        vertical-align: middle;\n",
       "    }\n",
       "\n",
       "    .dataframe tbody tr th {\n",
       "        vertical-align: top;\n",
       "    }\n",
       "\n",
       "    .dataframe thead th {\n",
       "        text-align: right;\n",
       "    }\n",
       "</style>\n",
       "<table border=\"1\" class=\"dataframe\">\n",
       "  <thead>\n",
       "    <tr style=\"text-align: right;\">\n",
       "      <th></th>\n",
       "      <th>screen_name</th>\n",
       "      <th>full_text</th>\n",
       "      <th>label</th>\n",
       "      <th>is_verified</th>\n",
       "      <th>profile_description</th>\n",
       "      <th>is_akun_resmi</th>\n",
       "      <th>num_tweets</th>\n",
       "      <th>text_used</th>\n",
       "      <th>preprocessed_text</th>\n",
       "      <th>preprocessed_text_token</th>\n",
       "    </tr>\n",
       "  </thead>\n",
       "  <tbody>\n",
       "    <tr>\n",
       "      <th>0</th>\n",
       "      <td>0b4tk3lu4r94</td>\n",
       "      <td>[Sebentar....bentar gue hrs inget2 nih berukny...</td>\n",
       "      <td>non-buzzer</td>\n",
       "      <td>False</td>\n",
       "      <td>Bergerak dan berdoa teros ajah</td>\n",
       "      <td>False</td>\n",
       "      <td>300</td>\n",
       "      <td>Sebentar....bentar gue hrs inget2 nih beruknya...</td>\n",
       "      <td>sebentar bentar gue hrs inget2 nih beruknya sa...</td>\n",
       "      <td>[sebentar, bentar, gue, hrs, inget2, nih, beru...</td>\n",
       "    </tr>\n",
       "    <tr>\n",
       "      <th>1</th>\n",
       "      <td>0mega01</td>\n",
       "      <td>[Tayang #programfolback \\n#MutualMilenial \\nFo...</td>\n",
       "      <td>buzzer</td>\n",
       "      <td>False</td>\n",
       "      <td>Love is infinite. There is no beginning and no...</td>\n",
       "      <td>False</td>\n",
       "      <td>143</td>\n",
       "      <td>Tayang #programfolback \\n#MutualMilenial \\nFol...</td>\n",
       "      <td>tayang programfolback mutual milenial follow c...</td>\n",
       "      <td>[tayang, programfolback, mutual, milenial, fol...</td>\n",
       "    </tr>\n",
       "    <tr>\n",
       "      <th>2</th>\n",
       "      <td>0v4lt1n3_</td>\n",
       "      <td>[..dan produk yang pro-Zionis. \\n\\nSayang.. Te...</td>\n",
       "      <td>non-buzzer</td>\n",
       "      <td>False</td>\n",
       "      <td>You Will Never Know 🇮🇩🇵🇸   ///   udah Sekolah ...</td>\n",
       "      <td>False</td>\n",
       "      <td>300</td>\n",
       "      <td>..dan produk yang pro-Zionis. \\n\\nSayang.. Ter...</td>\n",
       "      <td>dan produk yang pro zionis sayang terlambat se...</td>\n",
       "      <td>[dan, produk, yang, pro, zionis, sayang, terla...</td>\n",
       "    </tr>\n",
       "    <tr>\n",
       "      <th>3</th>\n",
       "      <td>19as_don</td>\n",
       "      <td>[---Kesenjangan Pendidikan di Masa Pandemi Cov...</td>\n",
       "      <td>non-buzzer</td>\n",
       "      <td>False</td>\n",
       "      <td>apalah dayaku</td>\n",
       "      <td>False</td>\n",
       "      <td>300</td>\n",
       "      <td>---Kesenjangan Pendidikan di Masa Pandemi Covi...</td>\n",
       "      <td>kesenjangan pendidikan di masa pandemi covid 1...</td>\n",
       "      <td>[kesenjangan, pendidikan, di, masa, pandemi, c...</td>\n",
       "    </tr>\n",
       "    <tr>\n",
       "      <th>4</th>\n",
       "      <td>20dnosebleed</td>\n",
       "      <td>[this is m*rc0 pan@ri hate account. dari dulu ...</td>\n",
       "      <td>non-buzzer</td>\n",
       "      <td>False</td>\n",
       "      <td>runtuh, tumbuh. terbentur, terbentur, terbentu...</td>\n",
       "      <td>False</td>\n",
       "      <td>300</td>\n",
       "      <td>this is m*rc0 pan@ri hate account. dari dulu j...</td>\n",
       "      <td>this is m rc0 pan hate account dari dulu juga ...</td>\n",
       "      <td>[this, is, m, rc0, pan, hate, account, dari, d...</td>\n",
       "    </tr>\n",
       "    <tr>\n",
       "      <th>...</th>\n",
       "      <td>...</td>\n",
       "      <td>...</td>\n",
       "      <td>...</td>\n",
       "      <td>...</td>\n",
       "      <td>...</td>\n",
       "      <td>...</td>\n",
       "      <td>...</td>\n",
       "      <td>...</td>\n",
       "      <td>...</td>\n",
       "      <td>...</td>\n",
       "    </tr>\n",
       "    <tr>\n",
       "      <th>1328</th>\n",
       "      <td>zonasubang</td>\n",
       "      <td>[[POTO] Aktivitas Warga di Alun-alun Subang di...</td>\n",
       "      <td>non-buzzer</td>\n",
       "      <td>False</td>\n",
       "      <td>tempat kamu curhat tentang sesuatu yang gak ka...</td>\n",
       "      <td>False</td>\n",
       "      <td>300</td>\n",
       "      <td>[POTO] Aktivitas Warga di Alun-alun Subang di ...</td>\n",
       "      <td>poto aktivitas warga di alun alun subang di aw...</td>\n",
       "      <td>[poto, aktivitas, warga, di, alun, alun, suban...</td>\n",
       "    </tr>\n",
       "    <tr>\n",
       "      <th>1329</th>\n",
       "      <td>zulfikarzat31</td>\n",
       "      <td>[Baru saja mengirim foto https://t.co/xh415Eyj...</td>\n",
       "      <td>non-buzzer</td>\n",
       "      <td>False</td>\n",
       "      <td>💗Di beranda, kita pernah lupa bahwa cinta bisa...</td>\n",
       "      <td>False</td>\n",
       "      <td>300</td>\n",
       "      <td>Baru saja mengirim foto https://t.co/xh415Eyj2...</td>\n",
       "      <td>baru saja mengirim foto ijin share qah sisa ha...</td>\n",
       "      <td>[baru, saja, mengirim, foto, ijin, share, qah,...</td>\n",
       "    </tr>\n",
       "    <tr>\n",
       "      <th>1330</th>\n",
       "      <td>zulhermansyah97</td>\n",
       "      <td>[👁 Siapa yang melawat profil anda? 👁\\n@ArifinN...</td>\n",
       "      <td>non-buzzer</td>\n",
       "      <td>False</td>\n",
       "      <td>Lelah 🔜 Lillah</td>\n",
       "      <td>False</td>\n",
       "      <td>300</td>\n",
       "      <td>👁 Siapa yang melawat profil anda? 👁\\n@ArifinNa...</td>\n",
       "      <td>siapa yang melawat profil anda naftalia gt 11 ...</td>\n",
       "      <td>[siapa, yang, melawat, profil, anda, naftalia,...</td>\n",
       "    </tr>\n",
       "    <tr>\n",
       "      <th>1331</th>\n",
       "      <td>zulman1</td>\n",
       "      <td>[Hmm bisa di coba ini wkwkw https://t.co/qCGES...</td>\n",
       "      <td>non-buzzer</td>\n",
       "      <td>False</td>\n",
       "      <td>Juru tulis kapal bajak laut yang sedang berlay...</td>\n",
       "      <td>False</td>\n",
       "      <td>300</td>\n",
       "      <td>Hmm bisa di coba ini wkwkw https://t.co/qCGESp...</td>\n",
       "      <td>hmm bisa di coba ini wkwkw cgesp wyw h garuda ...</td>\n",
       "      <td>[hmm, bisa, di, coba, ini, wkwkw, cgesp, wyw, ...</td>\n",
       "    </tr>\n",
       "    <tr>\n",
       "      <th>1332</th>\n",
       "      <td>zulvitano</td>\n",
       "      <td>[aku orang yang suka nahan kentut dari magrib ...</td>\n",
       "      <td>non-buzzer</td>\n",
       "      <td>False</td>\n",
       "      <td>apa yang kamu beri apa yang kamu dapatkan dike...</td>\n",
       "      <td>False</td>\n",
       "      <td>300</td>\n",
       "      <td>aku orang yang suka nahan kentut dari magrib s...</td>\n",
       "      <td>aku orang yang suka nahan kentut dari magrib s...</td>\n",
       "      <td>[aku, orang, yang, suka, nahan, kentut, dari, ...</td>\n",
       "    </tr>\n",
       "  </tbody>\n",
       "</table>\n",
       "<p>1333 rows × 10 columns</p>\n",
       "</div>"
      ],
      "text/plain": [
       "          screen_name                                          full_text  \\\n",
       "0        0b4tk3lu4r94  [Sebentar....bentar gue hrs inget2 nih berukny...   \n",
       "1             0mega01  [Tayang #programfolback \\n#MutualMilenial \\nFo...   \n",
       "2           0v4lt1n3_  [..dan produk yang pro-Zionis. \\n\\nSayang.. Te...   \n",
       "3            19as_don  [---Kesenjangan Pendidikan di Masa Pandemi Cov...   \n",
       "4        20dnosebleed  [this is m*rc0 pan@ri hate account. dari dulu ...   \n",
       "...               ...                                                ...   \n",
       "1328       zonasubang  [[POTO] Aktivitas Warga di Alun-alun Subang di...   \n",
       "1329    zulfikarzat31  [Baru saja mengirim foto https://t.co/xh415Eyj...   \n",
       "1330  zulhermansyah97  [👁 Siapa yang melawat profil anda? 👁\\n@ArifinN...   \n",
       "1331          zulman1  [Hmm bisa di coba ini wkwkw https://t.co/qCGES...   \n",
       "1332        zulvitano  [aku orang yang suka nahan kentut dari magrib ...   \n",
       "\n",
       "           label is_verified  \\\n",
       "0     non-buzzer       False   \n",
       "1         buzzer       False   \n",
       "2     non-buzzer       False   \n",
       "3     non-buzzer       False   \n",
       "4     non-buzzer       False   \n",
       "...          ...         ...   \n",
       "1328  non-buzzer       False   \n",
       "1329  non-buzzer       False   \n",
       "1330  non-buzzer       False   \n",
       "1331  non-buzzer       False   \n",
       "1332  non-buzzer       False   \n",
       "\n",
       "                                    profile_description  is_akun_resmi  \\\n",
       "0                        Bergerak dan berdoa teros ajah          False   \n",
       "1     Love is infinite. There is no beginning and no...          False   \n",
       "2     You Will Never Know 🇮🇩🇵🇸   ///   udah Sekolah ...          False   \n",
       "3                                         apalah dayaku          False   \n",
       "4     runtuh, tumbuh. terbentur, terbentur, terbentu...          False   \n",
       "...                                                 ...            ...   \n",
       "1328  tempat kamu curhat tentang sesuatu yang gak ka...          False   \n",
       "1329  💗Di beranda, kita pernah lupa bahwa cinta bisa...          False   \n",
       "1330                                     Lelah 🔜 Lillah          False   \n",
       "1331  Juru tulis kapal bajak laut yang sedang berlay...          False   \n",
       "1332  apa yang kamu beri apa yang kamu dapatkan dike...          False   \n",
       "\n",
       "      num_tweets                                          text_used  \\\n",
       "0            300  Sebentar....bentar gue hrs inget2 nih beruknya...   \n",
       "1            143  Tayang #programfolback \\n#MutualMilenial \\nFol...   \n",
       "2            300  ..dan produk yang pro-Zionis. \\n\\nSayang.. Ter...   \n",
       "3            300  ---Kesenjangan Pendidikan di Masa Pandemi Covi...   \n",
       "4            300  this is m*rc0 pan@ri hate account. dari dulu j...   \n",
       "...          ...                                                ...   \n",
       "1328         300  [POTO] Aktivitas Warga di Alun-alun Subang di ...   \n",
       "1329         300  Baru saja mengirim foto https://t.co/xh415Eyj2...   \n",
       "1330         300  👁 Siapa yang melawat profil anda? 👁\\n@ArifinNa...   \n",
       "1331         300  Hmm bisa di coba ini wkwkw https://t.co/qCGESp...   \n",
       "1332         300  aku orang yang suka nahan kentut dari magrib s...   \n",
       "\n",
       "                                      preprocessed_text  \\\n",
       "0     sebentar bentar gue hrs inget2 nih beruknya sa...   \n",
       "1     tayang programfolback mutual milenial follow c...   \n",
       "2     dan produk yang pro zionis sayang terlambat se...   \n",
       "3     kesenjangan pendidikan di masa pandemi covid 1...   \n",
       "4     this is m rc0 pan hate account dari dulu juga ...   \n",
       "...                                                 ...   \n",
       "1328  poto aktivitas warga di alun alun subang di aw...   \n",
       "1329  baru saja mengirim foto ijin share qah sisa ha...   \n",
       "1330  siapa yang melawat profil anda naftalia gt 11 ...   \n",
       "1331  hmm bisa di coba ini wkwkw cgesp wyw h garuda ...   \n",
       "1332  aku orang yang suka nahan kentut dari magrib s...   \n",
       "\n",
       "                                preprocessed_text_token  \n",
       "0     [sebentar, bentar, gue, hrs, inget2, nih, beru...  \n",
       "1     [tayang, programfolback, mutual, milenial, fol...  \n",
       "2     [dan, produk, yang, pro, zionis, sayang, terla...  \n",
       "3     [kesenjangan, pendidikan, di, masa, pandemi, c...  \n",
       "4     [this, is, m, rc0, pan, hate, account, dari, d...  \n",
       "...                                                 ...  \n",
       "1328  [poto, aktivitas, warga, di, alun, alun, suban...  \n",
       "1329  [baru, saja, mengirim, foto, ijin, share, qah,...  \n",
       "1330  [siapa, yang, melawat, profil, anda, naftalia,...  \n",
       "1331  [hmm, bisa, di, coba, ini, wkwkw, cgesp, wyw, ...  \n",
       "1332  [aku, orang, yang, suka, nahan, kentut, dari, ...  \n",
       "\n",
       "[1333 rows x 10 columns]"
      ]
     },
     "execution_count": 37,
     "metadata": {},
     "output_type": "execute_result"
    }
   ],
   "source": [
    "d_train"
   ]
  },
  {
   "cell_type": "code",
   "execution_count": 38,
   "metadata": {},
   "outputs": [],
   "source": [
    "all_words = itertools.chain.from_iterable(d_train.preprocessed_text_token)"
   ]
  },
  {
   "cell_type": "code",
   "execution_count": 39,
   "metadata": {},
   "outputs": [],
   "source": [
    "all_words = list(all_words)"
   ]
  },
  {
   "cell_type": "code",
   "execution_count": 40,
   "metadata": {},
   "outputs": [],
   "source": [
    "vocab_freq = collections.Counter(all_words)"
   ]
  },
  {
   "cell_type": "code",
   "execution_count": 41,
   "metadata": {},
   "outputs": [],
   "source": [
    "d_vocab_freq = pd.DataFrame(vocab_freq.items(), columns=[\"word\", \"freq\"]).sort_values(\"freq\", ascending=False)"
   ]
  },
  {
   "cell_type": "code",
   "execution_count": 42,
   "metadata": {},
   "outputs": [],
   "source": [
    "stop_words = d_vocab_freq[(d_vocab_freq.freq <= 2) | (d_vocab_freq.freq >= 2500)].word.to_list()"
   ]
  },
  {
   "cell_type": "code",
   "execution_count": 53,
   "metadata": {},
   "outputs": [],
   "source": [
    "vocab_used = d_vocab_freq[d_vocab_freq.freq.between(2, 2500)].word.to_list()"
   ]
  },
  {
   "cell_type": "code",
   "execution_count": 72,
   "metadata": {},
   "outputs": [],
   "source": [
    "vocab_used2 = list(filter(lambda x: True if (len(x) > 2) & (not x.isnumeric()) else False, vocab_used))"
   ]
  },
  {
   "cell_type": "code",
   "execution_count": 73,
   "metadata": {},
   "outputs": [
    {
     "data": {
      "text/plain": [
       "25069"
      ]
     },
     "execution_count": 73,
     "metadata": {},
     "output_type": "execute_result"
    }
   ],
   "source": [
    "len(vocab_used2)"
   ]
  },
  {
   "cell_type": "code",
   "execution_count": 75,
   "metadata": {},
   "outputs": [],
   "source": [
    "vocab_used2 = sorted(vocab_used2)"
   ]
  },
  {
   "cell_type": "code",
   "execution_count": 76,
   "metadata": {},
   "outputs": [
    {
     "data": {
      "text/html": [
       "<div>\n",
       "<style scoped>\n",
       "    .dataframe tbody tr th:only-of-type {\n",
       "        vertical-align: middle;\n",
       "    }\n",
       "\n",
       "    .dataframe tbody tr th {\n",
       "        vertical-align: top;\n",
       "    }\n",
       "\n",
       "    .dataframe thead th {\n",
       "        text-align: right;\n",
       "    }\n",
       "</style>\n",
       "<table border=\"1\" class=\"dataframe\">\n",
       "  <thead>\n",
       "    <tr style=\"text-align: right;\">\n",
       "      <th></th>\n",
       "      <th>screen_name</th>\n",
       "      <th>full_text</th>\n",
       "      <th>label</th>\n",
       "      <th>is_verified</th>\n",
       "      <th>profile_description</th>\n",
       "      <th>is_akun_resmi</th>\n",
       "      <th>num_tweets</th>\n",
       "      <th>text_used</th>\n",
       "      <th>preprocessed_text</th>\n",
       "      <th>preprocessed_text_token</th>\n",
       "    </tr>\n",
       "  </thead>\n",
       "  <tbody>\n",
       "    <tr>\n",
       "      <th>0</th>\n",
       "      <td>0b4tk3lu4r94</td>\n",
       "      <td>[Sebentar....bentar gue hrs inget2 nih berukny...</td>\n",
       "      <td>non-buzzer</td>\n",
       "      <td>False</td>\n",
       "      <td>Bergerak dan berdoa teros ajah</td>\n",
       "      <td>False</td>\n",
       "      <td>300</td>\n",
       "      <td>Sebentar....bentar gue hrs inget2 nih beruknya...</td>\n",
       "      <td>sebentar bentar gue hrs inget2 nih beruknya sa...</td>\n",
       "      <td>[sebentar, bentar, gue, hrs, inget2, nih, beru...</td>\n",
       "    </tr>\n",
       "    <tr>\n",
       "      <th>1</th>\n",
       "      <td>0mega01</td>\n",
       "      <td>[Tayang #programfolback \\n#MutualMilenial \\nFo...</td>\n",
       "      <td>buzzer</td>\n",
       "      <td>False</td>\n",
       "      <td>Love is infinite. There is no beginning and no...</td>\n",
       "      <td>False</td>\n",
       "      <td>143</td>\n",
       "      <td>Tayang #programfolback \\n#MutualMilenial \\nFol...</td>\n",
       "      <td>tayang programfolback mutual milenial follow c...</td>\n",
       "      <td>[tayang, programfolback, mutual, milenial, fol...</td>\n",
       "    </tr>\n",
       "    <tr>\n",
       "      <th>2</th>\n",
       "      <td>0v4lt1n3_</td>\n",
       "      <td>[..dan produk yang pro-Zionis. \\n\\nSayang.. Te...</td>\n",
       "      <td>non-buzzer</td>\n",
       "      <td>False</td>\n",
       "      <td>You Will Never Know 🇮🇩🇵🇸   ///   udah Sekolah ...</td>\n",
       "      <td>False</td>\n",
       "      <td>300</td>\n",
       "      <td>..dan produk yang pro-Zionis. \\n\\nSayang.. Ter...</td>\n",
       "      <td>dan produk yang pro zionis sayang terlambat se...</td>\n",
       "      <td>[dan, produk, yang, pro, zionis, sayang, terla...</td>\n",
       "    </tr>\n",
       "    <tr>\n",
       "      <th>3</th>\n",
       "      <td>19as_don</td>\n",
       "      <td>[---Kesenjangan Pendidikan di Masa Pandemi Cov...</td>\n",
       "      <td>non-buzzer</td>\n",
       "      <td>False</td>\n",
       "      <td>apalah dayaku</td>\n",
       "      <td>False</td>\n",
       "      <td>300</td>\n",
       "      <td>---Kesenjangan Pendidikan di Masa Pandemi Covi...</td>\n",
       "      <td>kesenjangan pendidikan di masa pandemi covid 1...</td>\n",
       "      <td>[kesenjangan, pendidikan, di, masa, pandemi, c...</td>\n",
       "    </tr>\n",
       "    <tr>\n",
       "      <th>4</th>\n",
       "      <td>20dnosebleed</td>\n",
       "      <td>[this is m*rc0 pan@ri hate account. dari dulu ...</td>\n",
       "      <td>non-buzzer</td>\n",
       "      <td>False</td>\n",
       "      <td>runtuh, tumbuh. terbentur, terbentur, terbentu...</td>\n",
       "      <td>False</td>\n",
       "      <td>300</td>\n",
       "      <td>this is m*rc0 pan@ri hate account. dari dulu j...</td>\n",
       "      <td>this is m rc0 pan hate account dari dulu juga ...</td>\n",
       "      <td>[this, is, m, rc0, pan, hate, account, dari, d...</td>\n",
       "    </tr>\n",
       "    <tr>\n",
       "      <th>...</th>\n",
       "      <td>...</td>\n",
       "      <td>...</td>\n",
       "      <td>...</td>\n",
       "      <td>...</td>\n",
       "      <td>...</td>\n",
       "      <td>...</td>\n",
       "      <td>...</td>\n",
       "      <td>...</td>\n",
       "      <td>...</td>\n",
       "      <td>...</td>\n",
       "    </tr>\n",
       "    <tr>\n",
       "      <th>1328</th>\n",
       "      <td>zonasubang</td>\n",
       "      <td>[[POTO] Aktivitas Warga di Alun-alun Subang di...</td>\n",
       "      <td>non-buzzer</td>\n",
       "      <td>False</td>\n",
       "      <td>tempat kamu curhat tentang sesuatu yang gak ka...</td>\n",
       "      <td>False</td>\n",
       "      <td>300</td>\n",
       "      <td>[POTO] Aktivitas Warga di Alun-alun Subang di ...</td>\n",
       "      <td>poto aktivitas warga di alun alun subang di aw...</td>\n",
       "      <td>[poto, aktivitas, warga, di, alun, alun, suban...</td>\n",
       "    </tr>\n",
       "    <tr>\n",
       "      <th>1329</th>\n",
       "      <td>zulfikarzat31</td>\n",
       "      <td>[Baru saja mengirim foto https://t.co/xh415Eyj...</td>\n",
       "      <td>non-buzzer</td>\n",
       "      <td>False</td>\n",
       "      <td>💗Di beranda, kita pernah lupa bahwa cinta bisa...</td>\n",
       "      <td>False</td>\n",
       "      <td>300</td>\n",
       "      <td>Baru saja mengirim foto https://t.co/xh415Eyj2...</td>\n",
       "      <td>baru saja mengirim foto ijin share qah sisa ha...</td>\n",
       "      <td>[baru, saja, mengirim, foto, ijin, share, qah,...</td>\n",
       "    </tr>\n",
       "    <tr>\n",
       "      <th>1330</th>\n",
       "      <td>zulhermansyah97</td>\n",
       "      <td>[👁 Siapa yang melawat profil anda? 👁\\n@ArifinN...</td>\n",
       "      <td>non-buzzer</td>\n",
       "      <td>False</td>\n",
       "      <td>Lelah 🔜 Lillah</td>\n",
       "      <td>False</td>\n",
       "      <td>300</td>\n",
       "      <td>👁 Siapa yang melawat profil anda? 👁\\n@ArifinNa...</td>\n",
       "      <td>siapa yang melawat profil anda naftalia gt 11 ...</td>\n",
       "      <td>[siapa, yang, melawat, profil, anda, naftalia,...</td>\n",
       "    </tr>\n",
       "    <tr>\n",
       "      <th>1331</th>\n",
       "      <td>zulman1</td>\n",
       "      <td>[Hmm bisa di coba ini wkwkw https://t.co/qCGES...</td>\n",
       "      <td>non-buzzer</td>\n",
       "      <td>False</td>\n",
       "      <td>Juru tulis kapal bajak laut yang sedang berlay...</td>\n",
       "      <td>False</td>\n",
       "      <td>300</td>\n",
       "      <td>Hmm bisa di coba ini wkwkw https://t.co/qCGESp...</td>\n",
       "      <td>hmm bisa di coba ini wkwkw cgesp wyw h garuda ...</td>\n",
       "      <td>[hmm, bisa, di, coba, ini, wkwkw, cgesp, wyw, ...</td>\n",
       "    </tr>\n",
       "    <tr>\n",
       "      <th>1332</th>\n",
       "      <td>zulvitano</td>\n",
       "      <td>[aku orang yang suka nahan kentut dari magrib ...</td>\n",
       "      <td>non-buzzer</td>\n",
       "      <td>False</td>\n",
       "      <td>apa yang kamu beri apa yang kamu dapatkan dike...</td>\n",
       "      <td>False</td>\n",
       "      <td>300</td>\n",
       "      <td>aku orang yang suka nahan kentut dari magrib s...</td>\n",
       "      <td>aku orang yang suka nahan kentut dari magrib s...</td>\n",
       "      <td>[aku, orang, yang, suka, nahan, kentut, dari, ...</td>\n",
       "    </tr>\n",
       "  </tbody>\n",
       "</table>\n",
       "<p>1333 rows × 10 columns</p>\n",
       "</div>"
      ],
      "text/plain": [
       "          screen_name                                          full_text  \\\n",
       "0        0b4tk3lu4r94  [Sebentar....bentar gue hrs inget2 nih berukny...   \n",
       "1             0mega01  [Tayang #programfolback \\n#MutualMilenial \\nFo...   \n",
       "2           0v4lt1n3_  [..dan produk yang pro-Zionis. \\n\\nSayang.. Te...   \n",
       "3            19as_don  [---Kesenjangan Pendidikan di Masa Pandemi Cov...   \n",
       "4        20dnosebleed  [this is m*rc0 pan@ri hate account. dari dulu ...   \n",
       "...               ...                                                ...   \n",
       "1328       zonasubang  [[POTO] Aktivitas Warga di Alun-alun Subang di...   \n",
       "1329    zulfikarzat31  [Baru saja mengirim foto https://t.co/xh415Eyj...   \n",
       "1330  zulhermansyah97  [👁 Siapa yang melawat profil anda? 👁\\n@ArifinN...   \n",
       "1331          zulman1  [Hmm bisa di coba ini wkwkw https://t.co/qCGES...   \n",
       "1332        zulvitano  [aku orang yang suka nahan kentut dari magrib ...   \n",
       "\n",
       "           label is_verified  \\\n",
       "0     non-buzzer       False   \n",
       "1         buzzer       False   \n",
       "2     non-buzzer       False   \n",
       "3     non-buzzer       False   \n",
       "4     non-buzzer       False   \n",
       "...          ...         ...   \n",
       "1328  non-buzzer       False   \n",
       "1329  non-buzzer       False   \n",
       "1330  non-buzzer       False   \n",
       "1331  non-buzzer       False   \n",
       "1332  non-buzzer       False   \n",
       "\n",
       "                                    profile_description  is_akun_resmi  \\\n",
       "0                        Bergerak dan berdoa teros ajah          False   \n",
       "1     Love is infinite. There is no beginning and no...          False   \n",
       "2     You Will Never Know 🇮🇩🇵🇸   ///   udah Sekolah ...          False   \n",
       "3                                         apalah dayaku          False   \n",
       "4     runtuh, tumbuh. terbentur, terbentur, terbentu...          False   \n",
       "...                                                 ...            ...   \n",
       "1328  tempat kamu curhat tentang sesuatu yang gak ka...          False   \n",
       "1329  💗Di beranda, kita pernah lupa bahwa cinta bisa...          False   \n",
       "1330                                     Lelah 🔜 Lillah          False   \n",
       "1331  Juru tulis kapal bajak laut yang sedang berlay...          False   \n",
       "1332  apa yang kamu beri apa yang kamu dapatkan dike...          False   \n",
       "\n",
       "      num_tweets                                          text_used  \\\n",
       "0            300  Sebentar....bentar gue hrs inget2 nih beruknya...   \n",
       "1            143  Tayang #programfolback \\n#MutualMilenial \\nFol...   \n",
       "2            300  ..dan produk yang pro-Zionis. \\n\\nSayang.. Ter...   \n",
       "3            300  ---Kesenjangan Pendidikan di Masa Pandemi Covi...   \n",
       "4            300  this is m*rc0 pan@ri hate account. dari dulu j...   \n",
       "...          ...                                                ...   \n",
       "1328         300  [POTO] Aktivitas Warga di Alun-alun Subang di ...   \n",
       "1329         300  Baru saja mengirim foto https://t.co/xh415Eyj2...   \n",
       "1330         300  👁 Siapa yang melawat profil anda? 👁\\n@ArifinNa...   \n",
       "1331         300  Hmm bisa di coba ini wkwkw https://t.co/qCGESp...   \n",
       "1332         300  aku orang yang suka nahan kentut dari magrib s...   \n",
       "\n",
       "                                      preprocessed_text  \\\n",
       "0     sebentar bentar gue hrs inget2 nih beruknya sa...   \n",
       "1     tayang programfolback mutual milenial follow c...   \n",
       "2     dan produk yang pro zionis sayang terlambat se...   \n",
       "3     kesenjangan pendidikan di masa pandemi covid 1...   \n",
       "4     this is m rc0 pan hate account dari dulu juga ...   \n",
       "...                                                 ...   \n",
       "1328  poto aktivitas warga di alun alun subang di aw...   \n",
       "1329  baru saja mengirim foto ijin share qah sisa ha...   \n",
       "1330  siapa yang melawat profil anda naftalia gt 11 ...   \n",
       "1331  hmm bisa di coba ini wkwkw cgesp wyw h garuda ...   \n",
       "1332  aku orang yang suka nahan kentut dari magrib s...   \n",
       "\n",
       "                                preprocessed_text_token  \n",
       "0     [sebentar, bentar, gue, hrs, inget2, nih, beru...  \n",
       "1     [tayang, programfolback, mutual, milenial, fol...  \n",
       "2     [dan, produk, yang, pro, zionis, sayang, terla...  \n",
       "3     [kesenjangan, pendidikan, di, masa, pandemi, c...  \n",
       "4     [this, is, m, rc0, pan, hate, account, dari, d...  \n",
       "...                                                 ...  \n",
       "1328  [poto, aktivitas, warga, di, alun, alun, suban...  \n",
       "1329  [baru, saja, mengirim, foto, ijin, share, qah,...  \n",
       "1330  [siapa, yang, melawat, profil, anda, naftalia,...  \n",
       "1331  [hmm, bisa, di, coba, ini, wkwkw, cgesp, wyw, ...  \n",
       "1332  [aku, orang, yang, suka, nahan, kentut, dari, ...  \n",
       "\n",
       "[1333 rows x 10 columns]"
      ]
     },
     "execution_count": 76,
     "metadata": {},
     "output_type": "execute_result"
    }
   ],
   "source": [
    "d_train"
   ]
  },
  {
   "cell_type": "code",
   "execution_count": 77,
   "metadata": {},
   "outputs": [
    {
     "data": {
      "text/html": [
       "<div>\n",
       "<style scoped>\n",
       "    .dataframe tbody tr th:only-of-type {\n",
       "        vertical-align: middle;\n",
       "    }\n",
       "\n",
       "    .dataframe tbody tr th {\n",
       "        vertical-align: top;\n",
       "    }\n",
       "\n",
       "    .dataframe thead th {\n",
       "        text-align: right;\n",
       "    }\n",
       "</style>\n",
       "<table border=\"1\" class=\"dataframe\">\n",
       "  <thead>\n",
       "    <tr style=\"text-align: right;\">\n",
       "      <th></th>\n",
       "      <th>screen_name</th>\n",
       "      <th>full_text</th>\n",
       "      <th>label</th>\n",
       "      <th>is_verified</th>\n",
       "      <th>profile_description</th>\n",
       "      <th>is_akun_resmi</th>\n",
       "      <th>num_tweets</th>\n",
       "      <th>text_used</th>\n",
       "      <th>preprocessed_text</th>\n",
       "      <th>preprocessed_text_token</th>\n",
       "    </tr>\n",
       "  </thead>\n",
       "  <tbody>\n",
       "    <tr>\n",
       "      <th>0</th>\n",
       "      <td>0b4tk3lu4r94</td>\n",
       "      <td>[Sebentar....bentar gue hrs inget2 nih berukny...</td>\n",
       "      <td>non-buzzer</td>\n",
       "      <td>False</td>\n",
       "      <td>Bergerak dan berdoa teros ajah</td>\n",
       "      <td>False</td>\n",
       "      <td>300</td>\n",
       "      <td>Sebentar....bentar gue hrs inget2 nih beruknya...</td>\n",
       "      <td>sebentar bentar gue hrs inget2 nih beruknya sa...</td>\n",
       "      <td>[sebentar, bentar, gue, hrs, inget2, nih, beru...</td>\n",
       "    </tr>\n",
       "    <tr>\n",
       "      <th>1</th>\n",
       "      <td>0mega01</td>\n",
       "      <td>[Tayang #programfolback \\n#MutualMilenial \\nFo...</td>\n",
       "      <td>buzzer</td>\n",
       "      <td>False</td>\n",
       "      <td>Love is infinite. There is no beginning and no...</td>\n",
       "      <td>False</td>\n",
       "      <td>143</td>\n",
       "      <td>Tayang #programfolback \\n#MutualMilenial \\nFol...</td>\n",
       "      <td>tayang programfolback mutual milenial follow c...</td>\n",
       "      <td>[tayang, programfolback, mutual, milenial, fol...</td>\n",
       "    </tr>\n",
       "    <tr>\n",
       "      <th>2</th>\n",
       "      <td>0v4lt1n3_</td>\n",
       "      <td>[..dan produk yang pro-Zionis. \\n\\nSayang.. Te...</td>\n",
       "      <td>non-buzzer</td>\n",
       "      <td>False</td>\n",
       "      <td>You Will Never Know 🇮🇩🇵🇸   ///   udah Sekolah ...</td>\n",
       "      <td>False</td>\n",
       "      <td>300</td>\n",
       "      <td>..dan produk yang pro-Zionis. \\n\\nSayang.. Ter...</td>\n",
       "      <td>dan produk yang pro zionis sayang terlambat se...</td>\n",
       "      <td>[dan, produk, yang, pro, zionis, sayang, terla...</td>\n",
       "    </tr>\n",
       "    <tr>\n",
       "      <th>3</th>\n",
       "      <td>19as_don</td>\n",
       "      <td>[---Kesenjangan Pendidikan di Masa Pandemi Cov...</td>\n",
       "      <td>non-buzzer</td>\n",
       "      <td>False</td>\n",
       "      <td>apalah dayaku</td>\n",
       "      <td>False</td>\n",
       "      <td>300</td>\n",
       "      <td>---Kesenjangan Pendidikan di Masa Pandemi Covi...</td>\n",
       "      <td>kesenjangan pendidikan di masa pandemi covid 1...</td>\n",
       "      <td>[kesenjangan, pendidikan, di, masa, pandemi, c...</td>\n",
       "    </tr>\n",
       "    <tr>\n",
       "      <th>4</th>\n",
       "      <td>20dnosebleed</td>\n",
       "      <td>[this is m*rc0 pan@ri hate account. dari dulu ...</td>\n",
       "      <td>non-buzzer</td>\n",
       "      <td>False</td>\n",
       "      <td>runtuh, tumbuh. terbentur, terbentur, terbentu...</td>\n",
       "      <td>False</td>\n",
       "      <td>300</td>\n",
       "      <td>this is m*rc0 pan@ri hate account. dari dulu j...</td>\n",
       "      <td>this is m rc0 pan hate account dari dulu juga ...</td>\n",
       "      <td>[this, is, m, rc0, pan, hate, account, dari, d...</td>\n",
       "    </tr>\n",
       "    <tr>\n",
       "      <th>...</th>\n",
       "      <td>...</td>\n",
       "      <td>...</td>\n",
       "      <td>...</td>\n",
       "      <td>...</td>\n",
       "      <td>...</td>\n",
       "      <td>...</td>\n",
       "      <td>...</td>\n",
       "      <td>...</td>\n",
       "      <td>...</td>\n",
       "      <td>...</td>\n",
       "    </tr>\n",
       "    <tr>\n",
       "      <th>1328</th>\n",
       "      <td>zonasubang</td>\n",
       "      <td>[[POTO] Aktivitas Warga di Alun-alun Subang di...</td>\n",
       "      <td>non-buzzer</td>\n",
       "      <td>False</td>\n",
       "      <td>tempat kamu curhat tentang sesuatu yang gak ka...</td>\n",
       "      <td>False</td>\n",
       "      <td>300</td>\n",
       "      <td>[POTO] Aktivitas Warga di Alun-alun Subang di ...</td>\n",
       "      <td>poto aktivitas warga di alun alun subang di aw...</td>\n",
       "      <td>[poto, aktivitas, warga, di, alun, alun, suban...</td>\n",
       "    </tr>\n",
       "    <tr>\n",
       "      <th>1329</th>\n",
       "      <td>zulfikarzat31</td>\n",
       "      <td>[Baru saja mengirim foto https://t.co/xh415Eyj...</td>\n",
       "      <td>non-buzzer</td>\n",
       "      <td>False</td>\n",
       "      <td>💗Di beranda, kita pernah lupa bahwa cinta bisa...</td>\n",
       "      <td>False</td>\n",
       "      <td>300</td>\n",
       "      <td>Baru saja mengirim foto https://t.co/xh415Eyj2...</td>\n",
       "      <td>baru saja mengirim foto ijin share qah sisa ha...</td>\n",
       "      <td>[baru, saja, mengirim, foto, ijin, share, qah,...</td>\n",
       "    </tr>\n",
       "    <tr>\n",
       "      <th>1330</th>\n",
       "      <td>zulhermansyah97</td>\n",
       "      <td>[👁 Siapa yang melawat profil anda? 👁\\n@ArifinN...</td>\n",
       "      <td>non-buzzer</td>\n",
       "      <td>False</td>\n",
       "      <td>Lelah 🔜 Lillah</td>\n",
       "      <td>False</td>\n",
       "      <td>300</td>\n",
       "      <td>👁 Siapa yang melawat profil anda? 👁\\n@ArifinNa...</td>\n",
       "      <td>siapa yang melawat profil anda naftalia gt 11 ...</td>\n",
       "      <td>[siapa, yang, melawat, profil, anda, naftalia,...</td>\n",
       "    </tr>\n",
       "    <tr>\n",
       "      <th>1331</th>\n",
       "      <td>zulman1</td>\n",
       "      <td>[Hmm bisa di coba ini wkwkw https://t.co/qCGES...</td>\n",
       "      <td>non-buzzer</td>\n",
       "      <td>False</td>\n",
       "      <td>Juru tulis kapal bajak laut yang sedang berlay...</td>\n",
       "      <td>False</td>\n",
       "      <td>300</td>\n",
       "      <td>Hmm bisa di coba ini wkwkw https://t.co/qCGESp...</td>\n",
       "      <td>hmm bisa di coba ini wkwkw cgesp wyw h garuda ...</td>\n",
       "      <td>[hmm, bisa, di, coba, ini, wkwkw, cgesp, wyw, ...</td>\n",
       "    </tr>\n",
       "    <tr>\n",
       "      <th>1332</th>\n",
       "      <td>zulvitano</td>\n",
       "      <td>[aku orang yang suka nahan kentut dari magrib ...</td>\n",
       "      <td>non-buzzer</td>\n",
       "      <td>False</td>\n",
       "      <td>apa yang kamu beri apa yang kamu dapatkan dike...</td>\n",
       "      <td>False</td>\n",
       "      <td>300</td>\n",
       "      <td>aku orang yang suka nahan kentut dari magrib s...</td>\n",
       "      <td>aku orang yang suka nahan kentut dari magrib s...</td>\n",
       "      <td>[aku, orang, yang, suka, nahan, kentut, dari, ...</td>\n",
       "    </tr>\n",
       "  </tbody>\n",
       "</table>\n",
       "<p>1333 rows × 10 columns</p>\n",
       "</div>"
      ],
      "text/plain": [
       "          screen_name                                          full_text  \\\n",
       "0        0b4tk3lu4r94  [Sebentar....bentar gue hrs inget2 nih berukny...   \n",
       "1             0mega01  [Tayang #programfolback \\n#MutualMilenial \\nFo...   \n",
       "2           0v4lt1n3_  [..dan produk yang pro-Zionis. \\n\\nSayang.. Te...   \n",
       "3            19as_don  [---Kesenjangan Pendidikan di Masa Pandemi Cov...   \n",
       "4        20dnosebleed  [this is m*rc0 pan@ri hate account. dari dulu ...   \n",
       "...               ...                                                ...   \n",
       "1328       zonasubang  [[POTO] Aktivitas Warga di Alun-alun Subang di...   \n",
       "1329    zulfikarzat31  [Baru saja mengirim foto https://t.co/xh415Eyj...   \n",
       "1330  zulhermansyah97  [👁 Siapa yang melawat profil anda? 👁\\n@ArifinN...   \n",
       "1331          zulman1  [Hmm bisa di coba ini wkwkw https://t.co/qCGES...   \n",
       "1332        zulvitano  [aku orang yang suka nahan kentut dari magrib ...   \n",
       "\n",
       "           label is_verified  \\\n",
       "0     non-buzzer       False   \n",
       "1         buzzer       False   \n",
       "2     non-buzzer       False   \n",
       "3     non-buzzer       False   \n",
       "4     non-buzzer       False   \n",
       "...          ...         ...   \n",
       "1328  non-buzzer       False   \n",
       "1329  non-buzzer       False   \n",
       "1330  non-buzzer       False   \n",
       "1331  non-buzzer       False   \n",
       "1332  non-buzzer       False   \n",
       "\n",
       "                                    profile_description  is_akun_resmi  \\\n",
       "0                        Bergerak dan berdoa teros ajah          False   \n",
       "1     Love is infinite. There is no beginning and no...          False   \n",
       "2     You Will Never Know 🇮🇩🇵🇸   ///   udah Sekolah ...          False   \n",
       "3                                         apalah dayaku          False   \n",
       "4     runtuh, tumbuh. terbentur, terbentur, terbentu...          False   \n",
       "...                                                 ...            ...   \n",
       "1328  tempat kamu curhat tentang sesuatu yang gak ka...          False   \n",
       "1329  💗Di beranda, kita pernah lupa bahwa cinta bisa...          False   \n",
       "1330                                     Lelah 🔜 Lillah          False   \n",
       "1331  Juru tulis kapal bajak laut yang sedang berlay...          False   \n",
       "1332  apa yang kamu beri apa yang kamu dapatkan dike...          False   \n",
       "\n",
       "      num_tweets                                          text_used  \\\n",
       "0            300  Sebentar....bentar gue hrs inget2 nih beruknya...   \n",
       "1            143  Tayang #programfolback \\n#MutualMilenial \\nFol...   \n",
       "2            300  ..dan produk yang pro-Zionis. \\n\\nSayang.. Ter...   \n",
       "3            300  ---Kesenjangan Pendidikan di Masa Pandemi Covi...   \n",
       "4            300  this is m*rc0 pan@ri hate account. dari dulu j...   \n",
       "...          ...                                                ...   \n",
       "1328         300  [POTO] Aktivitas Warga di Alun-alun Subang di ...   \n",
       "1329         300  Baru saja mengirim foto https://t.co/xh415Eyj2...   \n",
       "1330         300  👁 Siapa yang melawat profil anda? 👁\\n@ArifinNa...   \n",
       "1331         300  Hmm bisa di coba ini wkwkw https://t.co/qCGESp...   \n",
       "1332         300  aku orang yang suka nahan kentut dari magrib s...   \n",
       "\n",
       "                                      preprocessed_text  \\\n",
       "0     sebentar bentar gue hrs inget2 nih beruknya sa...   \n",
       "1     tayang programfolback mutual milenial follow c...   \n",
       "2     dan produk yang pro zionis sayang terlambat se...   \n",
       "3     kesenjangan pendidikan di masa pandemi covid 1...   \n",
       "4     this is m rc0 pan hate account dari dulu juga ...   \n",
       "...                                                 ...   \n",
       "1328  poto aktivitas warga di alun alun subang di aw...   \n",
       "1329  baru saja mengirim foto ijin share qah sisa ha...   \n",
       "1330  siapa yang melawat profil anda naftalia gt 11 ...   \n",
       "1331  hmm bisa di coba ini wkwkw cgesp wyw h garuda ...   \n",
       "1332  aku orang yang suka nahan kentut dari magrib s...   \n",
       "\n",
       "                                preprocessed_text_token  \n",
       "0     [sebentar, bentar, gue, hrs, inget2, nih, beru...  \n",
       "1     [tayang, programfolback, mutual, milenial, fol...  \n",
       "2     [dan, produk, yang, pro, zionis, sayang, terla...  \n",
       "3     [kesenjangan, pendidikan, di, masa, pandemi, c...  \n",
       "4     [this, is, m, rc0, pan, hate, account, dari, d...  \n",
       "...                                                 ...  \n",
       "1328  [poto, aktivitas, warga, di, alun, alun, suban...  \n",
       "1329  [baru, saja, mengirim, foto, ijin, share, qah,...  \n",
       "1330  [siapa, yang, melawat, profil, anda, naftalia,...  \n",
       "1331  [hmm, bisa, di, coba, ini, wkwkw, cgesp, wyw, ...  \n",
       "1332  [aku, orang, yang, suka, nahan, kentut, dari, ...  \n",
       "\n",
       "[1333 rows x 10 columns]"
      ]
     },
     "execution_count": 77,
     "metadata": {},
     "output_type": "execute_result"
    }
   ],
   "source": [
    "d_train"
   ]
  },
  {
   "cell_type": "code",
   "execution_count": 78,
   "metadata": {},
   "outputs": [
    {
     "name": "stderr",
     "output_type": "stream",
     "text": [
      "c:\\users\\andreas chandra\\appdata\\local\\continuum\\anaconda3\\lib\\site-packages\\pandas\\core\\indexing.py:1597: SettingWithCopyWarning: \n",
      "A value is trying to be set on a copy of a slice from a DataFrame.\n",
      "Try using .loc[row_indexer,col_indexer] = value instead\n",
      "\n",
      "See the caveats in the documentation: https://pandas.pydata.org/pandas-docs/stable/user_guide/indexing.html#returning-a-view-versus-a-copy\n",
      "  self.obj[key] = value\n",
      "c:\\users\\andreas chandra\\appdata\\local\\continuum\\anaconda3\\lib\\site-packages\\pandas\\core\\indexing.py:1676: SettingWithCopyWarning: \n",
      "A value is trying to be set on a copy of a slice from a DataFrame.\n",
      "Try using .loc[row_indexer,col_indexer] = value instead\n",
      "\n",
      "See the caveats in the documentation: https://pandas.pydata.org/pandas-docs/stable/user_guide/indexing.html#returning-a-view-versus-a-copy\n",
      "  self._setitem_single_column(ilocs[0], value, pi)\n"
     ]
    }
   ],
   "source": [
    "d_train.loc[:, \"label_encoded\"] = d_train.label.map({'buzzer': 1, 'non-buzzer': 0})"
   ]
  },
  {
   "cell_type": "code",
   "execution_count": 116,
   "metadata": {},
   "outputs": [
    {
     "data": {
      "text/plain": [
       "non-buzzer    1066\n",
       "buzzer         267\n",
       "Name: label, dtype: int64"
      ]
     },
     "execution_count": 116,
     "metadata": {},
     "output_type": "execute_result"
    }
   ],
   "source": [
    "d_train.label.value_counts()"
   ]
  },
  {
   "cell_type": "code",
   "execution_count": 79,
   "metadata": {},
   "outputs": [
    {
     "data": {
      "text/plain": [
       "<matplotlib.axes._subplots.AxesSubplot at 0x167c31b0da0>"
      ]
     },
     "execution_count": 79,
     "metadata": {},
     "output_type": "execute_result"
    },
    {
     "data": {
      "image/png": "[encoded data removed]",
      "text/plain": [
       "<Figure size 432x288 with 1 Axes>"
      ]
     },
     "metadata": {},
     "output_type": "display_data"
    }
   ],
   "source": [
    "d_train.label_encoded.value_counts().plot(kind='pie', autopct='%.2f')"
   ]
  },
  {
   "cell_type": "markdown",
   "metadata": {},
   "source": [
    "#### Creating Count Matrix"
   ]
  },
  {
   "cell_type": "code",
   "execution_count": 86,
   "metadata": {},
   "outputs": [
    {
     "data": {
      "text/html": [
       "<div>\n",
       "<style scoped>\n",
       "    .dataframe tbody tr th:only-of-type {\n",
       "        vertical-align: middle;\n",
       "    }\n",
       "\n",
       "    .dataframe tbody tr th {\n",
       "        vertical-align: top;\n",
       "    }\n",
       "\n",
       "    .dataframe thead th {\n",
       "        text-align: right;\n",
       "    }\n",
       "</style>\n",
       "<table border=\"1\" class=\"dataframe\">\n",
       "  <thead>\n",
       "    <tr style=\"text-align: right;\">\n",
       "      <th></th>\n",
       "      <th>screen_name</th>\n",
       "      <th>full_text</th>\n",
       "      <th>label</th>\n",
       "      <th>is_verified</th>\n",
       "      <th>profile_description</th>\n",
       "      <th>is_akun_resmi</th>\n",
       "      <th>num_tweets</th>\n",
       "      <th>text_used</th>\n",
       "      <th>preprocessed_text</th>\n",
       "      <th>preprocessed_text_token</th>\n",
       "      <th>label_encoded</th>\n",
       "    </tr>\n",
       "  </thead>\n",
       "  <tbody>\n",
       "    <tr>\n",
       "      <th>0</th>\n",
       "      <td>0b4tk3lu4r94</td>\n",
       "      <td>[Sebentar....bentar gue hrs inget2 nih berukny...</td>\n",
       "      <td>non-buzzer</td>\n",
       "      <td>False</td>\n",
       "      <td>Bergerak dan berdoa teros ajah</td>\n",
       "      <td>False</td>\n",
       "      <td>300</td>\n",
       "      <td>Sebentar....bentar gue hrs inget2 nih beruknya...</td>\n",
       "      <td>sebentar bentar gue hrs inget2 nih beruknya sa...</td>\n",
       "      <td>[sebentar, bentar, gue, hrs, inget2, nih, beru...</td>\n",
       "      <td>0</td>\n",
       "    </tr>\n",
       "    <tr>\n",
       "      <th>1</th>\n",
       "      <td>0mega01</td>\n",
       "      <td>[Tayang #programfolback \\n#MutualMilenial \\nFo...</td>\n",
       "      <td>buzzer</td>\n",
       "      <td>False</td>\n",
       "      <td>Love is infinite. There is no beginning and no...</td>\n",
       "      <td>False</td>\n",
       "      <td>143</td>\n",
       "      <td>Tayang #programfolback \\n#MutualMilenial \\nFol...</td>\n",
       "      <td>tayang programfolback mutual milenial follow c...</td>\n",
       "      <td>[tayang, programfolback, mutual, milenial, fol...</td>\n",
       "      <td>1</td>\n",
       "    </tr>\n",
       "    <tr>\n",
       "      <th>2</th>\n",
       "      <td>0v4lt1n3_</td>\n",
       "      <td>[..dan produk yang pro-Zionis. \\n\\nSayang.. Te...</td>\n",
       "      <td>non-buzzer</td>\n",
       "      <td>False</td>\n",
       "      <td>You Will Never Know 🇮🇩🇵🇸   ///   udah Sekolah ...</td>\n",
       "      <td>False</td>\n",
       "      <td>300</td>\n",
       "      <td>..dan produk yang pro-Zionis. \\n\\nSayang.. Ter...</td>\n",
       "      <td>dan produk yang pro zionis sayang terlambat se...</td>\n",
       "      <td>[dan, produk, yang, pro, zionis, sayang, terla...</td>\n",
       "      <td>0</td>\n",
       "    </tr>\n",
       "    <tr>\n",
       "      <th>3</th>\n",
       "      <td>19as_don</td>\n",
       "      <td>[---Kesenjangan Pendidikan di Masa Pandemi Cov...</td>\n",
       "      <td>non-buzzer</td>\n",
       "      <td>False</td>\n",
       "      <td>apalah dayaku</td>\n",
       "      <td>False</td>\n",
       "      <td>300</td>\n",
       "      <td>---Kesenjangan Pendidikan di Masa Pandemi Covi...</td>\n",
       "      <td>kesenjangan pendidikan di masa pandemi covid 1...</td>\n",
       "      <td>[kesenjangan, pendidikan, di, masa, pandemi, c...</td>\n",
       "      <td>0</td>\n",
       "    </tr>\n",
       "    <tr>\n",
       "      <th>4</th>\n",
       "      <td>20dnosebleed</td>\n",
       "      <td>[this is m*rc0 pan@ri hate account. dari dulu ...</td>\n",
       "      <td>non-buzzer</td>\n",
       "      <td>False</td>\n",
       "      <td>runtuh, tumbuh. terbentur, terbentur, terbentu...</td>\n",
       "      <td>False</td>\n",
       "      <td>300</td>\n",
       "      <td>this is m*rc0 pan@ri hate account. dari dulu j...</td>\n",
       "      <td>this is m rc0 pan hate account dari dulu juga ...</td>\n",
       "      <td>[this, is, m, rc0, pan, hate, account, dari, d...</td>\n",
       "      <td>0</td>\n",
       "    </tr>\n",
       "    <tr>\n",
       "      <th>...</th>\n",
       "      <td>...</td>\n",
       "      <td>...</td>\n",
       "      <td>...</td>\n",
       "      <td>...</td>\n",
       "      <td>...</td>\n",
       "      <td>...</td>\n",
       "      <td>...</td>\n",
       "      <td>...</td>\n",
       "      <td>...</td>\n",
       "      <td>...</td>\n",
       "      <td>...</td>\n",
       "    </tr>\n",
       "    <tr>\n",
       "      <th>1328</th>\n",
       "      <td>zonasubang</td>\n",
       "      <td>[[POTO] Aktivitas Warga di Alun-alun Subang di...</td>\n",
       "      <td>non-buzzer</td>\n",
       "      <td>False</td>\n",
       "      <td>tempat kamu curhat tentang sesuatu yang gak ka...</td>\n",
       "      <td>False</td>\n",
       "      <td>300</td>\n",
       "      <td>[POTO] Aktivitas Warga di Alun-alun Subang di ...</td>\n",
       "      <td>poto aktivitas warga di alun alun subang di aw...</td>\n",
       "      <td>[poto, aktivitas, warga, di, alun, alun, suban...</td>\n",
       "      <td>0</td>\n",
       "    </tr>\n",
       "    <tr>\n",
       "      <th>1329</th>\n",
       "      <td>zulfikarzat31</td>\n",
       "      <td>[Baru saja mengirim foto https://t.co/xh415Eyj...</td>\n",
       "      <td>non-buzzer</td>\n",
       "      <td>False</td>\n",
       "      <td>💗Di beranda, kita pernah lupa bahwa cinta bisa...</td>\n",
       "      <td>False</td>\n",
       "      <td>300</td>\n",
       "      <td>Baru saja mengirim foto https://t.co/xh415Eyj2...</td>\n",
       "      <td>baru saja mengirim foto ijin share qah sisa ha...</td>\n",
       "      <td>[baru, saja, mengirim, foto, ijin, share, qah,...</td>\n",
       "      <td>0</td>\n",
       "    </tr>\n",
       "    <tr>\n",
       "      <th>1330</th>\n",
       "      <td>zulhermansyah97</td>\n",
       "      <td>[👁 Siapa yang melawat profil anda? 👁\\n@ArifinN...</td>\n",
       "      <td>non-buzzer</td>\n",
       "      <td>False</td>\n",
       "      <td>Lelah 🔜 Lillah</td>\n",
       "      <td>False</td>\n",
       "      <td>300</td>\n",
       "      <td>👁 Siapa yang melawat profil anda? 👁\\n@ArifinNa...</td>\n",
       "      <td>siapa yang melawat profil anda naftalia gt 11 ...</td>\n",
       "      <td>[siapa, yang, melawat, profil, anda, naftalia,...</td>\n",
       "      <td>0</td>\n",
       "    </tr>\n",
       "    <tr>\n",
       "      <th>1331</th>\n",
       "      <td>zulman1</td>\n",
       "      <td>[Hmm bisa di coba ini wkwkw https://t.co/qCGES...</td>\n",
       "      <td>non-buzzer</td>\n",
       "      <td>False</td>\n",
       "      <td>Juru tulis kapal bajak laut yang sedang berlay...</td>\n",
       "      <td>False</td>\n",
       "      <td>300</td>\n",
       "      <td>Hmm bisa di coba ini wkwkw https://t.co/qCGESp...</td>\n",
       "      <td>hmm bisa di coba ini wkwkw cgesp wyw h garuda ...</td>\n",
       "      <td>[hmm, bisa, di, coba, ini, wkwkw, cgesp, wyw, ...</td>\n",
       "      <td>0</td>\n",
       "    </tr>\n",
       "    <tr>\n",
       "      <th>1332</th>\n",
       "      <td>zulvitano</td>\n",
       "      <td>[aku orang yang suka nahan kentut dari magrib ...</td>\n",
       "      <td>non-buzzer</td>\n",
       "      <td>False</td>\n",
       "      <td>apa yang kamu beri apa yang kamu dapatkan dike...</td>\n",
       "      <td>False</td>\n",
       "      <td>300</td>\n",
       "      <td>aku orang yang suka nahan kentut dari magrib s...</td>\n",
       "      <td>aku orang yang suka nahan kentut dari magrib s...</td>\n",
       "      <td>[aku, orang, yang, suka, nahan, kentut, dari, ...</td>\n",
       "      <td>0</td>\n",
       "    </tr>\n",
       "  </tbody>\n",
       "</table>\n",
       "<p>1333 rows × 11 columns</p>\n",
       "</div>"
      ],
      "text/plain": [
       "          screen_name                                          full_text  \\\n",
       "0        0b4tk3lu4r94  [Sebentar....bentar gue hrs inget2 nih berukny...   \n",
       "1             0mega01  [Tayang #programfolback \\n#MutualMilenial \\nFo...   \n",
       "2           0v4lt1n3_  [..dan produk yang pro-Zionis. \\n\\nSayang.. Te...   \n",
       "3            19as_don  [---Kesenjangan Pendidikan di Masa Pandemi Cov...   \n",
       "4        20dnosebleed  [this is m*rc0 pan@ri hate account. dari dulu ...   \n",
       "...               ...                                                ...   \n",
       "1328       zonasubang  [[POTO] Aktivitas Warga di Alun-alun Subang di...   \n",
       "1329    zulfikarzat31  [Baru saja mengirim foto https://t.co/xh415Eyj...   \n",
       "1330  zulhermansyah97  [👁 Siapa yang melawat profil anda? 👁\\n@ArifinN...   \n",
       "1331          zulman1  [Hmm bisa di coba ini wkwkw https://t.co/qCGES...   \n",
       "1332        zulvitano  [aku orang yang suka nahan kentut dari magrib ...   \n",
       "\n",
       "           label is_verified  \\\n",
       "0     non-buzzer       False   \n",
       "1         buzzer       False   \n",
       "2     non-buzzer       False   \n",
       "3     non-buzzer       False   \n",
       "4     non-buzzer       False   \n",
       "...          ...         ...   \n",
       "1328  non-buzzer       False   \n",
       "1329  non-buzzer       False   \n",
       "1330  non-buzzer       False   \n",
       "1331  non-buzzer       False   \n",
       "1332  non-buzzer       False   \n",
       "\n",
       "                                    profile_description  is_akun_resmi  \\\n",
       "0                        Bergerak dan berdoa teros ajah          False   \n",
       "1     Love is infinite. There is no beginning and no...          False   \n",
       "2     You Will Never Know 🇮🇩🇵🇸   ///   udah Sekolah ...          False   \n",
       "3                                         apalah dayaku          False   \n",
       "4     runtuh, tumbuh. terbentur, terbentur, terbentu...          False   \n",
       "...                                                 ...            ...   \n",
       "1328  tempat kamu curhat tentang sesuatu yang gak ka...          False   \n",
       "1329  💗Di beranda, kita pernah lupa bahwa cinta bisa...          False   \n",
       "1330                                     Lelah 🔜 Lillah          False   \n",
       "1331  Juru tulis kapal bajak laut yang sedang berlay...          False   \n",
       "1332  apa yang kamu beri apa yang kamu dapatkan dike...          False   \n",
       "\n",
       "      num_tweets                                          text_used  \\\n",
       "0            300  Sebentar....bentar gue hrs inget2 nih beruknya...   \n",
       "1            143  Tayang #programfolback \\n#MutualMilenial \\nFol...   \n",
       "2            300  ..dan produk yang pro-Zionis. \\n\\nSayang.. Ter...   \n",
       "3            300  ---Kesenjangan Pendidikan di Masa Pandemi Covi...   \n",
       "4            300  this is m*rc0 pan@ri hate account. dari dulu j...   \n",
       "...          ...                                                ...   \n",
       "1328         300  [POTO] Aktivitas Warga di Alun-alun Subang di ...   \n",
       "1329         300  Baru saja mengirim foto https://t.co/xh415Eyj2...   \n",
       "1330         300  👁 Siapa yang melawat profil anda? 👁\\n@ArifinNa...   \n",
       "1331         300  Hmm bisa di coba ini wkwkw https://t.co/qCGESp...   \n",
       "1332         300  aku orang yang suka nahan kentut dari magrib s...   \n",
       "\n",
       "                                      preprocessed_text  \\\n",
       "0     sebentar bentar gue hrs inget2 nih beruknya sa...   \n",
       "1     tayang programfolback mutual milenial follow c...   \n",
       "2     dan produk yang pro zionis sayang terlambat se...   \n",
       "3     kesenjangan pendidikan di masa pandemi covid 1...   \n",
       "4     this is m rc0 pan hate account dari dulu juga ...   \n",
       "...                                                 ...   \n",
       "1328  poto aktivitas warga di alun alun subang di aw...   \n",
       "1329  baru saja mengirim foto ijin share qah sisa ha...   \n",
       "1330  siapa yang melawat profil anda naftalia gt 11 ...   \n",
       "1331  hmm bisa di coba ini wkwkw cgesp wyw h garuda ...   \n",
       "1332  aku orang yang suka nahan kentut dari magrib s...   \n",
       "\n",
       "                                preprocessed_text_token  label_encoded  \n",
       "0     [sebentar, bentar, gue, hrs, inget2, nih, beru...              0  \n",
       "1     [tayang, programfolback, mutual, milenial, fol...              1  \n",
       "2     [dan, produk, yang, pro, zionis, sayang, terla...              0  \n",
       "3     [kesenjangan, pendidikan, di, masa, pandemi, c...              0  \n",
       "4     [this, is, m, rc0, pan, hate, account, dari, d...              0  \n",
       "...                                                 ...            ...  \n",
       "1328  [poto, aktivitas, warga, di, alun, alun, suban...              0  \n",
       "1329  [baru, saja, mengirim, foto, ijin, share, qah,...              0  \n",
       "1330  [siapa, yang, melawat, profil, anda, naftalia,...              0  \n",
       "1331  [hmm, bisa, di, coba, ini, wkwkw, cgesp, wyw, ...              0  \n",
       "1332  [aku, orang, yang, suka, nahan, kentut, dari, ...              0  \n",
       "\n",
       "[1333 rows x 11 columns]"
      ]
     },
     "execution_count": 86,
     "metadata": {},
     "output_type": "execute_result"
    }
   ],
   "source": [
    "d_train"
   ]
  },
  {
   "cell_type": "code",
   "execution_count": 81,
   "metadata": {},
   "outputs": [
    {
     "data": {
      "text/plain": [
       "(1333, 11)"
      ]
     },
     "execution_count": 81,
     "metadata": {},
     "output_type": "execute_result"
    }
   ],
   "source": [
    "d_train.shape"
   ]
  },
  {
   "cell_type": "code",
   "execution_count": 84,
   "metadata": {},
   "outputs": [],
   "source": [
    "X_count = np.zeros((len(d_train), len(vocab_used2)))"
   ]
  },
  {
   "cell_type": "code",
   "execution_count": 88,
   "metadata": {},
   "outputs": [
    {
     "data": {
      "text/plain": [
       "'aku'"
      ]
     },
     "execution_count": 88,
     "metadata": {},
     "output_type": "execute_result"
    }
   ],
   "source": [
    "vocab_used[0]"
   ]
  },
  {
   "cell_type": "code",
   "execution_count": 91,
   "metadata": {},
   "outputs": [
    {
     "name": "stderr",
     "output_type": "stream",
     "text": [
      "1333it [09:38,  2.30it/s]\n"
     ]
    }
   ],
   "source": [
    "for idx, token_list in tqdm(enumerate(d_train.preprocessed_text_token)):\n",
    "    for token in token_list:\n",
    "        try:\n",
    "            X_count[idx, vocab_used2.index(token)] += 1\n",
    "        except:\n",
    "            pass"
   ]
  },
  {
   "cell_type": "markdown",
   "metadata": {},
   "source": [
    "### Exprimenting with simple algorithm"
   ]
  },
  {
   "cell_type": "code",
   "execution_count": 103,
   "metadata": {},
   "outputs": [],
   "source": [
    "# tfidf = TfidfVectorizer()\n",
    "tfidf = TfidfTransformer()"
   ]
  },
  {
   "cell_type": "code",
   "execution_count": 104,
   "metadata": {},
   "outputs": [],
   "source": [
    "# text_tfidf = tfidf.fit_transform(d_train.preprocessed_text)\n",
    "text_tfidf = tfidf.fit_transform(X_count)"
   ]
  },
  {
   "cell_type": "code",
   "execution_count": 105,
   "metadata": {},
   "outputs": [
    {
     "data": {
      "text/plain": [
       "(1333, 25069)"
      ]
     },
     "execution_count": 105,
     "metadata": {},
     "output_type": "execute_result"
    }
   ],
   "source": [
    "text_tfidf.shape"
   ]
  },
  {
   "cell_type": "code",
   "execution_count": 106,
   "metadata": {},
   "outputs": [],
   "source": [
    "X_train, X_test, y_train, y_test = train_test_split(text_tfidf, d_train.label_encoded, test_size=0.2, random_state=123)"
   ]
  },
  {
   "cell_type": "code",
   "execution_count": 107,
   "metadata": {},
   "outputs": [
    {
     "data": {
      "text/plain": [
       "0    853\n",
       "1    213\n",
       "Name: label_encoded, dtype: int64"
      ]
     },
     "execution_count": 107,
     "metadata": {},
     "output_type": "execute_result"
    }
   ],
   "source": [
    "y_train.value_counts()"
   ]
  },
  {
   "cell_type": "code",
   "execution_count": 108,
   "metadata": {},
   "outputs": [
    {
     "data": {
      "text/plain": [
       "0    213\n",
       "1     54\n",
       "Name: label_encoded, dtype: int64"
      ]
     },
     "execution_count": 108,
     "metadata": {},
     "output_type": "execute_result"
    }
   ],
   "source": [
    "y_test.value_counts()"
   ]
  },
  {
   "cell_type": "code",
   "execution_count": 109,
   "metadata": {},
   "outputs": [],
   "source": [
    "def scoring(y_test, y_pred):\n",
    "    \n",
    "    acc = accuracy_score(y_test, y_pred)\n",
    "    pre = precision_score(y_test, y_pred)\n",
    "    rec = recall_score(y_test, y_pred)\n",
    "    f1 = f1_score(y_test, y_pred)\n",
    "    \n",
    "    print(f\"accuracy: {acc:.2f} | precision: {pre:.2f} | recall: {rec:.2f} | f score: {f1:.2f}\")"
   ]
  },
  {
   "cell_type": "code",
   "execution_count": 110,
   "metadata": {},
   "outputs": [
    {
     "name": "stdout",
     "output_type": "stream",
     "text": [
      "accuracy: 0.82 | precision: 0.54 | recall: 0.69 | f score: 0.61\n"
     ]
    }
   ],
   "source": [
    "model = BernoulliNB()\n",
    "model.fit(X_train, y_train)\n",
    "y_pred = model.predict(X_test)\n",
    "scoring(y_test, y_pred)"
   ]
  },
  {
   "cell_type": "code",
   "execution_count": 111,
   "metadata": {},
   "outputs": [
    {
     "name": "stdout",
     "output_type": "stream",
     "text": [
      "accuracy: 0.87 | precision: 0.69 | recall: 0.65 | f score: 0.67\n"
     ]
    }
   ],
   "source": [
    "model = SVC(gamma='scale', kernel='linear')\n",
    "model.fit(X_train, y_train)\n",
    "y_pred = model.predict(X_test)\n",
    "scoring(y_test, y_pred)"
   ]
  },
  {
   "cell_type": "code",
   "execution_count": 112,
   "metadata": {},
   "outputs": [
    {
     "name": "stdout",
     "output_type": "stream",
     "text": [
      "accuracy: 0.85 | precision: 0.74 | recall: 0.43 | f score: 0.54\n"
     ]
    }
   ],
   "source": [
    "model = RandomForestClassifier(n_estimators=100)\n",
    "model.fit(X_train, y_train)\n",
    "y_pred = model.predict(X_test)\n",
    "scoring(y_test, y_pred)"
   ]
  },
  {
   "cell_type": "code",
   "execution_count": 113,
   "metadata": {},
   "outputs": [
    {
     "name": "stdout",
     "output_type": "stream",
     "text": [
      "accuracy: 0.87 | precision: 0.72 | recall: 0.54 | f score: 0.62\n"
     ]
    }
   ],
   "source": [
    "model = GradientBoostingClassifier(n_estimators=200)\n",
    "model.fit(X_train, y_train)\n",
    "y_pred = model.predict(X_test)\n",
    "scoring(y_test, y_pred)"
   ]
  },
  {
   "cell_type": "code",
   "execution_count": 114,
   "metadata": {},
   "outputs": [
    {
     "name": "stdout",
     "output_type": "stream",
     "text": [
      "accuracy: 0.84 | precision: 0.60 | recall: 0.56 | f score: 0.58\n"
     ]
    }
   ],
   "source": [
    "model = AdaBoostClassifier(n_estimators=400)\n",
    "model.fit(X_train, y_train)\n",
    "y_pred = model.predict(X_test)\n",
    "scoring(y_test, y_pred)"
   ]
  },
  {
   "cell_type": "code",
   "execution_count": null,
   "metadata": {},
   "outputs": [],
   "source": []
  }
 ],
 "metadata": {
  "kernelspec": {
   "display_name": "Python 3",
   "language": "python",
   "name": "python3"
  },
  "language_info": {
   "codemirror_mode": {
    "name": "ipython",
    "version": 3
   },
   "file_extension": ".py",
   "mimetype": "text/x-python",
   "name": "python",
   "nbconvert_exporter": "python",
   "pygments_lexer": "ipython3",
   "version": "3.7.3"
  }
 },
 "nbformat": 4,
 "nbformat_minor": 4
}
