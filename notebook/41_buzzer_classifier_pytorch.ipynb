{
 "cells": [
  {
   "cell_type": "code",
   "execution_count": null,
   "metadata": {},
   "outputs": [],
   "source": [
    "import os\n",
    "import re\n",
    "import json\n",
    "import glob\n",
    "import pickle\n",
    "import string\n",
    "import itertools\n",
    "import collections\n",
    "from tqdm import tqdm\n",
    "\n",
    "import pandas as pd\n",
    "import numpy as np\n",
    "import matplotlib.pyplot as plt\n",
    "import seaborn as sns\n",
    "\n",
    "from nltk import word_tokenize\n",
    "\n",
    "from sklearn.feature_extraction.text import TfidfVectorizer, TfidfTransformer\n",
    "from sklearn.model_selection import train_test_split, cross_val_score, StratifiedKFold\n",
    "from sklearn.naive_bayes import BernoulliNB\n",
    "from sklearn.svm import SVC\n",
    "from sklearn.ensemble import RandomForestClassifier, AdaBoostClassifier, GradientBoostingClassifier\n",
    "from sklearn.metrics import accuracy_score, precision_score, recall_score, f1_score\n",
    "\n",
    "%matplotlib inline"
   ]
  },
  {
   "cell_type": "code",
   "execution_count": null,
   "metadata": {},
   "outputs": [],
   "source": [
    "tqdm.pandas()"
   ]
  },
  {
   "cell_type": "code",
   "execution_count": null,
   "metadata": {},
   "outputs": [],
   "source": [
    "pd.set_option('display.max_rows', 10)"
   ]
  },
  {
   "cell_type": "code",
   "execution_count": null,
   "metadata": {},
   "outputs": [],
   "source": [
    "# input path\n",
    "SUPPORT_PATH = \"../data/supports\""
   ]
  },
  {
   "cell_type": "code",
   "execution_count": null,
   "metadata": {},
   "outputs": [],
   "source": [
    "def read_pickle(path):\n",
    "    with open(path, 'rb') as f:\n",
    "        return pickle.load(f)"
   ]
  },
  {
   "cell_type": "code",
   "execution_count": null,
   "metadata": {},
   "outputs": [],
   "source": [
    "d_199 = read_pickle(os.path.join(SUPPORT_PATH, \"parsed_199.pkl\"))\n",
    "d_6725 = read_pickle(os.path.join(SUPPORT_PATH, \"parsed_7003.pkl\"))"
   ]
  },
  {
   "cell_type": "code",
   "execution_count": null,
   "metadata": {},
   "outputs": [],
   "source": [
    "d_tweets = pd.concat([d_199, d_6725], axis = 0, sort=False)\n",
    "d_tweets.drop_duplicates(subset=\"id_tweet\", inplace=True)\n",
    "d_tweets.reset_index(drop=True, inplace=True)"
   ]
  },
  {
   "cell_type": "code",
   "execution_count": null,
   "metadata": {},
   "outputs": [],
   "source": [
    "d_label = pd.read_csv(\"../data/account_labeled/label_updated.csv\")"
   ]
  },
  {
   "cell_type": "code",
   "execution_count": null,
   "metadata": {},
   "outputs": [],
   "source": [
    "d_label.head()"
   ]
  },
  {
   "cell_type": "code",
   "execution_count": null,
   "metadata": {},
   "outputs": [],
   "source": [
    "d_label.shape"
   ]
  },
  {
   "cell_type": "code",
   "execution_count": null,
   "metadata": {},
   "outputs": [],
   "source": [
    "d_tweets.head()"
   ]
  },
  {
   "cell_type": "code",
   "execution_count": null,
   "metadata": {},
   "outputs": [],
   "source": [
    "d_tweets.shape"
   ]
  },
  {
   "cell_type": "code",
   "execution_count": null,
   "metadata": {},
   "outputs": [],
   "source": [
    "d_label = d_label[~d_label.label.isna()]"
   ]
  },
  {
   "cell_type": "code",
   "execution_count": null,
   "metadata": {},
   "outputs": [],
   "source": [
    "d_label.head()"
   ]
  },
  {
   "cell_type": "code",
   "execution_count": null,
   "metadata": {},
   "outputs": [],
   "source": [
    "d_label.label.value_counts()"
   ]
  },
  {
   "cell_type": "code",
   "execution_count": null,
   "metadata": {},
   "outputs": [],
   "source": [
    "# 2797 accounts are labeled, the rest are excluded before parsing\n",
    "d_tweets[d_tweets.screen_name.isin(d_label.screen_name)].screen_name.unique().shape"
   ]
  },
  {
   "cell_type": "code",
   "execution_count": null,
   "metadata": {},
   "outputs": [],
   "source": [
    "d_dataset = d_tweets.groupby('screen_name')['full_text'].apply(list)\n",
    "d_dataset = d_dataset.reset_index()\n",
    "\n",
    "# join dataset and label\n",
    "d_dataset = d_dataset.join(d_label.set_index('screen_name'), on='screen_name')"
   ]
  },
  {
   "cell_type": "code",
   "execution_count": null,
   "metadata": {},
   "outputs": [],
   "source": [
    "def get_profile_key(screen_name, key):\n",
    "    profile_path = os.path.join(f\"../data/profile/{screen_name}.json\")\n",
    "    if os.path.exists(profile_path):\n",
    "        with open(profile_path) as f:\n",
    "            data = json.load(f)\n",
    "            if isinstance(data, dict):\n",
    "                return data.get(key, None)\n",
    "            else:\n",
    "                return None"
   ]
  },
  {
   "cell_type": "code",
   "execution_count": null,
   "metadata": {},
   "outputs": [],
   "source": [
    "# get verified\n",
    "d_dataset[\"is_verified\"] = d_dataset.screen_name.progress_apply(get_profile_key, args=('verified', ))"
   ]
  },
  {
   "cell_type": "code",
   "execution_count": null,
   "metadata": {},
   "outputs": [],
   "source": [
    "d_dataset.is_verified.value_counts()"
   ]
  },
  {
   "cell_type": "code",
   "execution_count": null,
   "metadata": {},
   "outputs": [],
   "source": [
    "# get description profile\n",
    "d_dataset[\"profile_description\"] = d_dataset.screen_name.progress_apply(get_profile_key, args=('description', ))"
   ]
  },
  {
   "cell_type": "code",
   "execution_count": null,
   "metadata": {},
   "outputs": [],
   "source": [
    "def check_akun_resmi(description):\n",
    "    if description:\n",
    "        if re.search(\"akun .* resmi\", description.lower()):\n",
    "            return True\n",
    "        else:\n",
    "            return False\n",
    "    else:\n",
    "        return False"
   ]
  },
  {
   "cell_type": "code",
   "execution_count": null,
   "metadata": {},
   "outputs": [],
   "source": [
    "d_dataset[\"is_akun_resmi\"] = d_dataset.profile_description.apply(check_akun_resmi)"
   ]
  },
  {
   "cell_type": "code",
   "execution_count": null,
   "metadata": {},
   "outputs": [],
   "source": [
    "d_dataset.loc[:, 'num_tweets'] = d_dataset.full_text.apply(lambda x : len(x))"
   ]
  },
  {
   "cell_type": "code",
   "execution_count": null,
   "metadata": {},
   "outputs": [],
   "source": [
    "d_dataset.label.value_counts()"
   ]
  },
  {
   "cell_type": "code",
   "execution_count": null,
   "metadata": {},
   "outputs": [],
   "source": [
    "d_dataset2 = d_dataset[d_dataset.num_tweets >= 20]"
   ]
  },
  {
   "cell_type": "code",
   "execution_count": null,
   "metadata": {},
   "outputs": [],
   "source": [
    "d_dataset.shape"
   ]
  },
  {
   "cell_type": "code",
   "execution_count": null,
   "metadata": {},
   "outputs": [],
   "source": [
    "d_dataset2.shape"
   ]
  },
  {
   "cell_type": "code",
   "execution_count": null,
   "metadata": {},
   "outputs": [],
   "source": [
    "d_dataset2.label.value_counts()"
   ]
  },
  {
   "cell_type": "code",
   "execution_count": null,
   "metadata": {},
   "outputs": [],
   "source": [
    "# using n samples\n",
    "n_tweets = 30\n",
    "d_dataset2['text_used'] = d_dataset2.full_text.apply(lambda x: \" \".join(x[:n_tweets]))"
   ]
  },
  {
   "cell_type": "code",
   "execution_count": null,
   "metadata": {},
   "outputs": [],
   "source": [
    "d_dataset2.shape"
   ]
  },
  {
   "cell_type": "code",
   "execution_count": null,
   "metadata": {},
   "outputs": [],
   "source": [
    "d_dataset2 = d_dataset2[d_dataset2.label.notna()]"
   ]
  },
  {
   "cell_type": "code",
   "execution_count": null,
   "metadata": {},
   "outputs": [],
   "source": [
    "d_dataset2.reset_index(drop=True, inplace=True)"
   ]
  },
  {
   "cell_type": "code",
   "execution_count": null,
   "metadata": {},
   "outputs": [],
   "source": [
    "d_dataset2.shape"
   ]
  },
  {
   "cell_type": "code",
   "execution_count": null,
   "metadata": {},
   "outputs": [],
   "source": [
    "def text_cleansing(title):\n",
    "    punctuation = '!\"#$%&\\'()*+,-./:;=?@[\\\\]^_`{|}~'\n",
    "    table = str.maketrans(punctuation, ' '*len(punctuation)) #map punctuation to space\n",
    "    \n",
    "    # parse hashtag\n",
    "    title = re.sub(r\"([a-z])([A-Z])\", r\"\\1 \\2\", title)\n",
    "    # lowercase\n",
    "    title = title.lower()\n",
    "    # convert hyperlinks to link\n",
    "#     title = re.sub('http(s):/\\/\\\\S+', '<LINK> ', title)\n",
    "    title = re.sub('http(s):/\\/\\\\S+', ' ', title)\n",
    "    # convert @username to username\n",
    "#     title = re.sub('@\\w+', '<USERNAME>', title)\n",
    "    title = re.sub('@\\w+', ' ', title)\n",
    "    # remove punctuation\n",
    "    title = title.translate(table)\n",
    "    # only take string started with alphanum\n",
    "    title = re.sub(\"[^(\\w|\\<\\>)]\", ' ', title)\n",
    "    # remove double whitespaces\n",
    "    title = re.sub('\\s+', ' ', title)\n",
    "    # remove double whitespaces\n",
    "    title = title.strip()\n",
    "    # tokenize text\n",
    "    tokens = word_tokenize(title)\n",
    "    # filter tokens more than 2 characters\n",
    "    tokens = list(filter(lambda x: len(x) > 2, tokens))\n",
    "    # filter tokens not numeric only\n",
    "    tokens = list(filter(lambda x: not x.isnumeric(), tokens))\n",
    "    # revert to string\n",
    "    title = \" \".join(tokens)\n",
    "    \n",
    "    return title"
   ]
  },
  {
   "cell_type": "code",
   "execution_count": null,
   "metadata": {},
   "outputs": [],
   "source": [
    "d_dataset2[\"preprocessed_text\"] = d_dataset2.text_used.apply(text_cleansing)"
   ]
  },
  {
   "cell_type": "code",
   "execution_count": null,
   "metadata": {},
   "outputs": [],
   "source": [
    "d_dataset2"
   ]
  },
  {
   "cell_type": "code",
   "execution_count": null,
   "metadata": {},
   "outputs": [],
   "source": [
    "d_dataset2.label = d_dataset2.label.astype(int)"
   ]
  },
  {
   "cell_type": "code",
   "execution_count": null,
   "metadata": {},
   "outputs": [],
   "source": [
    "d_dataset2.label.value_counts()"
   ]
  },
  {
   "cell_type": "code",
   "execution_count": null,
   "metadata": {},
   "outputs": [],
   "source": [
    "d_dataset2.label.value_counts().plot(kind='pie', autopct='%.2f')"
   ]
  },
  {
   "cell_type": "markdown",
   "metadata": {},
   "source": [
    "#### Creating Count Matrix"
   ]
  },
  {
   "cell_type": "code",
   "execution_count": null,
   "metadata": {},
   "outputs": [],
   "source": [
    "d_dataset2.head()"
   ]
  },
  {
   "cell_type": "code",
   "execution_count": null,
   "metadata": {},
   "outputs": [],
   "source": [
    "d_dataset2.shape"
   ]
  },
  {
   "cell_type": "code",
   "execution_count": null,
   "metadata": {},
   "outputs": [],
   "source": [
    "d_dataset2['preprocessed_text_token'] = d_dataset2.preprocessed_text.apply(word_tokenize)"
   ]
  },
  {
   "cell_type": "code",
   "execution_count": null,
   "metadata": {},
   "outputs": [],
   "source": [
    "d_dataset2.head()"
   ]
  },
  {
   "cell_type": "code",
   "execution_count": null,
   "metadata": {},
   "outputs": [],
   "source": [
    "vocab = itertools.chain.from_iterable(d_dataset2.preprocessed_text_token.tolist())"
   ]
  },
  {
   "cell_type": "code",
   "execution_count": null,
   "metadata": {},
   "outputs": [],
   "source": [
    "vocab = sorted(set(list(vocab)))"
   ]
  },
  {
   "cell_type": "code",
   "execution_count": null,
   "metadata": {},
   "outputs": [],
   "source": [
    "vocab = ['PAD', 'UNK'] + vocab"
   ]
  },
  {
   "cell_type": "markdown",
   "metadata": {},
   "source": [
    "### LSTM Model"
   ]
  },
  {
   "cell_type": "code",
   "execution_count": null,
   "metadata": {},
   "outputs": [],
   "source": [
    "import torch\n",
    "import torch.nn as nn\n",
    "import torch.optim as optim\n",
    "from torch.utils.data import DataLoader, Dataset\n",
    "from torch.nn.utils.rnn import pad_sequence"
   ]
  },
  {
   "cell_type": "code",
   "execution_count": null,
   "metadata": {},
   "outputs": [],
   "source": [
    "d_train, d_test = train_test_split(d_dataset2)"
   ]
  },
  {
   "cell_type": "code",
   "execution_count": null,
   "metadata": {},
   "outputs": [],
   "source": [
    "d_train.reset_index(drop=True, inplace=True)\n",
    "d_test.reset_index(drop=True, inplace=True)"
   ]
  },
  {
   "cell_type": "code",
   "execution_count": null,
   "metadata": {},
   "outputs": [],
   "source": [
    "class TwitterDataset(Dataset):\n",
    "    def __init__(self, d_train, d_test):\n",
    "        self.dataset = {\n",
    "            'train': (d_train, len(d_train)),\n",
    "            'test': (d_test, len(d_test))\n",
    "        }\n",
    "        \n",
    "        self.set_split(split=\"train\")\n",
    "        \n",
    "    def set_split(self, split=\"train\"):\n",
    "        self.data, self.length = self.dataset[split]\n",
    "        \n",
    "    def __getitem__(self, index):\n",
    "        tokens = self.data.loc[index, 'preprocessed_text_token']\n",
    "        label = self.data.loc[index, 'label']\n",
    "        \n",
    "        tokens = [vocab.index(token) for token in tokens]\n",
    "        tokens = torch.tensor(tokens, dtype=torch.long)\n",
    "        \n",
    "        return (tokens, label)\n",
    "    \n",
    "    def __len__(self):\n",
    "        return self.length"
   ]
  },
  {
   "cell_type": "code",
   "execution_count": null,
   "metadata": {},
   "outputs": [],
   "source": [
    "class Architecture(nn.Module):\n",
    "    def __init__(self, num_vocab, emb_size, hidden_size, num_layer, dropout, is_bidirectional):\n",
    "        super(Architecture, self).__init__()\n",
    "        self.model = nn.Sequential(\n",
    "            nn.Embedding(len(vocab), emb_size),\n",
    "            nn.LSTM(emb_size, hidden_size, num_layers=num_layer, batch_first=True, dropout=dropout, bidirectional=is_bidirectional)\n",
    "        )\n",
    "        \n",
    "        self.fc = nn.Linear(hidden_size, 1)\n",
    "        \n",
    "    def forward(self, input_):\n",
    "        out, (h, c) = self.model(input_)\n",
    "        out = self.fc(out[:, -1, :])\n",
    "        out = torch.sigmoid(out)\n",
    "        \n",
    "        return out"
   ]
  },
  {
   "cell_type": "code",
   "execution_count": null,
   "metadata": {},
   "outputs": [],
   "source": [
    "dataset = TwitterDataset(d_train, d_test)"
   ]
  },
  {
   "cell_type": "code",
   "execution_count": null,
   "metadata": {
    "scrolled": true
   },
   "outputs": [],
   "source": [
    "x, y = dataset.__getitem__(0)"
   ]
  },
  {
   "cell_type": "code",
   "execution_count": null,
   "metadata": {},
   "outputs": [],
   "source": [
    "num_vocab = len(vocab)\n",
    "emb_size = 256\n",
    "hidden_size = 128\n",
    "num_layer = 1\n",
    "dropout = 0\n",
    "is_bidirectional=False"
   ]
  },
  {
   "cell_type": "code",
   "execution_count": null,
   "metadata": {},
   "outputs": [],
   "source": [
    "model = Architecture(num_vocab, emb_size, hidden_size, num_layer, dropout, is_bidirectional)"
   ]
  },
  {
   "cell_type": "code",
   "execution_count": null,
   "metadata": {},
   "outputs": [],
   "source": [
    "optimizer = optim.Adam(model.parameters(), lr=1e-3)\n",
    "criterion = nn.BCELoss()"
   ]
  },
  {
   "cell_type": "code",
   "execution_count": null,
   "metadata": {},
   "outputs": [],
   "source": [
    "def padding(data):\n",
    "    x, y = zip(*data)\n",
    "    \n",
    "    x = pad_sequence(x, batch_first=True)\n",
    "    y = torch.Tensor(y)\n",
    "    \n",
    "    return (x, y)"
   ]
  },
  {
   "cell_type": "code",
   "execution_count": null,
   "metadata": {},
   "outputs": [],
   "source": [
    "batch_size = 16"
   ]
  },
  {
   "cell_type": "code",
   "execution_count": null,
   "metadata": {},
   "outputs": [],
   "source": [
    "def calculate_accuracy(y_pred, y_true):\n",
    "    y_pred = (y_pred > 0.5).long()\n",
    "    n_correct = torch.eq(y_pred, y_true).sum().item()\n",
    "    \n",
    "    accuracy = (n_correct / len(y_true)) * 100\n",
    "    \n",
    "    return accuracy"
   ]
  },
  {
   "cell_type": "code",
   "execution_count": null,
   "metadata": {},
   "outputs": [],
   "source": [
    "for epoch in range(1, 101):\n",
    "    \n",
    "    running_loss = 0\n",
    "    running_loss_v = 0\n",
    "    running_acc = 0\n",
    "    running_acc_v = 0\n",
    "    \n",
    "    dataset.set_split(split=\"train\")\n",
    "    data_gen = DataLoader(dataset, batch_size=batch_size, collate_fn=padding)\n",
    "    model.train()\n",
    "    for batch_index, (x, y) in enumerate(data_gen, 1):\n",
    "        \n",
    "        optimizer.zero_grad()\n",
    "        \n",
    "        out = model(x)\n",
    "        out = out.squeeze()\n",
    "        \n",
    "        loss = criterion(out , y)\n",
    "        running_loss += (loss.item() - running_loss) / batch_index\n",
    "        loss.backward() \n",
    "        \n",
    "        accuracy = calculate_accuracy(out, y)\n",
    "        running_acc += (accuracy - running_acc) / batch_index\n",
    "        \n",
    "        optimizer.step()\n",
    "        \n",
    "        break\n",
    "        \n",
    "    dataset.set_split(split=\"test\")\n",
    "    data_gen = DataLoader(dataset, batch_size=batch_size, collate_fn=padding)\n",
    "    model.eval()\n",
    "    for batch_index, (x, y) in enumerate(data_gen, 1):\n",
    "        \n",
    "        with torch.no_grad():\n",
    "            out = model(x)\n",
    "            out = out.squeeze()\n",
    "            \n",
    "        loss = criterion(out, y)\n",
    "        running_loss_v += (loss.item() - running_loss_v) / batch_index\n",
    "        \n",
    "        accuracy = calculate_accuracy(out, y)\n",
    "        running_acc_v += (accuracy - running_acc_v) / batch_index\n",
    "        \n",
    "        break\n",
    "    \n",
    "    print(f\"epoch: {epoch}\")\n",
    "    print(f\"\\t train loss: {running_loss:.2f} | accuracy: {running_acc:.2f}\")\n",
    "    print(f\"\\t val loss: {running_loss_v:.2f} | accuracy: { running_acc_v:.2f}\")"
   ]
  },
  {
   "cell_type": "code",
   "execution_count": null,
   "metadata": {},
   "outputs": [],
   "source": []
  }
 ],
 "metadata": {
  "kernelspec": {
   "display_name": "Python 3",
   "language": "python",
   "name": "python3"
  },
  "language_info": {
   "codemirror_mode": {
    "name": "ipython",
    "version": 3
   },
   "file_extension": ".py",
   "mimetype": "text/x-python",
   "name": "python",
   "nbconvert_exporter": "python",
   "pygments_lexer": "ipython3",
   "version": "3.8.5"
  }
 },
 "nbformat": 4,
 "nbformat_minor": 4
}
